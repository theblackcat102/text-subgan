{
 "cells": [
  {
   "cell_type": "code",
   "execution_count": 3,
   "metadata": {},
   "outputs": [],
   "source": [
    "%load_ext autoreload\n",
    "%autoreload 2"
   ]
  },
  {
   "cell_type": "code",
   "execution_count": 4,
   "metadata": {},
   "outputs": [],
   "source": [
    "import torch\n",
    "import torch.nn as nn\n",
    "import torch.nn.functional as F\n",
    "import torch.optim as optim\n",
    "from tqdm import tqdm_notebook as tqdm\n",
    "import os, glob, json\n",
    "import config as cfg\n",
    "from IPython.display import display\n",
    "from ipywidgets import widgets, Layout\n",
    "from module.cluster import VAE_Cluster\n",
    "from module.vmt import VMT, TemplateD\n",
    "from module.vae import GaussianKLLoss\n",
    "from dataset import KKDayUser, seq_collate\n",
    "from constant import Constants\n",
    "from utils import get_fixed_temperature, get_losses\n",
    "from sklearn.cluster import KMeans\n",
    "import numpy as np\n",
    "from tensorboardX import SummaryWriter\n",
    "from utils import gradient_penalty, str2bool, chunks\n",
    "from sklearn.manifold import SpectralEmbedding\n",
    "from nltk.translate.bleu_score import sentence_bleu\n",
    "from nltk.translate.bleu_score import SmoothingFunction\n",
    "from shutil import copyfile\n",
    "import pickle\n",
    "from collections import namedtuple"
   ]
  },
  {
   "cell_type": "code",
   "execution_count": 5,
   "metadata": {},
   "outputs": [],
   "source": [
    "from sklearn.cluster import SpectralClustering\n",
    "from sklearn.decomposition import PCA\n",
    "from sklearn.discriminant_analysis import LinearDiscriminantAnalysis"
   ]
  },
  {
   "cell_type": "code",
   "execution_count": 6,
   "metadata": {},
   "outputs": [],
   "source": [
    "import matplotlib\n",
    "import numpy as np\n",
    "import matplotlib.pyplot as plt\n",
    "%matplotlib inline  "
   ]
  },
  {
   "cell_type": "code",
   "execution_count": 7,
   "metadata": {},
   "outputs": [],
   "source": [
    "class Struct:\n",
    "    def __init__(self, **entries):\n",
    "        self.__dict__.update(entries)"
   ]
  },
  {
   "cell_type": "code",
   "execution_count": 21,
   "metadata": {},
   "outputs": [],
   "source": [
    "log_name = 'save/temp_temp_rec_vae_gan_biset-2020-05-15-16-34-59'\n",
    "iteration = 80000\n",
    "K_BINS = 20\n",
    "checkpoint_name = 'amp_checkpoint_{}.pt'.format(iteration)"
   ]
  },
  {
   "cell_type": "code",
   "execution_count": 22,
   "metadata": {},
   "outputs": [
    {
     "name": "stdout",
     "output_type": "stream",
     "text": [
      "save/temp_temp_rec_vae_gan_biset-2020-05-15-16-34-59/amp_checkpoint_80000.pt\n",
      "3486\n"
     ]
    }
   ],
   "source": [
    "assert os.path.exists(os.path.join(log_name, 'vmt.py')) == True\n",
    "print(os.path.join(log_name, checkpoint_name))\n",
    "assert os.path.exists(os.path.join(log_name, checkpoint_name)) == True\n",
    "\n",
    "copyfile(os.path.join(log_name, 'vmt.py'), 'module/temp_vmt.py')\n",
    "checkpoint = torch.load(os.path.join(log_name, checkpoint_name))\n",
    "\n",
    "from module.temp_vmt import VMT, TemplateD\n",
    "\n",
    "# checkpoint should contain model state dict,\n",
    "with open(os.path.join(log_name, 'params.json'), 'r') as f:\n",
    "    params = json.load(f)\n",
    "args = Struct(**params)\n",
    "dataset =  KKDayUser(-1, 'data/kkday_dataset/user_data', \n",
    "            'data/kkday_dataset/matrix_factorized_64.pkl',\n",
    "            prefix='item_graph', embedding=None, max_length=args.max_seq_len, force_fix_len=args.grad_penalty or args.full_text, \n",
    "            token_level=args.tokenize, is_train=True)\n",
    "dataloader = torch.utils.data.DataLoader(dataset, num_workers=4,\n",
    "                collate_fn=seq_collate, batch_size=64, shuffle=True)\n",
    "model = VMT(args.gen_embed_dim, dataset.vocab_size,\n",
    "            enc_hidden_size=128, dec_hidden_size=128, tmp_category=args.tmp_cat_dim,\n",
    "            tmp_latent_dim=args.tmp_latent_dim, desc_latent_dim=args.desc_latent_dim, user_latent_dim=args.user_latent_dim,\n",
    "            biset=args.biset,\n",
    "            max_seq_len=args.max_seq_len-1, gpu=True)\n",
    "\n",
    "C = VAE_Cluster(64, 64, k_bins=10, output_embed_dim=args.user_latent_dim)\n",
    "\n",
    "model.load_state_dict(checkpoint['model'])\n",
    "model = model.cuda().eval()\n",
    "C = C.cuda().eval()\n",
    "print(len(dataloader))"
   ]
  },
  {
   "cell_type": "markdown",
   "metadata": {},
   "source": [
    "### Lets Visualize template first"
   ]
  },
  {
   "cell_type": "code",
   "execution_count": 8,
   "metadata": {},
   "outputs": [
    {
     "name": "stderr",
     "output_type": "stream",
     "text": [
      "/home/theblackcat102/Documents/text-subgan/env/lib/python3.6/site-packages/ipykernel_launcher.py:4: TqdmDeprecationWarning: This function will be removed in tqdm==5.0.0\n",
      "Please use `tqdm.notebook.tqdm` instead of `tqdm.tqdm_notebook`\n",
      "  after removing the cwd from sys.path.\n"
     ]
    },
    {
     "data": {
      "application/vnd.jupyter.widget-view+json": {
       "model_id": "f520eff142f24136857f245baea012f2",
       "version_major": 2,
       "version_minor": 0
      },
      "text/plain": [
       "HBox(children=(FloatProgress(value=1.0, bar_style='info', max=1.0), HTML(value='')))"
      ]
     },
     "metadata": {},
     "output_type": "display_data"
    },
    {
     "name": "stdout",
     "output_type": "stream",
     "text": [
      "\n"
     ]
    }
   ],
   "source": [
    "template_reference = {}\n",
    "size = 15000\n",
    "\n",
    "for i, batch in tqdm(enumerate(dataloader), total=len(dataloader)):\n",
    "    src_inputs = batch['src']\n",
    "    tmp = batch['tmp']\n",
    "    items, users = batch['items'], batch['users']\n",
    "    inputs, target1 = batch['tgt'][:, :-1], batch['tgt'][:, 1:]\n",
    "    references = []\n",
    "    if True:\n",
    "        inputs, items, users = inputs.cuda(), items.cuda(), users.cuda()\n",
    "        src_inputs = src_inputs.cuda()\n",
    "        inputs = inputs.cuda()\n",
    "        target1 = target1.cuda()\n",
    "        tmp = tmp.cuda()\n",
    "\n",
    "    batch_size = src_inputs.shape[0]\n",
    "#     logits, embed = self.C(items, users)\n",
    "    desc_outputs, desc_latent, _, _ = model.encode_desc(src_inputs)\n",
    "    tmp_outputs, tmp_latent = model.encode_tmp(tmp)\n",
    "#     _, output_title = self.model.decode(tmp_latent, desc_latent, embed,\n",
    "#             desc_outputs, tmp_outputs,\n",
    "#             max_length=self.args.max_seq_len)\n",
    "\n",
    "    # output_title = torch.argmax(output_logits, dim=-1)\n",
    "    for idx, sent_token in enumerate(batch['tgt'][:, 1:]):\n",
    "        reference = []\n",
    "        for token in sent_token:\n",
    "            if token.item() == Constants.EOS:\n",
    "                break\n",
    "            reference.append(dataset.idx2word[token.item()] )\n",
    "        references.append(reference)\n",
    "    \n",
    "    for idx, sent in enumerate(references):\n",
    "        template_reference[' '.join(sent)] = {\n",
    "            'tmp': tmp_latent[idx].detach().cpu().numpy(),\n",
    "            'tmp_outputs': tmp_outputs[idx].detach().cpu(),\n",
    "            'desc_latent': desc_latent[idx].detach().cpu(),\n",
    "            'desc_outputs': desc_outputs[idx].detach().cpu(),\n",
    "        }\n"
   ]
  },
  {
   "cell_type": "code",
   "execution_count": 9,
   "metadata": {},
   "outputs": [
    {
     "name": "stdout",
     "output_type": "stream",
     "text": [
      "5171\n",
      "{0, 1, 2, 3, 4, 5}\n"
     ]
    }
   ],
   "source": [
    "X, title = [], []\n",
    "print(len(template_reference))\n",
    "for key, latent in template_reference.items():\n",
    "    X.append(latent['tmp'])\n",
    "    title.append(key)\n",
    "title = np.array(title)\n",
    "\n",
    "pca = PCA(n_components=2)\n",
    "X_r = pca.fit(X).transform(X)\n",
    "\n",
    "nbrs = SpectralClustering(n_clusters=6).fit(X_r)\n",
    "\n",
    "y = nbrs.labels_\n",
    "print(set(y))"
   ]
  },
  {
   "cell_type": "code",
   "execution_count": 10,
   "metadata": {},
   "outputs": [
    {
     "data": {
      "image/png": "[encoded data removed]",
      "text/plain": [
       "<Figure size 432x288 with 1 Axes>"
      ]
     },
     "metadata": {
      "needs_background": "light"
     },
     "output_type": "display_data"
    }
   ],
   "source": [
    "plt.figure()\n",
    "target_names = [0,1,2,3,4, 5]\n",
    "\n",
    "colors = ['navy', 'turquoise', 'darkorange','red','black', 'green']\n",
    "lw = 2\n",
    "\n",
    "for color, i, target_name in zip(colors, list(range(len(target_names))), target_names):\n",
    "    plt.scatter(X_r[y == i, 0], X_r[y == i, 1], color=color, alpha=.8, lw=lw,\n",
    "                label=target_name)"
   ]
  },
  {
   "cell_type": "code",
   "execution_count": 11,
   "metadata": {},
   "outputs": [
    {
     "name": "stdout",
     "output_type": "stream",
     "text": [
      "0 871\n",
      "【 曼谷 市區 衝浪 體驗 】 Flow House 人造 衝浪 樂園\n",
      "【 澳門 新濠影匯 】 星匯 餐廳 自助 早 / 午 / 晚餐 餐券\n",
      "【 沙巴 按摩 推薦 】 亞庇 Mari Jari Spa 附 飯店 來回 接駁 服務\n",
      "【 杭州 西湖 旅遊 包車 】 雷峰塔 、 西湖 遊船 、 環西湖 包車 一 日 遊\n",
      "【 挑戰 55 座 飛索 平台 】 清邁 叢林 飛索 Dragon Flight 飛行 體驗\n",
      "\n",
      "1 817\n",
      "【 台灣 WiFi 機 租借 】 4 G 高速 上網 ＋ 無限 流量 吃到 飽 （ 松山 、 桃園 、 高雄 機場 領取 歸還 ）\n",
      "【 外國 旅客 限定 票券 】 桃園 機場 捷運 車票 優惠 組合 （ 桃園 機場 取 件 ）\n",
      "【 韓國 Wi-Fi 機 租借 】 韓國 4 </UNK> 高速 上網 ＋ 無限 流量 吃到 飽 （ 韓國 機場 領取 ）\n",
      "【 胡志明 機場 接送 】 新山 一 國際 機場 （ SGN ） － 胡志明 市區\n",
      "【 關西 機場 巴士 】 關西 機場  KIX ) － 京都 / 大阪 市區\n",
      "\n",
      "2 1745\n",
      "【 一 日 模特 照相 推薦 】 台北 時尚 風格 專業 攝影 體驗\n",
      "【 韓國 釜山 大邱 賞櫻 】 釜山 / 大邱 追 櫻 巴士 浪漫 一 日 遊\n",
      "【 曼谷 近郊 半 日遊 】 叢林 高空 </UNK> 、 泰式 料理 、 綠山 野生 動物園 （ 曼谷 / 芭達雅 出發 ）\n",
      "【 泰北 清萊 包車 推薦 】 清萊 包車 一 日 遊 （ 清邁 出發 ）\n",
      "【 感受 道地 越南 生活 】 水 椰林 竹籃 船 體驗 （ 會 安 / 峴港 出發 ）\n",
      "\n",
      "3 293\n",
      "【 韓國 景點 套 票 】 首 爾 Running Man 主題 體驗館 門票\n",
      "【 大阪 觀 景 台 】 阿倍野 展望台 門票 HARUKAS 300\n",
      "【 美味 演出 】 CHEF ： 首 爾 拌 飯秀 門票 （ BIBAP SHOW ）\n",
      "【 精選 主題 景點 三合一 】 昂 坪 360 娛樂 套 票\n",
      "【 香港 太平山 景點 套 票 】 太平山頂 纜車 快速 通關券 ＋ 凌霄 閣 觀景台 門票 ＋ 杜莎 夫人 蠟像館 門票 （ 保證 有 票 ＋ 週五 至 週日 出發 ）\n",
      "\n",
      "4 1019\n",
      "【 嘉義 阿里山 一 日 遊 】 阿里山 森林 遊樂區 、 阿里山 小 火車 、 奮起湖 便當 、 奮起湖 老街 （ 嘉義 出發 ）\n",
      "【 阿里山 一 日 遊 】 森林 遊樂區 、 阿里山 小 火車 、 巨木群 棧道 （ 台中 或 嘉義 高鐵 出發 ）\n",
      "【 經典 台中 一 日 遊 】 台中 高美 濕地 、 彩虹 眷村 一 日 遊 （ 保證 有位 ）\n",
      "【 搭 纜車 遊 巴拿山 】 越南 峴港 小 法國 巴拿山 一 日 遊\n",
      "【 曼谷 郊區 一 日 遊 】 </UNK> </UNK> 上 市場 、 龍 波本廟 、 火山 蝦 餐廳\n",
      "\n",
      "5 426\n",
      "【 台北 必 去 景點 】 台北 101 觀 景台 快速 通行票\n",
      "【 景福宮 韓服 體驗 】 首 爾西花 韓服 租借 體驗\n",
      "【 韓國 特色 體驗 】 弘大 Hair by </UNK> </UNK> 粉紅 沙龍\n",
      "【 首 爾 韓服 體驗 】 韓國 古宮 韓服 體驗\n",
      "【 親子 同 遊 必 去 】 曼谷 暹羅 海洋 世界 門票 （ Sea Life Bangkok Ocean World ）\n",
      "\n"
     ]
    }
   ],
   "source": [
    "for target_name in target_names:\n",
    "    print(target_name, len(title[y==target_name]))\n",
    "    print('\\n'.join(title[y==target_name][:5]))\n",
    "    print('')"
   ]
  },
  {
   "cell_type": "code",
   "execution_count": 23,
   "metadata": {},
   "outputs": [],
   "source": [
    "from tokenizer import CharTokenizer, WordTokenizer\n",
    "tokenizers = WordTokenizer()\n",
    "\n",
    "def generate_text(description, template, user, item):\n",
    "    with torch.no_grad():\n",
    "        desc = torch.from_numpy(tokenizers.encode(description)).long().cuda()\n",
    "        tgt = torch.from_numpy(tokenizers.encode(template)).long().cuda()\n",
    "\n",
    "        user = torch.from_numpy(user).float().cuda().unsqueeze(0)\n",
    "        item = torch.from_numpy(item).float().cuda().unsqueeze(0)\n",
    "\n",
    "        tmp = tgt.unsqueeze(0)[:, :-1]\n",
    "        src_inputs = desc.unsqueeze(0)\n",
    "        logits, embed = C(item, user)\n",
    "        desc_outputs, desc_latent, _, _ = model.encode_desc(src_inputs)\n",
    "        tmp_outputs, tmp_latent = model.encode_tmp(tmp)\n",
    "        _, output_title = model.decode(tmp_latent, desc_latent, embed,\n",
    "                desc_outputs, tmp_outputs,\n",
    "                max_length=64)\n",
    "\n",
    "        sentence = []\n",
    "        for token in output_title[0]:\n",
    "            if token.item() == Constants.EOS:\n",
    "                break\n",
    "            sentence.append(  dataset.idx2word[token.item()])\n",
    "        return ' '.join(sentence)"
   ]
  },
  {
   "cell_type": "code",
   "execution_count": 41,
   "metadata": {
    "scrolled": true
   },
   "outputs": [
    {
     "data": {
      "text/plain": [
       "'【 紐西蘭 機場 接送 】 】 】 機場  ) ） ）'"
      ]
     },
     "execution_count": 41,
     "metadata": {},
     "output_type": "execute_result"
    }
   ],
   "source": [
    "data = dataset[15]\n",
    "user, item = data['user'], data['item']\n",
    "\n",
    "template_selections = [\n",
    "    '《 美 的 極致 》 ## ## ・ ## 之 濱 半 ## tour',\n",
    "    '【 無限 次數 搭乘 高鐵 】 ## 高鐵 周遊券 （ 外國人 限定 ）',\n",
    "    '## ## 夫人 ## 優先 入場 門票',\n",
    "]\n",
    "\n",
    "generate_text(\n",
    "    selections[1],\n",
    "    template_selections[1],\n",
    "    user, item\n",
    ")\n"
   ]
  },
  {
   "cell_type": "code",
   "execution_count": 19,
   "metadata": {},
   "outputs": [],
   "source": [
    "selections = [\n",
    "    '全新 馬來西亞 的 旅程 新 篇章 ！ < / br > 中文 導覽 ＋ 專業 司機 接送 ＋ WiFi 熱點 使用 ' +\\\n",
    "    ' 一 到 馬來西亞 就 能 享受 優質 旅程 < / br > 絕對 為 商務 旅客 和 喜愛 舒適 的 你 的 首選 接送 選擇 ！' +\\\n",
    "    ' 不用 擔心 語言 問題 ， 在 馬來西亞 由 中文 導覽 兼 司機 帶 你 往返 吉隆坡 機場 及 市區 飯店 接送 。' +\\\n",
    "    ' 同時 車 內 提供 WiFi 熱點 服務 ， 讓 你 一下 飛機 和 前往 機場 的 路途 中 不用 擔心 網路 使用 問題 ！ ' +\\\n",
    "    '✓ 專業 中文 司機 導覽 ✓ 5 位 / 7 位 座 商務 專車 選擇 ✓ 提供 舉 牌 接機 服務 ， 免費 等待 2 小時 ✓ 熟悉 路況 與 優秀 駕駛 技術 ， '+\\\n",
    "    '給 趕時間 的 你 ✓ 熱點 Wifi 、 礦泉水 、 車載 充電器 貼心 服務 ● 費用 不 含 ： 如 接送機 時間 在 夜間 21 : 00 至 ' +\\\n",
    "    '次日 08 : 00 ， 需 額外 支付 司機 50 元 人民幣 或 等',\n",
    "\n",
    "    'meetPoint : 滿足 於 伊瓜蘇港 （ 卡塔拉塔 斯 德爾 伊瓜蘇 國際 機場 ） 機場 的 到達 大廳 。'+\\\n",
    "    ' 尋找 與 您 的 姓名 為 轉移到 您 的 酒店 標誌 。 pickUp : 從 酒店 在 伊瓜蘇港 回暖 。 '+\\\n",
    "    'dropOff : 在 您 的 酒店 下車 。 行程 特色 • 從 阿根廷 側 發現 magestic 伊瓜蘇 瀑布 '+\\\n",
    "    '• 見 壯觀 的 瀑布 ！ 行程 介紹 第1 天 ： 抵達 伊瓜蘇 和 半 日遊 到 伊瓜蘇 瀑布 國家 公園 的 巴西'+\\\n",
    "    ' 邊 我們 的 代表 將 在 抵達 機場 與 它 的 名字 的 牌子 等 著 你 。 從 機場 轉移到 你 的 酒店 。'+\\\n",
    "    ' 如果 您 在 中午 前 到達 機場 後 ， 您 將 能夠 採取 參觀 ， 下午 瀑布 的 巴西隊 。 '+\\\n",
    "    '如果 您 在 抵達 後 中午 在 機場 和 下午 3時 後 留下 伊瓜蘇 第3 天 ， 你 就 能 採取 參觀 瀑布 的 巴西隊 在 登機 前 。',\n",
    "    \n",
    "    '香港 ， 除了 滿 記 茶樓 酒家 之外 ， 另 一樣 不可 錯過 的 就是 當地 正宗 的 糖水店 ： 以 港式 甜品 出家 的 甜品 霸主 ，'+\\\n",
    "    '「 糖 朝 」 。 開始 時間 ： 08 : 00 am - 11 : 30 pm 出發 地點 ： 香港 尖沙咀 漢口 道 28 號 亞太 中心 地 庫 A 鋪 票券 種類 ：'+\\\n",
    "    '事先 印出 電子 票券 行程 特色 ＃ 香港 著名 餐廳 ， 2006 年 曾 榮獲 「 香港 甜品 第一 」 的 殊榮 ， '+\\\n",
    "    '專注 做 最 正宗 道地 的 香港 小吃 與 點心 ＃ 糖 朝 位於 尖沙咀 漢口 道 ， 鄰近 港 鐵站 出口 、 '+\\\n",
    "    '大型 購物 商場 如 海港城 、 國際 廣場 及 K 11 等 及 著名 景點 星光 大道 和 天星 小 輪 碼頭 ， '+\\\n",
    "    '用膳 後 可 立即 繼續 血拼 或 觀光 ＃ 産品 提供 的 套餐 幾乎 涵蓋 糖 朝 餐廳 所有 招牌 産品 ， 讓 你 大 飽 口福 ！'+\\\n",
    "    '行程 介紹 「 糖',\n",
    "\n",
    "    '台灣 高鐵 （ THSR）pass 連續 3 天 內 可 不 限 次數 搭乘 高鐵 ， 輕鬆 玩遍 台灣 西部 重要 景點 ，'+\\\n",
    "    '另外 還 有 指定 7 天 內 任選 2 天 搭乘 高鐵 ， 不管 台北 或 墾丁 ， 你 可以 在 當地 多 住 兩 天 再 搭 高鐵 '+\\\n",
    "    '出發 也 沒 問題 。 行程 特色 ． 非 台灣 國籍 限定 ， 來 台 旅遊 必備 交通 套 票 ． 分 連續 3 日 與 彈性 2 日 票券 '+\\\n",
    "    '， 讓 你 無限 次數 搭乘 高鐵 ． 不 限 乘車 班次 ， 只要 有 位子 即可 搭乘 標準 車廂 與 自由 座車廂 使用 說明 ． 使用'+\\\n",
    "    '對象 ： 限定 非 台灣籍 人士 購買 ． 使用 範圍 ： 限定 天數 內 可 無限 搭乘 台灣 高鐵 各 站 ． 兌換 期限 ： 出 票 日期 隔日'+\\\n",
    "    '90 天 內 ． 使用 期限 ： 兌換 成 車票 後 30 天 內 使用 完畢 ． 兌換 地點 ： 憑 KKday 發出 的 電子 憑證 與 護照 至 任一 高',\n",
    "]"
   ]
  },
  {
   "cell_type": "code",
   "execution_count": null,
   "metadata": {},
   "outputs": [],
   "source": []
  },
  {
   "cell_type": "code",
   "execution_count": 49,
   "metadata": {},
   "outputs": [
    {
     "name": "stdout",
     "output_type": "stream",
     "text": [
      "save/temp_rec_vae_gan_temp_rand_sample-2020-05-17-12-46-38/amp_checkpoint_100000.pt\n"
     ]
    },
    {
     "data": {
      "text/plain": [
       "'module/temp_vmt.py'"
      ]
     },
     "execution_count": 49,
     "metadata": {},
     "output_type": "execute_result"
    }
   ],
   "source": [
    "log_name = 'save/temp_rec_vae_gan_temp_rand_sample-2020-05-17-12-46-38/'\n",
    "# log_name = 'save/temp_rec_vae_gan_biset_temp_rand_sample-2020-05-15-03-24-22/'\n",
    "iteration = 100000\n",
    "K_BINS = 20\n",
    "checkpoint_name = 'amp_checkpoint_{}.pt'.format(iteration)\n",
    "assert os.path.exists(os.path.join(log_name, 'vmt.py')) == True\n",
    "print(os.path.join(log_name, checkpoint_name))\n",
    "assert os.path.exists(os.path.join(log_name, checkpoint_name)) == True\n",
    "\n",
    "copyfile(os.path.join(log_name, 'vmt.py'), 'module/temp_vmt.py')\n"
   ]
  },
  {
   "cell_type": "code",
   "execution_count": 50,
   "metadata": {},
   "outputs": [],
   "source": [
    "from module.temp_vmt import VMT, TemplateD\n",
    "checkpoint = torch.load(os.path.join(log_name, checkpoint_name))\n",
    "# checkpoint should contain model state dict,\n",
    "with open(os.path.join(log_name, 'params.json'), 'r') as f:\n",
    "    params = json.load(f)\n",
    "args = Struct(**params)\n",
    "dataset =  KKDayUser(-1, 'data/kkday_dataset/user_data', \n",
    "            'data/kkday_dataset/matrix_factorized_64.pkl',\n",
    "            prefix='item_graph', embedding=None, max_length=args.max_seq_len, force_fix_len=args.grad_penalty or args.full_text, \n",
    "            token_level=args.tokenize, is_train=True)\n",
    "dataloader = torch.utils.data.DataLoader(dataset, num_workers=4,\n",
    "                collate_fn=seq_collate, batch_size=64, shuffle=True)\n",
    "model = VMT(args.gen_embed_dim, dataset.vocab_size,\n",
    "            enc_hidden_size=128, dec_hidden_size=128, tmp_category=args.tmp_cat_dim,\n",
    "            tmp_latent_dim=args.tmp_latent_dim, desc_latent_dim=args.desc_latent_dim, user_latent_dim=args.user_latent_dim,\n",
    "            biset=args.biset,\n",
    "            max_seq_len=args.max_seq_len-1, gpu=True)\n",
    "\n",
    "C = VAE_Cluster(64, 64, k_bins=10, output_embed_dim=args.user_latent_dim)\n",
    "\n",
    "model.load_state_dict(checkpoint['model'])\n",
    "model = model.cuda().eval()\n",
    "C = C.cuda().eval()"
   ]
  },
  {
   "cell_type": "code",
   "execution_count": 51,
   "metadata": {},
   "outputs": [
    {
     "name": "stderr",
     "output_type": "stream",
     "text": [
      "/home/theblackcat102/Documents/text-subgan/env/lib/python3.6/site-packages/ipykernel_launcher.py:4: TqdmDeprecationWarning: This function will be removed in tqdm==5.0.0\n",
      "Please use `tqdm.notebook.tqdm` instead of `tqdm.tqdm_notebook`\n",
      "  after removing the cwd from sys.path.\n"
     ]
    },
    {
     "data": {
      "application/vnd.jupyter.widget-view+json": {
       "model_id": "6b07849f99b0464a849c0eabf6558b74",
       "version_major": 2,
       "version_minor": 0
      },
      "text/plain": [
       "HBox(children=(FloatProgress(value=0.0, max=3486.0), HTML(value='')))"
      ]
     },
     "metadata": {},
     "output_type": "display_data"
    },
    {
     "name": "stdout",
     "output_type": "stream",
     "text": [
      "\n"
     ]
    }
   ],
   "source": [
    "template_reference = {}\n",
    "size = 15000\n",
    "\n",
    "for i, batch in tqdm(enumerate(dataloader), total=len(dataloader)):\n",
    "    src_inputs = batch['src']\n",
    "    tmp = batch['tmp']\n",
    "    items, users = batch['items'], batch['users']\n",
    "    inputs, target1 = batch['tgt'][:, :-1], batch['tgt'][:, 1:]\n",
    "    references = []\n",
    "    if True:\n",
    "        inputs, items, users = inputs.cuda(), items.cuda(), users.cuda()\n",
    "        src_inputs = src_inputs.cuda()\n",
    "        inputs = inputs.cuda()\n",
    "        target1 = target1.cuda()\n",
    "        tmp = tmp.cuda()\n",
    "\n",
    "    batch_size = src_inputs.shape[0]\n",
    "    desc_outputs, desc_latent, _, _ = model.encode_desc(src_inputs)\n",
    "    _, tmp_latent = model.encode_tmp(tmp)\n",
    "    # output_title = torch.argmax(output_logits, dim=-1)\n",
    "    for idx, sent_token in enumerate(batch['tgt'][:, 1:]):\n",
    "        reference = []\n",
    "        for token in sent_token:\n",
    "            if token.item() == Constants.EOS:\n",
    "                break\n",
    "            reference.append(dataset.idx2word[token.item()] )\n",
    "        references.append(reference)\n",
    "    \n",
    "    for idx, sent in enumerate(references):\n",
    "        template_reference[' '.join(sent)] = {\n",
    "            'tmp': tmp_latent[idx].detach().cpu().numpy(),\n",
    "#             'tmp_outputs': tmp_outputs[idx],\n",
    "            'desc_latent': desc_latent[idx].detach().cpu(),\n",
    "            'desc_outputs': desc_outputs[idx].detach().cpu(),\n",
    "        }\n"
   ]
  },
  {
   "cell_type": "code",
   "execution_count": 52,
   "metadata": {},
   "outputs": [
    {
     "name": "stdout",
     "output_type": "stream",
     "text": [
      "5171\n",
      "{0, 1, 2, 3, 4, 5}\n"
     ]
    }
   ],
   "source": [
    "X, title = [], []\n",
    "print(len(template_reference))\n",
    "for key, latent in template_reference.items():\n",
    "    X.append(latent['tmp'])\n",
    "    title.append(key)\n",
    "title = np.array(title)\n",
    "\n",
    "pca = PCA(n_components=2)\n",
    "X_r = pca.fit(X).transform(X)\n",
    "\n",
    "nbrs = SpectralClustering(n_clusters=6).fit(X_r)\n",
    "\n",
    "y = nbrs.labels_\n",
    "print(set(y))"
   ]
  },
  {
   "cell_type": "code",
   "execution_count": 53,
   "metadata": {},
   "outputs": [
    {
     "data": {
      "image/png": "[encoded data removed]",
      "text/plain": [
       "<Figure size 432x288 with 1 Axes>"
      ]
     },
     "metadata": {
      "needs_background": "light"
     },
     "output_type": "display_data"
    }
   ],
   "source": [
    "plt.figure()\n",
    "target_names = [0,1,2,3,4, 5]\n",
    "\n",
    "colors = ['navy', 'turquoise', 'darkorange','red','black', 'green']\n",
    "lw = 2\n",
    "\n",
    "for color, i, target_name in zip(colors, list(range(len(target_names))), target_names):\n",
    "    plt.scatter(X_r[y == i, 0], X_r[y == i, 1], color=color, alpha=.8, lw=lw,\n",
    "                label=target_name)"
   ]
  },
  {
   "cell_type": "code",
   "execution_count": 54,
   "metadata": {
    "scrolled": true
   },
   "outputs": [
    {
     "name": "stdout",
     "output_type": "stream",
     "text": [
      "0 888\n",
      "【 曼谷 泰菜 學習 】 Silom Thai Cooking School 席隆 廚藝 課程\n",
      "世界 唯一 的 你 ！ 韓國 大邱 歐洲 都市 公園 E-WORLD 樂園\n",
      "【 羅馬 競技場 門票 】 羅馬 競技場 、 古羅馬 廣場 、 帕拉提諾 之 丘 （ 快速 通關 導覽 ）\n",
      "【 韓國 冰雪 樂園 】 ONEMOUNT 水 上 樂園 / 冰雪 世界 （ 二 選 一 ） ＋ 水族館 、 Outlet\n",
      "【 日本 三麗鷗 樂園 門票 】 東京 彩虹 樂園 、 九州 和諧 樂園 （ 二 選 一 ）\n",
      "【 台中 熱門 景點 接駁 】 2018 臺中 世界 花卉 博覽會 門票 ＋ 去 程 接駁\n",
      "【 體驗 巴黎 夜生活 】 夜遊 塞納河 、 紅 磨坊 歌舞秀\n",
      "【 首 爾 近郊 特色 景點 】 原州 小 金山 懸索 吊橋 、 忠 州 Light World 一 日 遊\n",
      "【 韓國 賞櫻 一 日 遊 】 韓國 鎮海賞日櫻 / 夜櫻 （ 釜山 出發 ）\n",
      "【 韓國 冬季 限定 】 江 原 道平昌 鱒魚節 一日 遊 （ 首爾 出發 ）\n",
      "\n",
      "1 1023\n",
      "【 森林 裡 的 </UNK> 】 黃金海岸 藍 光 </UNK> 半 日遊\n",
      "【 京都 一 日 遊 】 伏 見 稻荷 大社 、 清水寺 、 金閣寺 、 嵐山\n",
      "【 北陸 秘境 】 此 生 必 去 日本 最 美 山岳 勝地 ・ 上 高地 一 日 遊\n",
      "【 私人 小 團宿霧 出發 】 薄荷島 一 日 遊 、 巧克力山 探索 公園 （ 含 刺激 鋼索 單車 ）\n",
      "【 墨寶 沙丁魚 風暴 】 巴 斯卡 多島 浮潛 、 嘉 華山 瀑布 一 日 遊 （ 宿霧 出發 ）\n",
      "【 沖繩 必 買 票券 】 Okinawa Enjoy Pass 12 大 景點樂 遊 通票\n",
      "【 全 紐約 最 便宜 】 紐約 尼加 拉大 瀑布 Niagara Falls 二 日 遊\n",
      "【 台南 文青 小 旅行 】 深度 玩 台南 包車 一 日 遊\n",
      "【 韓國 南怡島 一 日 遊 】 小 法國村 、 南怡島 、 江村 鐵路 自行車 （ 首爾 出發 ）\n",
      "【 曼谷水 上 市場 一 日 遊 】 丹能莎朵 、 安帕瓦水 上 市場 、 樹中廟 、 美功 鐵道 市集 （ 保證 有位 ）\n",
      "\n",
      "2 312\n",
      "【 韓國 手機 租借 】 通話 SIM 卡 ＋ 上網 無 流量 限制 （ 仁川 機場 / 金浦 機場 / 金海 機場 領取 ）\n",
      "【 噴射 飛航 單程 船票 － 豪華 位 】 香港 九龍 中國 客運 碼頭 - 澳門 外港 客運 碼頭\n",
      "【 首 爾 機場 接送 】 仁川 機場 （ ICN ） － 首 爾 市區 （ 計程車 接送 ）\n",
      "【 仁川 機場 交通 】 韓國 首 爾 機場 快 線 AREX 單程 車票\n",
      "【 KKday 獨家 優惠 】 Siam Niramit 曼谷 暹羅 天使 劇場 門票\n",
      "【 官方 授權 】 日本 環球影城 ™ 5000 日幣 購物券\n",
      "【 官方 授權 】 新加坡 夜間 動物園 門票 （ Night Safari ）\n",
      "【 杭州 西湖 旅遊 包車 】 雷峰塔 、 西湖 遊船 、 環西湖 包車 一 日 遊\n",
      "【 苗栗 高鐵 租車 】 苗栗 AVIS 國際 租車 服務\n",
      "【 沖繩 客製化 行程 】 5 / 8 / 10 小時 包車 服務 （ 機場 飯店 、 郵輪 港口 接送 ）\n",
      "\n",
      "3 470\n",
      "【 韓國 上網 SIM 卡 】 KT Olleh 1 天 / 5 天 / 10 天 / 30 天 網卡 （ 韓國 領取 ）\n",
      "【 板橋 高鐵 出發 】 台灣 高鐵票 八 折 優惠 （ 外國人 限定 電子票 ）\n",
      "【 外國人 限定 】 首 爾轉 轉 卡 Discover Seoul Pass BTS Edition\n",
      "【 台灣 郵寄 】 大阪 周遊卡 OSAKA AMAZING PASS\n",
      "【 泰國 Wi-Fi 機 租借 】 4 G 高速 上網 ＋ 無限 流量 吃到 飽 （ 泰國 機場 領取 ）\n",
      "【 沖繩 租車 推薦 】 五 人 座 Times Car RENTAL 租車 自 駕 趣\n",
      "【 高鐵 台南 站 出發 】 台灣 高鐵 8 折 優惠 電子 車票 （ 外國人 限定 ）\n",
      "大阪 周遊卡 OSAKA AMAZING PASS 1日券 / 2日券 （ 桃園 機場 取 件 ）\n",
      "【 OceanJet 高速 渡輪 船票 】 宿霧 － 薄荷島 交通\n",
      "【 香港 必備 神卡 】 香港 八達通 交通卡 （ 內含 50 港幣 ）\n",
      "\n",
      "4 1324\n",
      "【 專屬 包車 接送 】 曼谷 － 芭達雅 單程 接送\n",
      "【 台中 出發 】 台灣 高鐵 兩 人 同行 一 人 免費 電子 車票 （ 外國人 限定 ）\n",
      "【 SEGA 室內樂園 】 東京 台場 JOYPOLIS 門票\n",
      "【 保證 入園 】 東京 迪士尼 實體 門票 ： 一日券 （ 舞濱站 領取 ）\n",
      "【 東京 手 作 體驗 】 仿 真 紓壓 玩具 工坊 ・ 親手 做 紓壓 又 可愛 的 玩具 吧\n",
      "【 曼谷 專人 通關 服務 】 蘇凡納布 機場 （ BKK ） 貴賓 快速 通關\n",
      "【 上海 旅遊 新 景點 】 上海 迪士尼 樂園 門票 （ 一 / 二日券 ）\n",
      "【 馬來西亞 LEGOLAND 】 馬來西亞 樂高 樂園 門票 （ 新加坡 接駁 巴士 出發 ）\n",
      "【 普吉幻 多 奇 秀 】 獨家 八 折 保證 最 優惠\n",
      "【 2019 九 族 櫻花季 】 九 族 文化村 櫻花季 門票\n",
      "\n",
      "5 1154\n",
      "【 薄荷 島跳島 行程 】 帕米拉坎島 、 巴里卡薩島 、 處女島 一 日 遊\n",
      "【 韓劇 浪漫 景點 】 南怡島 、 小 法國村 、 晨靜 樹木園 一 日 遊\n",
      "【 </UNK> 奇觀 】 走訪 英國 巨石 陣 半 日遊 （ 含 巴士 來回 交通 ）\n",
      "【 摩托車 夜遊 】 胡志明市 機車 美食 之 旅\n",
      "【 沙巴 神山 2 日遊 】 漫步 造訪 神山 牧場 、 溫泉 及 樹頂 吊橋\n",
      "【 保證 最 優惠 門票 】 芭達雅 信不信 由 你 博物館\n",
      "【 湄公河水 上 風情 】 美托 搖船 文化 一 日 遊 （ 胡志明市 出發 ）\n",
      "【 韓國 大邱 走 透透 】 大邱 城市 觀光 巴士 一日券\n",
      "【 宜蘭 包車 一 日 遊 】 烏石港 、 蘭陽 博物館 、 傳藝 中心 一 日 遊 （ 台北 / 宜蘭 出發 ）\n",
      "【 宜蘭 秘境 半 日遊 】 東澳 烏岩角 海蝕洞 獨木舟 體驗 （ 東澳 火車站 出發 ）\n",
      "\n"
     ]
    }
   ],
   "source": [
    "for target_name in target_names:\n",
    "    print(target_name, len(title[y==target_name]))\n",
    "    print('\\n'.join(title[y==target_name][:10]))\n",
    "    print('')"
   ]
  },
  {
   "cell_type": "code",
   "execution_count": 21,
   "metadata": {},
   "outputs": [
    {
     "data": {
      "application/vnd.jupyter.widget-view+json": {
       "model_id": "59b724331a3345219c7126251b3d99c6",
       "version_major": 2,
       "version_minor": 0
      },
      "text/plain": [
       "HTML(value='<br><h3> Play with latent feature </h3> ')"
      ]
     },
     "metadata": {},
     "output_type": "display_data"
    },
    {
     "data": {
      "application/vnd.jupyter.widget-view+json": {
       "model_id": "8298fe3ed17d47d5969e489c6386f9cd",
       "version_major": 2,
       "version_minor": 0
      },
      "text/plain": [
       "FloatSlider(value=-1.1459346062308682, description='bin-0', max=15.492585674727687, min=-2.505448355265655)"
      ]
     },
     "metadata": {},
     "output_type": "display_data"
    },
    {
     "data": {
      "application/vnd.jupyter.widget-view+json": {
       "model_id": "d2d34b5502f34088b038a9d4db34e764",
       "version_major": 2,
       "version_minor": 0
      },
      "text/plain": [
       "FloatSlider(value=0.18544452105186307, description='bin-1', max=16.985741354562872, min=-10.218551585503882)"
      ]
     },
     "metadata": {},
     "output_type": "display_data"
    },
    {
     "data": {
      "application/vnd.jupyter.widget-view+json": {
       "model_id": "79c5d18605cf4926b99d99a1faf6df51",
       "version_major": 2,
       "version_minor": 0
      },
      "text/plain": [
       "FloatSlider(value=0.10935357696551865, description='bin-2', max=16.55065280398624, min=-16.10252537742402)"
      ]
     },
     "metadata": {},
     "output_type": "display_data"
    },
    {
     "data": {
      "application/vnd.jupyter.widget-view+json": {
       "model_id": "10d123ba9ec940808dee7bbbdc6bb8c9",
       "version_major": 2,
       "version_minor": 0
      },
      "text/plain": [
       "FloatSlider(value=-1.449555410873142, description='bin-3', max=17.209029787384345, min=-5.831358691699588)"
      ]
     },
     "metadata": {},
     "output_type": "display_data"
    },
    {
     "data": {
      "application/vnd.jupyter.widget-view+json": {
       "model_id": "d484eb4e8a4f4701b98d62d3fb3c6ee2",
       "version_major": 2,
       "version_minor": 0
      },
      "text/plain": [
       "FloatSlider(value=-0.5006789131883659, description='bin-4', max=18.86475697696866, min=-9.117801530508219)"
      ]
     },
     "metadata": {},
     "output_type": "display_data"
    },
    {
     "data": {
      "application/vnd.jupyter.widget-view+json": {
       "model_id": "6c36d92cb24049fb92bf70c053253737",
       "version_major": 2,
       "version_minor": 0
      },
      "text/plain": [
       "FloatSlider(value=-0.3343904804139407, description='bin-5', max=17.428554658245435, min=-9.836547563265324)"
      ]
     },
     "metadata": {},
     "output_type": "display_data"
    },
    {
     "data": {
      "application/vnd.jupyter.widget-view+json": {
       "model_id": "128a8f5de0aa4463bd6863a6344aab30",
       "version_major": 2,
       "version_minor": 0
      },
      "text/plain": [
       "FloatSlider(value=0.9291275495961163, description='bin-6', max=22.11952880708638, min=-11.933126404039713)"
      ]
     },
     "metadata": {},
     "output_type": "display_data"
    },
    {
     "data": {
      "application/vnd.jupyter.widget-view+json": {
       "model_id": "cc615d21f962465a9857bf0517e501c5",
       "version_major": 2,
       "version_minor": 0
      },
      "text/plain": [
       "FloatSlider(value=-1.749797414098167, description='bin-7', max=14.561279812024612, min=-14.46340701800207)"
      ]
     },
     "metadata": {},
     "output_type": "display_data"
    },
    {
     "data": {
      "application/vnd.jupyter.widget-view+json": {
       "model_id": "bbe513e047e041f7b091e3f4b74f021a",
       "version_major": 2,
       "version_minor": 0
      },
      "text/plain": [
       "FloatSlider(value=-2.7306781962545994, description='bin-8', max=14.648870991234888, min=-9.521448554678706)"
      ]
     },
     "metadata": {},
     "output_type": "display_data"
    },
    {
     "data": {
      "application/vnd.jupyter.widget-view+json": {
       "model_id": "1caed43f35ed411e8bfccaaa27ce04e4",
       "version_major": 2,
       "version_minor": 0
      },
      "text/plain": [
       "FloatSlider(value=1.8631313898973347, description='bin-9', max=15.797646888292546, min=-10.30682843554967)"
      ]
     },
     "metadata": {},
     "output_type": "display_data"
    },
    {
     "data": {
      "application/vnd.jupyter.widget-view+json": {
       "model_id": "85721bcb370749b18688f587d4c5b754",
       "version_major": 2,
       "version_minor": 0
      },
      "text/plain": [
       "FloatSlider(value=-2.3930286697600884, description='bin-10', max=13.121045220841836, min=-9.509098406339989)"
      ]
     },
     "metadata": {},
     "output_type": "display_data"
    },
    {
     "data": {
      "application/vnd.jupyter.widget-view+json": {
       "model_id": "4cb2d20f67404cc9bd02899ab29f695e",
       "version_major": 2,
       "version_minor": 0
      },
      "text/plain": [
       "FloatSlider(value=9.014090855635379, description='bin-11', max=22.800511515694488, min=-11.874670183202966)"
      ]
     },
     "metadata": {},
     "output_type": "display_data"
    },
    {
     "data": {
      "application/vnd.jupyter.widget-view+json": {
       "model_id": "cd5a09b9f923461da9fcf2ac0ffd51c4",
       "version_major": 2,
       "version_minor": 0
      },
      "text/plain": [
       "FloatSlider(value=5.924824713945221, description='bin-12', max=11.411466476505565, min=-10.678222727543119)"
      ]
     },
     "metadata": {},
     "output_type": "display_data"
    },
    {
     "data": {
      "application/vnd.jupyter.widget-view+json": {
       "model_id": "45bf4807a5a34350970d05257bc55fd2",
       "version_major": 2,
       "version_minor": 0
      },
      "text/plain": [
       "FloatSlider(value=0.520219900165486, description='bin-13', max=16.576370891449276, min=-12.87550915591419)"
      ]
     },
     "metadata": {},
     "output_type": "display_data"
    },
    {
     "data": {
      "application/vnd.jupyter.widget-view+json": {
       "model_id": "b9a5a093a6824af7b595e1ac08ba8d4c",
       "version_major": 2,
       "version_minor": 0
      },
      "text/plain": [
       "FloatSlider(value=-0.09892492064259147, description='bin-14', max=13.498296300875742, min=-9.775896894246427)"
      ]
     },
     "metadata": {},
     "output_type": "display_data"
    },
    {
     "data": {
      "application/vnd.jupyter.widget-view+json": {
       "model_id": "f05b318f21874eaf8ba2150e8eb43ce7",
       "version_major": 2,
       "version_minor": 0
      },
      "text/plain": [
       "FloatSlider(value=-1.4862626702597919, description='bin-15', max=15.43072014680294, min=-12.748411691460513)"
      ]
     },
     "metadata": {},
     "output_type": "display_data"
    },
    {
     "data": {
      "application/vnd.jupyter.widget-view+json": {
       "model_id": "02e04b1b111842b982f0077d712e8262",
       "version_major": 2,
       "version_minor": 0
      },
      "text/plain": [
       "FloatSlider(value=-0.999282652738437, description='bin-16', max=15.246294368463234, min=-11.208217345719968)"
      ]
     },
     "metadata": {},
     "output_type": "display_data"
    },
    {
     "data": {
      "application/vnd.jupyter.widget-view+json": {
       "model_id": "8fca19f2034543cf87887c06ca5e6ce6",
       "version_major": 2,
       "version_minor": 0
      },
      "text/plain": [
       "FloatSlider(value=0.4412534232347893, description='bin-17', max=27.243617786136706, min=-7.5497452920886055)"
      ]
     },
     "metadata": {},
     "output_type": "display_data"
    },
    {
     "data": {
      "application/vnd.jupyter.widget-view+json": {
       "model_id": "d0845d4095fd461e910159dceea7ca35",
       "version_major": 2,
       "version_minor": 0
      },
      "text/plain": [
       "FloatSlider(value=-1.408317607965634, description='bin-18', max=22.70156204611232, min=-13.13339995350316)"
      ]
     },
     "metadata": {},
     "output_type": "display_data"
    },
    {
     "data": {
      "application/vnd.jupyter.widget-view+json": {
       "model_id": "ecfc27c5c4af40e99af9d703a3400f55",
       "version_major": 2,
       "version_minor": 0
      },
      "text/plain": [
       "FloatSlider(value=3.893719072508225, description='bin-19', max=18.240608421895416, min=-6.758710446310465)"
      ]
     },
     "metadata": {},
     "output_type": "display_data"
    }
   ],
   "source": []
  },
  {
   "cell_type": "code",
   "execution_count": 23,
   "metadata": {},
   "outputs": [
    {
     "name": "stdout",
     "output_type": "stream",
     "text": [
      "[-1.14593461  0.18544452  0.10935358 -1.44955541 -0.50067891 -0.33439048\n",
      "  0.92912755 -1.74979741 -2.7306782   1.86313139 -2.39302867  9.01409086\n",
      "  5.92482471  0.5202199  -0.09892492 -1.48626267 -0.99928265  0.44125342\n",
      " -1.40831761  3.89371907]\n"
     ]
    }
   ],
   "source": [
    "print(init_latent)"
   ]
  },
  {
   "cell_type": "code",
   "execution_count": 1,
   "metadata": {},
   "outputs": [
    {
     "name": "stdout",
     "output_type": "stream",
     "text": [
      "[-0.40110661  0.053731    0.02041557 -0.49952886 -0.1492657  -0.04508191\n",
      "  0.28627305 -0.60933987 -0.83062814  0.60365014 -0.14524659  2.80684088\n",
      "  2.81072806  0.21474031 -0.14883904 -0.46788561 -0.35034584  0.2746236\n",
      " -0.19765725  1.58832746]\n"
     ]
    }
   ],
   "source": [
    "import pickle\n",
    "with open('latent_variable_20.pkl', 'rb') as f:\n",
    "    latents = pickle.load(f)\n",
    "print(latents[0])"
   ]
  },
  {
   "cell_type": "code",
   "execution_count": 12,
   "metadata": {},
   "outputs": [],
   "source": [
    "import matplotlib\n",
    "import numpy as np\n",
    "import matplotlib.pyplot as plt\n",
    "%matplotlib inline  "
   ]
  },
  {
   "cell_type": "code",
   "execution_count": 132,
   "metadata": {},
   "outputs": [],
   "source": [
    "iter_ = 1000\n",
    "with open(f'logs/vae_gumbel/cluster_{iter_}.pkl', 'rb') as f:\n",
    "    clusters = pickle.load(f)"
   ]
  },
  {
   "cell_type": "code",
   "execution_count": 133,
   "metadata": {},
   "outputs": [],
   "source": [
    "X, title = [], []\n",
    "for key, latent in clusters.items():\n",
    "    X.append(latent)\n",
    "    title.append(key)\n",
    "title = np.array(title)"
   ]
  },
  {
   "cell_type": "code",
   "execution_count": 134,
   "metadata": {},
   "outputs": [],
   "source": [
    "from sklearn.decomposition import PCA\n",
    "from sklearn.discriminant_analysis import LinearDiscriminantAnalysis\n",
    "pca = PCA(n_components=2)\n",
    "X_r = pca.fit(X).transform(X)"
   ]
  },
  {
   "cell_type": "code",
   "execution_count": 135,
   "metadata": {},
   "outputs": [
    {
     "name": "stderr",
     "output_type": "stream",
     "text": [
      "No handles with labels found to put in legend.\n"
     ]
    },
    {
     "name": "stdout",
     "output_type": "stream",
     "text": [
      "explained variance ratio (first two components): [0.39433594 0.22087259]\n"
     ]
    },
    {
     "data": {
      "text/plain": [
       "Text(0.5, 1.0, 'PCA of clutser at 3000')"
      ]
     },
     "execution_count": 135,
     "metadata": {},
     "output_type": "execute_result"
    },
    {
     "data": {
      "image/png": "[encoded data removed]",
      "text/plain": [
       "<Figure size 432x288 with 1 Axes>"
      ]
     },
     "metadata": {
      "needs_background": "light"
     },
     "output_type": "display_data"
    }
   ],
   "source": [
    "print('explained variance ratio (first two components): %s'\n",
    "      % str(pca.explained_variance_ratio_))\n",
    "\n",
    "plt.figure()\n",
    "colors = ['navy', 'turquoise', 'darkorange']\n",
    "lw = 2\n",
    "\n",
    "plt.scatter(X_r[:, 0], X_r[:, 1], color='turquoise', alpha=.4, lw=lw)\n",
    "plt.legend(loc='best', shadow=False, scatterpoints=1)\n",
    "plt.title('PCA of clutser at 3000')"
   ]
  },
  {
   "cell_type": "code",
   "execution_count": 136,
   "metadata": {},
   "outputs": [
    {
     "name": "stdout",
     "output_type": "stream",
     "text": [
      "{0}\n"
     ]
    }
   ],
   "source": [
    "from sklearn.cluster import DBSCAN\n",
    "nbrs = DBSCAN(eps=3, min_samples=2).fit(X_r)\n",
    "y = nbrs.labels_\n",
    "print(set(y))"
   ]
  },
  {
   "cell_type": "code",
   "execution_count": 156,
   "metadata": {},
   "outputs": [
    {
     "name": "stdout",
     "output_type": "stream",
     "text": [
      "{0, 1, 2, 3, 4, 5}\n"
     ]
    }
   ],
   "source": [
    "from sklearn.cluster import SpectralClustering\n",
    "nbrs = SpectralClustering(n_clusters=6).fit(X_r)\n",
    "y = nbrs.labels_\n",
    "print(set(y))"
   ]
  },
  {
   "cell_type": "code",
   "execution_count": 162,
   "metadata": {},
   "outputs": [
    {
     "data": {
      "image/png": "[encoded data removed]",
      "text/plain": [
       "<Figure size 432x288 with 1 Axes>"
      ]
     },
     "metadata": {
      "needs_background": "light"
     },
     "output_type": "display_data"
    }
   ],
   "source": [
    "plt.figure()\n",
    "target_names = [0,1,2,3,4]\n",
    "\n",
    "colors = ['navy', 'turquoise', 'darkorange','red','black']\n",
    "lw = 2\n",
    "\n",
    "for color, i, target_name in zip(colors, list(range(len(target_names))), target_names):\n",
    "    plt.scatter(X_r[y == i, 0], X_r[y == i, 1], color=color, alpha=.8, lw=lw,\n",
    "                label=target_name)"
   ]
  },
  {
   "cell_type": "code",
   "execution_count": 163,
   "metadata": {},
   "outputs": [
    {
     "name": "stdout",
     "output_type": "stream",
     "text": [
      "['【 官方 授權 】 ## ## ## ## ## ／ 快速 ## 通行票' '【 官方 授權 】 ## ## 手環 ## ## ## ##'\n",
      " '【 拉 報表 用 】' '【 官方 授權 】 ## ## 特快 入場券 （ 快速 通關 ## ## ） - 小小兵 3'\n",
      " '【 官方 授權 】 ## ## 電子 ## ＋ 環球 特快 入場券 （ 快速 通關 ## ## ） - 標準 7'\n",
      " '【 官方 授權 】 ## ## ™ ## ＋ 快速 ## 通關'\n",
      " '【 官方 授權 】 ## ## 特快 入場券 （ 快速 通關 ## ## ） - 歡樂 好 聲音 7'\n",
      " '【 官方 授權 】 豪華 套票 ： ## ## 電子 ## ＋ 豪華 特快 入場券 4 ## 小小兵 ) ＋ 豪華 5000 日幣 購物券'\n",
      " '【 官方 授權 】 ## ## 電子 ## ＋ ## 4 G 上網 推薦 ## 5 天 / 8 天 網卡 （ ## ## 取 件 ）'\n",
      " '【 官方 授權 】 ## ## ™ ## ＋ 特別版 快速 ## 通關'\n",
      " '【 官方 授權 】 ## ## 電子 ## ＋ 環球 特快 入場券 （ 快速 通關 ## ## ） - 標準 6'\n",
      " '【 官方 授權 】 ## ## ™ 快速 通關券 - 標準 4 ． 飛天 翼龍 4 ## 1 / 10 起 )'\n",
      " '【 城市 景點 隨 你 看 】 ## 觀光 巴士 一日券' '【 造訪 007 電影 場景 】 攀 牙 灣 、 ## ## 一 日 遊'\n",
      " '【 官方 接駁車 】 愛 寶 ## 、 ## 直達 接駁車 （ ## 出發 ）'\n",
      " '【 官方 授權 套票 】 ## ## ## ## ## ＋ ## ## ##'\n",
      " '【 水陸 兩棲 巴士 探索 之 旅 】 ## 城市 觀光 ＋ ## 遊船 體驗'\n",
      " '【 官方 授權 】 ## 夜間 ## ## （ ## ## ）' '【 官方 授權 】 ## ## ™ ## 盛夏 ## ##'\n",
      " '【 官方 授權 】 ## ## 電子 ## ＋ 環球 特快 入場券 （ 快速 通關 ## ## ） - 標準 4 （ 1 / 10 起 ）'\n",
      " '【 騎 機車 饗 美食 】 夜遊 順化 ##' '【 超人 氣 動畫 主題 巴士 】 你 的 名字 ・ 敞篷 咖啡 巴士'\n",
      " '【 官方 授權 】 ## 愛 寶 ## ## ＋ 快速 通關 Q-pass'\n",
      " '【 官方 授權 】 ## ## 特快 入場券 （ 快速 通關 ## ## ） - 小小兵 4'\n",
      " '【 官方 授權 】 ## ## ™ 電子 ## （ ## 旅客 專屬 ）'\n",
      " '【 官方 授權 】 ## ## 特快 入場券 （ 快速 通關 ## ## ） - 標準 4 ． 飛天 翼龍 4'\n",
      " '【 官方 授權 】 ## ## 愛 寶 ## ＋ ## ## ## 電子票 )'\n",
      " '【 官方 授權 】 ## ## ™ 快速 通關券 - 標準 7 ． 飛天 翼龍 7 ． 逆轉 ## 7 （ 1 / 10 起 ）'\n",
      " '【 官方 授權 】 電影 主題 套 票 ： ## 入場券 ＋ 豪華 特快 入場券 4 ## 電影 主題 ) ＋ 豪華 神奇 魔杖 ＋ ## ## 紀念 相片 ## 小小兵 )'\n",
      " '【 官方 授權 】 豪華 套票 ： ## ## 電子 ## ＋ 豪華 特快 入場券 7 ## 飛天 翼龍 ) 豪華 5000 日幣 購物券']\n"
     ]
    }
   ],
   "source": [
    "print(title[y==1][:30])"
   ]
  },
  {
   "cell_type": "code",
   "execution_count": 164,
   "metadata": {},
   "outputs": [
    {
     "name": "stdout",
     "output_type": "stream",
     "text": [
      "['【 ## 頂級 按摩 】 經典 套餐 獨家 8 </UNK>' '【 ## 最 大 ## 】 </UNK> 時代 ## 主題 ## ##'\n",
      " '【 ## ## ## 】 ## 首 ## ## 快 線 ## 單程 車票'\n",
      " '【 ## ## 道 循環 巴士 】 臨 ## ## 、 第三 地道 、 都 ## ## 、 ## ## 、 ## ##'\n",
      " '【 ## 一 日 遊 】 元 乃 ## ## 、 ## 、 ## 弁 ## 一 日 遊 （ ## 出發 ）'\n",
      " '【 免 排隊 快捷 通道 】 三合一 套 票 ： ## 夫人 ## ## 摩天 ## ## 纜車'\n",
      " '【 ## 上網 電話卡 】 ## 7 天 ## 卡 500 分鐘 通話 （ ## ## 領取 ）'\n",
      " '【 ## 賞 花 一 日 遊 】 ## ## ## 粉蝶 花 之 丘 ・ ## ## 紫藤 花'\n",
      " '【 ## ## 露營 二 日 遊 】 ## 國家 ## 、 ## 、 ## ## （ ## 出發 ）'\n",
      " '【 超 划算 七 折 優惠 】 ## ## 快 綫 車票 （ ## ## 快速 入閘 ）'\n",
      " '【 ## ## 二 日 遊 】 ## ## 小 火車 ・ ## ## ## ・ ## 水壩 ## ## 出發 )'\n",
      " '【 ## 必 看 表演 】 ## 奇幻 大秀 ## ## ##' '【 專屬 ## 優質 接送 】 ## ## 包車 接送 （ 雙向 發車 ）'\n",
      " '【 ## 4 G 上網 推薦 】 ## 5 天 / 8 天 網卡 （ ## ## 取 件 ）'\n",
      " '【 ## 上下 顛倒 屋 】 超值 優惠 ##'\n",
      " '【 ## JR PASS 】 ## & ## ## 周遊券 ## （ ## ## 取 件 ）'\n",
      " '【 ## 出發 】 ## ## 8 折 優惠 車票 （ ## 限定 電子票 ）'\n",
      " '【 頂級 法式 自助餐 】 ## 十六 ## 海風 ## 自助餐' '沒有 ## 的 ## ！ ## ## ## 一 日 遊'\n",
      " '【 ## 必備 ## 票券 】 ## 八達通 交通卡' '【 ## ## 出發 】 ## 高鐵票 8 折 優惠 （ ## 限定 電子票 ）'\n",
      " '【 ## 鐵道 自行車 】 ## 鐵道 ## ## 電子 ##'\n",
      " '【 ## 純淨 ## 6 日遊 】 造訪 ## 最 美 冰川 ## 與 ## 峽灣 國家 ##'\n",
      " '【 ## ## 體驗 】 ## ## & Spa 泰式 按摩 體驗' '【 ## 】 ## ## ## 一日券' '在 雪梨塔 上 享用 ##'\n",
      " '【 ## 超值 ## 票券 】 ## 地鐵 乘車券 - 24 小時 / 48 小時 / 72小時券'\n",
      " '【 ## ## 上 活動 】 海 上 滑翔 傘 、 水 上 電單車 、 香蕉船 、 海底 漫步 體驗 （ ## 出發 ）'\n",
      " '【 ## 巴士 二 日 遊 】 ## ## 路線 、 ## 、 飛驒 ##'\n",
      " '【 ## 包車 半 日遊 】 十分 瀑布 、 十分 ## 放 天燈 、 ## ##']\n"
     ]
    }
   ],
   "source": [
    "print(title[y==0][:30])"
   ]
  },
  {
   "cell_type": "code",
   "execution_count": 165,
   "metadata": {},
   "outputs": [
    {
     "name": "stdout",
     "output_type": "stream",
     "text": [
      "['## 包車 一 日 遊 ． 暢遊 經典 ## 8 小時' '## 音樂劇 ## ． ##' '## ## 愛 3 ## ## ##'\n",
      " '63 ## ## － ## 藝術城 ##' '## 出發 ) ## 包車 一 日 遊' '## 夜間 意式 薄餅 遊船 之 旅'\n",
      " '## 愛 寶 ## 電子 ## （ ## ## ）' '## ## 自然 之 旅 1 日 遊'\n",
      " '專車 小包團 ) （ 5 天 4 夜 玩 轉 ## 特製 團 ）'\n",
      " '## 周遊卡 ## ## PASS 1日券 / 2日券 （ ## ## 取 件 ）' '## ## ## 盛事 ## 自助 午餐 ／ 晚餐'\n",
      " '## 包車 ． 探索 ## 的 秘密 半 日遊' '## ## 國家 ## 一 日 遊 （ ## ## ## 來回 ）'\n",
      " '## ． </UNK> 活 一 日 遊' '## ## 紫蝶 ## 精彩 一 日 遊'\n",
      " '## ## 8 ## － ## 神秘 小 ## ． 春天 ## 神奇' '## 經典 1 日 遊'\n",
      " '## 一日 包車 遊 ． 探訪 金車 城堡 ## ## 泡湯' '## 珍奶 ## ## 。 珍珠 奶茶 ## 手搖 體驗'\n",
      " '## ## 大 巴士 觀光 車票' '## ## 限定 ！ ## 鱒魚 冰釣 之 旅' '## ## ## ## 特快 列車 和 ## 套 票'\n",
      " '## ## 超值 冒險 之 旅 一 日 遊' '## ## ## ## ##' '## ， 越 夜 越 美麗 ！'\n",
      " '## 5 日 遊 ： ## 、 ## 、 酒杯灣 、 ## 、 ## 頓' '## ## ## 滑翔 傘 體驗'\n",
      " '## 鐵道 自行車 ## ##' '住宿 ## ## ・ 欣賞 ## 遺產 合掌屋 ＆ 飛驒 ## ＆ 上 高地 二 日 遊 ！'\n",
      " '## ## 美食 ## 蝦 ## 餐券']\n"
     ]
    }
   ],
   "source": [
    "print(title[y==2][:30])"
   ]
  },
  {
   "cell_type": "code",
   "execution_count": 166,
   "metadata": {},
   "outputs": [
    {
     "name": "stdout",
     "output_type": "stream",
     "text": [
      "['【 探訪 鐘樓 怪人 】 ## ## 大 ## ＋ 塔 頂 快速 通關票 ## 含 專人 導覽 )']\n"
     ]
    }
   ],
   "source": [
    "print(title[y==3][:30])"
   ]
  },
  {
   "cell_type": "code",
   "execution_count": 168,
   "metadata": {},
   "outputs": [
    {
     "name": "stdout",
     "output_type": "stream",
     "text": [
      "['巴士 一 日 ## ・ 美麗 海 ## ・ ## 海 的 魅力 （ 多 語言 語音 導覽 ）'\n",
      " '清境 ## 拼車 一 日 遊 （ 兩 人 成行 ， 一 人 起 訂 ）' '輕鬆 上下 清境 ## - 直達 共 乘車'\n",
      " '三麗鷗 彩虹 ## ##' '7 日 </UNK> ## ## ## “ 唯美 自然 ” 遊'\n",
      " '## 高原 ## 之 旅 ## 從 ## 出發 )'\n",
      " '春假 ## 文創 生態 一 日 遊 ## ## 行程 : ## 隧道 / 夕 遊 出張 所 / ## ## )'\n",
      " '## 直升機 飛行 、 奢華 午餐 和 雙體船海 ##' '首 ## 雙層 觀光 巴士 傳統 文化 路線'\n",
      " '酷 ## 滑雪 一 日 遊 ， ## / ## 出發' '一同 趣 郊遊 。 妖怪 、 ## 、 ##'\n",
      " '【 360 度 全 </UNK> 視覺 體驗 】 ## 長 ## </UNK> ## ##'\n",
      " '</UNK> 不可 錯過 ！ </UNK> 在 ## 的 ## 草莓 ##' '鐵道 ## 能 龍 ## ## ## 豐富 一 日 遊'\n",
      " '7593 （ 四 日 套餐 ）' '從 ## ： ## 瀑布 一 日 遊 與 品酒'\n",
      " '## 私人 包車 ・ 六 天 ## ## 包車 旅遊 ## ## ## / ## ## ## 上 下車 )'\n",
      " '幸福 ## ・ 戀 上 金針 花海 與 ## 泡湯 好 舒服' '## 威尼斯人 貢 ## 船票' '大 ## 深度 之 旅'\n",
      " '## 私人 包車 ・ 五 天 ## ## 包車 旅遊 ## ## ## / ## ## ## 上 下車 )'\n",
      " '## 租 車 自 駕遊 （ 附贈 保險 ）' '隨 上 隨 下 參觀 ## 巴士 之 旅' '## ： 1 小時 全 景 城市 旅遊 連 遊船'\n",
      " '## 限定 的 絕景 ， 去 看 藏王 樹冰 吧 ！ 享受 「 ## ## 之 湯 」 遊覽 藏王 溫泉街 （ ## 出發 二 日 遊 ）'\n",
      " '【 360 度 全 景 體驗 拼團 遊 】 ## 高塔 賞 美景 、 享用 下午茶'\n",
      " '「 愛 來 魔 相 4 ## ## 」 ## ## ## ##' '一 ## 海 之 星 ## ## ## ##'\n",
      " '一起 賞 花 趣 ！ ## ## 鬱金香 慶典 、 油菜 花田 、 草莓 ## 一 日 遊' '免 排隊 ： ## ## 與 夜間 導覽 遊']\n"
     ]
    }
   ],
   "source": [
    "print(title[y==5][:30])"
   ]
  },
  {
   "cell_type": "code",
   "execution_count": null,
   "metadata": {},
   "outputs": [],
   "source": []
  }
 ],
 "metadata": {
  "kernelspec": {
   "display_name": "Python 3",
   "language": "python",
   "name": "python3"
  },
  "language_info": {
   "codemirror_mode": {
    "name": "ipython",
    "version": 3
   },
   "file_extension": ".py",
   "mimetype": "text/x-python",
   "name": "python",
   "nbconvert_exporter": "python",
   "pygments_lexer": "ipython3",
   "version": "3.6.9"
  }
 },
 "nbformat": 4,
 "nbformat_minor": 4
}
