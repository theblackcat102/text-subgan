{
 "cells": [
  {
   "cell_type": "code",
   "execution_count": 1,
   "metadata": {},
   "outputs": [],
   "source": [
    "%load_ext autoreload\n",
    "%autoreload 2"
   ]
  },
  {
   "cell_type": "code",
   "execution_count": 2,
   "metadata": {},
   "outputs": [],
   "source": [
    "import torch\n",
    "import torch.nn as nn\n",
    "import torch.nn.functional as F\n",
    "import torch.optim as optim\n",
    "from tqdm import tqdm_notebook as tqdm\n",
    "import os, glob, json\n",
    "import config as cfg\n",
    "from IPython.display import display\n",
    "from ipywidgets import widgets, Layout\n",
    "from module.cluster import VAE_Cluster\n",
    "from module.vmt import VMT, TemplateD\n",
    "from module.vae import GaussianKLLoss\n",
    "from dataset import KKDayUser, seq_collate\n",
    "from constant import Constants\n",
    "from utils import get_fixed_temperature, get_losses\n",
    "from sklearn.cluster import KMeans\n",
    "import numpy as np\n",
    "from tensorboardX import SummaryWriter\n",
    "from utils import gradient_penalty, str2bool, chunks\n",
    "from sklearn.manifold import SpectralEmbedding\n",
    "from nltk.translate.bleu_score import sentence_bleu\n",
    "from nltk.translate.bleu_score import SmoothingFunction\n",
    "from shutil import copyfile\n",
    "import pickle\n",
    "import seaborn as sns\n",
    "from collections import namedtuple"
   ]
  },
  {
   "cell_type": "code",
   "execution_count": 3,
   "metadata": {},
   "outputs": [],
   "source": [
    "from sklearn.cluster import SpectralClustering\n",
    "from sklearn.decomposition import PCA\n",
    "from sklearn.discriminant_analysis import LinearDiscriminantAnalysis"
   ]
  },
  {
   "cell_type": "code",
   "execution_count": 4,
   "metadata": {},
   "outputs": [],
   "source": [
    "import matplotlib\n",
    "import numpy as np\n",
    "import matplotlib.pyplot as plt\n",
    "%matplotlib inline\n"
   ]
  },
  {
   "cell_type": "code",
   "execution_count": 5,
   "metadata": {},
   "outputs": [],
   "source": [
    "class Struct:\n",
    "    def __init__(self, **entries):\n",
    "        self.__dict__.update(entries)"
   ]
  },
  {
   "cell_type": "markdown",
   "metadata": {},
   "source": [
    "### Lets Visualize template first"
   ]
  },
  {
   "cell_type": "code",
   "execution_count": 12,
   "metadata": {},
   "outputs": [],
   "source": [
    "log_name = 'save/gan_tempest_rel-2020-07-18-21-36-42/'\n",
    "checkpoint = 'checkpoint_9000.pt'\n",
    "\n",
    "from module.vmt import VMT\n",
    "with open(os.path.join(log_name, 'params.json'), 'r') as f:\n",
    "    params = json.load(f)\n",
    "args = Struct(**params)\n",
    "id_mapping = torch.load(os.path.join(args.cache_path, 'id_mapping.pt'))\n",
    "user_size = len(id_mapping['user2id'])\n",
    "user_size = user_size\n",
    "prod_size = len(id_mapping['prod2id'])\n",
    "\n",
    "\n",
    "model = VMT(args.gen_embed_dim, args.vocab_size,\n",
    "            enc_hidden_size=256, dec_hidden_size=256, tmp_category=args.tmp_cat_dim,\n",
    "            tmp_latent_dim=args.tmp_latent_dim, desc_latent_dim=args.desc_latent_dim, user_latent_dim=args.user_latent_dim,\n",
    "            biset=args.biset, user_embedding=True, user_size=user_size,\n",
    "            max_seq_len=args.max_seq_len-1, gpu=True).cuda()\n",
    "model.load_state_dict(torch.load(os.path.join(log_name,checkpoint))['model'])\n",
    "\n",
    "id2user = { value: key for key, value in id_mapping['user2id'].items() }\n"
   ]
  },
  {
   "cell_type": "code",
   "execution_count": 7,
   "metadata": {},
   "outputs": [],
   "source": [
    "id2user = { value: key for key, value in id_mapping['user2id'].items() }"
   ]
  },
  {
   "cell_type": "code",
   "execution_count": 8,
   "metadata": {},
   "outputs": [
    {
     "name": "stdout",
     "output_type": "stream",
     "text": [
      "dataset/valid.pt\n",
      "1761\n"
     ]
    }
   ],
   "source": [
    "from dataset import TemPest, tempest_collate\n",
    "valid_dataset = TemPest(args.cache_path, 'valid')\n",
    "print(len(valid_dataset))\n",
    "eval_dataloader = torch.utils.data.DataLoader(valid_dataset, num_workers=8,\n",
    "                        collate_fn=tempest_collate, batch_size=32, shuffle=False, drop_last=True)"
   ]
  },
  {
   "cell_type": "markdown",
   "metadata": {},
   "source": [
    "Generate examples"
   ]
  },
  {
   "cell_type": "code",
   "execution_count": 13,
   "metadata": {},
   "outputs": [
    {
     "name": "stderr",
     "output_type": "stream",
     "text": [
      "/home/theblackcat102/Documents/text-subgan/env/lib/python3.6/site-packages/ipykernel_launcher.py:4: TqdmDeprecationWarning: This function will be removed in tqdm==5.0.0\n",
      "Please use `tqdm.notebook.tqdm` instead of `tqdm.tqdm_notebook`\n",
      "  after removing the cwd from sys.path.\n"
     ]
    },
    {
     "data": {
      "application/vnd.jupyter.widget-view+json": {
       "model_id": "6f1993bd0d9e4d53b8eb9b4657e81c87",
       "version_major": 2,
       "version_minor": 0
      },
      "text/plain": [
       "HBox(children=(FloatProgress(value=0.0, max=88.0), HTML(value='')))"
      ]
     },
     "metadata": {},
     "output_type": "display_data"
    },
    {
     "name": "stdout",
     "output_type": "stream",
     "text": [
      "\n"
     ]
    }
   ],
   "source": [
    "sentences, references = [], []\n",
    "temp_latent = []; temp_outputs= []\n",
    "with torch.no_grad():\n",
    "    for batch in tqdm(eval_dataloader):\n",
    "        src_inputs = batch['src']\n",
    "        tmp = batch['tmt']\n",
    "        inputs, target = batch['tgt'][:, :-1], batch['tgt'][:, 1:]\n",
    "        users = batch['users']\n",
    "        empty_users = users == -1\n",
    "        batch_size = len(empty_users)\n",
    "        users_filled = users.detach()\n",
    "        users_filled[empty_users] = torch.randint(0, user_size, ( int(empty_users.sum()),  ))\n",
    "\n",
    "        if cfg.CUDA:\n",
    "            src_inputs = src_inputs.cuda()\n",
    "            target = target.cuda()\n",
    "            tmp = tmp.cuda()\n",
    "            inputs = inputs.cuda()\n",
    "            users_filled = users_filled.cuda()\n",
    "\n",
    "        desc_outputs, desc_latent, desc_mean, desc_std = model.encode_desc(src_inputs)\n",
    "        tmp_outputs, tmp_latent = model.encode_tmp(tmp)\n",
    "        for latent_ in tmp_latent:\n",
    "            temp_latent.append(latent_.cpu().numpy().flatten())\n",
    "        for latent_ in tmp_outputs:\n",
    "            temp_outputs.append(latent_.cpu().numpy())\n",
    "        user_embeddings = model.user_embedding( users_filled )\n",
    "        _, output_title = model.decode(tmp_latent, desc_latent, user_embeddings, \n",
    "                desc_outputs, tmp_outputs,\n",
    "                max_length=target.shape[1])\n",
    "\n",
    "        for idx, sent_token in enumerate(batch['tgt'][:, 1:]):\n",
    "            reference = []\n",
    "            for token in sent_token:\n",
    "                if token.item() == Constants.EOS:\n",
    "                    break\n",
    "                reference.append(valid_dataset.tokenizer.idx2word[token.item()] )\n",
    "            references.append(''.join(reference))\n",
    "\n",
    "            sent = output_title[idx]\n",
    "            sentence = []\n",
    "            for token in sent:\n",
    "                if token.item() == Constants.EOS:\n",
    "                    break\n",
    "                sentence.append(valid_dataset.tokenizer.idx2word[token.item()])\n",
    "            sentences.append(''.join(sentence))"
   ]
  },
  {
   "cell_type": "code",
   "execution_count": 14,
   "metadata": {},
   "outputs": [
    {
     "name": "stdout",
     "output_type": "stream",
     "text": [
      "1760\n"
     ]
    }
   ],
   "source": [
    "X, title = [], []\n",
    "print(len(temp_latent))\n",
    "for idx, latent in enumerate(temp_latent):\n",
    "    X.append(latent)\n",
    "    title.append(references[idx])\n",
    "temp_outputs = np.array(temp_outputs)\n",
    "title = np.array(title)\n",
    "X = np.array(X)"
   ]
  },
  {
   "cell_type": "markdown",
   "metadata": {},
   "source": [
    "### Visualize categorical distribution of the first template latent"
   ]
  },
  {
   "cell_type": "code",
   "execution_count": 15,
   "metadata": {},
   "outputs": [
    {
     "data": {
      "image/png": "[encoded data removed]",
      "text/plain": [
       "<Figure size 1440x216 with 1 Axes>"
      ]
     },
     "metadata": {
      "needs_background": "light"
     },
     "output_type": "display_data"
    }
   ],
   "source": [
    "plt.rcParams[\"figure.figsize\"] = (20,3)\n",
    "\n",
    "data = {'y': [], 'bins': [], 'type': []}\n",
    "for idx, latent in enumerate(X[0].reshape(args.tmp_latent_dim, args.tmp_cat_dim)):\n",
    "    data['y'] += list(range(len(latent)))\n",
    "    data['bins'] += list(latent)\n",
    "    data['type'] += list([idx]*len(latent))\n",
    "g = sns.barplot(x='y', y='bins', data=data, hue='type')\n",
    "g.legend_.remove()"
   ]
  },
  {
   "cell_type": "code",
   "execution_count": 16,
   "metadata": {},
   "outputs": [
    {
     "name": "stdout",
     "output_type": "stream",
     "text": [
      "['【Disneyland】美國加州迪士尼樂園門票（電子一日券）' '【東京夜景】六本木之丘展望台門票（TokyoCityView）森美術館'\n",
      " '【熱門景點包車一日遊】石門水庫、鎮瀾宮、台中麗寶Outlet（台北出發、台中結束）' '【中文導覽】馬來西亞機場市區優質接送（含WiFi熱點）'\n",
      " '【龍尾灣生態體驗】搭竹筏＋抓螃蟹＋做蠟染（含馬來午餐）']\n",
      "['優先進入：柏林杜莎夫人蠟像館' '漢堡喜劇之旅' '倫敦和哈利·波特場景私人半日遊' '坎昆極限林冠溜索'\n",
      " '巴耶內瓦多和Cousiño馬庫爾：從聖地亞哥一日遊']\n"
     ]
    },
    {
     "data": {
      "image/png": "[encoded data removed]",
      "text/plain": [
       "<Figure size 432x288 with 1 Axes>"
      ]
     },
     "metadata": {
      "needs_background": "light"
     },
     "output_type": "display_data"
    }
   ],
   "source": [
    "pca = PCA(n_components=2)\n",
    "one_hot_x = [  torch.softmax(torch.from_numpy(row).reshape(10, 16), dim=-1).numpy()[1]  for row in X   ]\n",
    "X_r = pca.fit_transform(X)\n",
    "nbrs = SpectralClustering(n_clusters=2).fit(X_r)\n",
    "y = nbrs.labels_\n",
    "plt.rcParams[\"figure.figsize\"] = (6,4)\n",
    "plt.figure()\n",
    "target_names = [0,1]\n",
    "colors = ['navy', 'turquoise']\n",
    "lw = 3\n",
    "\n",
    "for color, i, target_name in zip(colors, list(range(len(target_names))), target_names):\n",
    "    plt.scatter(X_r[y == i, 0], X_r[y == i, 1], color=color, alpha=.8, lw=lw,\n",
    "                label=target_name)\n",
    "\n",
    "print(title[y==0][:5])\n",
    "print(title[y==1][:5])"
   ]
  },
  {
   "cell_type": "markdown",
   "metadata": {},
   "source": [
    "## Sample some latent as reference"
   ]
  },
  {
   "cell_type": "code",
   "execution_count": 17,
   "metadata": {},
   "outputs": [
    {
     "name": "stdout",
     "output_type": "stream",
     "text": [
      "found\n"
     ]
    }
   ],
   "source": [
    "with torch.no_grad():\n",
    "    for idx, batch in enumerate(eval_dataloader):\n",
    "        src_inputs = batch['src']\n",
    "        tmp = batch['tmt']\n",
    "        inputs, target = batch['tgt'][:, :-1], batch['tgt'][:, 1:]\n",
    "        users = batch['users']\n",
    "        non_empty_users = users != -1\n",
    "        if cfg.CUDA:\n",
    "            src_inputs = src_inputs[non_empty_users].cuda()\n",
    "            target = target[non_empty_users].cuda()\n",
    "            tmp = tmp[non_empty_users].cuda()\n",
    "            inputs = inputs[non_empty_users].cuda()\n",
    "            users = users[non_empty_users].cuda()\n",
    "\n",
    "        if non_empty_users.sum() > 0 and idx > 20:\n",
    "            print('found')\n",
    "            break"
   ]
  },
  {
   "cell_type": "markdown",
   "metadata": {},
   "source": [
    "## Sample other latent as target"
   ]
  },
  {
   "cell_type": "code",
   "execution_count": 18,
   "metadata": {},
   "outputs": [
    {
     "name": "stderr",
     "output_type": "stream",
     "text": [
      "/home/theblackcat102/Documents/text-subgan/env/lib/python3.6/site-packages/ipykernel_launcher.py:3: TqdmDeprecationWarning: This function will be removed in tqdm==5.0.0\n",
      "Please use `tqdm.notebook.tqdm` instead of `tqdm.tqdm_notebook`\n",
      "  This is separate from the ipykernel package so we can avoid doing imports until\n"
     ]
    },
    {
     "data": {
      "application/vnd.jupyter.widget-view+json": {
       "model_id": "6711782ae63e4b5ebf8807e568f2676c",
       "version_major": 2,
       "version_minor": 0
      },
      "text/plain": [
       "HBox(children=(FloatProgress(value=0.0, max=88.0), HTML(value='')))"
      ]
     },
     "metadata": {},
     "output_type": "display_data"
    },
    {
     "name": "stdout",
     "output_type": "stream",
     "text": [
      "found\n"
     ]
    }
   ],
   "source": [
    "cnt = 0\n",
    "with torch.no_grad():\n",
    "    for batch in tqdm(eval_dataloader):\n",
    "        cnt += 1\n",
    "        users2 = batch['users']\n",
    "        non_empty_users = users2 != -1\n",
    "        if cfg.CUDA:\n",
    "            users2 = users2[non_empty_users].cuda()\n",
    "        if non_empty_users.sum() > 0 and cnt > 10:\n",
    "            print('found')\n",
    "            break"
   ]
  },
  {
   "cell_type": "markdown",
   "metadata": {},
   "source": [
    "Generate reference title from reference latent"
   ]
  },
  {
   "cell_type": "code",
   "execution_count": 19,
   "metadata": {},
   "outputs": [
    {
     "name": "stdout",
     "output_type": "stream",
     "text": [
      "user: 01cfbab0-9dd2-40b6-bea3-e7313c046754 | 【荷蘭】】】】】半德\n",
      "user: 1802782b-ee4f-41b7-ad33-106d5490feef | 【法國必必備】】市中心市中心下巴士\n",
      "user: 901869b7-50bf-46a6-822b-c5bd00349c54 | 【馬來西亞飛行體驗】邦代入自\n",
      "user: e7ce93e0-f7d3-4d21-9aa0-4156c3990ea4 | 【日本JRPASS】廣域鐵路周遊券周遊券（韓國)))\n",
      "user: 8359fe97-d00a-411a-8c8c-c7c15ddd51de | 【洛杉磯自由自由必備】GoLosCardCard景點景點景點景點卡通卡通\n",
      "user: 7ee6dea3-1d4e-4389-bd2c-38f52705900b | 【JRPASS】】】多天日日日日日遊\n"
     ]
    }
   ],
   "source": [
    "desc_outputs, desc_latent, desc_mean, desc_std = model.encode_desc(src_inputs)\n",
    "tmp_outputs, tmp_latent = model.encode_tmp(tmp)\n",
    "user_embeddings = model.user_embedding( users )\n",
    "_, output_title = model.decode(tmp_latent, desc_latent, user_embeddings, \n",
    "        desc_outputs, tmp_outputs,\n",
    "        max_length=target.shape[1])\n",
    "original_sentences = []\n",
    "original_pairs = []\n",
    "for idx, sent in enumerate(output_title.cpu()):\n",
    "    sentence = []\n",
    "    for token in sent:\n",
    "        if token.item() == Constants.EOS:\n",
    "            break\n",
    "        sentence.append(valid_dataset.tokenizer.idx2word[token.item()])\n",
    "    print(\"{:<40} | {:>}\".format('user: '+ id2user[users[idx].item()], ''.join(sentence[:50]).strip(),  ))\n",
    "    original_pairs.append(\"{:<40} | {:>}\".format('user: '+ id2user[users[idx].item()], ''.join(sentence[:50]).strip(),  ))\n",
    "    original_sentences.append(''.join(sentence[:50]).strip())"
   ]
  },
  {
   "cell_type": "code",
   "execution_count": 20,
   "metadata": {},
   "outputs": [
    {
     "name": "stdout",
     "output_type": "stream",
     "text": [
      "old : user: 01cfbab0-9dd2-40b6-bea3-e7313c046754 | 【荷蘭】】】】】半德\n",
      "new : user: 873570da-ea15-4134-af2d-a90cba9d6c64 | 【走進經典】】】】半導覽\n",
      "\n",
      "old : user: 1802782b-ee4f-41b7-ad33-106d5490feef | 【法國必必備】】市中心市中心下巴士\n",
      "new : user: d71fa448-6d07-4edb-978e-b7e3f70b5884 | 【法國必必備】】市中心市中心下巴士觀光\n",
      "\n",
      "old : user: 901869b7-50bf-46a6-822b-c5bd00349c54 | 【馬來西亞飛行體驗】邦代入自\n",
      "new : user: 2b8ef4d3-6e3f-4f48-b8f3-68e0e6471744 | 【在飛行體驗】邦代自自\n",
      "\n",
      "old : user: e7ce93e0-f7d3-4d21-9aa0-4156c3990ea4 | 【日本JRPASS】廣域鐵路周遊券周遊券（韓國)))\n",
      "new : user: e1a92840-3d3c-4a93-8fed-49012f015f5e | 【日本PASSPASS】廣域鐵路周遊券周遊券（韓國)))\n",
      "\n",
      "old : user: 8359fe97-d00a-411a-8c8c-c7c15ddd51de | 【洛杉磯自由自由必備】GoLosCardCard景點景點景點景點卡通卡通\n",
      "new : user: caa1cf59-05d0-426b-b9d1-dc836bc6a9bd | 【洛杉磯自由自由必備】GoLosCardCard景點景點景點景點卡通卡通卡通\n",
      "\n",
      "old : user: 7ee6dea3-1d4e-4389-bd2c-38f52705900b | 【JRPASS】】】多天日日日日日遊\n",
      "new : user: 30ed0e8e-a67e-493a-b52e-951fc50c79a1 | 【JRPASS】】】多天日日日日日遊\n",
      "\n"
     ]
    }
   ],
   "source": [
    "user2_embeddings = model.user_embedding( users2[:6,] )\n",
    "_, output_title = model.decode(\n",
    "        tmp_latent,\n",
    "        #control_latent[:6].cuda(), \n",
    "        desc_latent, user2_embeddings, \n",
    "        desc_outputs, tmp_outputs,\n",
    "        max_length=target.shape[1])\n",
    "for idx, (sent, origin_pair) in enumerate(zip(output_title, original_pairs)):\n",
    "    sentence = []\n",
    "    for token in sent:\n",
    "        if token.item() == Constants.EOS:\n",
    "            break\n",
    "        sentence.append(valid_dataset.tokenizer.idx2word[token.item()])\n",
    "    print(\"old : \"+origin_pair)\n",
    "    print(\"new : {:<40} | {:>}\\n\".format('user: '+ id2user[users2[idx].item()] , ''.join(sentence[:50]).strip(), ))"
   ]
  },
  {
   "cell_type": "markdown",
   "metadata": {},
   "source": [
    "Can we randomly sample template latent for use? ( Only applicable for model without BiSET )"
   ]
  },
  {
   "cell_type": "code",
   "execution_count": 21,
   "metadata": {},
   "outputs": [],
   "source": [
    "latent_dim = args.tmp_latent_dim\n",
    "categorical_dim = args.tmp_cat_dim\n",
    "M =  args.tmp_cat_dim * args.tmp_latent_dim\n",
    "np_y = np.zeros((M, categorical_dim), dtype=np.float32)\n",
    "np_y[range(M), np.random.choice(categorical_dim, M)] = 1\n",
    "np_y = np.reshape(np_y, [ M // latent_dim, latent_dim, categorical_dim])[:6, :,:]"
   ]
  },
  {
   "cell_type": "code",
   "execution_count": 22,
   "metadata": {},
   "outputs": [
    {
     "name": "stdout",
     "output_type": "stream",
     "text": [
      "old :  user: 01cfbab0-9dd2-40b6-bea3-e7313c046754 | 【荷蘭】】】】】半德\n",
      "new : user: 873570da-ea15-4134-af2d-a90cba9d6c64 | 【荷蘭經典】絕】\n",
      "\n",
      "old :  user: 1802782b-ee4f-41b7-ad33-106d5490feef | 【法國必必備】】市中心市中心下巴士\n",
      "new : user: d71fa448-6d07-4edb-978e-b7e3f70b5884 | 【法國必】】】市中心市中心下巴士\n",
      "\n",
      "old :  user: 901869b7-50bf-46a6-822b-c5bd00349c54 | 【馬來西亞飛行體驗】邦代入自\n",
      "new : user: 2b8ef4d3-6e3f-4f48-b8f3-68e0e6471744 | 【在飛行體驗】邦代自自\n",
      "\n",
      "old :  user: e7ce93e0-f7d3-4d21-9aa0-4156c3990ea4 | 【日本JRPASS】廣域鐵路周遊券周遊券（韓國)))\n",
      "new : user: e1a92840-3d3c-4a93-8fed-49012f015f5e | 【日本JRPASS】廣域鐵路周遊券周遊券（韓國地區))\n",
      "\n",
      "old :  user: 8359fe97-d00a-411a-8c8c-c7c15ddd51de | 【洛杉磯自由自由必備】GoLosCardCard景點景點景點景點卡通卡通\n",
      "new : user: caa1cf59-05d0-426b-b9d1-dc836bc6a9bd | 【洛杉磯自由自由必備】GoLosCardCard景點景點景點景點卡通卡通卡通\n",
      "\n",
      "old :  user: 7ee6dea3-1d4e-4389-bd2c-38f52705900b | 【JRPASS】】】多天日日日日日遊\n",
      "new : user: 30ed0e8e-a67e-493a-b52e-951fc50c79a1 | 【JRPASS】】】多天日日日日日日遊\n",
      "\n"
     ]
    }
   ],
   "source": [
    "random_sample = torch.from_numpy(np_y).view(6, latent_dim * categorical_dim).cuda()\n",
    "_, output_title = model.decode(\n",
    "        random_sample,\n",
    "        #control_latent[:6].cuda(), \n",
    "        desc_latent, user_embeddings, \n",
    "        desc_outputs, tmp_outputs,\n",
    "        max_length=target.shape[1])\n",
    "for idx, sent in enumerate(output_title):\n",
    "    sentence = []\n",
    "    for token in sent:\n",
    "        if token.item() == Constants.EOS:\n",
    "            break\n",
    "        sentence.append(valid_dataset.tokenizer.idx2word[token.item()])\n",
    "    print(\"old : \",original_pairs[idx])\n",
    "    print(\"new : {:<40} | {:>}\\n\".format('user: '+ id2user[users2[idx].item()] , ''.join(sentence[:50]).strip(), ))"
   ]
  },
  {
   "cell_type": "markdown",
   "metadata": {},
   "source": [
    "Visualize template latent "
   ]
  },
  {
   "cell_type": "code",
   "execution_count": 23,
   "metadata": {},
   "outputs": [
    {
     "name": "stdout",
     "output_type": "stream",
     "text": [
      "target template   《沖繩景點通行票》精選熱門景點＋</UNK>水族館\n",
      "origin gen title 【荷蘭】】】】】半德 \n",
      "new gen title    【荷蘭經典】絕】\n",
      "\n",
      "target template   卡門浮潛和廢墟探險\n",
      "origin gen title 【法國必必備】】市中心市中心下巴士 \n",
      "new gen title    【探索上上】】觀光觀光觀光票票\n",
      "\n",
      "target template   阿姆斯特丹：A'DAM瞭望臺和OvertheEdge鞦韆票\n",
      "origin gen title 【馬來西亞飛行體驗】邦代入自 \n",
      "new gen title    【在飛行體驗】邦代自自\n",
      "\n",
      "target template   小琉球好玩。珊瑚礁島嶼風光\n",
      "origin gen title 【日本JRPASS】廣域鐵路周遊券周遊券（韓國))) \n",
      "new gen title    【日本PASSPASS關西廣域鐵路廣域周遊券（韓國)))\n",
      "\n",
      "target template   【台東包車半日遊】快速遊台東熱門景點\n",
      "origin gen title 【洛杉磯自由自由必備】GoLosCardCard景點景點景點景點卡通卡通 \n",
      "new gen title    【舊金山通行證景點必備洛杉磯頂尖LosFranciscoSan景點景點景點景點\n",
      "\n",
      "target template   米蘭：斯卡拉博物館與劇院旅遊\n",
      "origin gen title 【JRPASS】】】多天日日日日日遊 \n",
      "new gen title    【JRPASS】巴士】多日日日遊\n",
      "\n"
     ]
    }
   ],
   "source": [
    "no_bracket_latent = X[y==1][6:12]\n",
    "no_bracket_latent_out = temp_outputs[y==1][6:12]\n",
    "templates = title[y==1][6:12]\n",
    "\n",
    "output_titles = []\n",
    "for idx, (_latent, _latent_output) in enumerate(zip(no_bracket_latent, temp_outputs)):\n",
    "    _latent = torch.from_numpy(_latent).view(1, latent_dim * categorical_dim).cuda()\n",
    "    _latent_output = torch.from_numpy(_latent_output).unsqueeze(0).cuda()\n",
    "    _, output_title = model.decode(\n",
    "            _latent,\n",
    "            desc_latent[[idx]], user2_embeddings[[idx]], \n",
    "            desc_outputs[[idx]], _latent_output,\n",
    "            max_length=target.shape[1])\n",
    "    output_titles.append(output_title.cpu())\n",
    "\n",
    "output_titles = torch.cat(output_titles)\n",
    "for idx, sent in enumerate(output_titles):\n",
    "    sentence = []\n",
    "    for token in sent:\n",
    "        if token.item() == Constants.EOS:\n",
    "            break\n",
    "        sentence.append(valid_dataset.tokenizer.idx2word[token.item()])\n",
    "    print('target template   %s' % templates[idx])\n",
    "    print('origin gen title %s ' % original_sentences[idx])\n",
    "    print('new gen title    %s\\n' % ''.join(sentence[:50]).strip())\n",
    "#     print(\"{:<40} | {:>}\".format('user: '+ id2user[users2[idx].item()] , ''.join(sentence[:50]).strip(), ))"
   ]
  },
  {
   "cell_type": "code",
   "execution_count": 24,
   "metadata": {},
   "outputs": [
    {
     "name": "stdout",
     "output_type": "stream",
     "text": [
      "['【Disneyland】美國加州迪士尼樂園門票（電子一日券）' '【東京夜景】六本木之丘展望台門票（TokyoCityView）森美術館'\n",
      " '【熱門景點包車一日遊】石門水庫、鎮瀾宮、台中麗寶Outlet（台北出發、台中結束）' '【中文導覽】馬來西亞機場市區優質接送（含WiFi熱點）'\n",
      " '【龍尾灣生態體驗】搭竹筏＋抓螃蟹＋做蠟染（含馬來午餐）' '【仙本那紅樹林】探索長鼻猴與螢火蟲半日遊'\n",
      " '【東京賞櫻推薦】隅田川賞櫻遊船票（附賞花便當或點心）' '【名古屋出發一人成行】閃耀冬季！名花之里．冬季霓虹燈秀，還有午餐甜點吃到飽'\n",
      " '【胡志明市特色一日遊】古芝地道、胡志明市區觀光導覽' '組合：在</UNK>和觀光游到伊瓜蘇瀑布'\n",
      " '【澳門美獅美高梅酒店】</UNK>・JaniceWongMGM午餐套餐/下午茶套餐' '【北投人氣溫泉】北投麗禧溫泉雙人湯屋＋雙人下午茶'\n",
      " '【艾菲爾鐵塔快速入場】巴黎艾菲爾鐵塔快速入場與塞納河遊船' '【普吉唯一友善大象營】親密互動半日體驗'\n",
      " '【中國安徽文化歷史景點】呈</UNK>門票' '【新加坡郊野深度遊】烏敏島紅樹林獨木舟探險' '【騎單車遊曼谷】泰好吃！街頭美食饕客團'\n",
      " '蒙巴薩出發：查沃國家公園2日狩獵遊' '【超值沙巴跳島】沙比島和馬穆迪島一日遊' '【經典花蓮必遊】太魯閣奇景拼車一日遊（保證有位）'\n",
      " '【曼谷泰式按摩】BhawaSpa按摩體驗（獨家九折預約）' '【Discovery探索基地】'\n",
      " '【熱門景點包車一日遊】鶯歌老街、新豐紅樹林、彩虹眷村、秋紅谷（台北出發）' '【真愛宣言，致深愛電影的你】韓國</UNK>電影博物館'\n",
      " '【首爾人氣美食餐廳】</UNK>家黑豬肉專賣店' '自採超甜草莓・螃蟹吃到飽＆滑雪場玩雪東京出發)'\n",
      " '【法式浪漫極致】艾菲爾鐵塔晚宴、塞納河遊船' '【SPA</UNK>】大邱以利</UNK>入場券（上</UNK>）'\n",
      " '【騎單車遊曼谷】早安曼谷單車之旅' '【小團划算】桃園機場臺北市區接機服務（七人座）'\n",
      " '【日本傳統文化】搭屋形船觀賞長</UNK>魚・泡溫泉品嚐</UNK>料理大阪出發)' '【七島跳島日落遊】喀比必去浪漫之旅'\n",
      " '【巴黎夜未眠】夜間觀光巴士城市導覽、紅磨坊歌舞秀' '3天2夜親子遊' '【瘋狂飛瀑群】桃園小烏來。</UNK>溪溯溪'\n",
      " '【馬來西亞．動物探索之旅】大象保育中心與鹿島公園'\n",
      " '【2016</UNK>攝影】可可</UNK>．柴達木．</UNK>．越野9日行攝之旅（專業攝影師帶隊）'\n",
      " '【到海底看珊瑚礁】墾丁後壁湖半潛艇航程' '</UNK>海縱走生態行' '【越南版紫禁城】順化古城半日遊'\n",
      " '【聖淘沙名勝世界】新加坡水上探險樂園門票' '【高空夜景餐廳】曼谷BaiyokeSkyHotel79</UNK>自助晚餐'\n",
      " '【東京文化體驗】武士博物館・體驗正統武士道精神' '【360度全</UNK>視覺體驗】珠海長</UNK>琴島劇院'\n",
      " '墾丁好玩・刺激對戰－墾丁野戰漆彈體驗' '【慢步調感受古蹟之美】暹粒騎單車遊吳哥窟14公里)' '南加州必遊聖地亞哥海洋世界奇趣之旅'\n",
      " '【超值體驗】TOKYOSKYTREE東京晴空塔＋30樓浪漫法式午餐/晚餐' '【跟著專業導遊輕鬆</UNK>】360大嶼山海陸導賞團'\n",
      " '【飆速快感】韓國濟州島城邑樂園卡丁車體驗' '【專業嚮導玉山三日遊】玉山．相約東北亞最高峰'\n",
      " '【沖繩自駕租車】獨家限定優惠・7人座WB級・淡季' '【薄荷島遊船午餐】羅伯克河遊船午餐私人包車)'\n",
      " '【日本阿爾卑斯X童話北陸】立山黑部、白川鄉合掌村、兼六園、高山古街、松本城五天四夜多日遊'\n",
      " '【乘船遊小金門秘境】船遊戰地史蹟烈嶼7島（</UNK>碼頭出發）' '【奢華探險】愛寶樂園野生動物世界頂級SpecialTour'\n",
      " '【大城遊船一日遊】沿著昭披耶河欣賞世界遺產' '【綠島二日遊】機車環島、夜訪梅花鹿與螢火蟲、夜間觀星（台北出發）'\n",
      " '【苗栗包車一日遊】</UNK>子母隧道、</UNK>車站、蘇維拉莊園、落羽松莊園（台北出發）' '【東京自助必備】日光周遊券－東武鐵道']\n"
     ]
    }
   ],
   "source": [
    "print(title[y==0][:60])"
   ]
  },
  {
   "cell_type": "code",
   "execution_count": 25,
   "metadata": {},
   "outputs": [
    {
     "name": "stdout",
     "output_type": "stream",
     "text": [
      "['優先進入：柏林杜莎夫人蠟像館' '漢堡喜劇之旅' '倫敦和哈利·波特場景私人半日遊' '坎昆極限林冠溜索'\n",
      " '巴耶內瓦多和Cousiño馬庫爾：從聖地亞哥一日遊' '墾丁高雄零阻礙輕鬆包車接駁' '《沖繩景點通行票》精選熱門景點＋</UNK>水族館'\n",
      " '卡門浮潛和廢墟探險' \"阿姆斯特丹：A'DAM瞭望臺和OvertheEdge鞦韆票\" '小琉球好玩。珊瑚礁島嶼風光'\n",
      " '【台東包車半日遊】快速遊台東熱門景點' '米蘭：斯卡拉博物館與劇院旅遊'\n",
      " '女性限定一人行！一次遊走日本香川、岡山、德島三縣市美術館充滿藝術氣質二日遊！' '柏林景點和亮點：3.5小時自行車旅遊'\n",
      " '日月潭山光水色豐富一日遊' '波爾圖精選徒步遊' '黃石國家公園老忠實噴泉與野生動物一日遊'\n",
      " '紐倫堡舊城與全</UNK></UNK>會場徒步行' '攀登雪梨海港大橋' '巴哈吉普車遊覽聖地亞哥洛斯卡沃斯：驅動器或騎'\n",
      " '妓院、美食與豪飲:聖地亞哥瓦斯</UNK>徒步遊' '柏林歡迎卡：交通、優惠和旅遊指南書'\n",
      " '台北車站精緻旅舍：STARHostel3-4晚超值套餐（免費送台北單車導覽！）' '阿雷納爾湖：半天拉財神山地自行車騎'\n",
      " '在墨西哥城的墨西哥民俗芭蕾' '坎昆出發，奇琴伊察延長全日遊' '葡萄牧場：瓦豪河谷酒莊自行車之旅' '聖伊格納西奧與萬達地雷：從伊瓜蘇港旅遊'\n",
      " '華盛頓特區亮點Segway代步車旅遊' '豪華</UNK>馬斯美食之旅從麥德林'\n",
      " '巴士一日tour〖世界遺產〗今歸仁城＋美麗海水族館多語言語音導覽)' '大沼澤地印第安保護區白天狩獵遊' '芝加哥歡迎之旅：私有遊覽與本地'\n",
      " '普羅旺斯地區艾克斯：呂貝隆山區市集及</UNK>間旅遊' '麥德林ATV冒險' '從福塔萊薩：8小時一日遊摩洛布蘭科'\n",
      " '卡波聖盧卡斯豪華巡航冒險半日遊' '復古的菲亞特500汽車前往基安蒂村莊進行1日自駕遊' '晚餐遊船、埃菲爾鐵塔以及紅磨坊香檳'\n",
      " '濟州Aquaplanet水族館門票' '【水路一次玩盡】維也納全景遊船與城市觀光旅遊' '吉隆坡國際機場入境接駁'\n",
      " '埃斯科里亞爾修道院和山谷的教堂5小時導覽遊' '蒂茹卡森林旅遊與瀑布' '魁北克互動式街頭劇場：“新法蘭西的罪行＂'\n",
      " '冒險港主題公園和法拉利樂園的門票' '斯德哥爾摩群島全日航海遊' '戛納：半日和全日的普羅旺斯葡萄酒之旅' '專屬行程：蘭卡威雨林徒步探險'\n",
      " '波爾沃：5小時城鎮遊，赫爾辛基出發' '溫哥華到維多利亞的單程觀鯨遊船' '從拉斯維加斯：大峽谷飛行和長途汽車旅遊'\n",
      " '</UNK>含Ggantija神廟一日遊（馬爾他出發）' '來自里約熱內盧：AngradosReisTour'\n",
      " '拿</UNK>美食和景點的飲食文化之旅' '響尾蛇峽谷：從塞多納2.5小時的4x4巡迴賽' '台北出發。大溪嘎色鬧部落-開心農場'\n",
      " '法國裡維埃拉：半日普羅旺斯品嚐美食之旅' '阿姆斯特丹：城市運河遊船與梵高美術館門票' '祕魯</UNK>暨午餐或開放式酒吧']\n"
     ]
    }
   ],
   "source": [
    "print(title[y==1][:60])"
   ]
  },
  {
   "cell_type": "code",
   "execution_count": 117,
   "metadata": {},
   "outputs": [],
   "source": [
    "tmp_latent = X[y==1].mean(axis=0)"
   ]
  },
  {
   "cell_type": "code",
   "execution_count": 39,
   "metadata": {},
   "outputs": [],
   "source": [
    "control_latent = torch.stack([torch.from_numpy(tmp_latent)]*10)"
   ]
  },
  {
   "cell_type": "code",
   "execution_count": 29,
   "metadata": {},
   "outputs": [
    {
     "name": "stdout",
     "output_type": "stream",
     "text": [
      "['【Disneyland】美國加州迪士尼樂園門票（電子一日券）' '【東京夜景】六本木之丘展望台門票（TokyoCityView）森美術館'\n",
      " '【龍尾灣生態體驗】搭竹筏＋抓螃蟹＋做蠟染（含馬來午餐）' '【仙本那紅樹林】探索長鼻猴與螢火蟲半日遊'\n",
      " '【東京賞櫻推薦】隅田川賞櫻遊船票（附賞花便當或點心）' '【胡志明市特色一日遊】古芝地道、胡志明市區觀光導覽'\n",
      " '【澳門美獅美高梅酒店】</UNK>・JaniceWongMGM午餐套餐/下午茶套餐' '【普吉唯一友善大象營】親密互動半日體驗'\n",
      " '【日本傳統文化】搭屋形船觀賞長</UNK>魚・泡溫泉品嚐</UNK>料理大阪出發)' '【到海底看珊瑚礁】墾丁後壁湖半潛艇航程']\n"
     ]
    }
   ],
   "source": [
    "print(title[y==0][:10])"
   ]
  },
  {
   "cell_type": "code",
   "execution_count": 44,
   "metadata": {},
   "outputs": [
    {
     "name": "stdout",
     "output_type": "stream",
     "text": [
      "['【柬埔寨最受矚目劇團】法爾，柬埔寨馬戲團Phare,theCambodiaCircus' '雅典城市通票：免費入場和免費遊覽'\n",
      " '伊瓜蘇生物中心參觀' '在日落時分騎馬，體驗西部荒原的牛仔生活' '斯德哥爾摩隨上隨下觀光巴士與小船旅遊'\n",
      " '聖薩爾瓦多：5小時中轉城市與火山之旅' '曼哈頓島豪華直升機旅遊' '波士頓的歷史之路®徒步遊' '布魯塞爾：布魯日一日旅遊連4小時導覽徒步遊'\n",
      " '柏林：1小時馬車夜遊柏林']\n"
     ]
    }
   ],
   "source": [
    "print(title[y==2][:10])"
   ]
  },
  {
   "cell_type": "code",
   "execution_count": 31,
   "metadata": {},
   "outputs": [
    {
     "name": "stdout",
     "output_type": "stream",
     "text": [
      "['【熱門景點包車一日遊】石門水庫、鎮瀾宮、台中麗寶Outlet（台北出發、台中結束）' '【中文導覽】馬來西亞機場市區優質接送（含WiFi熱點）'\n",
      " '【名古屋出發一人成行】閃耀冬季！名花之里．冬季霓虹燈秀，還有午餐甜點吃到飽' '【超值沙巴跳島】沙比島和馬穆迪島一日遊'\n",
      " '【經典花蓮必遊】太魯閣奇景拼車一日遊（保證有位）' '【熱門景點包車一日遊】鶯歌老街、新豐紅樹林、彩虹眷村、秋紅谷（台北出發）'\n",
      " '自採超甜草莓・螃蟹吃到飽＆滑雪場玩雪東京出發)' '女性限定一人行！一次遊走日本香川、岡山、德島三縣市美術館充滿藝術氣質二日遊！'\n",
      " '【小團划算】桃園機場臺北市區接機服務（七人座）' '【乘船遊小金門秘境】船遊戰地史蹟烈嶼7島（</UNK>碼頭出發）']\n"
     ]
    }
   ],
   "source": [
    "print(title[y==3][:10])"
   ]
  },
  {
   "cell_type": "markdown",
   "metadata": {},
   "source": [
    "# Unrelated old code"
   ]
  },
  {
   "cell_type": "code",
   "execution_count": 61,
   "metadata": {},
   "outputs": [
    {
     "name": "stdout",
     "output_type": "stream",
     "text": [
      "save/temp_temp_rec_vae_gan_biset-2020-05-15-16-34-59/amp_checkpoint_80000.pt\n",
      "3486\n"
     ]
    }
   ],
   "source": [
    "assert os.path.exists(os.path.join(log_name, 'vmt.py')) == True\n",
    "print(os.path.join(log_name, checkpoint_name))\n",
    "assert os.path.exists(os.path.join(log_name, checkpoint_name)) == True\n",
    "\n",
    "copyfile(os.path.join(log_name, 'vmt.py'), 'module/temp_vmt.py')\n",
    "checkpoint = torch.load(os.path.join(log_name, checkpoint_name))\n",
    "\n",
    "from module.temp_vmt import VMT, TemplateD\n",
    "\n",
    "# checkpoint should contain model state dict,\n",
    "with open(os.path.join(log_name, 'params.json'), 'r') as f:\n",
    "    params = json.load(f)\n",
    "args = Struct(**params)\n",
    "dataset =  KKDayUser(-1, 'data/kkday_dataset/user_data', \n",
    "            'data/kkday_dataset/matrix_factorized_64.pkl',\n",
    "            prefix='item_graph', embedding=None, max_length=args.max_seq_len, force_fix_len=args.grad_penalty or args.full_text, \n",
    "            token_level=args.tokenize, is_train=True)\n",
    "dataloader = torch.utils.data.DataLoader(dataset, num_workers=4,\n",
    "                collate_fn=seq_collate, batch_size=64, shuffle=True)\n",
    "model = VMT(args.gen_embed_dim, dataset.vocab_size,\n",
    "            enc_hidden_size=128, dec_hidden_size=128, tmp_category=args.tmp_cat_dim,\n",
    "            tmp_latent_dim=args.tmp_latent_dim, desc_latent_dim=args.desc_latent_dim, user_latent_dim=args.user_latent_dim,\n",
    "            biset=args.biset,\n",
    "            max_seq_len=args.max_seq_len-1, gpu=True)\n",
    "\n",
    "C = VAE_Cluster(64, 64, k_bins=10, output_embed_dim=args.user_latent_dim)\n",
    "\n",
    "model.load_state_dict(checkpoint['model'])\n",
    "model = model.cuda().eval()\n",
    "C = C.cuda().eval()\n",
    "print(len(dataloader))"
   ]
  },
  {
   "cell_type": "code",
   "execution_count": 57,
   "metadata": {},
   "outputs": [
    {
     "name": "stderr",
     "output_type": "stream",
     "text": [
      "/home/theblackcat102/Documents/text-subgan/env/lib/python3.6/site-packages/ipykernel_launcher.py:4: TqdmDeprecationWarning: This function will be removed in tqdm==5.0.0\n",
      "Please use `tqdm.notebook.tqdm` instead of `tqdm.tqdm_notebook`\n",
      "  after removing the cwd from sys.path.\n"
     ]
    },
    {
     "data": {
      "application/vnd.jupyter.widget-view+json": {
       "model_id": "23182e73a93443ffa335ec57fcaa2376",
       "version_major": 2,
       "version_minor": 0
      },
      "text/plain": [
       "HBox(children=(FloatProgress(value=0.0, max=3486.0), HTML(value='')))"
      ]
     },
     "metadata": {},
     "output_type": "display_data"
    },
    {
     "ename": "KeyboardInterrupt",
     "evalue": "",
     "output_type": "error",
     "traceback": [
      "\u001b[0;31m---------------------------------------------------------------------------\u001b[0m",
      "\u001b[0;31mKeyboardInterrupt\u001b[0m                         Traceback (most recent call last)",
      "\u001b[0;32m<ipython-input-57-514a6838dc19>\u001b[0m in \u001b[0;36m<module>\u001b[0;34m\u001b[0m\n\u001b[1;32m     18\u001b[0m \u001b[0;31m#     logits, embed = self.C(items, users)\u001b[0m\u001b[0;34m\u001b[0m\u001b[0;34m\u001b[0m\u001b[0;34m\u001b[0m\u001b[0m\n\u001b[1;32m     19\u001b[0m     \u001b[0mdesc_outputs\u001b[0m\u001b[0;34m,\u001b[0m \u001b[0mdesc_latent\u001b[0m\u001b[0;34m,\u001b[0m \u001b[0m_\u001b[0m\u001b[0;34m,\u001b[0m \u001b[0m_\u001b[0m \u001b[0;34m=\u001b[0m \u001b[0mmodel\u001b[0m\u001b[0;34m.\u001b[0m\u001b[0mencode_desc\u001b[0m\u001b[0;34m(\u001b[0m\u001b[0msrc_inputs\u001b[0m\u001b[0;34m)\u001b[0m\u001b[0;34m\u001b[0m\u001b[0;34m\u001b[0m\u001b[0m\n\u001b[0;32m---> 20\u001b[0;31m     \u001b[0mtmp_outputs\u001b[0m\u001b[0;34m,\u001b[0m \u001b[0mtmp_latent\u001b[0m \u001b[0;34m=\u001b[0m \u001b[0mmodel\u001b[0m\u001b[0;34m.\u001b[0m\u001b[0mencode_tmp\u001b[0m\u001b[0;34m(\u001b[0m\u001b[0mtmp\u001b[0m\u001b[0;34m)\u001b[0m\u001b[0;34m\u001b[0m\u001b[0;34m\u001b[0m\u001b[0m\n\u001b[0m\u001b[1;32m     21\u001b[0m \u001b[0;31m#     _, output_title = self.model.decode(tmp_latent, desc_latent, embed,\u001b[0m\u001b[0;34m\u001b[0m\u001b[0;34m\u001b[0m\u001b[0;34m\u001b[0m\u001b[0m\n\u001b[1;32m     22\u001b[0m \u001b[0;31m#             desc_outputs, tmp_outputs,\u001b[0m\u001b[0;34m\u001b[0m\u001b[0;34m\u001b[0m\u001b[0;34m\u001b[0m\u001b[0m\n",
      "\u001b[0;32m~/Documents/text-subgan/module/temp_vmt.py\u001b[0m in \u001b[0;36mencode_tmp\u001b[0;34m(self, template, device)\u001b[0m\n\u001b[1;32m    153\u001b[0m         \u001b[0;32mif\u001b[0m \u001b[0mself\u001b[0m\u001b[0;34m.\u001b[0m\u001b[0mgpu\u001b[0m\u001b[0;34m:\u001b[0m\u001b[0;34m\u001b[0m\u001b[0;34m\u001b[0m\u001b[0m\n\u001b[1;32m    154\u001b[0m             \u001b[0mdevice\u001b[0m \u001b[0;34m=\u001b[0m \u001b[0;34m'cuda'\u001b[0m\u001b[0;34m\u001b[0m\u001b[0;34m\u001b[0m\u001b[0m\n\u001b[0;32m--> 155\u001b[0;31m         \u001b[0mencoder_output\u001b[0m\u001b[0;34m,\u001b[0m \u001b[0mlatent\u001b[0m \u001b[0;34m=\u001b[0m \u001b[0mself\u001b[0m\u001b[0;34m.\u001b[0m\u001b[0mtemplate_vae\u001b[0m\u001b[0;34m.\u001b[0m\u001b[0mencode\u001b[0m\u001b[0;34m(\u001b[0m\u001b[0mtemplate\u001b[0m\u001b[0;34m,\u001b[0m \u001b[0mdevice\u001b[0m\u001b[0;34m=\u001b[0m\u001b[0mdevice\u001b[0m\u001b[0;34m)\u001b[0m\u001b[0;34m\u001b[0m\u001b[0;34m\u001b[0m\u001b[0m\n\u001b[0m\u001b[1;32m    156\u001b[0m         \u001b[0;32mreturn\u001b[0m \u001b[0mencoder_output\u001b[0m\u001b[0;34m,\u001b[0m \u001b[0mlatent\u001b[0m\u001b[0;34m\u001b[0m\u001b[0;34m\u001b[0m\u001b[0m\n\u001b[1;32m    157\u001b[0m \u001b[0;34m\u001b[0m\u001b[0m\n",
      "\u001b[0;32m~/Documents/text-subgan/module/vae_gumbel.py\u001b[0m in \u001b[0;36mencode\u001b[0;34m(self, inputs, device)\u001b[0m\n\u001b[1;32m     75\u001b[0m     \u001b[0;32mdef\u001b[0m \u001b[0mencode\u001b[0m\u001b[0;34m(\u001b[0m\u001b[0mself\u001b[0m\u001b[0;34m,\u001b[0m \u001b[0minputs\u001b[0m\u001b[0;34m,\u001b[0m \u001b[0mdevice\u001b[0m\u001b[0;34m=\u001b[0m\u001b[0;34m'cuda'\u001b[0m\u001b[0;34m)\u001b[0m\u001b[0;34m:\u001b[0m\u001b[0;34m\u001b[0m\u001b[0;34m\u001b[0m\u001b[0m\n\u001b[1;32m     76\u001b[0m         \u001b[0minputs\u001b[0m \u001b[0;34m=\u001b[0m \u001b[0mself\u001b[0m\u001b[0;34m.\u001b[0m\u001b[0membedding\u001b[0m\u001b[0;34m(\u001b[0m\u001b[0minputs\u001b[0m\u001b[0;34m)\u001b[0m\u001b[0;34m\u001b[0m\u001b[0;34m\u001b[0m\u001b[0m\n\u001b[0;32m---> 77\u001b[0;31m         \u001b[0moutput\u001b[0m\u001b[0;34m,\u001b[0m \u001b[0mhidden\u001b[0m \u001b[0;34m=\u001b[0m \u001b[0mself\u001b[0m\u001b[0;34m.\u001b[0m\u001b[0mencoder\u001b[0m\u001b[0;34m(\u001b[0m\u001b[0minputs\u001b[0m\u001b[0;34m)\u001b[0m\u001b[0;34m\u001b[0m\u001b[0;34m\u001b[0m\u001b[0m\n\u001b[0m\u001b[1;32m     78\u001b[0m         \u001b[0;32mreturn\u001b[0m \u001b[0moutput\u001b[0m\u001b[0;34m,\u001b[0m \u001b[0mself\u001b[0m\u001b[0;34m.\u001b[0m\u001b[0mhidden2latent\u001b[0m\u001b[0;34m(\u001b[0m\u001b[0mhidden\u001b[0m\u001b[0;34m)\u001b[0m\u001b[0;34m\u001b[0m\u001b[0;34m\u001b[0m\u001b[0m\n\u001b[1;32m     79\u001b[0m \u001b[0;34m\u001b[0m\u001b[0m\n",
      "\u001b[0;32m~/Documents/text-subgan/env/lib/python3.6/site-packages/torch/nn/modules/module.py\u001b[0m in \u001b[0;36m__call__\u001b[0;34m(self, *input, **kwargs)\u001b[0m\n\u001b[1;32m    530\u001b[0m             \u001b[0mresult\u001b[0m \u001b[0;34m=\u001b[0m \u001b[0mself\u001b[0m\u001b[0;34m.\u001b[0m\u001b[0m_slow_forward\u001b[0m\u001b[0;34m(\u001b[0m\u001b[0;34m*\u001b[0m\u001b[0minput\u001b[0m\u001b[0;34m,\u001b[0m \u001b[0;34m**\u001b[0m\u001b[0mkwargs\u001b[0m\u001b[0;34m)\u001b[0m\u001b[0;34m\u001b[0m\u001b[0;34m\u001b[0m\u001b[0m\n\u001b[1;32m    531\u001b[0m         \u001b[0;32melse\u001b[0m\u001b[0;34m:\u001b[0m\u001b[0;34m\u001b[0m\u001b[0;34m\u001b[0m\u001b[0m\n\u001b[0;32m--> 532\u001b[0;31m             \u001b[0mresult\u001b[0m \u001b[0;34m=\u001b[0m \u001b[0mself\u001b[0m\u001b[0;34m.\u001b[0m\u001b[0mforward\u001b[0m\u001b[0;34m(\u001b[0m\u001b[0;34m*\u001b[0m\u001b[0minput\u001b[0m\u001b[0;34m,\u001b[0m \u001b[0;34m**\u001b[0m\u001b[0mkwargs\u001b[0m\u001b[0;34m)\u001b[0m\u001b[0;34m\u001b[0m\u001b[0;34m\u001b[0m\u001b[0m\n\u001b[0m\u001b[1;32m    533\u001b[0m         \u001b[0;32mfor\u001b[0m \u001b[0mhook\u001b[0m \u001b[0;32min\u001b[0m \u001b[0mself\u001b[0m\u001b[0;34m.\u001b[0m\u001b[0m_forward_hooks\u001b[0m\u001b[0;34m.\u001b[0m\u001b[0mvalues\u001b[0m\u001b[0;34m(\u001b[0m\u001b[0;34m)\u001b[0m\u001b[0;34m:\u001b[0m\u001b[0;34m\u001b[0m\u001b[0;34m\u001b[0m\u001b[0m\n\u001b[1;32m    534\u001b[0m             \u001b[0mhook_result\u001b[0m \u001b[0;34m=\u001b[0m \u001b[0mhook\u001b[0m\u001b[0;34m(\u001b[0m\u001b[0mself\u001b[0m\u001b[0;34m,\u001b[0m \u001b[0minput\u001b[0m\u001b[0;34m,\u001b[0m \u001b[0mresult\u001b[0m\u001b[0;34m)\u001b[0m\u001b[0;34m\u001b[0m\u001b[0;34m\u001b[0m\u001b[0m\n",
      "\u001b[0;32m~/Documents/text-subgan/module/seq2seq.py\u001b[0m in \u001b[0;36mforward\u001b[0;34m(self, inputs, hidden)\u001b[0m\n\u001b[1;32m     77\u001b[0m             \u001b[0moutputs\u001b[0m \u001b[0;34m=\u001b[0m \u001b[0moutputs\u001b[0m\u001b[0;34m.\u001b[0m\u001b[0mview\u001b[0m\u001b[0;34m(\u001b[0m\u001b[0;34m-\u001b[0m\u001b[0;36m1\u001b[0m\u001b[0;34m,\u001b[0m \u001b[0moutputs\u001b[0m\u001b[0;34m.\u001b[0m\u001b[0msize\u001b[0m\u001b[0;34m(\u001b[0m\u001b[0;36m1\u001b[0m\u001b[0;34m)\u001b[0m\u001b[0;34m,\u001b[0m \u001b[0;36m2\u001b[0m\u001b[0;34m,\u001b[0m \u001b[0mself\u001b[0m\u001b[0;34m.\u001b[0m\u001b[0mhidden_size\u001b[0m\u001b[0;34m)\u001b[0m\u001b[0;34m\u001b[0m\u001b[0;34m\u001b[0m\u001b[0m\n\u001b[1;32m     78\u001b[0m             \u001b[0mhidden\u001b[0m \u001b[0;34m=\u001b[0m \u001b[0moutputs\u001b[0m\u001b[0;34m[\u001b[0m\u001b[0;34m:\u001b[0m\u001b[0;34m,\u001b[0m \u001b[0;34m-\u001b[0m\u001b[0;36m1\u001b[0m\u001b[0;34m,\u001b[0m \u001b[0;36m0\u001b[0m\u001b[0;34m]\u001b[0m \u001b[0;34m+\u001b[0m \u001b[0moutputs\u001b[0m\u001b[0;34m[\u001b[0m\u001b[0;34m:\u001b[0m\u001b[0;34m,\u001b[0m \u001b[0;36m0\u001b[0m\u001b[0;34m,\u001b[0m \u001b[0;36m1\u001b[0m\u001b[0;34m]\u001b[0m\u001b[0;34m\u001b[0m\u001b[0;34m\u001b[0m\u001b[0m\n\u001b[0;32m---> 79\u001b[0;31m             \u001b[0moutputs\u001b[0m \u001b[0;34m=\u001b[0m \u001b[0moutputs\u001b[0m\u001b[0;34m[\u001b[0m\u001b[0;34m:\u001b[0m\u001b[0;34m,\u001b[0m \u001b[0;34m:\u001b[0m\u001b[0;34m,\u001b[0m \u001b[0;36m0\u001b[0m\u001b[0;34m]\u001b[0m \u001b[0;34m+\u001b[0m \u001b[0moutputs\u001b[0m\u001b[0;34m[\u001b[0m\u001b[0;34m:\u001b[0m\u001b[0;34m,\u001b[0m \u001b[0;34m:\u001b[0m\u001b[0;34m,\u001b[0m \u001b[0;36m1\u001b[0m\u001b[0;34m]\u001b[0m\u001b[0;34m\u001b[0m\u001b[0;34m\u001b[0m\u001b[0m\n\u001b[0m\u001b[1;32m     80\u001b[0m         \u001b[0;32melse\u001b[0m\u001b[0;34m:\u001b[0m\u001b[0;34m\u001b[0m\u001b[0;34m\u001b[0m\u001b[0m\n\u001b[1;32m     81\u001b[0m             \u001b[0mhidden\u001b[0m \u001b[0;34m=\u001b[0m \u001b[0moutputs\u001b[0m\u001b[0;34m[\u001b[0m\u001b[0;34m:\u001b[0m\u001b[0;34m,\u001b[0m \u001b[0;34m-\u001b[0m\u001b[0;36m1\u001b[0m\u001b[0;34m]\u001b[0m\u001b[0;34m\u001b[0m\u001b[0;34m\u001b[0m\u001b[0m\n",
      "\u001b[0;31mKeyboardInterrupt\u001b[0m: "
     ]
    }
   ],
   "source": [
    "template_reference = {}\n",
    "size = 15000\n",
    "\n",
    "for i, batch in tqdm(enumerate(dataloader), total=len(dataloader)):\n",
    "    src_inputs = batch['src']\n",
    "    tmp = batch['tmp']\n",
    "    items, users = batch['items'], batch['users']\n",
    "    inputs, target1 = batch['tgt'][:, :-1], batch['tgt'][:, 1:]\n",
    "    references = []\n",
    "    if True:\n",
    "        inputs, items, users = inputs.cuda(), items.cuda(), users.cuda()\n",
    "        src_inputs = src_inputs.cuda()\n",
    "        inputs = inputs.cuda()\n",
    "        target1 = target1.cuda()\n",
    "        tmp = tmp.cuda()\n",
    "\n",
    "    batch_size = src_inputs.shape[0]\n",
    "#     logits, embed = self.C(items, users)\n",
    "    desc_outputs, desc_latent, _, _ = model.encode_desc(src_inputs)\n",
    "    tmp_outputs, tmp_latent = model.encode_tmp(tmp)\n",
    "#     _, output_title = self.model.decode(tmp_latent, desc_latent, embed,\n",
    "#             desc_outputs, tmp_outputs,\n",
    "#             max_length=self.args.max_seq_len)\n",
    "\n",
    "    # output_title = torch.argmax(output_logits, dim=-1)\n",
    "    for idx, sent_token in enumerate(batch['tgt'][:, 1:]):\n",
    "        reference = []\n",
    "        for token in sent_token:\n",
    "            if token.item() == Constants.EOS:\n",
    "                break\n",
    "            reference.append(dataset.idx2word[token.item()] )\n",
    "        references.append(reference)\n",
    "    \n",
    "    for idx, sent in enumerate(references):\n",
    "        template_reference[' '.join(sent)] = {\n",
    "            'tmp': tmp_latent[idx].detach().cpu().numpy(),\n",
    "            'tmp_outputs': tmp_outputs[idx].detach().cpu(),\n",
    "            'desc_latent': desc_latent[idx].detach().cpu(),\n",
    "            'desc_outputs': desc_outputs[idx].detach().cpu(),\n",
    "        }\n"
   ]
  },
  {
   "cell_type": "code",
   "execution_count": 80,
   "metadata": {},
   "outputs": [],
   "source": [
    "from tokenizer import CharTokenizer, WordTokenizer\n",
    "tokenizers = WordTokenizer()\n",
    "\n",
    "def generate_text(description, template, user, item):\n",
    "    with torch.no_grad():\n",
    "        desc = torch.from_numpy(tokenizers.encode(description)).long().cuda()\n",
    "        tgt = torch.from_numpy(tokenizers.encode(template)).long().cuda()\n",
    "\n",
    "        user = torch.from_numpy(user).float().cuda().unsqueeze(0)\n",
    "        item = torch.from_numpy(item).float().cuda().unsqueeze(0)\n",
    "\n",
    "        tmp = tgt.unsqueeze(0)[:, :-1]\n",
    "        src_inputs = desc.unsqueeze(0)\n",
    "        logits, embed = C(item, user)\n",
    "        desc_outputs, desc_latent, _, _ = model.encode_desc(src_inputs)\n",
    "        tmp_outputs, tmp_latent = model.encode_tmp(tmp)\n",
    "        _, output_title = model.decode(tmp_latent, desc_latent, embed,\n",
    "                desc_outputs, tmp_outputs,\n",
    "                max_length=64)\n",
    "\n",
    "        sentence = []\n",
    "        for token in output_title[0]:\n",
    "            if token.item() == Constants.EOS:\n",
    "                break\n",
    "            sentence.append(  dataset.idx2word[token.item()])\n",
    "        return ' '.join(sentence)"
   ]
  },
  {
   "cell_type": "code",
   "execution_count": 81,
   "metadata": {},
   "outputs": [
    {
     "ename": "AssertionError",
     "evalue": "",
     "output_type": "error",
     "traceback": [
      "\u001b[0;31m---------------------------------------------------------------------------\u001b[0m",
      "\u001b[0;31mAssertionError\u001b[0m                            Traceback (most recent call last)",
      "\u001b[0;32m<ipython-input-81-1b9c496a491f>\u001b[0m in \u001b[0;36m<module>\u001b[0;34m\u001b[0m\n\u001b[1;32m      4\u001b[0m \u001b[0mK_BINS\u001b[0m \u001b[0;34m=\u001b[0m \u001b[0;36m20\u001b[0m\u001b[0;34m\u001b[0m\u001b[0;34m\u001b[0m\u001b[0m\n\u001b[1;32m      5\u001b[0m \u001b[0mcheckpoint_name\u001b[0m \u001b[0;34m=\u001b[0m \u001b[0;34m'amp_checkpoint_{}.pt'\u001b[0m\u001b[0;34m.\u001b[0m\u001b[0mformat\u001b[0m\u001b[0;34m(\u001b[0m\u001b[0miteration\u001b[0m\u001b[0;34m)\u001b[0m\u001b[0;34m\u001b[0m\u001b[0;34m\u001b[0m\u001b[0m\n\u001b[0;32m----> 6\u001b[0;31m \u001b[0;32massert\u001b[0m \u001b[0mos\u001b[0m\u001b[0;34m.\u001b[0m\u001b[0mpath\u001b[0m\u001b[0;34m.\u001b[0m\u001b[0mexists\u001b[0m\u001b[0;34m(\u001b[0m\u001b[0mos\u001b[0m\u001b[0;34m.\u001b[0m\u001b[0mpath\u001b[0m\u001b[0;34m.\u001b[0m\u001b[0mjoin\u001b[0m\u001b[0;34m(\u001b[0m\u001b[0mlog_name\u001b[0m\u001b[0;34m,\u001b[0m \u001b[0;34m'vmt.py'\u001b[0m\u001b[0;34m)\u001b[0m\u001b[0;34m)\u001b[0m \u001b[0;34m==\u001b[0m \u001b[0;32mTrue\u001b[0m\u001b[0;34m\u001b[0m\u001b[0;34m\u001b[0m\u001b[0m\n\u001b[0m\u001b[1;32m      7\u001b[0m \u001b[0mprint\u001b[0m\u001b[0;34m(\u001b[0m\u001b[0mos\u001b[0m\u001b[0;34m.\u001b[0m\u001b[0mpath\u001b[0m\u001b[0;34m.\u001b[0m\u001b[0mjoin\u001b[0m\u001b[0;34m(\u001b[0m\u001b[0mlog_name\u001b[0m\u001b[0;34m,\u001b[0m \u001b[0mcheckpoint_name\u001b[0m\u001b[0;34m)\u001b[0m\u001b[0;34m)\u001b[0m\u001b[0;34m\u001b[0m\u001b[0;34m\u001b[0m\u001b[0m\n\u001b[1;32m      8\u001b[0m \u001b[0;32massert\u001b[0m \u001b[0mos\u001b[0m\u001b[0;34m.\u001b[0m\u001b[0mpath\u001b[0m\u001b[0;34m.\u001b[0m\u001b[0mexists\u001b[0m\u001b[0;34m(\u001b[0m\u001b[0mos\u001b[0m\u001b[0;34m.\u001b[0m\u001b[0mpath\u001b[0m\u001b[0;34m.\u001b[0m\u001b[0mjoin\u001b[0m\u001b[0;34m(\u001b[0m\u001b[0mlog_name\u001b[0m\u001b[0;34m,\u001b[0m \u001b[0mcheckpoint_name\u001b[0m\u001b[0;34m)\u001b[0m\u001b[0;34m)\u001b[0m \u001b[0;34m==\u001b[0m \u001b[0;32mTrue\u001b[0m\u001b[0;34m\u001b[0m\u001b[0;34m\u001b[0m\u001b[0m\n",
      "\u001b[0;31mAssertionError\u001b[0m: "
     ]
    }
   ],
   "source": [
    "log_name = 'save/temp_rec_vae_gan_temp_rand_sample-2020-05-17-12-46-38/'\n",
    "# log_name = 'save/temp_rec_vae_gan_biset_temp_rand_sample-2020-05-15-03-24-22/'\n",
    "iteration = 100000\n",
    "K_BINS = 20\n",
    "checkpoint_name = 'amp_checkpoint_{}.pt'.format(iteration)\n",
    "assert os.path.exists(os.path.join(log_name, 'vmt.py')) == True\n",
    "print(os.path.join(log_name, checkpoint_name))\n",
    "assert os.path.exists(os.path.join(log_name, checkpoint_name)) == True\n",
    "\n",
    "copyfile(os.path.join(log_name, 'vmt.py'), 'module/temp_vmt.py')\n"
   ]
  },
  {
   "cell_type": "code",
   "execution_count": null,
   "metadata": {},
   "outputs": [],
   "source": [
    "from module.temp_vmt import VMT, TemplateD\n",
    "checkpoint = torch.load(os.path.join(log_name, checkpoint_name))\n",
    "# checkpoint should contain model state dict,\n",
    "with open(os.path.join(log_name, 'params.json'), 'r') as f:\n",
    "    params = json.load(f)\n",
    "\n",
    "args = Struct(**params)\n",
    "\n",
    "dataset =  KKDayUser(-1, 'data/kkday_dataset/user_data', \n",
    "            'data/kkday_dataset/matrix_factorized_64.pkl',\n",
    "            prefix='item_graph', embedding=None, max_length=args.max_seq_len, force_fix_len=args.grad_penalty or args.full_text, \n",
    "            token_level=args.tokenize, is_train=True)\n",
    "dataloader = torch.utils.data.DataLoader(dataset, num_workers=4,\n",
    "                collate_fn=seq_collate, batch_size=64, shuffle=True)\n",
    "\n",
    "model = VMT(args.gen_embed_dim, dataset.vocab_size,\n",
    "            enc_hidden_size=128, dec_hidden_size=128, tmp_category=args.tmp_cat_dim,\n",
    "            tmp_latent_dim=args.tmp_latent_dim, desc_latent_dim=args.desc_latent_dim, user_latent_dim=args.user_latent_dim,\n",
    "            biset=args.biset,\n",
    "            max_seq_len=args.max_seq_len-1, gpu=True)\n",
    "\n",
    "C = VAE_Cluster(64, 64, k_bins=10, output_embed_dim=args.user_latent_dim)\n",
    "\n",
    "model.load_state_dict(checkpoint['model'])\n",
    "model = model.cuda().eval()\n",
    "C = C.cuda().eval()"
   ]
  },
  {
   "cell_type": "code",
   "execution_count": null,
   "metadata": {},
   "outputs": [],
   "source": [
    "template_reference = {}\n",
    "size = 15000\n",
    "\n",
    "for i, batch in tqdm(enumerate(dataloader), total=len(dataloader)):\n",
    "    src_inputs = batch['src']\n",
    "    tmp = batch['tmp']\n",
    "    items, users = batch['items'], batch['users']\n",
    "    inputs, target1 = batch['tgt'][:, :-1], batch['tgt'][:, 1:]\n",
    "    references = []\n",
    "    if True:\n",
    "        inputs, items, users = inputs.cuda(), items.cuda(), users.cuda()\n",
    "        src_inputs = src_inputs.cuda()\n",
    "        inputs = inputs.cuda()\n",
    "        target1 = target1.cuda()\n",
    "        tmp = tmp.cuda()\n",
    "\n",
    "    batch_size = src_inputs.shape[0]\n",
    "    desc_outputs, desc_latent, _, _ = model.encode_desc(src_inputs)\n",
    "    _, tmp_latent = model.encode_tmp(tmp)\n",
    "    # output_title = torch.argmax(output_logits, dim=-1)\n",
    "    for idx, sent_token in enumerate(batch['tgt'][:, 1:]):\n",
    "        reference = []\n",
    "        for token in sent_token:\n",
    "            if token.item() == Constants.EOS:\n",
    "                break\n",
    "            reference.append(dataset.idx2word[token.item()] )\n",
    "        references.append(reference)\n",
    "\n",
    "    for idx, sent in enumerate(references):\n",
    "        template_reference[' '.join(sent)] = {\n",
    "            'tmp': tmp_latent[idx].detach().cpu().numpy(),\n",
    "#             'tmp_outputs': tmp_outputs[idx],\n",
    "            'desc_latent': desc_latent[idx].detach().cpu(),\n",
    "            'desc_outputs': desc_outputs[idx].detach().cpu(),\n",
    "        }\n"
   ]
  },
  {
   "cell_type": "code",
   "execution_count": null,
   "metadata": {},
   "outputs": [],
   "source": [
    "X, title = [], []\n",
    "print(len(template_reference))\n",
    "for key, latent in template_reference.items():\n",
    "    X.append(latent['tmp'])\n",
    "    title.append(key)\n",
    "title = np.array(title)\n",
    "\n",
    "pca = PCA(n_components=2)\n",
    "X_r = pca.fit(X).transform(X)\n",
    "\n",
    "nbrs = SpectralClustering(n_clusters=6).fit(X_r)\n",
    "\n",
    "y = nbrs.labels_\n",
    "print(set(y))"
   ]
  },
  {
   "cell_type": "code",
   "execution_count": null,
   "metadata": {},
   "outputs": [],
   "source": [
    "plt.figure()\n",
    "target_names = [0,1,2,3,4, 5]\n",
    "\n",
    "colors = ['navy', 'turquoise', 'darkorange','red','black', 'green']\n",
    "lw = 2\n",
    "\n",
    "for color, i, target_name in zip(colors, list(range(len(target_names))), target_names):\n",
    "    plt.scatter(X_r[y == i, 0], X_r[y == i, 1], color=color, alpha=.8, lw=lw,\n",
    "                label=target_name)"
   ]
  },
  {
   "cell_type": "code",
   "execution_count": null,
   "metadata": {},
   "outputs": [],
   "source": [
    "for target_name in target_names:\n",
    "    print(target_name, len(title[y==target_name]))\n",
    "    print('\\n'.join(title[y==target_name][:10]))\n",
    "    print('')"
   ]
  }
 ],
 "metadata": {
  "kernelspec": {
   "display_name": "Python 3",
   "language": "python",
   "name": "python3"
  },
  "language_info": {
   "codemirror_mode": {
    "name": "ipython",
    "version": 3
   },
   "file_extension": ".py",
   "mimetype": "text/x-python",
   "name": "python",
   "nbconvert_exporter": "python",
   "pygments_lexer": "ipython3",
   "version": "3.6.9"
  }
 },
 "nbformat": 4,
 "nbformat_minor": 4
}
