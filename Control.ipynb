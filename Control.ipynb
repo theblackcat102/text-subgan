{
 "cells": [
  {
   "cell_type": "code",
   "execution_count": 1,
   "metadata": {},
   "outputs": [],
   "source": [
    "%load_ext autoreload\n",
    "%autoreload 2"
   ]
  },
  {
   "cell_type": "code",
   "execution_count": 2,
   "metadata": {},
   "outputs": [],
   "source": [
    "import torch\n",
    "import torch.nn as nn\n",
    "import torch.nn.functional as F\n",
    "import torch.optim as optim\n",
    "from tqdm import tqdm_notebook as tqdm\n",
    "import os, glob, json\n",
    "import config as cfg\n",
    "from IPython.display import display\n",
    "from ipywidgets import widgets, Layout\n",
    "from module.cluster import VAE_Cluster\n",
    "from module.vmt import VMT, TemplateD\n",
    "from module.vae import GaussianKLLoss\n",
    "from dataset import KKDayUser, seq_collate\n",
    "from constant import Constants\n",
    "from utils import get_fixed_temperature, get_losses\n",
    "from sklearn.cluster import KMeans\n",
    "import numpy as np\n",
    "from tensorboardX import SummaryWriter\n",
    "from utils import gradient_penalty, str2bool, chunks\n",
    "from sklearn.manifold import SpectralEmbedding\n",
    "from nltk.translate.bleu_score import sentence_bleu\n",
    "from nltk.translate.bleu_score import SmoothingFunction\n",
    "from shutil import copyfile\n",
    "import pickle\n",
    "import seaborn as sns\n",
    "from collections import namedtuple"
   ]
  },
  {
   "cell_type": "code",
   "execution_count": 3,
   "metadata": {},
   "outputs": [],
   "source": [
    "from sklearn.cluster import SpectralClustering\n",
    "from sklearn.decomposition import PCA\n",
    "from sklearn.discriminant_analysis import LinearDiscriminantAnalysis"
   ]
  },
  {
   "cell_type": "code",
   "execution_count": 4,
   "metadata": {},
   "outputs": [],
   "source": [
    "import matplotlib\n",
    "import numpy as np\n",
    "import matplotlib.pyplot as plt\n",
    "%matplotlib inline\n"
   ]
  },
  {
   "cell_type": "code",
   "execution_count": 5,
   "metadata": {},
   "outputs": [],
   "source": [
    "class Struct:\n",
    "    def __init__(self, **entries):\n",
    "        self.__dict__.update(entries)"
   ]
  },
  {
   "cell_type": "code",
   "execution_count": 8,
   "metadata": {},
   "outputs": [
    {
     "name": "stdout",
     "output_type": "stream",
     "text": [
      "dataset/valid.pt\n",
      "1761\n"
     ]
    }
   ],
   "source": [
    "from dataset import TemPest, tempest_collate\n",
    "valid_dataset = TemPest(args.cache_path, 'valid')\n",
    "print(len(valid_dataset))\n",
    "\n",
    "eval_dataloader = torch.utils.data.DataLoader(valid_dataset, num_workers=8,\n",
    "                        collate_fn=tempest_collate, batch_size=48, shuffle=True, drop_last=True)"
   ]
  },
  {
   "cell_type": "markdown",
   "metadata": {},
   "source": [
    "### Lets Visualize template first"
   ]
  },
  {
   "cell_type": "code",
   "execution_count": 76,
   "metadata": {},
   "outputs": [],
   "source": [
    "# log_name = 'save/tempest_rec-2020-07-19-15-51-26'\n",
    "# log_name = 'save/tempest_biset-2020-07-19-19-39-42'\n",
    "log_name = 'save/tempest_biset-2020-07-22-00-22-02'\n",
    "log_name = 'save/tempest_cbiset-2020-07-22-15-23-33'\n",
    "checkpoint = 'checkpoint_99000.pt'\n",
    "h_dim = 500\n",
    "from module.vmt import VMT\n",
    "with open(os.path.join(log_name, 'params.json'), 'r') as f:\n",
    "    params = json.load(f)\n",
    "args = Struct(**params)\n",
    "id_mapping = torch.load(os.path.join(args.cache_path, 'id_mapping.pt'))\n",
    "user_size = len(id_mapping['user2id'])\n",
    "user_size = user_size\n",
    "prod_size = len(id_mapping['prod2id'])\n",
    "id2user = { value: key for key, value in id_mapping['user2id'].items() }\n",
    "\n",
    "model = VMT(args.gen_embed_dim, args.vocab_size,\n",
    "            enc_hidden_size=h_dim, dec_hidden_size=h_dim, tmp_category=args.tmp_cat_dim,\n",
    "            tmp_latent_dim=args.tmp_latent_dim, desc_latent_dim=args.desc_latent_dim, user_latent_dim=args.user_latent_dim,\n",
    "            biset=args.biset, user_embedding=True, user_size=user_size,\n",
    "            max_seq_len=args.max_seq_len-1, gpu=True).cuda()\n",
    "model.load_state_dict(torch.load(os.path.join(log_name,checkpoint))['model'])\n",
    "model = model.eval()"
   ]
  },
  {
   "cell_type": "markdown",
   "metadata": {},
   "source": [
    "Generate examples"
   ]
  },
  {
   "cell_type": "code",
   "execution_count": 77,
   "metadata": {},
   "outputs": [
    {
     "name": "stderr",
     "output_type": "stream",
     "text": [
      "/home/theblackcat102/Documents/text-subgan/env/lib/python3.6/site-packages/ipykernel_launcher.py:7: TqdmDeprecationWarning: This function will be removed in tqdm==5.0.0\n",
      "Please use `tqdm.notebook.tqdm` instead of `tqdm.tqdm_notebook`\n",
      "  import sys\n"
     ]
    },
    {
     "data": {
      "application/vnd.jupyter.widget-view+json": {
       "model_id": "f4f1e7e054334461a4d126b4087fcbf7",
       "version_major": 2,
       "version_minor": 0
      },
      "text/plain": [
       "HBox(children=(FloatProgress(value=0.0, max=36.0), HTML(value='')))"
      ]
     },
     "metadata": {},
     "output_type": "display_data"
    },
    {
     "name": "stdout",
     "output_type": "stream",
     "text": [
      "\n"
     ]
    }
   ],
   "source": [
    "sentences, references = [], []\n",
    "articles = []\n",
    "user_id = []\n",
    "temp_inputs = []\n",
    "temp_latent = []; temp_outputs= []\n",
    "with torch.no_grad():\n",
    "    for batch in tqdm(eval_dataloader):\n",
    "        src_inputs = batch['src']\n",
    "        tmp = batch['tmt']\n",
    "        inputs, target = batch['tgt'][:, :-1], batch['tgt'][:, 1:]\n",
    "        users = batch['users']\n",
    "        empty_users = users == -1\n",
    "        batch_size = len(empty_users)\n",
    "        users_filled = users.detach()\n",
    "        users_filled[empty_users] = torch.randint(0, user_size, ( int(empty_users.sum()),  ))\n",
    "\n",
    "        if cfg.CUDA:\n",
    "            src_inputs = src_inputs.cuda()\n",
    "            target = target.cuda()\n",
    "            tmp = tmp.cuda()\n",
    "            inputs = inputs.cuda()\n",
    "            users_filled = users_filled.cuda()\n",
    "\n",
    "        desc_outputs, desc_latent, desc_mean, desc_std = model.encode_desc(src_inputs)\n",
    "        tmp_outputs, tmp_latent = model.encode_tmp(tmp)\n",
    "        for latent_ in tmp_latent:\n",
    "            temp_latent.append(latent_.cpu().numpy().flatten())\n",
    "        for latent_ in tmp_outputs:\n",
    "            temp_outputs.append(latent_.cpu().numpy())\n",
    "        user_embeddings = model.user_embedding( users_filled )\n",
    "        _, output_title = model.decode(tmp_latent, desc_latent, user_embeddings, \n",
    "                desc_outputs, tmp_outputs,\n",
    "                max_length=target.shape[1])\n",
    "\n",
    "        for idx, sent_token in enumerate(batch['tgt'][:, 1:]):\n",
    "            reference = []\n",
    "            for token in sent_token:\n",
    "                if token.item() == Constants.EOS:\n",
    "                    break\n",
    "                reference.append(valid_dataset.tokenizer.idx2word[token.item()] )\n",
    "            references.append(''.join(reference))\n",
    "\n",
    "            sent = output_title[idx]\n",
    "            sentence = []\n",
    "            for token in sent:\n",
    "                if token.item() == Constants.EOS:\n",
    "                    break\n",
    "                sentence.append(valid_dataset.tokenizer.idx2word[token.item()])\n",
    "            sentences.append(''.join(sentence))\n",
    "\n",
    "            sent = tmp[idx][1:]\n",
    "            sentence = []\n",
    "            for token in sent:\n",
    "                if token.item() == Constants.EOS:\n",
    "                    break\n",
    "                sentence.append(valid_dataset.tokenizer.idx2word[token.item()])\n",
    "            temp_inputs.append(''.join(sentence).replace('舊', '##'))\n",
    "\n",
    "            \n",
    "            article = []\n",
    "            for token in src_inputs[idx][1:]:\n",
    "                if token.item() == Constants.EOS:\n",
    "                    break\n",
    "                article.append(valid_dataset.tokenizer.idx2word[token.item()])\n",
    "            articles.append(''.join(article))\n",
    "            user_id.append(id2user[users_filled[idx].item()])"
   ]
  },
  {
   "cell_type": "code",
   "execution_count": 78,
   "metadata": {},
   "outputs": [
    {
     "name": "stdout",
     "output_type": "stream",
     "text": [
      "{'generate': '【深入歷史網站】布拉格古蹟真善美歷史徒步美', 'original': '【悠悠山水行】尋找茶</UNK>的歷史軌跡。私人一日遊', 'input_user': '023e0d76-aadd-4079-a4ba-9696b555a151', 'article': '爬上</UNK>層階梯到Phnom</UNK>寺廟一覽無邊無盡的自然風光、探訪11世紀古老寺廟的宗教軌跡、遊船欣賞樸實村莊景色。開始時間：8：00am出發地點：從您位於金邊的旅館行程長度：約10小時回程資訊：回到您位於金邊的旅館行程特色＃業者為當地知名的GreenEraTravel，在TripAdvisor上評價五顆星，品質最優良！＃遊橡皮船探訪美麗村莊＃前往位於</UNK>層階梯上的Phnom</UNK>寺廟行程介紹距離一個半小時的車程，位於金邊南方的Phnom</UNK>寺廟，建立於11世紀，以紅土及磚瓦製成，在這裡保', 'template': '【回歸##】Kirirom國家##一日遊'}\n"
     ]
    }
   ],
   "source": [
    "import json\n",
    "with open(log_name.replace('/','_')+checkpoint+'.jsonl', 'w') as f:\n",
    "    for idx in range(len(user_id)):\n",
    "        results = {\n",
    "            'generate': sentences[idx],\n",
    "            'original': references[idx],\n",
    "            'input_user': user_id[idx],\n",
    "            'article': articles[idx],\n",
    "            'template': temp_inputs[idx]\n",
    "        }\n",
    "        f.write(json.dumps(results)+'\\n')\n",
    "print(results)"
   ]
  },
  {
   "cell_type": "code",
   "execution_count": 79,
   "metadata": {},
   "outputs": [
    {
     "name": "stdout",
     "output_type": "stream",
     "text": [
      "1728\n"
     ]
    }
   ],
   "source": [
    "X, title = [], []\n",
    "print(len(temp_latent))\n",
    "for idx, latent in enumerate(temp_latent):\n",
    "    X.append(latent)\n",
    "    title.append(references[idx])\n",
    "temp_outputs = np.array(temp_outputs)\n",
    "title = np.array(title)\n",
    "articles = np.array(articles)\n",
    "X = np.array(X)"
   ]
  },
  {
   "cell_type": "markdown",
   "metadata": {},
   "source": [
    "### Visualize categorical distribution of the first template latent"
   ]
  },
  {
   "cell_type": "code",
   "execution_count": 80,
   "metadata": {},
   "outputs": [
    {
     "data": {
      "image/png": "[encoded data removed]",
      "text/plain": [
       "<Figure size 1440x216 with 1 Axes>"
      ]
     },
     "metadata": {
      "needs_background": "light"
     },
     "output_type": "display_data"
    }
   ],
   "source": [
    "plt.rcParams[\"figure.figsize\"] = (20,3)\n",
    "\n",
    "data = {'y': [], 'bins': [], 'type': []}\n",
    "for idx, latent in enumerate(X[0].reshape(args.tmp_latent_dim, args.tmp_cat_dim)):\n",
    "    data['y'] += list(range(len(latent)))\n",
    "    data['bins'] += list(latent)\n",
    "    data['type'] += list([idx]*len(latent))\n",
    "g = sns.barplot(x='y', y='bins', data=data, hue='type')\n",
    "g.legend_.remove()"
   ]
  },
  {
   "cell_type": "markdown",
   "metadata": {},
   "source": [
    "## Sample some latent as reference"
   ]
  },
  {
   "cell_type": "code",
   "execution_count": 81,
   "metadata": {},
   "outputs": [
    {
     "name": "stdout",
     "output_type": "stream",
     "text": [
      "found\n"
     ]
    }
   ],
   "source": [
    "with torch.no_grad():\n",
    "    for idx, batch in enumerate(eval_dataloader):\n",
    "        src_inputs = batch['src']\n",
    "        tmp = batch['tmt']\n",
    "        inputs, target = batch['tgt'][:, :-1], batch['tgt'][:, 1:]\n",
    "        users = batch['users']\n",
    "        non_empty_users = users != -1\n",
    "        if cfg.CUDA:\n",
    "            src_inputs = src_inputs[non_empty_users].cuda()\n",
    "            target = target[non_empty_users].cuda()\n",
    "            tmp = tmp[non_empty_users].cuda()\n",
    "            inputs = inputs[non_empty_users].cuda()\n",
    "            users = users[non_empty_users].cuda()\n",
    "\n",
    "        if non_empty_users.sum() > 0 and idx > 1:\n",
    "            print('found')\n",
    "            break"
   ]
  },
  {
   "cell_type": "code",
   "execution_count": 82,
   "metadata": {},
   "outputs": [
    {
     "name": "stdout",
     "output_type": "stream",
     "text": [
      "user: 60076a68-4ce7-4b24-8514-affdccb2ea90 | 【東京博物館】超值優惠門票\n",
      "user: 15b9e7d3-f724-4aee-9199-81f11cc87f8a | 【雪梨機場接送】雪梨機場（SYD）－雪梨市區飯店共乘接送服務\n",
      "user: 6bf910ce-75d9-4a11-b9d1-4864f39e13f5 | 【京都奈良一日遊】伏見稻荷神社・三十三見神社、二条城・（伏見稻荷））\n",
      "user: f940d5c9-2613-4b58-9f75-e2738867003e | 生物：水族館全水族館全通行證\n",
      "user: 75c9944b-0bef-4221-b347-218e5a8d2478 | 【沙巴最大型布城】璀璨和紅樹林尋訪兩日遊\n",
      "user: dcdbe23b-8248-4ecd-9bc5-c76daece85cb | 【新加坡必去景點】新加坡環球影城門票＋含或購物券/單程接駁免費送\n",
      "user: 34128445-9252-408b-a9d3-7da8f36744da | 【澳門熱門體驗】水療SPASPASpa按摩體驗\n",
      "user: bd89ab13-64d9-4ff6-93ba-db9b1cff7865 | 【全球最大夢幻王國】美國奧蘭多迪士尼王國4天家庭天單門票門票\n",
      "user: 429b42a8-41d0-40ef-8fab-647193f8b5e9 | 【墾丁最長的最！】墾丁賽車場賽車的後裔限量體驗\n",
      "user: 2c08650d-94f9-487f-8e01-116c1fa92dda | 【BTS市區觀光】芝加哥市區觀光巴士\n",
      "user: 8b348f5e-0e33-4a30-a5c0-202968cd0795 | 【飽覽紅新天地】阿姆斯特丹市區＋快速\n",
      "user: 89074ff6-6731-48ce-8f15-8609efe8dd88 | 【墨爾本邊界】亞拉庫蘭達尼加拉瀑布公園，西、遊、出海一日遊\n",
      "user: 057c7d53-38c4-4bad-a881-0ed6e39771aa | 【普吉島飛索體驗】HanumanWorld頂級叢林飛索\n",
      "user: 38a60dab-98d1-4aba-850c-43a0efddd5b0 | 【最高CP值】拉斯維加斯租車自駕遊（可於洛杉磯/舊金山還車）\n",
      "user: 4b86d871-2cd9-4400-bec9-3a4051db2c39 | 【丹馬爾地夫最美跳島】一日一日遊（、午餐、深潛體驗）\n",
      "user: 14f6d1f6-0e4c-46e6-8666-571fd4aa624a | 【韓國順天一日遊】麗水、、、鐵道梯田村、一島村、村、村（釜山、團團\n"
     ]
    }
   ],
   "source": [
    "desc_outputs, desc_latent, desc_mean, desc_std = model.encode_desc(src_inputs)\n",
    "tmp_outputs, tmp_latent = model.encode_tmp(tmp)\n",
    "user_embeddings = model.user_embedding( users )\n",
    "_, output_title = model.decode(tmp_latent, desc_latent, user_embeddings, \n",
    "        desc_outputs, tmp_outputs,\n",
    "        max_length=target.shape[1])\n",
    "\n",
    "original_sentences = []\n",
    "original_pairs = []\n",
    "\n",
    "for idx, sent in enumerate(output_title.cpu()):\n",
    "    sentence = []\n",
    "    \n",
    "    for token in sent:\n",
    "        if token.item() == Constants.EOS:\n",
    "            break\n",
    "        sentence.append(valid_dataset.tokenizer.idx2word[token.item()])\n",
    "\n",
    "    reference_title = []\n",
    "    for token in tmp[idx]:\n",
    "        if token.item() == Constants.EOS:\n",
    "            break\n",
    "        reference_title.append(valid_dataset.tokenizer.idx2word[token.item()])    \n",
    "\n",
    "    print(\"{:<40} | {:>}\".format('user: '+ id2user[users[idx].item()], ''.join(sentence[:50]).strip(),  ))\n",
    "    original_pairs.append({'input_user': id2user[users[idx].item()],'generate': ''.join(sentence[:50]).strip()  })\n",
    "    original_sentences.append(''.join(reference_title[:50]).strip())"
   ]
  },
  {
   "cell_type": "markdown",
   "metadata": {},
   "source": [
    "## Sample other latent as target"
   ]
  },
  {
   "cell_type": "code",
   "execution_count": 83,
   "metadata": {},
   "outputs": [
    {
     "name": "stderr",
     "output_type": "stream",
     "text": [
      "/home/theblackcat102/Documents/text-subgan/env/lib/python3.6/site-packages/ipykernel_launcher.py:3: TqdmDeprecationWarning: This function will be removed in tqdm==5.0.0\n",
      "Please use `tqdm.notebook.tqdm` instead of `tqdm.tqdm_notebook`\n",
      "  This is separate from the ipykernel package so we can avoid doing imports until\n"
     ]
    },
    {
     "data": {
      "application/vnd.jupyter.widget-view+json": {
       "model_id": "e8240e54b63c4700b8ffd7794c0036f1",
       "version_major": 2,
       "version_minor": 0
      },
      "text/plain": [
       "HBox(children=(FloatProgress(value=0.0, max=36.0), HTML(value='')))"
      ]
     },
     "metadata": {},
     "output_type": "display_data"
    },
    {
     "name": "stdout",
     "output_type": "stream",
     "text": [
      "found\n"
     ]
    }
   ],
   "source": [
    "cnt = 0\n",
    "with torch.no_grad():\n",
    "    for batch in tqdm(eval_dataloader):\n",
    "        cnt += 1\n",
    "        users2 = batch['users']\n",
    "        non_empty_users = users2 != -1\n",
    "        if cfg.CUDA:\n",
    "            users2 = users2[non_empty_users].cuda()\n",
    "        if non_empty_users.sum() > 0 and cnt > 10:\n",
    "            print('found')\n",
    "            break"
   ]
  },
  {
   "cell_type": "code",
   "execution_count": 84,
   "metadata": {},
   "outputs": [],
   "source": [
    "max_batch = min(users.shape[0], users2.shape[0])"
   ]
  },
  {
   "cell_type": "markdown",
   "metadata": {},
   "source": [
    "Generate reference title from reference latent"
   ]
  },
  {
   "cell_type": "code",
   "execution_count": 85,
   "metadata": {},
   "outputs": [
    {
     "name": "stdout",
     "output_type": "stream",
     "text": [
      "old : user: 60076a68-4ce7-4b24-8514-affdccb2ea90 | 【東京博物館】超值優惠門票\n",
      "new : user: e10613c3-8076-43e0-b0c9-e5cef0539616 | 【小人國博物館】超值優惠門票\n",
      "\n",
      "old : user: 15b9e7d3-f724-4aee-9199-81f11cc87f8a | 【雪梨機場接送】雪梨機場（SYD）－雪梨市區飯店共乘接送服務\n",
      "new : user: 22896eda-17a4-4d75-a74c-baa23031d05a | 【雪梨機場接送】雪梨機場（SYD）－雪梨市區飯店共乘接送服務\n",
      "\n",
      "old : user: 6bf910ce-75d9-4a11-b9d1-4864f39e13f5 | 【京都奈良一日遊】伏見稻荷神社・三十三見神社、二条城・（伏見稻荷））\n",
      "new : user: 4ba9fdca-524e-482a-8305-a3128a5874b6 | 【京都奈良一日遊】伏見稻荷神社・三十三見神社、二条城・（伏見稻荷））\n",
      "\n",
      "old : user: f940d5c9-2613-4b58-9f75-e2738867003e | 生物：水族館全水族館全通行證\n",
      "new : user: 72a0f68a-a929-428b-be1d-eb9222c46d51 | 生物：海洋全遊全通行證和門票\n",
      "\n",
      "old : user: 75c9944b-0bef-4221-b347-218e5a8d2478 | 【沙巴最大型布城】璀璨和紅樹林尋訪兩日遊\n",
      "new : user: 81ea9732-336d-4b0c-b6c4-dcd4c6d1ab77 | 【沙巴最大型必看精彩斯、自然公園、螢火蟲體驗賞（\n",
      "\n",
      "old : user: dcdbe23b-8248-4ecd-9bc5-c76daece85cb | 【新加坡必去景點】新加坡環球影城門票＋含或購物券/單程接駁免費送\n",
      "new : user: 7ab0e1c5-02f9-4ef8-b540-ecf869f24f78 | 【新加坡必去景點】新加坡環球影城門票＋含或購物券/單程接駁免費送\n",
      "\n",
      "old : user: 34128445-9252-408b-a9d3-7da8f36744da | 【澳門熱門體驗】水療SPASPASpa按摩體驗\n",
      "new : user: d2c3f44b-0aa8-49c6-be43-75e3aa5bfc5e | 【澳門美人湯】烏來】SPASPA按摩、雙人套餐\n",
      "\n",
      "old : user: bd89ab13-64d9-4ff6-93ba-db9b1cff7865 | 【全球最大夢幻王國】美國奧蘭多迪士尼王國4天家庭天單門票門票\n",
      "new : user: 128519b7-97e0-42ee-beba-5e56bd700ea4 | 【全球最大夢幻王國】美國奧蘭多迪士尼王國4天家庭天單世界門票\n",
      "\n",
      "old : user: 429b42a8-41d0-40ef-8fab-647193f8b5e9 | 【墾丁最長的最！】墾丁賽車場賽車的後裔限量體驗\n",
      "new : user: 1b7287c6-ea98-436d-bfce-8430fe3e3dd7 | 【墾丁最長的最！】墾丁後省的一日體驗\n",
      "\n",
      "old : user: 2c08650d-94f9-487f-8e01-116c1fa92dda | 【BTS市區觀光】芝加哥市區觀光巴士\n",
      "new : user: 0fe22f46-0164-48b7-b4ae-1724a3ae6921 | 【BTS市區觀光】芝加哥市區觀光巴士\n",
      "\n",
      "old : user: 8b348f5e-0e33-4a30-a5c0-202968cd0795 | 【飽覽紅新天地】阿姆斯特丹市區＋快速\n",
      "new : user: a5a08bd0-9e7a-417c-b820-59e4c6965f53 | 【飽覽紅新天地】阿姆斯特丹市區＋快速\n",
      "\n",
      "old : user: 89074ff6-6731-48ce-8f15-8609efe8dd88 | 【墨爾本邊界】亞拉庫蘭達尼加拉瀑布公園，西、遊、出海一日遊\n",
      "new : user: 34d33b6a-836a-455f-85e1-eb08319fe00c | 【墨爾本企鵝島】墨爾本長安、酒莊國家公園、日遊出海\n",
      "\n",
      "old : user: 057c7d53-38c4-4bad-a881-0ed6e39771aa | 【普吉島飛索體驗】HanumanWorld頂級叢林飛索\n",
      "new : user: e3c7ea1c-126d-4cfb-a0b5-8aec98f2c010 | 【普吉島飛索體驗】HanumanWorld頂級叢林飛索\n",
      "\n",
      "old : user: 38a60dab-98d1-4aba-850c-43a0efddd5b0 | 【最高CP值】拉斯維加斯租車自駕遊（可於洛杉磯/舊金山還車）\n",
      "new : user: 918bf8d0-61b3-4f71-84e0-49b4de13fe12 | 【最高CP值】拉斯維加斯租車自駕遊（可於洛杉磯/舊金山還車）\n",
      "\n",
      "old : user: 4b86d871-2cd9-4400-bec9-3a4051db2c39 | 【丹馬爾地夫最美跳島】一日一日遊（、午餐、深潛體驗）\n",
      "new : user: e309ab12-3355-4cc8-bf09-feb93f015ed0 | 【丹馬爾地夫最美跳島】一日一日遊（、午餐）\n",
      "\n",
      "old : user: 14f6d1f6-0e4c-46e6-8666-571fd4aa624a | 【韓國順天一日遊】麗水、、、鐵道梯田村、一島村、村、村（釜山、團團\n",
      "new : user: 8a26c24f-056d-4de3-b769-eaefd49a791a | 【韓國交通一日遊】麗水道、、鐵道梯田村、一島西線（釜山出發）\n",
      "\n"
     ]
    }
   ],
   "source": [
    "user2_embeddings = model.user_embedding( users2 )\n",
    "_, output_title = model.decode(\n",
    "        tmp_latent[:max_batch],\n",
    "        #control_latent[:6].cuda(), \n",
    "        desc_latent[:max_batch], user2_embeddings[:max_batch], \n",
    "        desc_outputs[:max_batch], tmp_outputs[:max_batch],\n",
    "        max_length=target.shape[1])\n",
    "\n",
    "swap_articles = []\n",
    "for src_input in src_inputs:\n",
    "    for token in src_input[1:]:\n",
    "        if token.item() == Constants.EOS:\n",
    "            break\n",
    "        article.append(valid_dataset.tokenizer.idx2word[token.item()])\n",
    "    swap_articles.append(''.join(article))\n",
    "\n",
    "    \n",
    "results = []\n",
    "for idx, (sent, origin_pair) in enumerate(zip(output_title, original_pairs)):\n",
    "    sentence = []\n",
    "    for token in sent:\n",
    "        if token.item() == Constants.EOS:\n",
    "            break\n",
    "        sentence.append(valid_dataset.tokenizer.idx2word[token.item()])\n",
    "    print(\"old : user: {:<35} | {:>}\".format(origin_pair['input_user'], origin_pair['generate']))\n",
    "    print(\"new : {:<40} | {:>}\\n\".format('user: '+ id2user[users2[idx].item()] , ''.join(sentence[:50]).strip(), ))\n",
    "#     print(swap_articles[idx])\n",
    "    results.append({\n",
    "        'origin_user': origin_pair,\n",
    "        'swap_user': {'input_user': id2user[users[idx].item()],'generate': ''.join(sentence[:50]).strip()  },\n",
    "        'article': swap_articles[idx],\n",
    "    })"
   ]
  },
  {
   "cell_type": "markdown",
   "metadata": {},
   "source": [
    "Can we randomly sample template latent for use? ( Only applicable for model without BiSET )"
   ]
  },
  {
   "cell_type": "code",
   "execution_count": 54,
   "metadata": {},
   "outputs": [],
   "source": [
    "latent_dim = args.tmp_latent_dim\n",
    "categorical_dim = args.tmp_cat_dim\n",
    "M =  args.tmp_cat_dim * args.tmp_latent_dim\n",
    "np_y = np.zeros((M, categorical_dim), dtype=np.float32)\n",
    "np_y[range(M), np.random.choice(categorical_dim, M)] = 1\n",
    "np_y = np.reshape(np_y, [ M // latent_dim, latent_dim, categorical_dim])[:6, :,:]"
   ]
  },
  {
   "cell_type": "code",
   "execution_count": 55,
   "metadata": {},
   "outputs": [
    {
     "name": "stdout",
     "output_type": "stream",
     "text": [
      "old :  {'input_user': '7f7d448d-735d-4198-bbe4-6865f6c45b69', 'generate': '【印度上網推薦】亞洲多國通用4G高速上網8天網卡（台灣／港澳寄送）'}\n",
      "new : user: e6942a39-0cde-4781-a67f-fd0507f080e4 | 【印度上網推薦】亞洲多G通用4G上網流量88天（台灣／港澳寄送）\n",
      "\n",
      "old :  {'input_user': '7b4dbe96-4e9e-4839-b7df-62ab12ed50d2', 'generate': '【東私房半日】】Crazy公園美館、堂工廠雪橇體驗'}\n",
      "new : user: 4100de93-d5a0-478f-8bb4-ca1af725e7dd | 【東拍攝】京都文化之粉紅、美館文化堂\n",
      "\n",
      "old :  {'input_user': '59e0c8af-8a51-45e8-977f-5d0b7dd87991', 'generate': '【探索原住民魅力導覽魅力】融入國家公園'}\n",
      "new : user: 049982fc-88b5-4305-ba5f-5e356c47f874 | 【探索原住民魅力導覽魅力】融入國家公園\n",
      "\n",
      "old :  {'input_user': '1b6c5a04-93c0-4383-9df8-afb604cf342e', 'generate': '【長灘島飛行活動上能水上傘傘活動上'}\n",
      "new : user: 1d7ce4e0-297a-4ff8-9a00-ed0d27bda728 | 【長灘島飛行活動上能水上傘傘活動上\n",
      "\n",
      "old :  {'input_user': 'ff33a9d7-e88f-4fd9-b16a-8013c7388117', 'generate': '【日本水族館體驗海洋水族館】水族館水族館水族館水族館門票'}\n",
      "new : user: 378ecf40-47f1-42f7-9a73-01bf4d97fddf | 【海洋水族館世界水族館】雪梨水族館水族館水族館動物門票門票\n",
      "\n",
      "old :  {'input_user': '4a7a8a3d-58f6-44c3-afee-ccb5311318b9', 'generate': '【最藍山遺產】亞拉一、尼加拉瀑布、伯、、火車莊一日遊'}\n",
      "new : user: f5b9996b-024a-4c22-876f-9f5e5ca3c25a | 【最西岸遺產像亞拉遊、伯斯、索倫托、火車公園一日遊\n",
      "\n"
     ]
    }
   ],
   "source": [
    "random_sample = torch.from_numpy(np_y).view(6, latent_dim * categorical_dim).cuda()\n",
    "_, output_title = model.decode(\n",
    "        random_sample,\n",
    "        #control_latent[:6].cuda(), \n",
    "        desc_latent[:6], user_embeddings[:6], \n",
    "        desc_outputs[:6], tmp_outputs[:6],\n",
    "        max_length=target.shape[1])\n",
    "for idx, sent in enumerate(output_title):\n",
    "    sentence = []\n",
    "    for token in sent:\n",
    "        if token.item() == Constants.EOS:\n",
    "            break\n",
    "        sentence.append(valid_dataset.tokenizer.idx2word[token.item()])\n",
    "    print(\"old : \",original_pairs[idx])\n",
    "    print(\"new : {:<40} | {:>}\\n\".format('user: '+ id2user[users2[idx].item()] , ''.join(sentence[:50]).strip(), ))"
   ]
  },
  {
   "cell_type": "markdown",
   "metadata": {},
   "source": [
    "Visualize template latent "
   ]
  },
  {
   "cell_type": "code",
   "execution_count": 56,
   "metadata": {},
   "outputs": [
    {
     "name": "stdout",
     "output_type": "stream",
     "text": [
      "{0, 1}\n"
     ]
    }
   ],
   "source": [
    "pca = PCA(n_components=2)\n",
    "one_hot_x = [  torch.softmax(torch.from_numpy(row).reshape(10, 16), dim=-1).numpy()[1]  for row in X   ]\n",
    "X_r = pca.fit_transform(X)\n",
    "nbrs = SpectralClustering(n_clusters=2).fit(X_r)\n",
    "y = nbrs.labels_\n",
    "print(set(y))"
   ]
  },
  {
   "cell_type": "code",
   "execution_count": 21,
   "metadata": {},
   "outputs": [
    {
     "name": "stdout",
     "output_type": "stream",
     "text": [
      "\n"
     ]
    },
    {
     "data": {
      "image/png": "[encoded data removed]",
      "text/plain": [
       "<Figure size 432x288 with 1 Axes>"
      ]
     },
     "metadata": {
      "needs_background": "light"
     },
     "output_type": "display_data"
    }
   ],
   "source": [
    "plt.rcParams[\"figure.figsize\"] = (6,4)\n",
    "plt.figure()\n",
    "\n",
    "colors = ['navy', 'darkorange'] # 'turquoise', \n",
    "target_names = list(range(len(colors)))\n",
    "lw = 2\n",
    "for color, i, target_name in zip(colors, list(range(len(target_names))), target_names):\n",
    "    plt.scatter(X_r[y == i, 0], X_r[y == i, 1], color=color, alpha=.8, lw=lw,\n",
    "                label=target_name)"
   ]
  },
  {
   "cell_type": "code",
   "execution_count": 22,
   "metadata": {},
   "outputs": [
    {
     "name": "stdout",
     "output_type": "stream",
     "text": [
      "found\n",
      "0\n",
      "1\n",
      "2\n",
      "3\n",
      "4\n",
      "5\n",
      "6\n",
      "7\n",
      "8\n",
      "9\n",
      "10\n",
      "11\n",
      "12\n",
      "13\n",
      "14\n"
     ]
    }
   ],
   "source": [
    "original_results = []\n",
    "with torch.no_grad():\n",
    "    for idx, batch in enumerate(eval_dataloader):\n",
    "        src_inputs = batch['src']\n",
    "        tmp = batch['tmt']\n",
    "        inputs, target = batch['tgt'][:, :-1], batch['tgt'][:, 1:]\n",
    "        users = batch['users']\n",
    "        non_empty_users = users != -1\n",
    "        if cfg.CUDA:\n",
    "            src_inputs = src_inputs[non_empty_users].cuda()\n",
    "            target = target[non_empty_users].cuda()\n",
    "            tmp = tmp[non_empty_users].cuda()\n",
    "            inputs = inputs[non_empty_users].cuda()\n",
    "            users = users[non_empty_users].cuda()\n",
    "\n",
    "        if non_empty_users.sum() > 0 and idx > 1:\n",
    "            print('found')\n",
    "            break\n",
    "\n",
    "    desc_outputs, desc_latent, desc_mean, desc_std = model.encode_desc(src_inputs)\n",
    "    tmp_outputs, tmp_latent = model.encode_tmp(tmp)\n",
    "    user_embeddings = model.user_embedding( users )\n",
    "    _, output_title = model.decode(tmp_latent, desc_latent, user_embeddings, \n",
    "            desc_outputs, tmp_outputs,\n",
    "            max_length=target.shape[1])\n",
    "    \n",
    "    for idx, sent_token in enumerate(batch['tgt'][non_empty_users, 1:]):\n",
    "        print(idx)\n",
    "        reference= []\n",
    "        for token in sent_token:\n",
    "            if token.item() == Constants.EOS:\n",
    "                break\n",
    "            reference.append(valid_dataset.tokenizer.idx2word[token.item()] )\n",
    "        reference = ''.join(reference)\n",
    "\n",
    "        sent = output_title[idx]\n",
    "        sentence = []\n",
    "        for token in sent:\n",
    "            if token.item() == Constants.EOS:\n",
    "                break\n",
    "            sentence.append(valid_dataset.tokenizer.idx2word[token.item()])\n",
    "        gen_title = ''.join(sentence)\n",
    "\n",
    "        sent = tmp[idx][1:]\n",
    "        sentence = []\n",
    "        for token in sent:\n",
    "            if token.item() == Constants.EOS:\n",
    "                break\n",
    "            sentence.append(valid_dataset.tokenizer.idx2word[token.item()])\n",
    "\n",
    "        article = []\n",
    "        for token in src_inputs[idx][1:]:\n",
    "            if token.item() == Constants.EOS:\n",
    "                break\n",
    "            article.append(valid_dataset.tokenizer.idx2word[token.item()])\n",
    "        \n",
    "        result = {\n",
    "            'generate': gen_title,\n",
    "            'original': reference,\n",
    "            'input_user': id2user[users[idx].item()],\n",
    "            'article': ''.join(article),\n",
    "            'template': ''.join(sentence).replace('舊', '##')\n",
    "        }\n",
    "        original_results.append(result)"
   ]
  },
  {
   "cell_type": "code",
   "execution_count": 51,
   "metadata": {},
   "outputs": [
    {
     "name": "stdout",
     "output_type": "stream",
     "text": [
      "0\n",
      "target template   邁阿密機場到市區飯店接送（共乘）\n",
      "origin gen title 【舊舊一日遊】舊、舊、舊（舊出發） \n",
      "new gen title    吉隆坡吉隆坡專屬接送（吉隆坡－雲頂）單程接送）\n",
      "\n",
      "target template   北海道賞花＆羊蹄山賞芝櫻自採草莓吃到飽\n",
      "origin gen title 【星光熠熠】舊舊夫人舊門票 \n",
      "new gen title    雪梨鐵道通行證（《11通行證SydneyExplorerPass）\n",
      "\n",
      "target template   米爾福德峽灣巡遊與皮划艇之旅\n",
      "origin gen title 【舊出發】舊＋舊＋慶州賞櫻勝地二日遊 \n",
      "new gen title    東京東京武士體驗・舉起做武士的武士體驗\n",
      "\n",
      "6\n",
      "target template   新天鵝堡全日遊\n",
      "origin gen title 【舊舊一日遊】舊、舊、舊（舊出發） \n",
      "new gen title    吉隆坡吉隆坡專屬接送（吉隆坡－雲頂）單程接送）\n",
      "\n",
      "target template   普吉島卡圖高空彈跳體驗\n",
      "origin gen title 【星光熠熠】舊舊夫人舊門票 \n",
      "new gen title    雪梨鐵道通行證（五11通行證SydneyExplorerPass）\n",
      "\n",
      "target template   《豪斯登堡住宿》阿姆斯特丹大飯店HotelAmsterdam2人住宿（設計師房型／禁煙）\n",
      "origin gen title 【舊出發】舊＋舊＋慶州賞櫻勝地二日遊 \n",
      "new gen title    東京東京武士體驗・舉起做武士的武士體驗\n",
      "\n",
      "12\n",
      "target template   大峽谷直升飛機著陸之旅\n",
      "origin gen title 【舊舊一日遊】舊、舊、舊（舊出發） \n",
      "new gen title    吉隆坡吉隆坡專屬接送（吉隆坡－雲頂）單程接送）\n",
      "\n",
      "target template   在日落時分騎馬，體驗西部荒原的牛仔生活\n",
      "origin gen title 【星光熠熠】舊舊夫人舊門票 \n",
      "new gen title    雪梨鐵道通行證（《11通行證SydneyExplorerPass）\n",
      "\n",
      "18\n",
      "target template   聖奧古斯丁觀光巴士，探索這座歷史名城（含門票）\n",
      "origin gen title 【舊舊一日遊】舊、舊、舊（舊出發） \n",
      "new gen title    吉隆坡吉隆坡專屬接送（吉隆坡－雲頂）單程接送）\n",
      "\n",
      "target template   巴黎串酒吧之旅，包含夜店免費入場與免費一口酒\n",
      "origin gen title 【星光熠熠】舊舊夫人舊門票 \n",
      "new gen title    雪梨鐵道通行證（五11通行證SydneyExplorerPass）\n",
      "\n",
      "target template   私人半天伊瓜蘇瀑布在巴西一邊\n",
      "origin gen title 【舊出發】舊＋舊＋慶州賞櫻勝地二日遊 \n",
      "new gen title    東京東京武士體驗・舉起做武士的武士體驗\n",
      "\n",
      "24\n",
      "target template   利馬私人城市半日遊\n",
      "origin gen title 【星光熠熠】舊舊夫人舊門票 \n",
      "new gen title    雪梨鐵道通行證（《11通行證SydneyExplorerPass）\n",
      "\n",
      "target template   濟州島鐵道自行車RailBike門票\n",
      "origin gen title 【舊出發】舊＋舊＋慶州賞櫻勝地二日遊 \n",
      "new gen title    東京東京武士體驗・舉起做武士的武士體驗\n",
      "\n",
      "target template   遊走惡地邊緣死亡谷國家公園一日遊\n",
      "origin gen title 【OrganikFestival直達接駁】舊舊－舊牛舊/舊牛舊－舊舊 \n",
      "new gen title    滑翔傘沙巴藍天之旅滑翔\n",
      "\n",
      "30\n",
      "target template   全日白水漂流從聖何塞\n",
      "origin gen title 【舊出發】舊＋舊＋慶州賞櫻勝地二日遊 \n",
      "new gen title    東京東京武士體驗・舉起做武士的武士體驗\n",
      "\n",
      "36\n",
      "target template   【全台最長溫泉河】花蓮二子山溫泉溯溪一日遊\n",
      "origin gen title 【舊出發】舊＋舊＋慶州賞櫻勝地二日遊 \n",
      "new gen title    東京東京武士體驗・舉起做武士的武士體驗\n",
      "\n",
      "42\n"
     ]
    }
   ],
   "source": [
    "non_bracket_label = 1\n",
    "swap_results = []\n",
    "for start_idx in range(0, 48, 6):\n",
    "    print(start_idx)\n",
    "    # start_idx = 0\n",
    "    no_bracket_latent = X[y==non_bracket_label][start_idx:start_idx+6]\n",
    "    no_bracket_latent_out = temp_outputs[y==non_bracket_label][start_idx:start_idx+6]\n",
    "    swap_templates = title[y==non_bracket_label][start_idx:start_idx+6]\n",
    "\n",
    "    output_titles = []\n",
    "\n",
    "    for idx, (_latent, _latent_output) in enumerate(zip(no_bracket_latent, temp_outputs)):\n",
    "        _latent = torch.from_numpy(_latent).view(1, latent_dim * categorical_dim).cuda()\n",
    "        _latent_output = torch.from_numpy(_latent_output).unsqueeze(0).cuda()\n",
    "        _, output_title = model.decode(\n",
    "                _latent,\n",
    "                desc_latent[[idx]], user2_embeddings[[idx]], \n",
    "                desc_outputs[[idx]], _latent_output,\n",
    "                max_length=target.shape[1])\n",
    "        output_titles.append(output_title.cpu())\n",
    "\n",
    "    output_titles = torch.cat(output_titles)\n",
    "    for idx, sent in enumerate(output_titles):\n",
    "        sentence = []\n",
    "        for token in sent:\n",
    "            if token.item() == Constants.EOS:\n",
    "                break\n",
    "            sentence.append(valid_dataset.tokenizer.idx2word[token.item()])\n",
    "        new_sent = ''.join(sentence[:50]).strip()\n",
    "        origin_sent = original_sentences[idx]\n",
    "\n",
    "        if '【' not in new_sent and '【'  in origin_sent:\n",
    "            print('target template   %s' % swap_templates[idx])\n",
    "            print('origin gen title %s ' % origin_sent)\n",
    "            print('new gen title    %s\\n' % new_sent)\n",
    "            swap_results.append({\n",
    "                '換了template後': new_sent,\n",
    "                '原來生成的標題': original_results[idx]['generate'],\n",
    "                '更換 template': templates[idx],\n",
    "                '原來 template': original_results[idx]['template'],\n",
    "                'article': original_results[idx]['article'],\n",
    "                'user_id': original_results[idx]['input_user']\n",
    "            })\n",
    "            \n",
    "#     print(\"{:<40} | {:>}\".format('user: '+ id2user[users2[idx].item()] , ''.join(sentence[:50]).strip(), ))"
   ]
  },
  {
   "cell_type": "code",
   "execution_count": 54,
   "metadata": {},
   "outputs": [],
   "source": [
    "import json\n",
    "with open('swap_results_'+log_name.replace('/','_')+checkpoint+'.jsonl', 'w') as f:\n",
    "    for result in good_swap_results:\n",
    "        f.write(json.dumps(result)+'\\n')"
   ]
  },
  {
   "cell_type": "code",
   "execution_count": 53,
   "metadata": {},
   "outputs": [],
   "source": [
    "if len(swap_results) > 0:\n",
    "    good_swap_results += swap_results"
   ]
  },
  {
   "cell_type": "code",
   "execution_count": 48,
   "metadata": {},
   "outputs": [],
   "source": [
    "good_swap_results = []"
   ]
  },
  {
   "cell_type": "code",
   "execution_count": null,
   "metadata": {},
   "outputs": [],
   "source": [
    "print(title[y==0][:60])"
   ]
  },
  {
   "cell_type": "code",
   "execution_count": null,
   "metadata": {},
   "outputs": [],
   "source": [
    "print(title[y==1][:60])"
   ]
  },
  {
   "cell_type": "code",
   "execution_count": 97,
   "metadata": {},
   "outputs": [],
   "source": [
    "tmp_latent = X[y==1].mean(axis=0)"
   ]
  },
  {
   "cell_type": "code",
   "execution_count": 39,
   "metadata": {},
   "outputs": [],
   "source": [
    "control_latent = torch.stack([torch.from_numpy(tmp_latent)]*10)"
   ]
  },
  {
   "cell_type": "code",
   "execution_count": 27,
   "metadata": {},
   "outputs": [
    {
     "data": {
      "text/plain": [
       "<matplotlib.collections.PathCollection at 0x7f07c200be80>"
      ]
     },
     "execution_count": 27,
     "metadata": {},
     "output_type": "execute_result"
    },
    {
     "data": {
      "image/png": "[encoded data removed]",
      "text/plain": [
       "<Figure size 432x288 with 1 Axes>"
      ]
     },
     "metadata": {
      "needs_background": "light"
     },
     "output_type": "display_data"
    }
   ],
   "source": [
    "user_embeddings = model.user_embedding.weight.data.cpu().numpy()\n",
    "pca = PCA(n_components=2)\n",
    "X_user = pca.fit_transform(user_embeddings)\n",
    "plt.scatter(X_user[:,0], X_user[:, 1], color='darkorange', alpha=.8, lw=lw)"
   ]
  },
  {
   "cell_type": "code",
   "execution_count": 43,
   "metadata": {},
   "outputs": [
    {
     "data": {
      "text/plain": [
       "0.020464174"
      ]
     },
     "execution_count": 43,
     "metadata": {},
     "output_type": "execute_result"
    }
   ],
   "source": [
    "a = user_embeddings[0]\n",
    "b = user_embeddings[5]\n",
    "a.dot(b)/(np.linalg.norm(a)*np.linalg.norm(b))"
   ]
  },
  {
   "cell_type": "code",
   "execution_count": 44,
   "metadata": {},
   "outputs": [
    {
     "name": "stdout",
     "output_type": "stream",
     "text": [
      "['【柬埔寨最受矚目劇團】法爾，柬埔寨馬戲團Phare,theCambodiaCircus' '雅典城市通票：免費入場和免費遊覽'\n",
      " '伊瓜蘇生物中心參觀' '在日落時分騎馬，體驗西部荒原的牛仔生活' '斯德哥爾摩隨上隨下觀光巴士與小船旅遊'\n",
      " '聖薩爾瓦多：5小時中轉城市與火山之旅' '曼哈頓島豪華直升機旅遊' '波士頓的歷史之路®徒步遊' '布魯塞爾：布魯日一日旅遊連4小時導覽徒步遊'\n",
      " '柏林：1小時馬車夜遊柏林']\n"
     ]
    }
   ],
   "source": [
    "print(title[y==2][:10])"
   ]
  },
  {
   "cell_type": "code",
   "execution_count": 31,
   "metadata": {},
   "outputs": [
    {
     "name": "stdout",
     "output_type": "stream",
     "text": [
      "['【熱門景點包車一日遊】石門水庫、鎮瀾宮、台中麗寶Outlet（台北出發、台中結束）' '【中文導覽】馬來西亞機場市區優質接送（含WiFi熱點）'\n",
      " '【名古屋出發一人成行】閃耀冬季！名花之里．冬季霓虹燈秀，還有午餐甜點吃到飽' '【超值沙巴跳島】沙比島和馬穆迪島一日遊'\n",
      " '【經典花蓮必遊】太魯閣奇景拼車一日遊（保證有位）' '【熱門景點包車一日遊】鶯歌老街、新豐紅樹林、彩虹眷村、秋紅谷（台北出發）'\n",
      " '自採超甜草莓・螃蟹吃到飽＆滑雪場玩雪東京出發)' '女性限定一人行！一次遊走日本香川、岡山、德島三縣市美術館充滿藝術氣質二日遊！'\n",
      " '【小團划算】桃園機場臺北市區接機服務（七人座）' '【乘船遊小金門秘境】船遊戰地史蹟烈嶼7島（</UNK>碼頭出發）']\n"
     ]
    }
   ],
   "source": [
    "print(title[y==3][:10])"
   ]
  },
  {
   "cell_type": "markdown",
   "metadata": {},
   "source": [
    "# Unrelated old code"
   ]
  },
  {
   "cell_type": "code",
   "execution_count": 61,
   "metadata": {},
   "outputs": [
    {
     "name": "stdout",
     "output_type": "stream",
     "text": [
      "save/temp_temp_rec_vae_gan_biset-2020-05-15-16-34-59/amp_checkpoint_80000.pt\n",
      "3486\n"
     ]
    }
   ],
   "source": [
    "assert os.path.exists(os.path.join(log_name, 'vmt.py')) == True\n",
    "print(os.path.join(log_name, checkpoint_name))\n",
    "assert os.path.exists(os.path.join(log_name, checkpoint_name)) == True\n",
    "\n",
    "copyfile(os.path.join(log_name, 'vmt.py'), 'module/temp_vmt.py')\n",
    "checkpoint = torch.load(os.path.join(log_name, checkpoint_name))\n",
    "\n",
    "from module.temp_vmt import VMT, TemplateD\n",
    "\n",
    "# checkpoint should contain model state dict,\n",
    "with open(os.path.join(log_name, 'params.json'), 'r') as f:\n",
    "    params = json.load(f)\n",
    "args = Struct(**params)\n",
    "dataset =  KKDayUser(-1, 'data/kkday_dataset/user_data', \n",
    "            'data/kkday_dataset/matrix_factorized_64.pkl',\n",
    "            prefix='item_graph', embedding=None, max_length=args.max_seq_len, force_fix_len=args.grad_penalty or args.full_text, \n",
    "            token_level=args.tokenize, is_train=True)\n",
    "dataloader = torch.utils.data.DataLoader(dataset, num_workers=4,\n",
    "                collate_fn=seq_collate, batch_size=64, shuffle=True)\n",
    "model = VMT(args.gen_embed_dim, dataset.vocab_size,\n",
    "            enc_hidden_size=128, dec_hidden_size=128, tmp_category=args.tmp_cat_dim,\n",
    "            tmp_latent_dim=args.tmp_latent_dim, desc_latent_dim=args.desc_latent_dim, user_latent_dim=args.user_latent_dim,\n",
    "            biset=args.biset,\n",
    "            max_seq_len=args.max_seq_len-1, gpu=True)\n",
    "\n",
    "C = VAE_Cluster(64, 64, k_bins=10, output_embed_dim=args.user_latent_dim)\n",
    "\n",
    "model.load_state_dict(checkpoint['model'])\n",
    "model = model.cuda().eval()\n",
    "C = C.cuda().eval()\n",
    "print(len(dataloader))"
   ]
  },
  {
   "cell_type": "code",
   "execution_count": 57,
   "metadata": {},
   "outputs": [
    {
     "name": "stderr",
     "output_type": "stream",
     "text": [
      "/home/theblackcat102/Documents/text-subgan/env/lib/python3.6/site-packages/ipykernel_launcher.py:4: TqdmDeprecationWarning: This function will be removed in tqdm==5.0.0\n",
      "Please use `tqdm.notebook.tqdm` instead of `tqdm.tqdm_notebook`\n",
      "  after removing the cwd from sys.path.\n"
     ]
    },
    {
     "data": {
      "application/vnd.jupyter.widget-view+json": {
       "model_id": "23182e73a93443ffa335ec57fcaa2376",
       "version_major": 2,
       "version_minor": 0
      },
      "text/plain": [
       "HBox(children=(FloatProgress(value=0.0, max=3486.0), HTML(value='')))"
      ]
     },
     "metadata": {},
     "output_type": "display_data"
    },
    {
     "ename": "KeyboardInterrupt",
     "evalue": "",
     "output_type": "error",
     "traceback": [
      "\u001b[0;31m---------------------------------------------------------------------------\u001b[0m",
      "\u001b[0;31mKeyboardInterrupt\u001b[0m                         Traceback (most recent call last)",
      "\u001b[0;32m<ipython-input-57-514a6838dc19>\u001b[0m in \u001b[0;36m<module>\u001b[0;34m\u001b[0m\n\u001b[1;32m     18\u001b[0m \u001b[0;31m#     logits, embed = self.C(items, users)\u001b[0m\u001b[0;34m\u001b[0m\u001b[0;34m\u001b[0m\u001b[0;34m\u001b[0m\u001b[0m\n\u001b[1;32m     19\u001b[0m     \u001b[0mdesc_outputs\u001b[0m\u001b[0;34m,\u001b[0m \u001b[0mdesc_latent\u001b[0m\u001b[0;34m,\u001b[0m \u001b[0m_\u001b[0m\u001b[0;34m,\u001b[0m \u001b[0m_\u001b[0m \u001b[0;34m=\u001b[0m \u001b[0mmodel\u001b[0m\u001b[0;34m.\u001b[0m\u001b[0mencode_desc\u001b[0m\u001b[0;34m(\u001b[0m\u001b[0msrc_inputs\u001b[0m\u001b[0;34m)\u001b[0m\u001b[0;34m\u001b[0m\u001b[0;34m\u001b[0m\u001b[0m\n\u001b[0;32m---> 20\u001b[0;31m     \u001b[0mtmp_outputs\u001b[0m\u001b[0;34m,\u001b[0m \u001b[0mtmp_latent\u001b[0m \u001b[0;34m=\u001b[0m \u001b[0mmodel\u001b[0m\u001b[0;34m.\u001b[0m\u001b[0mencode_tmp\u001b[0m\u001b[0;34m(\u001b[0m\u001b[0mtmp\u001b[0m\u001b[0;34m)\u001b[0m\u001b[0;34m\u001b[0m\u001b[0;34m\u001b[0m\u001b[0m\n\u001b[0m\u001b[1;32m     21\u001b[0m \u001b[0;31m#     _, output_title = self.model.decode(tmp_latent, desc_latent, embed,\u001b[0m\u001b[0;34m\u001b[0m\u001b[0;34m\u001b[0m\u001b[0;34m\u001b[0m\u001b[0m\n\u001b[1;32m     22\u001b[0m \u001b[0;31m#             desc_outputs, tmp_outputs,\u001b[0m\u001b[0;34m\u001b[0m\u001b[0;34m\u001b[0m\u001b[0;34m\u001b[0m\u001b[0m\n",
      "\u001b[0;32m~/Documents/text-subgan/module/temp_vmt.py\u001b[0m in \u001b[0;36mencode_tmp\u001b[0;34m(self, template, device)\u001b[0m\n\u001b[1;32m    153\u001b[0m         \u001b[0;32mif\u001b[0m \u001b[0mself\u001b[0m\u001b[0;34m.\u001b[0m\u001b[0mgpu\u001b[0m\u001b[0;34m:\u001b[0m\u001b[0;34m\u001b[0m\u001b[0;34m\u001b[0m\u001b[0m\n\u001b[1;32m    154\u001b[0m             \u001b[0mdevice\u001b[0m \u001b[0;34m=\u001b[0m \u001b[0;34m'cuda'\u001b[0m\u001b[0;34m\u001b[0m\u001b[0;34m\u001b[0m\u001b[0m\n\u001b[0;32m--> 155\u001b[0;31m         \u001b[0mencoder_output\u001b[0m\u001b[0;34m,\u001b[0m \u001b[0mlatent\u001b[0m \u001b[0;34m=\u001b[0m \u001b[0mself\u001b[0m\u001b[0;34m.\u001b[0m\u001b[0mtemplate_vae\u001b[0m\u001b[0;34m.\u001b[0m\u001b[0mencode\u001b[0m\u001b[0;34m(\u001b[0m\u001b[0mtemplate\u001b[0m\u001b[0;34m,\u001b[0m \u001b[0mdevice\u001b[0m\u001b[0;34m=\u001b[0m\u001b[0mdevice\u001b[0m\u001b[0;34m)\u001b[0m\u001b[0;34m\u001b[0m\u001b[0;34m\u001b[0m\u001b[0m\n\u001b[0m\u001b[1;32m    156\u001b[0m         \u001b[0;32mreturn\u001b[0m \u001b[0mencoder_output\u001b[0m\u001b[0;34m,\u001b[0m \u001b[0mlatent\u001b[0m\u001b[0;34m\u001b[0m\u001b[0;34m\u001b[0m\u001b[0m\n\u001b[1;32m    157\u001b[0m \u001b[0;34m\u001b[0m\u001b[0m\n",
      "\u001b[0;32m~/Documents/text-subgan/module/vae_gumbel.py\u001b[0m in \u001b[0;36mencode\u001b[0;34m(self, inputs, device)\u001b[0m\n\u001b[1;32m     75\u001b[0m     \u001b[0;32mdef\u001b[0m \u001b[0mencode\u001b[0m\u001b[0;34m(\u001b[0m\u001b[0mself\u001b[0m\u001b[0;34m,\u001b[0m \u001b[0minputs\u001b[0m\u001b[0;34m,\u001b[0m \u001b[0mdevice\u001b[0m\u001b[0;34m=\u001b[0m\u001b[0;34m'cuda'\u001b[0m\u001b[0;34m)\u001b[0m\u001b[0;34m:\u001b[0m\u001b[0;34m\u001b[0m\u001b[0;34m\u001b[0m\u001b[0m\n\u001b[1;32m     76\u001b[0m         \u001b[0minputs\u001b[0m \u001b[0;34m=\u001b[0m \u001b[0mself\u001b[0m\u001b[0;34m.\u001b[0m\u001b[0membedding\u001b[0m\u001b[0;34m(\u001b[0m\u001b[0minputs\u001b[0m\u001b[0;34m)\u001b[0m\u001b[0;34m\u001b[0m\u001b[0;34m\u001b[0m\u001b[0m\n\u001b[0;32m---> 77\u001b[0;31m         \u001b[0moutput\u001b[0m\u001b[0;34m,\u001b[0m \u001b[0mhidden\u001b[0m \u001b[0;34m=\u001b[0m \u001b[0mself\u001b[0m\u001b[0;34m.\u001b[0m\u001b[0mencoder\u001b[0m\u001b[0;34m(\u001b[0m\u001b[0minputs\u001b[0m\u001b[0;34m)\u001b[0m\u001b[0;34m\u001b[0m\u001b[0;34m\u001b[0m\u001b[0m\n\u001b[0m\u001b[1;32m     78\u001b[0m         \u001b[0;32mreturn\u001b[0m \u001b[0moutput\u001b[0m\u001b[0;34m,\u001b[0m \u001b[0mself\u001b[0m\u001b[0;34m.\u001b[0m\u001b[0mhidden2latent\u001b[0m\u001b[0;34m(\u001b[0m\u001b[0mhidden\u001b[0m\u001b[0;34m)\u001b[0m\u001b[0;34m\u001b[0m\u001b[0;34m\u001b[0m\u001b[0m\n\u001b[1;32m     79\u001b[0m \u001b[0;34m\u001b[0m\u001b[0m\n",
      "\u001b[0;32m~/Documents/text-subgan/env/lib/python3.6/site-packages/torch/nn/modules/module.py\u001b[0m in \u001b[0;36m__call__\u001b[0;34m(self, *input, **kwargs)\u001b[0m\n\u001b[1;32m    530\u001b[0m             \u001b[0mresult\u001b[0m \u001b[0;34m=\u001b[0m \u001b[0mself\u001b[0m\u001b[0;34m.\u001b[0m\u001b[0m_slow_forward\u001b[0m\u001b[0;34m(\u001b[0m\u001b[0;34m*\u001b[0m\u001b[0minput\u001b[0m\u001b[0;34m,\u001b[0m \u001b[0;34m**\u001b[0m\u001b[0mkwargs\u001b[0m\u001b[0;34m)\u001b[0m\u001b[0;34m\u001b[0m\u001b[0;34m\u001b[0m\u001b[0m\n\u001b[1;32m    531\u001b[0m         \u001b[0;32melse\u001b[0m\u001b[0;34m:\u001b[0m\u001b[0;34m\u001b[0m\u001b[0;34m\u001b[0m\u001b[0m\n\u001b[0;32m--> 532\u001b[0;31m             \u001b[0mresult\u001b[0m \u001b[0;34m=\u001b[0m \u001b[0mself\u001b[0m\u001b[0;34m.\u001b[0m\u001b[0mforward\u001b[0m\u001b[0;34m(\u001b[0m\u001b[0;34m*\u001b[0m\u001b[0minput\u001b[0m\u001b[0;34m,\u001b[0m \u001b[0;34m**\u001b[0m\u001b[0mkwargs\u001b[0m\u001b[0;34m)\u001b[0m\u001b[0;34m\u001b[0m\u001b[0;34m\u001b[0m\u001b[0m\n\u001b[0m\u001b[1;32m    533\u001b[0m         \u001b[0;32mfor\u001b[0m \u001b[0mhook\u001b[0m \u001b[0;32min\u001b[0m \u001b[0mself\u001b[0m\u001b[0;34m.\u001b[0m\u001b[0m_forward_hooks\u001b[0m\u001b[0;34m.\u001b[0m\u001b[0mvalues\u001b[0m\u001b[0;34m(\u001b[0m\u001b[0;34m)\u001b[0m\u001b[0;34m:\u001b[0m\u001b[0;34m\u001b[0m\u001b[0;34m\u001b[0m\u001b[0m\n\u001b[1;32m    534\u001b[0m             \u001b[0mhook_result\u001b[0m \u001b[0;34m=\u001b[0m \u001b[0mhook\u001b[0m\u001b[0;34m(\u001b[0m\u001b[0mself\u001b[0m\u001b[0;34m,\u001b[0m \u001b[0minput\u001b[0m\u001b[0;34m,\u001b[0m \u001b[0mresult\u001b[0m\u001b[0;34m)\u001b[0m\u001b[0;34m\u001b[0m\u001b[0;34m\u001b[0m\u001b[0m\n",
      "\u001b[0;32m~/Documents/text-subgan/module/seq2seq.py\u001b[0m in \u001b[0;36mforward\u001b[0;34m(self, inputs, hidden)\u001b[0m\n\u001b[1;32m     77\u001b[0m             \u001b[0moutputs\u001b[0m \u001b[0;34m=\u001b[0m \u001b[0moutputs\u001b[0m\u001b[0;34m.\u001b[0m\u001b[0mview\u001b[0m\u001b[0;34m(\u001b[0m\u001b[0;34m-\u001b[0m\u001b[0;36m1\u001b[0m\u001b[0;34m,\u001b[0m \u001b[0moutputs\u001b[0m\u001b[0;34m.\u001b[0m\u001b[0msize\u001b[0m\u001b[0;34m(\u001b[0m\u001b[0;36m1\u001b[0m\u001b[0;34m)\u001b[0m\u001b[0;34m,\u001b[0m \u001b[0;36m2\u001b[0m\u001b[0;34m,\u001b[0m \u001b[0mself\u001b[0m\u001b[0;34m.\u001b[0m\u001b[0mhidden_size\u001b[0m\u001b[0;34m)\u001b[0m\u001b[0;34m\u001b[0m\u001b[0;34m\u001b[0m\u001b[0m\n\u001b[1;32m     78\u001b[0m             \u001b[0mhidden\u001b[0m \u001b[0;34m=\u001b[0m \u001b[0moutputs\u001b[0m\u001b[0;34m[\u001b[0m\u001b[0;34m:\u001b[0m\u001b[0;34m,\u001b[0m \u001b[0;34m-\u001b[0m\u001b[0;36m1\u001b[0m\u001b[0;34m,\u001b[0m \u001b[0;36m0\u001b[0m\u001b[0;34m]\u001b[0m \u001b[0;34m+\u001b[0m \u001b[0moutputs\u001b[0m\u001b[0;34m[\u001b[0m\u001b[0;34m:\u001b[0m\u001b[0;34m,\u001b[0m \u001b[0;36m0\u001b[0m\u001b[0;34m,\u001b[0m \u001b[0;36m1\u001b[0m\u001b[0;34m]\u001b[0m\u001b[0;34m\u001b[0m\u001b[0;34m\u001b[0m\u001b[0m\n\u001b[0;32m---> 79\u001b[0;31m             \u001b[0moutputs\u001b[0m \u001b[0;34m=\u001b[0m \u001b[0moutputs\u001b[0m\u001b[0;34m[\u001b[0m\u001b[0;34m:\u001b[0m\u001b[0;34m,\u001b[0m \u001b[0;34m:\u001b[0m\u001b[0;34m,\u001b[0m \u001b[0;36m0\u001b[0m\u001b[0;34m]\u001b[0m \u001b[0;34m+\u001b[0m \u001b[0moutputs\u001b[0m\u001b[0;34m[\u001b[0m\u001b[0;34m:\u001b[0m\u001b[0;34m,\u001b[0m \u001b[0;34m:\u001b[0m\u001b[0;34m,\u001b[0m \u001b[0;36m1\u001b[0m\u001b[0;34m]\u001b[0m\u001b[0;34m\u001b[0m\u001b[0;34m\u001b[0m\u001b[0m\n\u001b[0m\u001b[1;32m     80\u001b[0m         \u001b[0;32melse\u001b[0m\u001b[0;34m:\u001b[0m\u001b[0;34m\u001b[0m\u001b[0;34m\u001b[0m\u001b[0m\n\u001b[1;32m     81\u001b[0m             \u001b[0mhidden\u001b[0m \u001b[0;34m=\u001b[0m \u001b[0moutputs\u001b[0m\u001b[0;34m[\u001b[0m\u001b[0;34m:\u001b[0m\u001b[0;34m,\u001b[0m \u001b[0;34m-\u001b[0m\u001b[0;36m1\u001b[0m\u001b[0;34m]\u001b[0m\u001b[0;34m\u001b[0m\u001b[0;34m\u001b[0m\u001b[0m\n",
      "\u001b[0;31mKeyboardInterrupt\u001b[0m: "
     ]
    }
   ],
   "source": [
    "template_reference = {}\n",
    "size = 15000\n",
    "\n",
    "for i, batch in tqdm(enumerate(dataloader), total=len(dataloader)):\n",
    "    src_inputs = batch['src']\n",
    "    tmp = batch['tmp']\n",
    "    items, users = batch['items'], batch['users']\n",
    "    inputs, target1 = batch['tgt'][:, :-1], batch['tgt'][:, 1:]\n",
    "    references = []\n",
    "    if True:\n",
    "        inputs, items, users = inputs.cuda(), items.cuda(), users.cuda()\n",
    "        src_inputs = src_inputs.cuda()\n",
    "        inputs = inputs.cuda()\n",
    "        target1 = target1.cuda()\n",
    "        tmp = tmp.cuda()\n",
    "\n",
    "    batch_size = src_inputs.shape[0]\n",
    "#     logits, embed = self.C(items, users)\n",
    "    desc_outputs, desc_latent, _, _ = model.encode_desc(src_inputs)\n",
    "    tmp_outputs, tmp_latent = model.encode_tmp(tmp)\n",
    "#     _, output_title = self.model.decode(tmp_latent, desc_latent, embed,\n",
    "#             desc_outputs, tmp_outputs,\n",
    "#             max_length=self.args.max_seq_len)\n",
    "\n",
    "    # output_title = torch.argmax(output_logits, dim=-1)\n",
    "    for idx, sent_token in enumerate(batch['tgt'][:, 1:]):\n",
    "        reference = []\n",
    "        for token in sent_token:\n",
    "            if token.item() == Constants.EOS:\n",
    "                break\n",
    "            reference.append(dataset.idx2word[token.item()] )\n",
    "        references.append(reference)\n",
    "    \n",
    "    for idx, sent in enumerate(references):\n",
    "        template_reference[' '.join(sent)] = {\n",
    "            'tmp': tmp_latent[idx].detach().cpu().numpy(),\n",
    "            'tmp_outputs': tmp_outputs[idx].detach().cpu(),\n",
    "            'desc_latent': desc_latent[idx].detach().cpu(),\n",
    "            'desc_outputs': desc_outputs[idx].detach().cpu(),\n",
    "        }\n"
   ]
  },
  {
   "cell_type": "code",
   "execution_count": 80,
   "metadata": {},
   "outputs": [],
   "source": [
    "from tokenizer import CharTokenizer, WordTokenizer\n",
    "tokenizers = WordTokenizer()\n",
    "\n",
    "def generate_text(description, template, user, item):\n",
    "    with torch.no_grad():\n",
    "        desc = torch.from_numpy(tokenizers.encode(description)).long().cuda()\n",
    "        tgt = torch.from_numpy(tokenizers.encode(template)).long().cuda()\n",
    "\n",
    "        user = torch.from_numpy(user).float().cuda().unsqueeze(0)\n",
    "        item = torch.from_numpy(item).float().cuda().unsqueeze(0)\n",
    "\n",
    "        tmp = tgt.unsqueeze(0)[:, :-1]\n",
    "        src_inputs = desc.unsqueeze(0)\n",
    "        logits, embed = C(item, user)\n",
    "        desc_outputs, desc_latent, _, _ = model.encode_desc(src_inputs)\n",
    "        tmp_outputs, tmp_latent = model.encode_tmp(tmp)\n",
    "        _, output_title = model.decode(tmp_latent, desc_latent, embed,\n",
    "                desc_outputs, tmp_outputs,\n",
    "                max_length=64)\n",
    "\n",
    "        sentence = []\n",
    "        for token in output_title[0]:\n",
    "            if token.item() == Constants.EOS:\n",
    "                break\n",
    "            sentence.append(  dataset.idx2word[token.item()])\n",
    "        return ' '.join(sentence)"
   ]
  },
  {
   "cell_type": "code",
   "execution_count": 81,
   "metadata": {},
   "outputs": [
    {
     "ename": "AssertionError",
     "evalue": "",
     "output_type": "error",
     "traceback": [
      "\u001b[0;31m---------------------------------------------------------------------------\u001b[0m",
      "\u001b[0;31mAssertionError\u001b[0m                            Traceback (most recent call last)",
      "\u001b[0;32m<ipython-input-81-1b9c496a491f>\u001b[0m in \u001b[0;36m<module>\u001b[0;34m\u001b[0m\n\u001b[1;32m      4\u001b[0m \u001b[0mK_BINS\u001b[0m \u001b[0;34m=\u001b[0m \u001b[0;36m20\u001b[0m\u001b[0;34m\u001b[0m\u001b[0;34m\u001b[0m\u001b[0m\n\u001b[1;32m      5\u001b[0m \u001b[0mcheckpoint_name\u001b[0m \u001b[0;34m=\u001b[0m \u001b[0;34m'amp_checkpoint_{}.pt'\u001b[0m\u001b[0;34m.\u001b[0m\u001b[0mformat\u001b[0m\u001b[0;34m(\u001b[0m\u001b[0miteration\u001b[0m\u001b[0;34m)\u001b[0m\u001b[0;34m\u001b[0m\u001b[0;34m\u001b[0m\u001b[0m\n\u001b[0;32m----> 6\u001b[0;31m \u001b[0;32massert\u001b[0m \u001b[0mos\u001b[0m\u001b[0;34m.\u001b[0m\u001b[0mpath\u001b[0m\u001b[0;34m.\u001b[0m\u001b[0mexists\u001b[0m\u001b[0;34m(\u001b[0m\u001b[0mos\u001b[0m\u001b[0;34m.\u001b[0m\u001b[0mpath\u001b[0m\u001b[0;34m.\u001b[0m\u001b[0mjoin\u001b[0m\u001b[0;34m(\u001b[0m\u001b[0mlog_name\u001b[0m\u001b[0;34m,\u001b[0m \u001b[0;34m'vmt.py'\u001b[0m\u001b[0;34m)\u001b[0m\u001b[0;34m)\u001b[0m \u001b[0;34m==\u001b[0m \u001b[0;32mTrue\u001b[0m\u001b[0;34m\u001b[0m\u001b[0;34m\u001b[0m\u001b[0m\n\u001b[0m\u001b[1;32m      7\u001b[0m \u001b[0mprint\u001b[0m\u001b[0;34m(\u001b[0m\u001b[0mos\u001b[0m\u001b[0;34m.\u001b[0m\u001b[0mpath\u001b[0m\u001b[0;34m.\u001b[0m\u001b[0mjoin\u001b[0m\u001b[0;34m(\u001b[0m\u001b[0mlog_name\u001b[0m\u001b[0;34m,\u001b[0m \u001b[0mcheckpoint_name\u001b[0m\u001b[0;34m)\u001b[0m\u001b[0;34m)\u001b[0m\u001b[0;34m\u001b[0m\u001b[0;34m\u001b[0m\u001b[0m\n\u001b[1;32m      8\u001b[0m \u001b[0;32massert\u001b[0m \u001b[0mos\u001b[0m\u001b[0;34m.\u001b[0m\u001b[0mpath\u001b[0m\u001b[0;34m.\u001b[0m\u001b[0mexists\u001b[0m\u001b[0;34m(\u001b[0m\u001b[0mos\u001b[0m\u001b[0;34m.\u001b[0m\u001b[0mpath\u001b[0m\u001b[0;34m.\u001b[0m\u001b[0mjoin\u001b[0m\u001b[0;34m(\u001b[0m\u001b[0mlog_name\u001b[0m\u001b[0;34m,\u001b[0m \u001b[0mcheckpoint_name\u001b[0m\u001b[0;34m)\u001b[0m\u001b[0;34m)\u001b[0m \u001b[0;34m==\u001b[0m \u001b[0;32mTrue\u001b[0m\u001b[0;34m\u001b[0m\u001b[0;34m\u001b[0m\u001b[0m\n",
      "\u001b[0;31mAssertionError\u001b[0m: "
     ]
    }
   ],
   "source": [
    "log_name = 'save/temp_rec_vae_gan_temp_rand_sample-2020-05-17-12-46-38/'\n",
    "# log_name = 'save/temp_rec_vae_gan_biset_temp_rand_sample-2020-05-15-03-24-22/'\n",
    "iteration = 100000\n",
    "K_BINS = 20\n",
    "checkpoint_name = 'amp_checkpoint_{}.pt'.format(iteration)\n",
    "assert os.path.exists(os.path.join(log_name, 'vmt.py')) == True\n",
    "print(os.path.join(log_name, checkpoint_name))\n",
    "assert os.path.exists(os.path.join(log_name, checkpoint_name)) == True\n",
    "\n",
    "copyfile(os.path.join(log_name, 'vmt.py'), 'module/temp_vmt.py')\n"
   ]
  },
  {
   "cell_type": "code",
   "execution_count": null,
   "metadata": {},
   "outputs": [],
   "source": [
    "from module.temp_vmt import VMT, TemplateD\n",
    "checkpoint = torch.load(os.path.join(log_name, checkpoint_name))\n",
    "# checkpoint should contain model state dict,\n",
    "with open(os.path.join(log_name, 'params.json'), 'r') as f:\n",
    "    params = json.load(f)\n",
    "\n",
    "args = Struct(**params)\n",
    "\n",
    "dataset =  KKDayUser(-1, 'data/kkday_dataset/user_data', \n",
    "            'data/kkday_dataset/matrix_factorized_64.pkl',\n",
    "            prefix='item_graph', embedding=None, max_length=args.max_seq_len, force_fix_len=args.grad_penalty or args.full_text, \n",
    "            token_level=args.tokenize, is_train=True)\n",
    "dataloader = torch.utils.data.DataLoader(dataset, num_workers=4,\n",
    "                collate_fn=seq_collate, batch_size=64, shuffle=True)\n",
    "\n",
    "model = VMT(args.gen_embed_dim, dataset.vocab_size,\n",
    "            enc_hidden_size=128, dec_hidden_size=128, tmp_category=args.tmp_cat_dim,\n",
    "            tmp_latent_dim=args.tmp_latent_dim, desc_latent_dim=args.desc_latent_dim, user_latent_dim=args.user_latent_dim,\n",
    "            biset=args.biset,\n",
    "            max_seq_len=args.max_seq_len-1, gpu=True)\n",
    "\n",
    "C = VAE_Cluster(64, 64, k_bins=10, output_embed_dim=args.user_latent_dim)\n",
    "\n",
    "model.load_state_dict(checkpoint['model'])\n",
    "model = model.cuda().eval()\n",
    "C = C.cuda().eval()"
   ]
  },
  {
   "cell_type": "code",
   "execution_count": null,
   "metadata": {},
   "outputs": [],
   "source": [
    "template_reference = {}\n",
    "size = 15000\n",
    "\n",
    "for i, batch in tqdm(enumerate(dataloader), total=len(dataloader)):\n",
    "    src_inputs = batch['src']\n",
    "    tmp = batch['tmp']\n",
    "    items, users = batch['items'], batch['users']\n",
    "    inputs, target1 = batch['tgt'][:, :-1], batch['tgt'][:, 1:]\n",
    "    references = []\n",
    "    if True:\n",
    "        inputs, items, users = inputs.cuda(), items.cuda(), users.cuda()\n",
    "        src_inputs = src_inputs.cuda()\n",
    "        inputs = inputs.cuda()\n",
    "        target1 = target1.cuda()\n",
    "        tmp = tmp.cuda()\n",
    "\n",
    "    batch_size = src_inputs.shape[0]\n",
    "    desc_outputs, desc_latent, _, _ = model.encode_desc(src_inputs)\n",
    "    _, tmp_latent = model.encode_tmp(tmp)\n",
    "    # output_title = torch.argmax(output_logits, dim=-1)\n",
    "    for idx, sent_token in enumerate(batch['tgt'][:, 1:]):\n",
    "        reference = []\n",
    "        for token in sent_token:\n",
    "            if token.item() == Constants.EOS:\n",
    "                break\n",
    "            reference.append(dataset.idx2word[token.item()] )\n",
    "        references.append(reference)\n",
    "\n",
    "    for idx, sent in enumerate(references):\n",
    "        template_reference[' '.join(sent)] = {\n",
    "            'tmp': tmp_latent[idx].detach().cpu().numpy(),\n",
    "#             'tmp_outputs': tmp_outputs[idx],\n",
    "            'desc_latent': desc_latent[idx].detach().cpu(),\n",
    "            'desc_outputs': desc_outputs[idx].detach().cpu(),\n",
    "        }\n"
   ]
  },
  {
   "cell_type": "code",
   "execution_count": null,
   "metadata": {},
   "outputs": [],
   "source": [
    "X, title = [], []\n",
    "print(len(template_reference))\n",
    "for key, latent in template_reference.items():\n",
    "    X.append(latent['tmp'])\n",
    "    title.append(key)\n",
    "title = np.array(title)\n",
    "\n",
    "pca = PCA(n_components=2)\n",
    "X_r = pca.fit(X).transform(X)\n",
    "\n",
    "nbrs = SpectralClustering(n_clusters=6).fit(X_r)\n",
    "\n",
    "y = nbrs.labels_\n",
    "print(set(y))"
   ]
  },
  {
   "cell_type": "code",
   "execution_count": null,
   "metadata": {},
   "outputs": [],
   "source": [
    "plt.figure()\n",
    "target_names = [0,1,2,3,4, 5]\n",
    "\n",
    "colors = ['navy', 'turquoise', 'darkorange','red','black', 'green']\n",
    "lw = 2\n",
    "\n",
    "for color, i, target_name in zip(colors, list(range(len(target_names))), target_names):\n",
    "    plt.scatter(X_r[y == i, 0], X_r[y == i, 1], color=color, alpha=.8, lw=lw,\n",
    "                label=target_name)"
   ]
  },
  {
   "cell_type": "code",
   "execution_count": null,
   "metadata": {},
   "outputs": [],
   "source": [
    "for target_name in target_names:\n",
    "    print(target_name, len(title[y==target_name]))\n",
    "    print('\\n'.join(title[y==target_name][:10]))\n",
    "    print('')"
   ]
  },
  {
   "cell_type": "code",
   "execution_count": 297,
   "metadata": {},
   "outputs": [],
   "source": [
    "train_dataset = torch.load('dataset/train.pt')"
   ]
  },
  {
   "cell_type": "code",
   "execution_count": null,
   "metadata": {},
   "outputs": [],
   "source": [
    "valid_dataset = torch.load('dataset/valid.pt')\n",
    "valid_dataset = torch.load('dataset/test.pt')"
   ]
  },
  {
   "cell_type": "code",
   "execution_count": 306,
   "metadata": {},
   "outputs": [
    {
     "name": "stderr",
     "output_type": "stream",
     "text": [
      "/home/theblackcat102/Documents/text-subgan/env/lib/python3.6/site-packages/ipykernel_launcher.py:7: TqdmDeprecationWarning: This function will be removed in tqdm==5.0.0\n",
      "Please use `tqdm.notebook.tqdm` instead of `tqdm.tqdm_notebook`\n",
      "  import sys\n"
     ]
    },
    {
     "data": {
      "application/vnd.jupyter.widget-view+json": {
       "model_id": "da4ebcee3f5e46609d06b4bd14e51d96",
       "version_major": 2,
       "version_minor": 0
      },
      "text/plain": [
       "HBox(children=(FloatProgress(value=0.0, max=14095.0), HTML(value='')))"
      ]
     },
     "metadata": {},
     "output_type": "display_data"
    },
    {
     "name": "stderr",
     "output_type": "stream",
     "text": [
      "/home/theblackcat102/Documents/text-subgan/env/lib/python3.6/site-packages/ipykernel_launcher.py:9: TqdmDeprecationWarning: This function will be removed in tqdm==5.0.0\n",
      "Please use `tqdm.notebook.tqdm` instead of `tqdm.tqdm_notebook`\n",
      "  if __name__ == '__main__':\n"
     ]
    },
    {
     "data": {
      "application/vnd.jupyter.widget-view+json": {
       "model_id": "588adb7ec4074114a6798be76b16de95",
       "version_major": 2,
       "version_minor": 0
      },
      "text/plain": [
       "HBox(children=(FloatProgress(value=1.0, bar_style='info', max=1.0), HTML(value='')))"
      ]
     },
     "metadata": {},
     "output_type": "display_data"
    },
    {
     "name": "stdout",
     "output_type": "stream",
     "text": [
      "\n"
     ]
    },
    {
     "data": {
      "application/vnd.jupyter.widget-view+json": {
       "model_id": "4c3bfac2b323477b983027f16fe250aa",
       "version_major": 2,
       "version_minor": 0
      },
      "text/plain": [
       "HBox(children=(FloatProgress(value=0.0, max=18769.0), HTML(value='')))"
      ]
     },
     "metadata": {},
     "output_type": "display_data"
    },
    {
     "name": "stderr",
     "output_type": "stream",
     "text": [
      "IOPub message rate exceeded.\n",
      "The notebook server will temporarily stop sending output\n",
      "to the client in order to avoid crashing it.\n",
      "To change this limit, set the config variable\n",
      "`--NotebookApp.iopub_msg_rate_limit`.\n",
      "\n",
      "Current values:\n",
      "NotebookApp.iopub_msg_rate_limit=1000.0 (msgs/sec)\n",
      "NotebookApp.rate_limit_window=3.0 (secs)\n",
      "\n"
     ]
    },
    {
     "name": "stdout",
     "output_type": "stream",
     "text": [
      "\n"
     ]
    },
    {
     "data": {
      "application/vnd.jupyter.widget-view+json": {
       "model_id": "686c7a041c6242439d6676f2c24cc2a3",
       "version_major": 2,
       "version_minor": 0
      },
      "text/plain": [
       "HBox(children=(FloatProgress(value=1.0, bar_style='info', max=1.0), HTML(value='')))"
      ]
     },
     "metadata": {},
     "output_type": "display_data"
    },
    {
     "name": "stdout",
     "output_type": "stream",
     "text": [
      "\n"
     ]
    },
    {
     "data": {
      "application/vnd.jupyter.widget-view+json": {
       "model_id": "62f7538bb86a41c78898fcb23b8e59ef",
       "version_major": 2,
       "version_minor": 0
      },
      "text/plain": [
       "HBox(children=(FloatProgress(value=1.0, bar_style='info', max=1.0), HTML(value='')))"
      ]
     },
     "metadata": {},
     "output_type": "display_data"
    },
    {
     "name": "stdout",
     "output_type": "stream",
     "text": [
      "\n"
     ]
    },
    {
     "data": {
      "application/vnd.jupyter.widget-view+json": {
       "model_id": "a9924c4bbfde47f3a60f0d62cc778d97",
       "version_major": 2,
       "version_minor": 0
      },
      "text/plain": [
       "HBox(children=(FloatProgress(value=1.0, bar_style='info', max=1.0), HTML(value='')))"
      ]
     },
     "metadata": {},
     "output_type": "display_data"
    },
    {
     "name": "stdout",
     "output_type": "stream",
     "text": [
      "\n"
     ]
    },
    {
     "data": {
      "application/vnd.jupyter.widget-view+json": {
       "model_id": "ce8dd63d134a4468a0a6501923d76e7e",
       "version_major": 2,
       "version_minor": 0
      },
      "text/plain": [
       "HBox(children=(FloatProgress(value=0.0, max=441.0), HTML(value='')))"
      ]
     },
     "metadata": {},
     "output_type": "display_data"
    },
    {
     "name": "stdout",
     "output_type": "stream",
     "text": [
      "\n"
     ]
    },
    {
     "data": {
      "application/vnd.jupyter.widget-view+json": {
       "model_id": "df2f4f1c25d44708adcd240373a00416",
       "version_major": 2,
       "version_minor": 0
      },
      "text/plain": [
       "HBox(children=(FloatProgress(value=0.0, max=9.0), HTML(value='')))"
      ]
     },
     "metadata": {},
     "output_type": "display_data"
    },
    {
     "name": "stdout",
     "output_type": "stream",
     "text": [
      "\n"
     ]
    },
    {
     "data": {
      "application/vnd.jupyter.widget-view+json": {
       "model_id": "fb211dcf7cae4b06b5a0d54fdaf5d8f4",
       "version_major": 2,
       "version_minor": 0
      },
      "text/plain": [
       "HBox(children=(FloatProgress(value=1.0, bar_style='info', max=1.0), HTML(value='')))"
      ]
     },
     "metadata": {},
     "output_type": "display_data"
    },
    {
     "name": "stdout",
     "output_type": "stream",
     "text": [
      "\n"
     ]
    },
    {
     "data": {
      "application/vnd.jupyter.widget-view+json": {
       "model_id": "32608bbcdc4f4b47a473d6040522530d",
       "version_major": 2,
       "version_minor": 0
      },
      "text/plain": [
       "HBox(children=(FloatProgress(value=1.0, bar_style='info', max=1.0), HTML(value='')))"
      ]
     },
     "metadata": {},
     "output_type": "display_data"
    },
    {
     "name": "stdout",
     "output_type": "stream",
     "text": [
      "\n"
     ]
    },
    {
     "data": {
      "application/vnd.jupyter.widget-view+json": {
       "model_id": "cb87700599684918b54af4bca2d184f8",
       "version_major": 2,
       "version_minor": 0
      },
      "text/plain": [
       "HBox(children=(FloatProgress(value=1.0, bar_style='info', max=1.0), HTML(value='')))"
      ]
     },
     "metadata": {},
     "output_type": "display_data"
    },
    {
     "name": "stdout",
     "output_type": "stream",
     "text": [
      "\n"
     ]
    },
    {
     "data": {
      "application/vnd.jupyter.widget-view+json": {
       "model_id": "eb150a20ac5c4d9fa5303feb8c1dfe8f",
       "version_major": 2,
       "version_minor": 0
      },
      "text/plain": [
       "HBox(children=(FloatProgress(value=1.0, bar_style='info', max=1.0), HTML(value='')))"
      ]
     },
     "metadata": {},
     "output_type": "display_data"
    },
    {
     "name": "stdout",
     "output_type": "stream",
     "text": [
      "\n"
     ]
    },
    {
     "data": {
      "application/vnd.jupyter.widget-view+json": {
       "model_id": "9189b2f77476479b8dd7f35c61a8587b",
       "version_major": 2,
       "version_minor": 0
      },
      "text/plain": [
       "HBox(children=(FloatProgress(value=1.0, bar_style='info', max=1.0), HTML(value='')))"
      ]
     },
     "metadata": {},
     "output_type": "display_data"
    },
    {
     "name": "stdout",
     "output_type": "stream",
     "text": [
      "\n"
     ]
    },
    {
     "data": {
      "application/vnd.jupyter.widget-view+json": {
       "model_id": "9908dcbcb577463eab3091b5c954165a",
       "version_major": 2,
       "version_minor": 0
      },
      "text/plain": [
       "HBox(children=(FloatProgress(value=1.0, bar_style='info', max=1.0), HTML(value='')))"
      ]
     },
     "metadata": {},
     "output_type": "display_data"
    },
    {
     "name": "stdout",
     "output_type": "stream",
     "text": [
      "\n"
     ]
    },
    {
     "data": {
      "application/vnd.jupyter.widget-view+json": {
       "model_id": "d94a2889de0d47048098d192b80fad25",
       "version_major": 2,
       "version_minor": 0
      },
      "text/plain": [
       "HBox(children=(FloatProgress(value=1.0, bar_style='info', max=1.0), HTML(value='')))"
      ]
     },
     "metadata": {},
     "output_type": "display_data"
    },
    {
     "name": "stdout",
     "output_type": "stream",
     "text": [
      "\n"
     ]
    },
    {
     "data": {
      "application/vnd.jupyter.widget-view+json": {
       "model_id": "39ba83a170f04fd8a708c39f07703d61",
       "version_major": 2,
       "version_minor": 0
      },
      "text/plain": [
       "HBox(children=(FloatProgress(value=0.0, max=169.0), HTML(value='')))"
      ]
     },
     "metadata": {},
     "output_type": "display_data"
    },
    {
     "name": "stdout",
     "output_type": "stream",
     "text": [
      "\n"
     ]
    },
    {
     "data": {
      "application/vnd.jupyter.widget-view+json": {
       "model_id": "211aaf0b9295483f9360534888c087fa",
       "version_major": 2,
       "version_minor": 0
      },
      "text/plain": [
       "HBox(children=(FloatProgress(value=1.0, bar_style='info', max=1.0), HTML(value='')))"
      ]
     },
     "metadata": {},
     "output_type": "display_data"
    },
    {
     "name": "stdout",
     "output_type": "stream",
     "text": [
      "\n"
     ]
    },
    {
     "data": {
      "application/vnd.jupyter.widget-view+json": {
       "model_id": "cc03049a54dc49f18cc82c3eae2bdf54",
       "version_major": 2,
       "version_minor": 0
      },
      "text/plain": [
       "HBox(children=(FloatProgress(value=1.0, bar_style='info', max=1.0), HTML(value='')))"
      ]
     },
     "metadata": {},
     "output_type": "display_data"
    },
    {
     "name": "stdout",
     "output_type": "stream",
     "text": [
      "\n"
     ]
    },
    {
     "data": {
      "application/vnd.jupyter.widget-view+json": {
       "model_id": "a09dc7d947d943d28994a1a48dbd0765",
       "version_major": 2,
       "version_minor": 0
      },
      "text/plain": [
       "HBox(children=(FloatProgress(value=0.0, max=1936.0), HTML(value='')))"
      ]
     },
     "metadata": {},
     "output_type": "display_data"
    },
    {
     "name": "stdout",
     "output_type": "stream",
     "text": [
      "\n"
     ]
    },
    {
     "data": {
      "application/vnd.jupyter.widget-view+json": {
       "model_id": "40fe257455484f3da141b18f24fdfa12",
       "version_major": 2,
       "version_minor": 0
      },
      "text/plain": [
       "HBox(children=(FloatProgress(value=1.0, bar_style='info', max=1.0), HTML(value='')))"
      ]
     },
     "metadata": {},
     "output_type": "display_data"
    },
    {
     "name": "stdout",
     "output_type": "stream",
     "text": [
      "\n"
     ]
    },
    {
     "data": {
      "application/vnd.jupyter.widget-view+json": {
       "model_id": "303446436a5f49f9a0e94a2cc5d75c64",
       "version_major": 2,
       "version_minor": 0
      },
      "text/plain": [
       "HBox(children=(FloatProgress(value=0.0, max=196.0), HTML(value='')))"
      ]
     },
     "metadata": {},
     "output_type": "display_data"
    },
    {
     "name": "stdout",
     "output_type": "stream",
     "text": [
      "\n"
     ]
    },
    {
     "data": {
      "application/vnd.jupyter.widget-view+json": {
       "model_id": "da7f9080205e4648a05e587ddc0b3e2e",
       "version_major": 2,
       "version_minor": 0
      },
      "text/plain": [
       "HBox(children=(FloatProgress(value=0.0, max=1.0), HTML(value='')))"
      ]
     },
     "metadata": {},
     "output_type": "display_data"
    },
    {
     "name": "stdout",
     "output_type": "stream",
     "text": [
      "\n"
     ]
    },
    {
     "data": {
      "application/vnd.jupyter.widget-view+json": {
       "model_id": "fde6b04c11914dabbff35aa134021dea",
       "version_major": 2,
       "version_minor": 0
      },
      "text/plain": [
       "HBox(children=(FloatProgress(value=1.0, bar_style='info', max=1.0), HTML(value='')))"
      ]
     },
     "metadata": {},
     "output_type": "display_data"
    },
    {
     "name": "stdout",
     "output_type": "stream",
     "text": [
      "\n"
     ]
    },
    {
     "data": {
      "application/vnd.jupyter.widget-view+json": {
       "model_id": "7bfd09184f2547b8884d19eb72332854",
       "version_major": 2,
       "version_minor": 0
      },
      "text/plain": [
       "HBox(children=(FloatProgress(value=1.0, bar_style='info', max=1.0), HTML(value='')))"
      ]
     },
     "metadata": {},
     "output_type": "display_data"
    },
    {
     "name": "stdout",
     "output_type": "stream",
     "text": [
      "\n"
     ]
    },
    {
     "data": {
      "application/vnd.jupyter.widget-view+json": {
       "model_id": "8535ed5411d14dd6a5742779ca38ebac",
       "version_major": 2,
       "version_minor": 0
      },
      "text/plain": [
       "HBox(children=(FloatProgress(value=0.0, max=196.0), HTML(value='')))"
      ]
     },
     "metadata": {},
     "output_type": "display_data"
    },
    {
     "name": "stdout",
     "output_type": "stream",
     "text": [
      "\n"
     ]
    },
    {
     "data": {
      "application/vnd.jupyter.widget-view+json": {
       "model_id": "b4e27e02261b4edba9583729b6c603b9",
       "version_major": 2,
       "version_minor": 0
      },
      "text/plain": [
       "HBox(children=(FloatProgress(value=1.0, bar_style='info', max=1.0), HTML(value='')))"
      ]
     },
     "metadata": {},
     "output_type": "display_data"
    },
    {
     "name": "stdout",
     "output_type": "stream",
     "text": [
      "\n"
     ]
    },
    {
     "data": {
      "application/vnd.jupyter.widget-view+json": {
       "model_id": "e72971a3516b48b09fa09d08569e465d",
       "version_major": 2,
       "version_minor": 0
      },
      "text/plain": [
       "HBox(children=(FloatProgress(value=0.0, max=65.0), HTML(value='')))"
      ]
     },
     "metadata": {},
     "output_type": "display_data"
    },
    {
     "name": "stdout",
     "output_type": "stream",
     "text": [
      "\n"
     ]
    },
    {
     "data": {
      "application/vnd.jupyter.widget-view+json": {
       "model_id": "9a4f8e0f34924953bbff03e629a646ae",
       "version_major": 2,
       "version_minor": 0
      },
      "text/plain": [
       "HBox(children=(FloatProgress(value=0.0, max=8281.0), HTML(value='')))"
      ]
     },
     "metadata": {},
     "output_type": "display_data"
    },
    {
     "name": "stdout",
     "output_type": "stream",
     "text": [
      "\n"
     ]
    },
    {
     "data": {
      "application/vnd.jupyter.widget-view+json": {
       "model_id": "7fbc6ff4a5fd4dc8b4ede9ef15715ae2",
       "version_major": 2,
       "version_minor": 0
      },
      "text/plain": [
       "HBox(children=(FloatProgress(value=1.0, bar_style='info', max=1.0), HTML(value='')))"
      ]
     },
     "metadata": {},
     "output_type": "display_data"
    },
    {
     "name": "stdout",
     "output_type": "stream",
     "text": [
      "\n"
     ]
    },
    {
     "data": {
      "application/vnd.jupyter.widget-view+json": {
       "model_id": "7ce636b7902347549905f54a363aefb6",
       "version_major": 2,
       "version_minor": 0
      },
      "text/plain": [
       "HBox(children=(FloatProgress(value=1.0, bar_style='info', max=1.0), HTML(value='')))"
      ]
     },
     "metadata": {},
     "output_type": "display_data"
    },
    {
     "name": "stdout",
     "output_type": "stream",
     "text": [
      "\n"
     ]
    },
    {
     "data": {
      "application/vnd.jupyter.widget-view+json": {
       "model_id": "7a30369fd731461599fdc64bdb400a93",
       "version_major": 2,
       "version_minor": 0
      },
      "text/plain": [
       "HBox(children=(FloatProgress(value=1.0, bar_style='info', max=1.0), HTML(value='')))"
      ]
     },
     "metadata": {},
     "output_type": "display_data"
    },
    {
     "name": "stdout",
     "output_type": "stream",
     "text": [
      "\n"
     ]
    },
    {
     "data": {
      "application/vnd.jupyter.widget-view+json": {
       "model_id": "f4a5b1f64fed4fffa3c960ca81f74b5f",
       "version_major": 2,
       "version_minor": 0
      },
      "text/plain": [
       "HBox(children=(FloatProgress(value=1.0, bar_style='info', max=1.0), HTML(value='')))"
      ]
     },
     "metadata": {},
     "output_type": "display_data"
    },
    {
     "name": "stdout",
     "output_type": "stream",
     "text": [
      "\n"
     ]
    },
    {
     "data": {
      "application/vnd.jupyter.widget-view+json": {
       "model_id": "8e8f4a900788499f97dde07d2446d1e6",
       "version_major": 2,
       "version_minor": 0
      },
      "text/plain": [
       "HBox(children=(FloatProgress(value=1.0, bar_style='info', max=1.0), HTML(value='')))"
      ]
     },
     "metadata": {},
     "output_type": "display_data"
    },
    {
     "name": "stdout",
     "output_type": "stream",
     "text": [
      "\n"
     ]
    },
    {
     "data": {
      "application/vnd.jupyter.widget-view+json": {
       "model_id": "e9f6a686ab9247f0a5b208542f54438c",
       "version_major": 2,
       "version_minor": 0
      },
      "text/plain": [
       "HBox(children=(FloatProgress(value=0.0, max=3844.0), HTML(value='')))"
      ]
     },
     "metadata": {},
     "output_type": "display_data"
    },
    {
     "name": "stdout",
     "output_type": "stream",
     "text": [
      "\n"
     ]
    },
    {
     "data": {
      "application/vnd.jupyter.widget-view+json": {
       "model_id": "8ab99f4ca0bf494f8869f31491c253b6",
       "version_major": 2,
       "version_minor": 0
      },
      "text/plain": [
       "HBox(children=(FloatProgress(value=0.0, max=49.0), HTML(value='')))"
      ]
     },
     "metadata": {},
     "output_type": "display_data"
    },
    {
     "name": "stdout",
     "output_type": "stream",
     "text": [
      "\n"
     ]
    },
    {
     "data": {
      "application/vnd.jupyter.widget-view+json": {
       "model_id": "42800fcacbdd4601968cc7bdb0f2a083",
       "version_major": 2,
       "version_minor": 0
      },
      "text/plain": [
       "HBox(children=(FloatProgress(value=1.0, bar_style='info', max=1.0), HTML(value='')))"
      ]
     },
     "metadata": {},
     "output_type": "display_data"
    },
    {
     "name": "stdout",
     "output_type": "stream",
     "text": [
      "\n"
     ]
    },
    {
     "data": {
      "application/vnd.jupyter.widget-view+json": {
       "model_id": "5344045bc92e4b7b8b3145fe9639ebb7",
       "version_major": 2,
       "version_minor": 0
      },
      "text/plain": [
       "HBox(children=(FloatProgress(value=0.0, max=3313.0), HTML(value='')))"
      ]
     },
     "metadata": {},
     "output_type": "display_data"
    },
    {
     "name": "stdout",
     "output_type": "stream",
     "text": [
      "\n"
     ]
    },
    {
     "data": {
      "application/vnd.jupyter.widget-view+json": {
       "model_id": "cc2118f776c041d3844e1f50e3da6bc7",
       "version_major": 2,
       "version_minor": 0
      },
      "text/plain": [
       "HBox(children=(FloatProgress(value=0.0, max=36.0), HTML(value='')))"
      ]
     },
     "metadata": {},
     "output_type": "display_data"
    },
    {
     "name": "stdout",
     "output_type": "stream",
     "text": [
      "\n"
     ]
    },
    {
     "data": {
      "application/vnd.jupyter.widget-view+json": {
       "model_id": "da9fa96594734fcc8b47edb87afbe5fd",
       "version_major": 2,
       "version_minor": 0
      },
      "text/plain": [
       "HBox(children=(FloatProgress(value=0.0, max=1.0), HTML(value='')))"
      ]
     },
     "metadata": {},
     "output_type": "display_data"
    },
    {
     "name": "stdout",
     "output_type": "stream",
     "text": [
      "\n"
     ]
    },
    {
     "data": {
      "application/vnd.jupyter.widget-view+json": {
       "model_id": "c0ff48953c2d4dc180949683fcca5fa2",
       "version_major": 2,
       "version_minor": 0
      },
      "text/plain": [
       "HBox(children=(FloatProgress(value=1.0, bar_style='info', max=1.0), HTML(value='')))"
      ]
     },
     "metadata": {},
     "output_type": "display_data"
    },
    {
     "name": "stdout",
     "output_type": "stream",
     "text": [
      "\n"
     ]
    },
    {
     "data": {
      "application/vnd.jupyter.widget-view+json": {
       "model_id": "7a17facbd1dd4d948a6d4e9ea02c497a",
       "version_major": 2,
       "version_minor": 0
      },
      "text/plain": [
       "HBox(children=(FloatProgress(value=0.0), HTML(value='')))"
      ]
     },
     "metadata": {},
     "output_type": "display_data"
    },
    {
     "name": "stdout",
     "output_type": "stream",
     "text": [
      "\n"
     ]
    },
    {
     "data": {
      "application/vnd.jupyter.widget-view+json": {
       "model_id": "fb5ec3a3faa64f619cd27d04c67fa9b6",
       "version_major": 2,
       "version_minor": 0
      },
      "text/plain": [
       "HBox(children=(FloatProgress(value=0.0, max=4.0), HTML(value='')))"
      ]
     },
     "metadata": {},
     "output_type": "display_data"
    },
    {
     "name": "stdout",
     "output_type": "stream",
     "text": [
      "\n"
     ]
    },
    {
     "data": {
      "application/vnd.jupyter.widget-view+json": {
       "model_id": "74532df27f9a46cf9b442b68f3052ed3",
       "version_major": 2,
       "version_minor": 0
      },
      "text/plain": [
       "HBox(children=(FloatProgress(value=1.0, bar_style='info', max=1.0), HTML(value='')))"
      ]
     },
     "metadata": {},
     "output_type": "display_data"
    },
    {
     "name": "stdout",
     "output_type": "stream",
     "text": [
      "\n"
     ]
    },
    {
     "data": {
      "application/vnd.jupyter.widget-view+json": {
       "model_id": "26ebb2aef4bb4f628b02c48122c34ecc",
       "version_major": 2,
       "version_minor": 0
      },
      "text/plain": [
       "HBox(children=(FloatProgress(value=1.0, bar_style='info', max=1.0), HTML(value='')))"
      ]
     },
     "metadata": {},
     "output_type": "display_data"
    },
    {
     "name": "stdout",
     "output_type": "stream",
     "text": [
      "\n"
     ]
    },
    {
     "data": {
      "application/vnd.jupyter.widget-view+json": {
       "model_id": "091a3210e4b548a09d952f6951993f12",
       "version_major": 2,
       "version_minor": 0
      },
      "text/plain": [
       "HBox(children=(FloatProgress(value=0.0, max=4761.0), HTML(value='')))"
      ]
     },
     "metadata": {},
     "output_type": "display_data"
    },
    {
     "name": "stdout",
     "output_type": "stream",
     "text": [
      "\n"
     ]
    },
    {
     "data": {
      "application/vnd.jupyter.widget-view+json": {
       "model_id": "54552413d3b84c8bb88b9bf171b59986",
       "version_major": 2,
       "version_minor": 0
      },
      "text/plain": [
       "HBox(children=(FloatProgress(value=1.0, bar_style='info', max=1.0), HTML(value='')))"
      ]
     },
     "metadata": {},
     "output_type": "display_data"
    },
    {
     "name": "stdout",
     "output_type": "stream",
     "text": [
      "\n"
     ]
    },
    {
     "data": {
      "application/vnd.jupyter.widget-view+json": {
       "model_id": "5f8f911d887d45cdb6cd4e54fda45c4b",
       "version_major": 2,
       "version_minor": 0
      },
      "text/plain": [
       "HBox(children=(FloatProgress(value=1.0, bar_style='info', max=1.0), HTML(value='')))"
      ]
     },
     "metadata": {},
     "output_type": "display_data"
    },
    {
     "name": "stdout",
     "output_type": "stream",
     "text": [
      "\n"
     ]
    },
    {
     "data": {
      "application/vnd.jupyter.widget-view+json": {
       "model_id": "0e3aa062c5094bb889541b218e0c0461",
       "version_major": 2,
       "version_minor": 0
      },
      "text/plain": [
       "HBox(children=(FloatProgress(value=0.0, max=68121.0), HTML(value='')))"
      ]
     },
     "metadata": {},
     "output_type": "display_data"
    },
    {
     "ename": "KeyboardInterrupt",
     "evalue": "",
     "output_type": "error",
     "traceback": [
      "\u001b[0;31m---------------------------------------------------------------------------\u001b[0m",
      "\u001b[0;31mKeyboardInterrupt\u001b[0m                         Traceback (most recent call last)",
      "\u001b[0;32m<ipython-input-306-1fb5a916e12a>\u001b[0m in \u001b[0;36m<module>\u001b[0;34m\u001b[0m\n\u001b[1;32m      8\u001b[0m     \u001b[0m_\u001b[0m\u001b[0;34m,\u001b[0m \u001b[0m_\u001b[0m\u001b[0;34m,\u001b[0m \u001b[0m_\u001b[0m\u001b[0;34m,\u001b[0m \u001b[0muser_prod_pairs\u001b[0m \u001b[0;34m=\u001b[0m \u001b[0mrow\u001b[0m\u001b[0;34m\u001b[0m\u001b[0;34m\u001b[0m\u001b[0m\n\u001b[1;32m      9\u001b[0m     \u001b[0;32mfor\u001b[0m \u001b[0mpair\u001b[0m \u001b[0;32min\u001b[0m \u001b[0mtqdm\u001b[0m\u001b[0;34m(\u001b[0m\u001b[0muser_prod_pairs\u001b[0m\u001b[0;34m)\u001b[0m\u001b[0;34m:\u001b[0m\u001b[0;34m\u001b[0m\u001b[0;34m\u001b[0m\u001b[0m\n\u001b[0;32m---> 10\u001b[0;31m         \u001b[0;32mif\u001b[0m \u001b[0mpair\u001b[0m \u001b[0;32min\u001b[0m \u001b[0mvalid_user_prod\u001b[0m\u001b[0;34m:\u001b[0m\u001b[0;34m\u001b[0m\u001b[0;34m\u001b[0m\u001b[0m\n\u001b[0m\u001b[1;32m     11\u001b[0m             \u001b[0mprint\u001b[0m\u001b[0;34m(\u001b[0m\u001b[0;34m'found repeated'\u001b[0m\u001b[0;34m)\u001b[0m\u001b[0;34m\u001b[0m\u001b[0;34m\u001b[0m\u001b[0m\n\u001b[1;32m     12\u001b[0m             \u001b[0mprint\u001b[0m\u001b[0;34m(\u001b[0m\u001b[0mpair\u001b[0m\u001b[0;34m)\u001b[0m\u001b[0;34m\u001b[0m\u001b[0;34m\u001b[0m\u001b[0m\n",
      "\u001b[0;31mKeyboardInterrupt\u001b[0m: "
     ]
    }
   ],
   "source": [
    "valid_user_prod = [ ]\n",
    "for row in valid_dataset:\n",
    "    pairs = row[-1]\n",
    "    for pair in pairs:\n",
    "        valid_user_prod.append(pair)\n",
    "\n",
    "for row in tqdm(train_dataset):\n",
    "    _, _, _, user_prod_pairs = row\n",
    "    for pair in tqdm(user_prod_pairs):\n",
    "        if pair in valid_user_prod:\n",
    "            print('found repeated')\n",
    "            print(pair)\n",
    "            break"
   ]
  },
  {
   "cell_type": "code",
   "execution_count": 307,
   "metadata": {},
   "outputs": [
    {
     "name": "stdout",
     "output_type": "stream",
     "text": [
      "[1266, 15759]\n"
     ]
    }
   ],
   "source": []
  },
  {
   "cell_type": "code",
   "execution_count": null,
   "metadata": {},
   "outputs": [],
   "source": []
  }
 ],
 "metadata": {
  "kernelspec": {
   "display_name": "Python 3",
   "language": "python",
   "name": "python3"
  },
  "language_info": {
   "codemirror_mode": {
    "name": "ipython",
    "version": 3
   },
   "file_extension": ".py",
   "mimetype": "text/x-python",
   "name": "python",
   "nbconvert_exporter": "python",
   "pygments_lexer": "ipython3",
   "version": "3.6.9"
  }
 },
 "nbformat": 4,
 "nbformat_minor": 4
}
