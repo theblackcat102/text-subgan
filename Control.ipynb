{
 "cells": [
  {
   "cell_type": "code",
   "execution_count": 1,
   "metadata": {},
   "outputs": [],
   "source": [
    "%load_ext autoreload\n",
    "%autoreload 2"
   ]
  },
  {
   "cell_type": "code",
   "execution_count": 2,
   "metadata": {},
   "outputs": [],
   "source": [
    "import torch\n",
    "import torch.nn as nn\n",
    "import torch.nn.functional as F\n",
    "import torch.optim as optim\n",
    "from tqdm import tqdm_notebook as tqdm\n",
    "import os, glob, json\n",
    "import config as cfg\n",
    "from IPython.display import display\n",
    "from ipywidgets import widgets, Layout\n",
    "from module.cluster import VAE_Cluster\n",
    "from module.vmt import VMT, TemplateD\n",
    "from module.vae import GaussianKLLoss\n",
    "from dataset import KKDayUser, seq_collate\n",
    "from constant import Constants\n",
    "from utils import get_fixed_temperature, get_losses\n",
    "from sklearn.cluster import KMeans\n",
    "import numpy as np\n",
    "from tensorboardX import SummaryWriter\n",
    "from utils import gradient_penalty, str2bool, chunks\n",
    "from sklearn.manifold import SpectralEmbedding\n",
    "from nltk.translate.bleu_score import sentence_bleu\n",
    "from nltk.translate.bleu_score import SmoothingFunction\n",
    "from shutil import copyfile\n",
    "import pickle\n",
    "from collections import namedtuple"
   ]
  },
  {
   "cell_type": "code",
   "execution_count": 3,
   "metadata": {},
   "outputs": [],
   "source": [
    "from sklearn.cluster import SpectralClustering\n",
    "from sklearn.decomposition import PCA\n",
    "from sklearn.discriminant_analysis import LinearDiscriminantAnalysis"
   ]
  },
  {
   "cell_type": "code",
   "execution_count": 4,
   "metadata": {},
   "outputs": [],
   "source": [
    "import matplotlib\n",
    "import numpy as np\n",
    "import matplotlib.pyplot as plt\n",
    "%matplotlib inline  "
   ]
  },
  {
   "cell_type": "code",
   "execution_count": 5,
   "metadata": {},
   "outputs": [],
   "source": [
    "class Struct:\n",
    "    def __init__(self, **entries):\n",
    "        self.__dict__.update(entries)"
   ]
  },
  {
   "cell_type": "code",
   "execution_count": 5,
   "metadata": {},
   "outputs": [],
   "source": [
    "log_name = 'save/temp_temp_rec_vae_gan_biset-2020-05-15-16-34-59'\n",
    "iteration = 80000\n",
    "K_BINS = 20\n",
    "checkpoint_name = 'amp_checkpoint_{}.pt'.format(iteration)"
   ]
  },
  {
   "cell_type": "markdown",
   "metadata": {},
   "source": [
    "### Lets Visualize template first"
   ]
  },
  {
   "cell_type": "code",
   "execution_count": 62,
   "metadata": {},
   "outputs": [],
   "source": [
    "from tokenizer import CharTokenizer, WordTokenizer\n",
    "tokenizers = WordTokenizer()\n",
    "\n",
    "def generate_text(description, template, user, item):\n",
    "    with torch.no_grad():\n",
    "        desc = torch.from_numpy(tokenizers.encode(description)).long().cuda()\n",
    "        tgt = torch.from_numpy(tokenizers.encode(template)).long().cuda()\n",
    "\n",
    "        user = torch.from_numpy(user).float().cuda().unsqueeze(0)\n",
    "        item = torch.from_numpy(item).float().cuda().unsqueeze(0)\n",
    "\n",
    "        tmp = tgt.unsqueeze(0)[:, :-1]\n",
    "        src_inputs = desc.unsqueeze(0)\n",
    "        logits, embed = C(item, user)\n",
    "        desc_outputs, desc_latent, _, _ = model.encode_desc(src_inputs)\n",
    "        tmp_outputs, tmp_latent = model.encode_tmp(tmp)\n",
    "        _, output_title = model.decode(tmp_latent, desc_latent, embed,\n",
    "                desc_outputs, tmp_outputs,\n",
    "                max_length=64)\n",
    "\n",
    "        sentence = []\n",
    "        for token in output_title[0]:\n",
    "            if token.item() == Constants.EOS:\n",
    "                break\n",
    "            sentence.append(  dataset.idx2word[token.item()])\n",
    "        return ' '.join(sentence)"
   ]
  },
  {
   "cell_type": "code",
   "execution_count": 49,
   "metadata": {},
   "outputs": [
    {
     "name": "stdout",
     "output_type": "stream",
     "text": [
      "save/temp_rec_vae_gan_temp_rand_sample-2020-05-17-12-46-38/amp_checkpoint_100000.pt\n"
     ]
    },
    {
     "data": {
      "text/plain": [
       "'module/temp_vmt.py'"
      ]
     },
     "execution_count": 49,
     "metadata": {},
     "output_type": "execute_result"
    }
   ],
   "source": [
    "log_name = 'save/temp_rec_vae_gan_temp_rand_sample-2020-05-17-12-46-38/'\n",
    "# log_name = 'save/temp_rec_vae_gan_biset_temp_rand_sample-2020-05-15-03-24-22/'\n",
    "iteration = 100000\n",
    "K_BINS = 20\n",
    "checkpoint_name = 'amp_checkpoint_{}.pt'.format(iteration)\n",
    "assert os.path.exists(os.path.join(log_name, 'vmt.py')) == True\n",
    "print(os.path.join(log_name, checkpoint_name))\n",
    "assert os.path.exists(os.path.join(log_name, checkpoint_name)) == True\n",
    "\n",
    "copyfile(os.path.join(log_name, 'vmt.py'), 'module/temp_vmt.py')\n"
   ]
  },
  {
   "cell_type": "code",
   "execution_count": 50,
   "metadata": {},
   "outputs": [],
   "source": [
    "from module.temp_vmt import VMT, TemplateD\n",
    "checkpoint = torch.load(os.path.join(log_name, checkpoint_name))\n",
    "# checkpoint should contain model state dict,\n",
    "with open(os.path.join(log_name, 'params.json'), 'r') as f:\n",
    "    params = json.load(f)\n",
    "\n",
    "args = Struct(**params)\n",
    "\n",
    "dataset =  KKDayUser(-1, 'data/kkday_dataset/user_data', \n",
    "            'data/kkday_dataset/matrix_factorized_64.pkl',\n",
    "            prefix='item_graph', embedding=None, max_length=args.max_seq_len, force_fix_len=args.grad_penalty or args.full_text, \n",
    "            token_level=args.tokenize, is_train=True)\n",
    "dataloader = torch.utils.data.DataLoader(dataset, num_workers=4,\n",
    "                collate_fn=seq_collate, batch_size=64, shuffle=True)\n",
    "\n",
    "model = VMT(args.gen_embed_dim, dataset.vocab_size,\n",
    "            enc_hidden_size=128, dec_hidden_size=128, tmp_category=args.tmp_cat_dim,\n",
    "            tmp_latent_dim=args.tmp_latent_dim, desc_latent_dim=args.desc_latent_dim, user_latent_dim=args.user_latent_dim,\n",
    "            biset=args.biset,\n",
    "            max_seq_len=args.max_seq_len-1, gpu=True)\n",
    "\n",
    "C = VAE_Cluster(64, 64, k_bins=10, output_embed_dim=args.user_latent_dim)\n",
    "\n",
    "model.load_state_dict(checkpoint['model'])\n",
    "model = model.cuda().eval()\n",
    "C = C.cuda().eval()"
   ]
  },
  {
   "cell_type": "code",
   "execution_count": 51,
   "metadata": {},
   "outputs": [
    {
     "name": "stderr",
     "output_type": "stream",
     "text": [
      "/home/theblackcat102/Documents/text-subgan/env/lib/python3.6/site-packages/ipykernel_launcher.py:4: TqdmDeprecationWarning: This function will be removed in tqdm==5.0.0\n",
      "Please use `tqdm.notebook.tqdm` instead of `tqdm.tqdm_notebook`\n",
      "  after removing the cwd from sys.path.\n"
     ]
    },
    {
     "data": {
      "application/vnd.jupyter.widget-view+json": {
       "model_id": "6b07849f99b0464a849c0eabf6558b74",
       "version_major": 2,
       "version_minor": 0
      },
      "text/plain": [
       "HBox(children=(FloatProgress(value=0.0, max=3486.0), HTML(value='')))"
      ]
     },
     "metadata": {},
     "output_type": "display_data"
    },
    {
     "name": "stdout",
     "output_type": "stream",
     "text": [
      "\n"
     ]
    }
   ],
   "source": [
    "template_reference = {}\n",
    "size = 15000\n",
    "\n",
    "for i, batch in tqdm(enumerate(dataloader), total=len(dataloader)):\n",
    "    src_inputs = batch['src']\n",
    "    tmp = batch['tmp']\n",
    "    items, users = batch['items'], batch['users']\n",
    "    inputs, target1 = batch['tgt'][:, :-1], batch['tgt'][:, 1:]\n",
    "    references = []\n",
    "    if True:\n",
    "        inputs, items, users = inputs.cuda(), items.cuda(), users.cuda()\n",
    "        src_inputs = src_inputs.cuda()\n",
    "        inputs = inputs.cuda()\n",
    "        target1 = target1.cuda()\n",
    "        tmp = tmp.cuda()\n",
    "\n",
    "    batch_size = src_inputs.shape[0]\n",
    "    desc_outputs, desc_latent, _, _ = model.encode_desc(src_inputs)\n",
    "    _, tmp_latent = model.encode_tmp(tmp)\n",
    "    # output_title = torch.argmax(output_logits, dim=-1)\n",
    "    for idx, sent_token in enumerate(batch['tgt'][:, 1:]):\n",
    "        reference = []\n",
    "        for token in sent_token:\n",
    "            if token.item() == Constants.EOS:\n",
    "                break\n",
    "            reference.append(dataset.idx2word[token.item()] )\n",
    "        references.append(reference)\n",
    "\n",
    "    for idx, sent in enumerate(references):\n",
    "        template_reference[' '.join(sent)] = {\n",
    "            'tmp': tmp_latent[idx].detach().cpu().numpy(),\n",
    "#             'tmp_outputs': tmp_outputs[idx],\n",
    "            'desc_latent': desc_latent[idx].detach().cpu(),\n",
    "            'desc_outputs': desc_outputs[idx].detach().cpu(),\n",
    "        }\n"
   ]
  },
  {
   "cell_type": "code",
   "execution_count": 52,
   "metadata": {},
   "outputs": [
    {
     "name": "stdout",
     "output_type": "stream",
     "text": [
      "5171\n",
      "{0, 1, 2, 3, 4, 5}\n"
     ]
    }
   ],
   "source": [
    "X, title = [], []\n",
    "print(len(template_reference))\n",
    "for key, latent in template_reference.items():\n",
    "    X.append(latent['tmp'])\n",
    "    title.append(key)\n",
    "title = np.array(title)\n",
    "\n",
    "pca = PCA(n_components=2)\n",
    "X_r = pca.fit(X).transform(X)\n",
    "\n",
    "nbrs = SpectralClustering(n_clusters=6).fit(X_r)\n",
    "\n",
    "y = nbrs.labels_\n",
    "print(set(y))"
   ]
  },
  {
   "cell_type": "code",
   "execution_count": 53,
   "metadata": {},
   "outputs": [
    {
     "data": {
      "image/png": "[encoded data removed]",
      "text/plain": [
       "<Figure size 432x288 with 1 Axes>"
      ]
     },
     "metadata": {
      "needs_background": "light"
     },
     "output_type": "display_data"
    }
   ],
   "source": [
    "plt.figure()\n",
    "target_names = [0,1,2,3,4, 5]\n",
    "\n",
    "colors = ['navy', 'turquoise', 'darkorange','red','black', 'green']\n",
    "lw = 2\n",
    "\n",
    "for color, i, target_name in zip(colors, list(range(len(target_names))), target_names):\n",
    "    plt.scatter(X_r[y == i, 0], X_r[y == i, 1], color=color, alpha=.8, lw=lw,\n",
    "                label=target_name)"
   ]
  },
  {
   "cell_type": "code",
   "execution_count": 54,
   "metadata": {
    "scrolled": true
   },
   "outputs": [
    {
     "name": "stdout",
     "output_type": "stream",
     "text": [
      "0 888\n",
      "【 曼谷 泰菜 學習 】 Silom Thai Cooking School 席隆 廚藝 課程\n",
      "世界 唯一 的 你 ！ 韓國 大邱 歐洲 都市 公園 E-WORLD 樂園\n",
      "【 羅馬 競技場 門票 】 羅馬 競技場 、 古羅馬 廣場 、 帕拉提諾 之 丘 （ 快速 通關 導覽 ）\n",
      "【 韓國 冰雪 樂園 】 ONEMOUNT 水 上 樂園 / 冰雪 世界 （ 二 選 一 ） ＋ 水族館 、 Outlet\n",
      "【 日本 三麗鷗 樂園 門票 】 東京 彩虹 樂園 、 九州 和諧 樂園 （ 二 選 一 ）\n",
      "【 台中 熱門 景點 接駁 】 2018 臺中 世界 花卉 博覽會 門票 ＋ 去 程 接駁\n",
      "【 體驗 巴黎 夜生活 】 夜遊 塞納河 、 紅 磨坊 歌舞秀\n",
      "【 首 爾 近郊 特色 景點 】 原州 小 金山 懸索 吊橋 、 忠 州 Light World 一 日 遊\n",
      "【 韓國 賞櫻 一 日 遊 】 韓國 鎮海賞日櫻 / 夜櫻 （ 釜山 出發 ）\n",
      "【 韓國 冬季 限定 】 江 原 道平昌 鱒魚節 一日 遊 （ 首爾 出發 ）\n",
      "\n",
      "1 1023\n",
      "【 森林 裡 的 </UNK> 】 黃金海岸 藍 光 </UNK> 半 日遊\n",
      "【 京都 一 日 遊 】 伏 見 稻荷 大社 、 清水寺 、 金閣寺 、 嵐山\n",
      "【 北陸 秘境 】 此 生 必 去 日本 最 美 山岳 勝地 ・ 上 高地 一 日 遊\n",
      "【 私人 小 團宿霧 出發 】 薄荷島 一 日 遊 、 巧克力山 探索 公園 （ 含 刺激 鋼索 單車 ）\n",
      "【 墨寶 沙丁魚 風暴 】 巴 斯卡 多島 浮潛 、 嘉 華山 瀑布 一 日 遊 （ 宿霧 出發 ）\n",
      "【 沖繩 必 買 票券 】 Okinawa Enjoy Pass 12 大 景點樂 遊 通票\n",
      "【 全 紐約 最 便宜 】 紐約 尼加 拉大 瀑布 Niagara Falls 二 日 遊\n",
      "【 台南 文青 小 旅行 】 深度 玩 台南 包車 一 日 遊\n",
      "【 韓國 南怡島 一 日 遊 】 小 法國村 、 南怡島 、 江村 鐵路 自行車 （ 首爾 出發 ）\n",
      "【 曼谷水 上 市場 一 日 遊 】 丹能莎朵 、 安帕瓦水 上 市場 、 樹中廟 、 美功 鐵道 市集 （ 保證 有位 ）\n",
      "\n",
      "2 312\n",
      "【 韓國 手機 租借 】 通話 SIM 卡 ＋ 上網 無 流量 限制 （ 仁川 機場 / 金浦 機場 / 金海 機場 領取 ）\n",
      "【 噴射 飛航 單程 船票 － 豪華 位 】 香港 九龍 中國 客運 碼頭 - 澳門 外港 客運 碼頭\n",
      "【 首 爾 機場 接送 】 仁川 機場 （ ICN ） － 首 爾 市區 （ 計程車 接送 ）\n",
      "【 仁川 機場 交通 】 韓國 首 爾 機場 快 線 AREX 單程 車票\n",
      "【 KKday 獨家 優惠 】 Siam Niramit 曼谷 暹羅 天使 劇場 門票\n",
      "【 官方 授權 】 日本 環球影城 ™ 5000 日幣 購物券\n",
      "【 官方 授權 】 新加坡 夜間 動物園 門票 （ Night Safari ）\n",
      "【 杭州 西湖 旅遊 包車 】 雷峰塔 、 西湖 遊船 、 環西湖 包車 一 日 遊\n",
      "【 苗栗 高鐵 租車 】 苗栗 AVIS 國際 租車 服務\n",
      "【 沖繩 客製化 行程 】 5 / 8 / 10 小時 包車 服務 （ 機場 飯店 、 郵輪 港口 接送 ）\n",
      "\n",
      "3 470\n",
      "【 韓國 上網 SIM 卡 】 KT Olleh 1 天 / 5 天 / 10 天 / 30 天 網卡 （ 韓國 領取 ）\n",
      "【 板橋 高鐵 出發 】 台灣 高鐵票 八 折 優惠 （ 外國人 限定 電子票 ）\n",
      "【 外國人 限定 】 首 爾轉 轉 卡 Discover Seoul Pass BTS Edition\n",
      "【 台灣 郵寄 】 大阪 周遊卡 OSAKA AMAZING PASS\n",
      "【 泰國 Wi-Fi 機 租借 】 4 G 高速 上網 ＋ 無限 流量 吃到 飽 （ 泰國 機場 領取 ）\n",
      "【 沖繩 租車 推薦 】 五 人 座 Times Car RENTAL 租車 自 駕 趣\n",
      "【 高鐵 台南 站 出發 】 台灣 高鐵 8 折 優惠 電子 車票 （ 外國人 限定 ）\n",
      "大阪 周遊卡 OSAKA AMAZING PASS 1日券 / 2日券 （ 桃園 機場 取 件 ）\n",
      "【 OceanJet 高速 渡輪 船票 】 宿霧 － 薄荷島 交通\n",
      "【 香港 必備 神卡 】 香港 八達通 交通卡 （ 內含 50 港幣 ）\n",
      "\n",
      "4 1324\n",
      "【 專屬 包車 接送 】 曼谷 － 芭達雅 單程 接送\n",
      "【 台中 出發 】 台灣 高鐵 兩 人 同行 一 人 免費 電子 車票 （ 外國人 限定 ）\n",
      "【 SEGA 室內樂園 】 東京 台場 JOYPOLIS 門票\n",
      "【 保證 入園 】 東京 迪士尼 實體 門票 ： 一日券 （ 舞濱站 領取 ）\n",
      "【 東京 手 作 體驗 】 仿 真 紓壓 玩具 工坊 ・ 親手 做 紓壓 又 可愛 的 玩具 吧\n",
      "【 曼谷 專人 通關 服務 】 蘇凡納布 機場 （ BKK ） 貴賓 快速 通關\n",
      "【 上海 旅遊 新 景點 】 上海 迪士尼 樂園 門票 （ 一 / 二日券 ）\n",
      "【 馬來西亞 LEGOLAND 】 馬來西亞 樂高 樂園 門票 （ 新加坡 接駁 巴士 出發 ）\n",
      "【 普吉幻 多 奇 秀 】 獨家 八 折 保證 最 優惠\n",
      "【 2019 九 族 櫻花季 】 九 族 文化村 櫻花季 門票\n",
      "\n",
      "5 1154\n",
      "【 薄荷 島跳島 行程 】 帕米拉坎島 、 巴里卡薩島 、 處女島 一 日 遊\n",
      "【 韓劇 浪漫 景點 】 南怡島 、 小 法國村 、 晨靜 樹木園 一 日 遊\n",
      "【 </UNK> 奇觀 】 走訪 英國 巨石 陣 半 日遊 （ 含 巴士 來回 交通 ）\n",
      "【 摩托車 夜遊 】 胡志明市 機車 美食 之 旅\n",
      "【 沙巴 神山 2 日遊 】 漫步 造訪 神山 牧場 、 溫泉 及 樹頂 吊橋\n",
      "【 保證 最 優惠 門票 】 芭達雅 信不信 由 你 博物館\n",
      "【 湄公河水 上 風情 】 美托 搖船 文化 一 日 遊 （ 胡志明市 出發 ）\n",
      "【 韓國 大邱 走 透透 】 大邱 城市 觀光 巴士 一日券\n",
      "【 宜蘭 包車 一 日 遊 】 烏石港 、 蘭陽 博物館 、 傳藝 中心 一 日 遊 （ 台北 / 宜蘭 出發 ）\n",
      "【 宜蘭 秘境 半 日遊 】 東澳 烏岩角 海蝕洞 獨木舟 體驗 （ 東澳 火車站 出發 ）\n",
      "\n"
     ]
    }
   ],
   "source": [
    "for target_name in target_names:\n",
    "    print(target_name, len(title[y==target_name]))\n",
    "    print('\\n'.join(title[y==target_name][:10]))\n",
    "    print('')"
   ]
  },
  {
   "cell_type": "code",
   "execution_count": 21,
   "metadata": {},
   "outputs": [
    {
     "data": {
      "application/vnd.jupyter.widget-view+json": {
       "model_id": "59b724331a3345219c7126251b3d99c6",
       "version_major": 2,
       "version_minor": 0
      },
      "text/plain": [
       "HTML(value='<br><h3> Play with latent feature </h3> ')"
      ]
     },
     "metadata": {},
     "output_type": "display_data"
    },
    {
     "data": {
      "application/vnd.jupyter.widget-view+json": {
       "model_id": "8298fe3ed17d47d5969e489c6386f9cd",
       "version_major": 2,
       "version_minor": 0
      },
      "text/plain": [
       "FloatSlider(value=-1.1459346062308682, description='bin-0', max=15.492585674727687, min=-2.505448355265655)"
      ]
     },
     "metadata": {},
     "output_type": "display_data"
    },
    {
     "data": {
      "application/vnd.jupyter.widget-view+json": {
       "model_id": "d2d34b5502f34088b038a9d4db34e764",
       "version_major": 2,
       "version_minor": 0
      },
      "text/plain": [
       "FloatSlider(value=0.18544452105186307, description='bin-1', max=16.985741354562872, min=-10.218551585503882)"
      ]
     },
     "metadata": {},
     "output_type": "display_data"
    },
    {
     "data": {
      "application/vnd.jupyter.widget-view+json": {
       "model_id": "79c5d18605cf4926b99d99a1faf6df51",
       "version_major": 2,
       "version_minor": 0
      },
      "text/plain": [
       "FloatSlider(value=0.10935357696551865, description='bin-2', max=16.55065280398624, min=-16.10252537742402)"
      ]
     },
     "metadata": {},
     "output_type": "display_data"
    },
    {
     "data": {
      "application/vnd.jupyter.widget-view+json": {
       "model_id": "10d123ba9ec940808dee7bbbdc6bb8c9",
       "version_major": 2,
       "version_minor": 0
      },
      "text/plain": [
       "FloatSlider(value=-1.449555410873142, description='bin-3', max=17.209029787384345, min=-5.831358691699588)"
      ]
     },
     "metadata": {},
     "output_type": "display_data"
    },
    {
     "data": {
      "application/vnd.jupyter.widget-view+json": {
       "model_id": "d484eb4e8a4f4701b98d62d3fb3c6ee2",
       "version_major": 2,
       "version_minor": 0
      },
      "text/plain": [
       "FloatSlider(value=-0.5006789131883659, description='bin-4', max=18.86475697696866, min=-9.117801530508219)"
      ]
     },
     "metadata": {},
     "output_type": "display_data"
    },
    {
     "data": {
      "application/vnd.jupyter.widget-view+json": {
       "model_id": "6c36d92cb24049fb92bf70c053253737",
       "version_major": 2,
       "version_minor": 0
      },
      "text/plain": [
       "FloatSlider(value=-0.3343904804139407, description='bin-5', max=17.428554658245435, min=-9.836547563265324)"
      ]
     },
     "metadata": {},
     "output_type": "display_data"
    },
    {
     "data": {
      "application/vnd.jupyter.widget-view+json": {
       "model_id": "128a8f5de0aa4463bd6863a6344aab30",
       "version_major": 2,
       "version_minor": 0
      },
      "text/plain": [
       "FloatSlider(value=0.9291275495961163, description='bin-6', max=22.11952880708638, min=-11.933126404039713)"
      ]
     },
     "metadata": {},
     "output_type": "display_data"
    },
    {
     "data": {
      "application/vnd.jupyter.widget-view+json": {
       "model_id": "cc615d21f962465a9857bf0517e501c5",
       "version_major": 2,
       "version_minor": 0
      },
      "text/plain": [
       "FloatSlider(value=-1.749797414098167, description='bin-7', max=14.561279812024612, min=-14.46340701800207)"
      ]
     },
     "metadata": {},
     "output_type": "display_data"
    },
    {
     "data": {
      "application/vnd.jupyter.widget-view+json": {
       "model_id": "bbe513e047e041f7b091e3f4b74f021a",
       "version_major": 2,
       "version_minor": 0
      },
      "text/plain": [
       "FloatSlider(value=-2.7306781962545994, description='bin-8', max=14.648870991234888, min=-9.521448554678706)"
      ]
     },
     "metadata": {},
     "output_type": "display_data"
    },
    {
     "data": {
      "application/vnd.jupyter.widget-view+json": {
       "model_id": "1caed43f35ed411e8bfccaaa27ce04e4",
       "version_major": 2,
       "version_minor": 0
      },
      "text/plain": [
       "FloatSlider(value=1.8631313898973347, description='bin-9', max=15.797646888292546, min=-10.30682843554967)"
      ]
     },
     "metadata": {},
     "output_type": "display_data"
    },
    {
     "data": {
      "application/vnd.jupyter.widget-view+json": {
       "model_id": "85721bcb370749b18688f587d4c5b754",
       "version_major": 2,
       "version_minor": 0
      },
      "text/plain": [
       "FloatSlider(value=-2.3930286697600884, description='bin-10', max=13.121045220841836, min=-9.509098406339989)"
      ]
     },
     "metadata": {},
     "output_type": "display_data"
    },
    {
     "data": {
      "application/vnd.jupyter.widget-view+json": {
       "model_id": "4cb2d20f67404cc9bd02899ab29f695e",
       "version_major": 2,
       "version_minor": 0
      },
      "text/plain": [
       "FloatSlider(value=9.014090855635379, description='bin-11', max=22.800511515694488, min=-11.874670183202966)"
      ]
     },
     "metadata": {},
     "output_type": "display_data"
    },
    {
     "data": {
      "application/vnd.jupyter.widget-view+json": {
       "model_id": "cd5a09b9f923461da9fcf2ac0ffd51c4",
       "version_major": 2,
       "version_minor": 0
      },
      "text/plain": [
       "FloatSlider(value=5.924824713945221, description='bin-12', max=11.411466476505565, min=-10.678222727543119)"
      ]
     },
     "metadata": {},
     "output_type": "display_data"
    },
    {
     "data": {
      "application/vnd.jupyter.widget-view+json": {
       "model_id": "45bf4807a5a34350970d05257bc55fd2",
       "version_major": 2,
       "version_minor": 0
      },
      "text/plain": [
       "FloatSlider(value=0.520219900165486, description='bin-13', max=16.576370891449276, min=-12.87550915591419)"
      ]
     },
     "metadata": {},
     "output_type": "display_data"
    },
    {
     "data": {
      "application/vnd.jupyter.widget-view+json": {
       "model_id": "b9a5a093a6824af7b595e1ac08ba8d4c",
       "version_major": 2,
       "version_minor": 0
      },
      "text/plain": [
       "FloatSlider(value=-0.09892492064259147, description='bin-14', max=13.498296300875742, min=-9.775896894246427)"
      ]
     },
     "metadata": {},
     "output_type": "display_data"
    },
    {
     "data": {
      "application/vnd.jupyter.widget-view+json": {
       "model_id": "f05b318f21874eaf8ba2150e8eb43ce7",
       "version_major": 2,
       "version_minor": 0
      },
      "text/plain": [
       "FloatSlider(value=-1.4862626702597919, description='bin-15', max=15.43072014680294, min=-12.748411691460513)"
      ]
     },
     "metadata": {},
     "output_type": "display_data"
    },
    {
     "data": {
      "application/vnd.jupyter.widget-view+json": {
       "model_id": "02e04b1b111842b982f0077d712e8262",
       "version_major": 2,
       "version_minor": 0
      },
      "text/plain": [
       "FloatSlider(value=-0.999282652738437, description='bin-16', max=15.246294368463234, min=-11.208217345719968)"
      ]
     },
     "metadata": {},
     "output_type": "display_data"
    },
    {
     "data": {
      "application/vnd.jupyter.widget-view+json": {
       "model_id": "8fca19f2034543cf87887c06ca5e6ce6",
       "version_major": 2,
       "version_minor": 0
      },
      "text/plain": [
       "FloatSlider(value=0.4412534232347893, description='bin-17', max=27.243617786136706, min=-7.5497452920886055)"
      ]
     },
     "metadata": {},
     "output_type": "display_data"
    },
    {
     "data": {
      "application/vnd.jupyter.widget-view+json": {
       "model_id": "d0845d4095fd461e910159dceea7ca35",
       "version_major": 2,
       "version_minor": 0
      },
      "text/plain": [
       "FloatSlider(value=-1.408317607965634, description='bin-18', max=22.70156204611232, min=-13.13339995350316)"
      ]
     },
     "metadata": {},
     "output_type": "display_data"
    },
    {
     "data": {
      "application/vnd.jupyter.widget-view+json": {
       "model_id": "ecfc27c5c4af40e99af9d703a3400f55",
       "version_major": 2,
       "version_minor": 0
      },
      "text/plain": [
       "FloatSlider(value=3.893719072508225, description='bin-19', max=18.240608421895416, min=-6.758710446310465)"
      ]
     },
     "metadata": {},
     "output_type": "display_data"
    }
   ],
   "source": []
  },
  {
   "cell_type": "code",
   "execution_count": 23,
   "metadata": {},
   "outputs": [
    {
     "name": "stdout",
     "output_type": "stream",
     "text": [
      "[-1.14593461  0.18544452  0.10935358 -1.44955541 -0.50067891 -0.33439048\n",
      "  0.92912755 -1.74979741 -2.7306782   1.86313139 -2.39302867  9.01409086\n",
      "  5.92482471  0.5202199  -0.09892492 -1.48626267 -0.99928265  0.44125342\n",
      " -1.40831761  3.89371907]\n"
     ]
    }
   ],
   "source": [
    "print(init_latent)"
   ]
  },
  {
   "cell_type": "code",
   "execution_count": 1,
   "metadata": {},
   "outputs": [
    {
     "name": "stdout",
     "output_type": "stream",
     "text": [
      "[-0.40110661  0.053731    0.02041557 -0.49952886 -0.1492657  -0.04508191\n",
      "  0.28627305 -0.60933987 -0.83062814  0.60365014 -0.14524659  2.80684088\n",
      "  2.81072806  0.21474031 -0.14883904 -0.46788561 -0.35034584  0.2746236\n",
      " -0.19765725  1.58832746]\n"
     ]
    }
   ],
   "source": [
    "import pickle\n",
    "with open('latent_variable_20.pkl', 'rb') as f:\n",
    "    latents = pickle.load(f)\n",
    "print(latents[0])"
   ]
  },
  {
   "cell_type": "code",
   "execution_count": 12,
   "metadata": {},
   "outputs": [],
   "source": [
    "import matplotlib\n",
    "import numpy as np\n",
    "import matplotlib.pyplot as plt\n",
    "%matplotlib inline  "
   ]
  },
  {
   "cell_type": "code",
   "execution_count": 132,
   "metadata": {},
   "outputs": [],
   "source": [
    "iter_ = 1000\n",
    "with open(f'logs/vae_gumbel/cluster_{iter_}.pkl', 'rb') as f:\n",
    "    clusters = pickle.load(f)"
   ]
  },
  {
   "cell_type": "code",
   "execution_count": 133,
   "metadata": {},
   "outputs": [],
   "source": [
    "X, title = [], []\n",
    "for key, latent in clusters.items():\n",
    "    X.append(latent)\n",
    "    title.append(key)\n",
    "title = np.array(title)"
   ]
  },
  {
   "cell_type": "code",
   "execution_count": 134,
   "metadata": {},
   "outputs": [],
   "source": [
    "from sklearn.decomposition import PCA\n",
    "from sklearn.discriminant_analysis import LinearDiscriminantAnalysis\n",
    "pca = PCA(n_components=2)\n",
    "X_r = pca.fit(X).transform(X)"
   ]
  },
  {
   "cell_type": "code",
   "execution_count": 135,
   "metadata": {},
   "outputs": [
    {
     "name": "stderr",
     "output_type": "stream",
     "text": [
      "No handles with labels found to put in legend.\n"
     ]
    },
    {
     "name": "stdout",
     "output_type": "stream",
     "text": [
      "explained variance ratio (first two components): [0.39433594 0.22087259]\n"
     ]
    },
    {
     "data": {
      "text/plain": [
       "Text(0.5, 1.0, 'PCA of clutser at 3000')"
      ]
     },
     "execution_count": 135,
     "metadata": {},
     "output_type": "execute_result"
    },
    {
     "data": {
      "image/png": "[encoded data removed]",
      "text/plain": [
       "<Figure size 432x288 with 1 Axes>"
      ]
     },
     "metadata": {
      "needs_background": "light"
     },
     "output_type": "display_data"
    }
   ],
   "source": [
    "print('explained variance ratio (first two components): %s'\n",
    "      % str(pca.explained_variance_ratio_))\n",
    "\n",
    "plt.figure()\n",
    "colors = ['navy', 'turquoise', 'darkorange']\n",
    "lw = 2\n",
    "\n",
    "plt.scatter(X_r[:, 0], X_r[:, 1], color='turquoise', alpha=.4, lw=lw)\n",
    "plt.legend(loc='best', shadow=False, scatterpoints=1)\n",
    "plt.title('PCA of clutser at 3000')"
   ]
  },
  {
   "cell_type": "code",
   "execution_count": 136,
   "metadata": {},
   "outputs": [
    {
     "name": "stdout",
     "output_type": "stream",
     "text": [
      "{0}\n"
     ]
    }
   ],
   "source": [
    "from sklearn.cluster import DBSCAN\n",
    "nbrs = DBSCAN(eps=3, min_samples=2).fit(X_r)\n",
    "y = nbrs.labels_\n",
    "print(set(y))"
   ]
  },
  {
   "cell_type": "code",
   "execution_count": 156,
   "metadata": {},
   "outputs": [
    {
     "name": "stdout",
     "output_type": "stream",
     "text": [
      "{0, 1, 2, 3, 4, 5}\n"
     ]
    }
   ],
   "source": [
    "from sklearn.cluster import SpectralClustering\n",
    "nbrs = SpectralClustering(n_clusters=6).fit(X_r)\n",
    "y = nbrs.labels_\n",
    "print(set(y))"
   ]
  },
  {
   "cell_type": "code",
   "execution_count": 162,
   "metadata": {},
   "outputs": [
    {
     "data": {
      "image/png": "[encoded data removed]",
      "text/plain": [
       "<Figure size 432x288 with 1 Axes>"
      ]
     },
     "metadata": {
      "needs_background": "light"
     },
     "output_type": "display_data"
    }
   ],
   "source": [
    "plt.figure()\n",
    "target_names = [0,1,2,3,4]\n",
    "\n",
    "colors = ['navy', 'turquoise', 'darkorange','red','black']\n",
    "lw = 2\n",
    "\n",
    "for color, i, target_name in zip(colors, list(range(len(target_names))), target_names):\n",
    "    plt.scatter(X_r[y == i, 0], X_r[y == i, 1], color=color, alpha=.8, lw=lw,\n",
    "                label=target_name)"
   ]
  },
  {
   "cell_type": "code",
   "execution_count": 163,
   "metadata": {},
   "outputs": [
    {
     "name": "stdout",
     "output_type": "stream",
     "text": [
      "['【 官方 授權 】 ## ## ## ## ## ／ 快速 ## 通行票' '【 官方 授權 】 ## ## 手環 ## ## ## ##'\n",
      " '【 拉 報表 用 】' '【 官方 授權 】 ## ## 特快 入場券 （ 快速 通關 ## ## ） - 小小兵 3'\n",
      " '【 官方 授權 】 ## ## 電子 ## ＋ 環球 特快 入場券 （ 快速 通關 ## ## ） - 標準 7'\n",
      " '【 官方 授權 】 ## ## ™ ## ＋ 快速 ## 通關'\n",
      " '【 官方 授權 】 ## ## 特快 入場券 （ 快速 通關 ## ## ） - 歡樂 好 聲音 7'\n",
      " '【 官方 授權 】 豪華 套票 ： ## ## 電子 ## ＋ 豪華 特快 入場券 4 ## 小小兵 ) ＋ 豪華 5000 日幣 購物券'\n",
      " '【 官方 授權 】 ## ## 電子 ## ＋ ## 4 G 上網 推薦 ## 5 天 / 8 天 網卡 （ ## ## 取 件 ）'\n",
      " '【 官方 授權 】 ## ## ™ ## ＋ 特別版 快速 ## 通關'\n",
      " '【 官方 授權 】 ## ## 電子 ## ＋ 環球 特快 入場券 （ 快速 通關 ## ## ） - 標準 6'\n",
      " '【 官方 授權 】 ## ## ™ 快速 通關券 - 標準 4 ． 飛天 翼龍 4 ## 1 / 10 起 )'\n",
      " '【 城市 景點 隨 你 看 】 ## 觀光 巴士 一日券' '【 造訪 007 電影 場景 】 攀 牙 灣 、 ## ## 一 日 遊'\n",
      " '【 官方 接駁車 】 愛 寶 ## 、 ## 直達 接駁車 （ ## 出發 ）'\n",
      " '【 官方 授權 套票 】 ## ## ## ## ## ＋ ## ## ##'\n",
      " '【 水陸 兩棲 巴士 探索 之 旅 】 ## 城市 觀光 ＋ ## 遊船 體驗'\n",
      " '【 官方 授權 】 ## 夜間 ## ## （ ## ## ）' '【 官方 授權 】 ## ## ™ ## 盛夏 ## ##'\n",
      " '【 官方 授權 】 ## ## 電子 ## ＋ 環球 特快 入場券 （ 快速 通關 ## ## ） - 標準 4 （ 1 / 10 起 ）'\n",
      " '【 騎 機車 饗 美食 】 夜遊 順化 ##' '【 超人 氣 動畫 主題 巴士 】 你 的 名字 ・ 敞篷 咖啡 巴士'\n",
      " '【 官方 授權 】 ## 愛 寶 ## ## ＋ 快速 通關 Q-pass'\n",
      " '【 官方 授權 】 ## ## 特快 入場券 （ 快速 通關 ## ## ） - 小小兵 4'\n",
      " '【 官方 授權 】 ## ## ™ 電子 ## （ ## 旅客 專屬 ）'\n",
      " '【 官方 授權 】 ## ## 特快 入場券 （ 快速 通關 ## ## ） - 標準 4 ． 飛天 翼龍 4'\n",
      " '【 官方 授權 】 ## ## 愛 寶 ## ＋ ## ## ## 電子票 )'\n",
      " '【 官方 授權 】 ## ## ™ 快速 通關券 - 標準 7 ． 飛天 翼龍 7 ． 逆轉 ## 7 （ 1 / 10 起 ）'\n",
      " '【 官方 授權 】 電影 主題 套 票 ： ## 入場券 ＋ 豪華 特快 入場券 4 ## 電影 主題 ) ＋ 豪華 神奇 魔杖 ＋ ## ## 紀念 相片 ## 小小兵 )'\n",
      " '【 官方 授權 】 豪華 套票 ： ## ## 電子 ## ＋ 豪華 特快 入場券 7 ## 飛天 翼龍 ) 豪華 5000 日幣 購物券']\n"
     ]
    }
   ],
   "source": [
    "print(title[y==1][:30])"
   ]
  },
  {
   "cell_type": "code",
   "execution_count": 164,
   "metadata": {},
   "outputs": [
    {
     "name": "stdout",
     "output_type": "stream",
     "text": [
      "['【 ## 頂級 按摩 】 經典 套餐 獨家 8 </UNK>' '【 ## 最 大 ## 】 </UNK> 時代 ## 主題 ## ##'\n",
      " '【 ## ## ## 】 ## 首 ## ## 快 線 ## 單程 車票'\n",
      " '【 ## ## 道 循環 巴士 】 臨 ## ## 、 第三 地道 、 都 ## ## 、 ## ## 、 ## ##'\n",
      " '【 ## 一 日 遊 】 元 乃 ## ## 、 ## 、 ## 弁 ## 一 日 遊 （ ## 出發 ）'\n",
      " '【 免 排隊 快捷 通道 】 三合一 套 票 ： ## 夫人 ## ## 摩天 ## ## 纜車'\n",
      " '【 ## 上網 電話卡 】 ## 7 天 ## 卡 500 分鐘 通話 （ ## ## 領取 ）'\n",
      " '【 ## 賞 花 一 日 遊 】 ## ## ## 粉蝶 花 之 丘 ・ ## ## 紫藤 花'\n",
      " '【 ## ## 露營 二 日 遊 】 ## 國家 ## 、 ## 、 ## ## （ ## 出發 ）'\n",
      " '【 超 划算 七 折 優惠 】 ## ## 快 綫 車票 （ ## ## 快速 入閘 ）'\n",
      " '【 ## ## 二 日 遊 】 ## ## 小 火車 ・ ## ## ## ・ ## 水壩 ## ## 出發 )'\n",
      " '【 ## 必 看 表演 】 ## 奇幻 大秀 ## ## ##' '【 專屬 ## 優質 接送 】 ## ## 包車 接送 （ 雙向 發車 ）'\n",
      " '【 ## 4 G 上網 推薦 】 ## 5 天 / 8 天 網卡 （ ## ## 取 件 ）'\n",
      " '【 ## 上下 顛倒 屋 】 超值 優惠 ##'\n",
      " '【 ## JR PASS 】 ## & ## ## 周遊券 ## （ ## ## 取 件 ）'\n",
      " '【 ## 出發 】 ## ## 8 折 優惠 車票 （ ## 限定 電子票 ）'\n",
      " '【 頂級 法式 自助餐 】 ## 十六 ## 海風 ## 自助餐' '沒有 ## 的 ## ！ ## ## ## 一 日 遊'\n",
      " '【 ## 必備 ## 票券 】 ## 八達通 交通卡' '【 ## ## 出發 】 ## 高鐵票 8 折 優惠 （ ## 限定 電子票 ）'\n",
      " '【 ## 鐵道 自行車 】 ## 鐵道 ## ## 電子 ##'\n",
      " '【 ## 純淨 ## 6 日遊 】 造訪 ## 最 美 冰川 ## 與 ## 峽灣 國家 ##'\n",
      " '【 ## ## 體驗 】 ## ## & Spa 泰式 按摩 體驗' '【 ## 】 ## ## ## 一日券' '在 雪梨塔 上 享用 ##'\n",
      " '【 ## 超值 ## 票券 】 ## 地鐵 乘車券 - 24 小時 / 48 小時 / 72小時券'\n",
      " '【 ## ## 上 活動 】 海 上 滑翔 傘 、 水 上 電單車 、 香蕉船 、 海底 漫步 體驗 （ ## 出發 ）'\n",
      " '【 ## 巴士 二 日 遊 】 ## ## 路線 、 ## 、 飛驒 ##'\n",
      " '【 ## 包車 半 日遊 】 十分 瀑布 、 十分 ## 放 天燈 、 ## ##']\n"
     ]
    }
   ],
   "source": [
    "print(title[y==0][:30])"
   ]
  },
  {
   "cell_type": "code",
   "execution_count": 165,
   "metadata": {},
   "outputs": [
    {
     "name": "stdout",
     "output_type": "stream",
     "text": [
      "['## 包車 一 日 遊 ． 暢遊 經典 ## 8 小時' '## 音樂劇 ## ． ##' '## ## 愛 3 ## ## ##'\n",
      " '63 ## ## － ## 藝術城 ##' '## 出發 ) ## 包車 一 日 遊' '## 夜間 意式 薄餅 遊船 之 旅'\n",
      " '## 愛 寶 ## 電子 ## （ ## ## ）' '## ## 自然 之 旅 1 日 遊'\n",
      " '專車 小包團 ) （ 5 天 4 夜 玩 轉 ## 特製 團 ）'\n",
      " '## 周遊卡 ## ## PASS 1日券 / 2日券 （ ## ## 取 件 ）' '## ## ## 盛事 ## 自助 午餐 ／ 晚餐'\n",
      " '## 包車 ． 探索 ## 的 秘密 半 日遊' '## ## 國家 ## 一 日 遊 （ ## ## ## 來回 ）'\n",
      " '## ． </UNK> 活 一 日 遊' '## ## 紫蝶 ## 精彩 一 日 遊'\n",
      " '## ## 8 ## － ## 神秘 小 ## ． 春天 ## 神奇' '## 經典 1 日 遊'\n",
      " '## 一日 包車 遊 ． 探訪 金車 城堡 ## ## 泡湯' '## 珍奶 ## ## 。 珍珠 奶茶 ## 手搖 體驗'\n",
      " '## ## 大 巴士 觀光 車票' '## ## 限定 ！ ## 鱒魚 冰釣 之 旅' '## ## ## ## 特快 列車 和 ## 套 票'\n",
      " '## ## 超值 冒險 之 旅 一 日 遊' '## ## ## ## ##' '## ， 越 夜 越 美麗 ！'\n",
      " '## 5 日 遊 ： ## 、 ## 、 酒杯灣 、 ## 、 ## 頓' '## ## ## 滑翔 傘 體驗'\n",
      " '## 鐵道 自行車 ## ##' '住宿 ## ## ・ 欣賞 ## 遺產 合掌屋 ＆ 飛驒 ## ＆ 上 高地 二 日 遊 ！'\n",
      " '## ## 美食 ## 蝦 ## 餐券']\n"
     ]
    }
   ],
   "source": [
    "print(title[y==2][:30])"
   ]
  },
  {
   "cell_type": "code",
   "execution_count": 166,
   "metadata": {},
   "outputs": [
    {
     "name": "stdout",
     "output_type": "stream",
     "text": [
      "['【 探訪 鐘樓 怪人 】 ## ## 大 ## ＋ 塔 頂 快速 通關票 ## 含 專人 導覽 )']\n"
     ]
    }
   ],
   "source": [
    "print(title[y==3][:30])"
   ]
  },
  {
   "cell_type": "code",
   "execution_count": 168,
   "metadata": {},
   "outputs": [
    {
     "name": "stdout",
     "output_type": "stream",
     "text": [
      "['巴士 一 日 ## ・ 美麗 海 ## ・ ## 海 的 魅力 （ 多 語言 語音 導覽 ）'\n",
      " '清境 ## 拼車 一 日 遊 （ 兩 人 成行 ， 一 人 起 訂 ）' '輕鬆 上下 清境 ## - 直達 共 乘車'\n",
      " '三麗鷗 彩虹 ## ##' '7 日 </UNK> ## ## ## “ 唯美 自然 ” 遊'\n",
      " '## 高原 ## 之 旅 ## 從 ## 出發 )'\n",
      " '春假 ## 文創 生態 一 日 遊 ## ## 行程 : ## 隧道 / 夕 遊 出張 所 / ## ## )'\n",
      " '## 直升機 飛行 、 奢華 午餐 和 雙體船海 ##' '首 ## 雙層 觀光 巴士 傳統 文化 路線'\n",
      " '酷 ## 滑雪 一 日 遊 ， ## / ## 出發' '一同 趣 郊遊 。 妖怪 、 ## 、 ##'\n",
      " '【 360 度 全 </UNK> 視覺 體驗 】 ## 長 ## </UNK> ## ##'\n",
      " '</UNK> 不可 錯過 ！ </UNK> 在 ## 的 ## 草莓 ##' '鐵道 ## 能 龍 ## ## ## 豐富 一 日 遊'\n",
      " '7593 （ 四 日 套餐 ）' '從 ## ： ## 瀑布 一 日 遊 與 品酒'\n",
      " '## 私人 包車 ・ 六 天 ## ## 包車 旅遊 ## ## ## / ## ## ## 上 下車 )'\n",
      " '幸福 ## ・ 戀 上 金針 花海 與 ## 泡湯 好 舒服' '## 威尼斯人 貢 ## 船票' '大 ## 深度 之 旅'\n",
      " '## 私人 包車 ・ 五 天 ## ## 包車 旅遊 ## ## ## / ## ## ## 上 下車 )'\n",
      " '## 租 車 自 駕遊 （ 附贈 保險 ）' '隨 上 隨 下 參觀 ## 巴士 之 旅' '## ： 1 小時 全 景 城市 旅遊 連 遊船'\n",
      " '## 限定 的 絕景 ， 去 看 藏王 樹冰 吧 ！ 享受 「 ## ## 之 湯 」 遊覽 藏王 溫泉街 （ ## 出發 二 日 遊 ）'\n",
      " '【 360 度 全 景 體驗 拼團 遊 】 ## 高塔 賞 美景 、 享用 下午茶'\n",
      " '「 愛 來 魔 相 4 ## ## 」 ## ## ## ##' '一 ## 海 之 星 ## ## ## ##'\n",
      " '一起 賞 花 趣 ！ ## ## 鬱金香 慶典 、 油菜 花田 、 草莓 ## 一 日 遊' '免 排隊 ： ## ## 與 夜間 導覽 遊']\n"
     ]
    }
   ],
   "source": [
    "print(title[y==5][:30])"
   ]
  },
  {
   "cell_type": "code",
   "execution_count": 6,
   "metadata": {},
   "outputs": [],
   "source": [
    "import pickle"
   ]
  },
  {
   "cell_type": "code",
   "execution_count": 152,
   "metadata": {},
   "outputs": [],
   "source": [
    "with open('data/kkday_dataset/matrix_factorized_64.pkl', 'rb') as f:\n",
    "    mf = pickle.load(f)\n",
    "generate_data = torch.load('gen_results.pt')"
   ]
  },
  {
   "cell_type": "code",
   "execution_count": 153,
   "metadata": {},
   "outputs": [
    {
     "data": {
      "text/plain": [
       "dict_keys(['tgt', 'item_ids', 'user_ids', 'neg_ids', 'title', 'gen', 'gen_tokens'])"
      ]
     },
     "execution_count": 153,
     "metadata": {},
     "output_type": "execute_result"
    }
   ],
   "source": [
    "generate_data[0].keys()"
   ]
  },
  {
   "cell_type": "code",
   "execution_count": 117,
   "metadata": {},
   "outputs": [
    {
     "name": "stdout",
     "output_type": "stream",
     "text": [
      "{'tmp': tensor([   2, 1624,  333,    5,  801, 1626,    5,    3,    0,    0,    0,    0,\n",
      "           0,    0,    0,    0,    0,    0,    0,    0,    0,    0,    0,    0,\n",
      "           0,    0,    0,    0,    0,    0,    0,    0,    0,    0,    0,    0,\n",
      "           0,    0,    0,    0,    0,    0,    0,    0,    0,    0,    0,    0,\n",
      "           0,    0,    0,    0,    0,    0,    0,    0,    0,    0,    0,    0,\n",
      "           0,    0,    0,    0,    0,    0,    0,    0,    0,    0,    0,    0,\n",
      "           0,    0,    0,    0,    0,    0,    0,    0,    0,    0,    0,    0,\n",
      "           0,    0,    0,    0,    0,    0,    0,    0,    0,    0,    0,    0,\n",
      "           0,    0,    0,    0,    0,    0,    0,    0,    0,    0,    0,    0,\n",
      "           0,    0,    0,    0,    0,    0,    0,    0,    0,    0,    0,    0,\n",
      "           0,    0,    0,    0,    0,    0,    0,    0,    0,    0,    0,    0,\n",
      "           0,    0,    0,    0,    0,    0,    0,    0,    0,    0,    0,    0,\n",
      "           0,    0,    0,    0,    0,    0,    0,    0,    0,    0,    0,    0,\n",
      "           0,    0,    0,    0,    0,    0,    0,    0,    0,    0,    0,    0,\n",
      "           0,    0,    0,    0,    0,    0,    0,    0,    0,    0,    0,    0,\n",
      "           0,    0,    0,    0,    0,    0,    0,    0]), 'tgt': tensor([   2,    6, 3707, 2144, 7562, 1027,    9, 1843, 1626, 1027,   18,   19,\n",
      "          20,   65, 1274,   67,   68,    3,    0,    0,    0,    0,    0,    0,\n",
      "           0,    0,    0,    0,    0,    0,    0,    0,    0,    0,    0,    0,\n",
      "           0,    0,    0,    0,    0,    0,    0,    0,    0,    0,    0,    0,\n",
      "           0,    0,    0,    0,    0,    0,    0,    0,    0,    0,    0,    0,\n",
      "           0,    0,    0,    0,    0,    0,    0,    0,    0,    0,    0,    0,\n",
      "           0,    0,    0,    0,    0,    0,    0,    0,    0,    0,    0,    0,\n",
      "           0,    0,    0,    0,    0,    0,    0,    0,    0,    0,    0,    0,\n",
      "           0,    0,    0,    0,    0,    0,    0,    0,    0,    0,    0,    0,\n",
      "           0,    0,    0,    0,    0,    0,    0,    0,    0,    0,    0,    0,\n",
      "           0,    0,    0,    0,    0,    0,    0,    0,    0,    0,    0,    0,\n",
      "           0,    0,    0,    0,    0,    0,    0,    0,    0,    0,    0,    0,\n",
      "           0,    0,    0,    0,    0,    0,    0,    0,    0,    0,    0,    0,\n",
      "           0,    0,    0,    0,    0,    0,    0,    0,    0,    0,    0,    0,\n",
      "           0,    0,    0,    0,    0,    0,    0,    0,    0,    0,    0,    0,\n",
      "           0,    0,    0,    0,    0,    0,    0,    0]), 'items': tensor([2.5713e-04, 0.0000e+00, 0.0000e+00, 0.0000e+00, 5.0369e-03, 0.0000e+00,\n",
      "        0.0000e+00, 1.0123e-02, 0.0000e+00, 0.0000e+00, 2.1333e-03, 0.0000e+00,\n",
      "        0.0000e+00, 0.0000e+00, 0.0000e+00, 0.0000e+00, 0.0000e+00, 0.0000e+00,\n",
      "        1.1659e-02, 2.2166e-02, 0.0000e+00, 0.0000e+00, 0.0000e+00, 8.8674e-03,\n",
      "        0.0000e+00, 1.0407e-02, 8.5801e-03, 4.4279e-02, 1.6058e-02, 0.0000e+00,\n",
      "        0.0000e+00, 0.0000e+00, 0.0000e+00, 0.0000e+00, 0.0000e+00, 0.0000e+00,\n",
      "        2.2119e-03, 1.2212e-03, 0.0000e+00, 0.0000e+00, 0.0000e+00, 3.7087e-02,\n",
      "        7.5722e-04, 0.0000e+00, 0.0000e+00, 0.0000e+00, 5.1640e-03, 2.5259e-01,\n",
      "        1.8134e-02, 0.0000e+00, 0.0000e+00, 1.9976e-03, 0.0000e+00, 2.7065e-01,\n",
      "        0.0000e+00, 0.0000e+00, 0.0000e+00, 0.0000e+00, 7.4128e-02, 0.0000e+00,\n",
      "        2.7742e-02, 0.0000e+00, 0.0000e+00, 8.8305e-03]), 'negs': tensor([0.0000e+00, 8.2681e-05, 0.0000e+00, 1.0794e-02, 0.0000e+00, 0.0000e+00,\n",
      "        0.0000e+00, 2.6925e-04, 0.0000e+00, 0.0000e+00, 1.1286e-02, 0.0000e+00,\n",
      "        0.0000e+00, 0.0000e+00, 0.0000e+00, 4.7592e-03, 1.9663e-02, 0.0000e+00,\n",
      "        0.0000e+00, 0.0000e+00, 8.3871e-03, 4.4605e-03, 1.7964e-02, 7.2413e-03,\n",
      "        0.0000e+00, 0.0000e+00, 0.0000e+00, 5.5039e-03, 1.4947e-03, 1.0615e-02,\n",
      "        0.0000e+00, 0.0000e+00, 0.0000e+00, 0.0000e+00, 2.2868e-03, 2.8116e-03,\n",
      "        1.5336e-03, 0.0000e+00, 1.8775e-02, 0.0000e+00, 0.0000e+00, 6.2263e-03,\n",
      "        0.0000e+00, 0.0000e+00, 0.0000e+00, 0.0000e+00, 0.0000e+00, 0.0000e+00,\n",
      "        0.0000e+00, 0.0000e+00, 1.4713e-02, 0.0000e+00, 2.6775e-04, 0.0000e+00,\n",
      "        0.0000e+00, 0.0000e+00, 0.0000e+00, 0.0000e+00, 0.0000e+00, 0.0000e+00,\n",
      "        6.3513e-04, 1.3179e-04, 0.0000e+00, 0.0000e+00]), 'users': tensor([0.0000e+00, 6.7515e-03, 2.0315e-03, 1.9883e-02, 0.0000e+00, 0.0000e+00,\n",
      "        2.2589e-03, 9.6525e-03, 1.7433e-03, 0.0000e+00, 5.7945e-02, 6.7682e-03,\n",
      "        1.3769e-04, 0.0000e+00, 0.0000e+00, 0.0000e+00, 4.4618e-02, 3.5374e-03,\n",
      "        4.0576e-04, 9.6857e-03, 5.6190e-03, 0.0000e+00, 1.0559e-02, 0.0000e+00,\n",
      "        1.4911e-03, 2.8977e-03, 3.9598e-03, 5.1112e-04, 2.9325e-03, 0.0000e+00,\n",
      "        0.0000e+00, 1.2565e-03, 0.0000e+00, 1.5447e-02, 0.0000e+00, 2.7294e-02,\n",
      "        2.1286e-03, 3.6577e-03, 2.2251e-01, 4.5258e-04, 1.8093e-03, 1.1731e-02,\n",
      "        2.1601e-02, 0.0000e+00, 0.0000e+00, 0.0000e+00, 6.6071e-03, 3.7319e-03,\n",
      "        1.0485e-02, 5.0075e-04, 1.1599e-02, 1.2504e-02, 3.5040e-03, 2.1955e-02,\n",
      "        7.6028e-04, 0.0000e+00, 0.0000e+00, 0.0000e+00, 9.6320e-03, 2.6008e-04,\n",
      "        4.1318e-04, 0.0000e+00, 1.1902e-03, 4.0108e-03]), 'item_ids': tensor(5172), 'user_ids': tensor(8292), 'neg_ids': tensor(4507), 'title': '【 走進 童話 迷霧 森林 】 南投 忘憂 森林 一 日 遊 （ 台中 出發 ）', 'gen': '【 走進 童話 迷霧 森林 】 南投 忘憂 森林 一 日 遊 （ 台中 出發 ）', 'gen_tokens': tensor([[   6],\n",
      "        [3707],\n",
      "        [2144],\n",
      "        [7562],\n",
      "        [1027],\n",
      "        [   9],\n",
      "        [1843],\n",
      "        [1626],\n",
      "        [1027],\n",
      "        [  18],\n",
      "        [  19],\n",
      "        [  20],\n",
      "        [  65],\n",
      "        [1274],\n",
      "        [  67],\n",
      "        [  68],\n",
      "        [   3],\n",
      "        [   0],\n",
      "        [   0],\n",
      "        [   0],\n",
      "        [   0],\n",
      "        [   0],\n",
      "        [   0],\n",
      "        [   0],\n",
      "        [   0],\n",
      "        [   0],\n",
      "        [   0],\n",
      "        [   0],\n",
      "        [   0],\n",
      "        [   0],\n",
      "        [   0],\n",
      "        [   0],\n",
      "        [   0],\n",
      "        [   0],\n",
      "        [   0],\n",
      "        [   0],\n",
      "        [   0],\n",
      "        [   0],\n",
      "        [   0],\n",
      "        [   0],\n",
      "        [   0],\n",
      "        [   0],\n",
      "        [   0],\n",
      "        [   0],\n",
      "        [   0],\n",
      "        [   0],\n",
      "        [   0],\n",
      "        [   0],\n",
      "        [   0],\n",
      "        [   0],\n",
      "        [   0],\n",
      "        [   0],\n",
      "        [   0],\n",
      "        [   0],\n",
      "        [   0],\n",
      "        [   0],\n",
      "        [   0],\n",
      "        [   0],\n",
      "        [   0],\n",
      "        [   0],\n",
      "        [   0],\n",
      "        [   0],\n",
      "        [   0],\n",
      "        [   0],\n",
      "        [   0],\n",
      "        [   0],\n",
      "        [   0],\n",
      "        [   0],\n",
      "        [   0],\n",
      "        [   0],\n",
      "        [   0],\n",
      "        [   0],\n",
      "        [   0],\n",
      "        [   0],\n",
      "        [   0],\n",
      "        [   0],\n",
      "        [   0],\n",
      "        [   0],\n",
      "        [   0],\n",
      "        [   0],\n",
      "        [   0],\n",
      "        [   0],\n",
      "        [   0],\n",
      "        [   0],\n",
      "        [   0],\n",
      "        [   0],\n",
      "        [   0],\n",
      "        [   0],\n",
      "        [   0],\n",
      "        [   0],\n",
      "        [   0],\n",
      "        [   0],\n",
      "        [   0],\n",
      "        [   0],\n",
      "        [   0],\n",
      "        [   0],\n",
      "        [   0],\n",
      "        [   0],\n",
      "        [   0],\n",
      "        [   0],\n",
      "        [   0],\n",
      "        [   0],\n",
      "        [   0],\n",
      "        [   0],\n",
      "        [   0],\n",
      "        [   0],\n",
      "        [   0],\n",
      "        [   0],\n",
      "        [   0],\n",
      "        [   0],\n",
      "        [   0],\n",
      "        [   0],\n",
      "        [   0],\n",
      "        [   0],\n",
      "        [   0],\n",
      "        [   0],\n",
      "        [   0],\n",
      "        [   0],\n",
      "        [   0],\n",
      "        [   0],\n",
      "        [   0],\n",
      "        [   0],\n",
      "        [   0],\n",
      "        [   0],\n",
      "        [   0],\n",
      "        [   0],\n",
      "        [   0],\n",
      "        [   0],\n",
      "        [   0],\n",
      "        [   0],\n",
      "        [   0],\n",
      "        [   0],\n",
      "        [   0],\n",
      "        [   0],\n",
      "        [   0],\n",
      "        [   0],\n",
      "        [   0],\n",
      "        [   0],\n",
      "        [   0],\n",
      "        [   0],\n",
      "        [   0],\n",
      "        [   0],\n",
      "        [   0],\n",
      "        [   0],\n",
      "        [   0],\n",
      "        [   0],\n",
      "        [   0],\n",
      "        [   0],\n",
      "        [   0],\n",
      "        [   0],\n",
      "        [   0],\n",
      "        [   0],\n",
      "        [   0],\n",
      "        [   0],\n",
      "        [   0],\n",
      "        [   0],\n",
      "        [   0],\n",
      "        [   0],\n",
      "        [   0],\n",
      "        [   0],\n",
      "        [   0],\n",
      "        [   0],\n",
      "        [   0],\n",
      "        [   0],\n",
      "        [   0],\n",
      "        [   0],\n",
      "        [   0],\n",
      "        [   0],\n",
      "        [   0],\n",
      "        [   0],\n",
      "        [   0],\n",
      "        [   0],\n",
      "        [   0],\n",
      "        [   0],\n",
      "        [   0],\n",
      "        [   0],\n",
      "        [   0],\n",
      "        [   0],\n",
      "        [   0],\n",
      "        [   0],\n",
      "        [   0],\n",
      "        [   0],\n",
      "        [   0],\n",
      "        [   0],\n",
      "        [   0],\n",
      "        [   0],\n",
      "        [   0]], device='cuda:0')}\n"
     ]
    }
   ],
   "source": [
    "print(generate_data[0])"
   ]
  },
  {
   "cell_type": "code",
   "execution_count": 118,
   "metadata": {},
   "outputs": [],
   "source": [
    "invertid = { v:k for k, v in mf['name2id'].items()}"
   ]
  },
  {
   "cell_type": "code",
   "execution_count": 119,
   "metadata": {},
   "outputs": [],
   "source": [
    "from dataset import KKDayUser, seq_collate\n",
    "dataset =  KKDayUser(-1, 'data/kkday_dataset/user_data', \n",
    "            'data/kkday_dataset/matrix_factorized_64.pkl',\n",
    "            prefix='item_graph', embedding=None, max_length=13, force_fix_len=False, \n",
    "            token_level='word', is_train=True)"
   ]
  },
  {
   "cell_type": "code",
   "execution_count": 120,
   "metadata": {},
   "outputs": [
    {
     "data": {
      "text/plain": [
       "{'27759': 0,\n",
       " '24203': 1,\n",
       " '23019': 2,\n",
       " '2014': 3,\n",
       " '19425': 4,\n",
       " '19712': 5,\n",
       " '19983': 6,\n",
       " '8705': 7,\n",
       " '10062': 8,\n",
       " '3898': 9,\n",
       " '8070': 10,\n",
       " '1964': 11,\n",
       " '5250': 12,\n",
       " '19943': 13,\n",
       " '25035': 14,\n",
       " '13929': 15,\n",
       " '7812': 16,\n",
       " '10544': 17,\n",
       " '7733': 18,\n",
       " '5293': 19,\n",
       " '9861': 20,\n",
       " '22089': 21,\n",
       " '24880': 22,\n",
       " '20783': 23,\n",
       " '19153': 24,\n",
       " '22367': 25,\n",
       " '4068': 26,\n",
       " '18629': 27,\n",
       " '22898': 28,\n",
       " '22914': 29,\n",
       " '21258': 30,\n",
       " '4612': 31,\n",
       " '20650': 32,\n",
       " '22140': 33,\n",
       " '7444': 34,\n",
       " '18574': 35,\n",
       " '24857': 36,\n",
       " '25032': 37,\n",
       " '6946': 38,\n",
       " '9474': 39,\n",
       " '9824': 40,\n",
       " '25656': 41,\n",
       " '20785': 42,\n",
       " '21602': 43,\n",
       " '19723': 44,\n",
       " '9632': 45,\n",
       " '21491': 46,\n",
       " '20313': 47,\n",
       " '20497': 48,\n",
       " '19175': 49,\n",
       " '10729': 50,\n",
       " '22778': 51,\n",
       " '10262': 52,\n",
       " '21223': 53,\n",
       " '5763': 54,\n",
       " '13936': 55,\n",
       " '22456': 56,\n",
       " '22388': 57,\n",
       " '21240': 58,\n",
       " '19181': 59,\n",
       " '6622': 60,\n",
       " '9959': 61,\n",
       " '27852': 62,\n",
       " '20194': 63,\n",
       " '18951': 64,\n",
       " '18402': 65,\n",
       " '25066': 66,\n",
       " '17987': 67,\n",
       " '8829': 68,\n",
       " '18445': 69,\n",
       " '20300': 70,\n",
       " '25107': 71,\n",
       " '13358': 72,\n",
       " '18197': 73,\n",
       " '20405': 74,\n",
       " '10079': 75,\n",
       " '6683': 76,\n",
       " '24189': 77,\n",
       " '24031': 78,\n",
       " '27274': 79,\n",
       " '23160': 80,\n",
       " '2123': 81,\n",
       " '22411': 82,\n",
       " '25021': 83,\n",
       " '4650': 84,\n",
       " '2622': 85,\n",
       " '25004': 86,\n",
       " '21561': 87,\n",
       " '18477': 88,\n",
       " '9606': 89,\n",
       " '20212': 90,\n",
       " '20590': 91,\n",
       " '9913': 92,\n",
       " '8526': 93,\n",
       " '17745': 94,\n",
       " '8189': 95,\n",
       " '20014': 96,\n",
       " '9778': 97,\n",
       " '19053': 98,\n",
       " '9822': 99,\n",
       " '13945': 100,\n",
       " '20410': 101,\n",
       " '9100': 102,\n",
       " '19183': 103,\n",
       " '4634': 104,\n",
       " '12195': 105,\n",
       " '5165': 106,\n",
       " '9429': 107,\n",
       " '6417': 108,\n",
       " '5887': 109,\n",
       " '27628': 110,\n",
       " '18351': 111,\n",
       " '2686': 112,\n",
       " '4373': 113,\n",
       " '19642': 114,\n",
       " '2968': 115,\n",
       " '22523': 116,\n",
       " '21256': 117,\n",
       " '18657': 118,\n",
       " '20064': 119,\n",
       " '25452': 120,\n",
       " '25397': 121,\n",
       " '4102': 122,\n",
       " '1316': 123,\n",
       " '20438': 124,\n",
       " '20233': 125,\n",
       " '20745': 126,\n",
       " '7745': 127,\n",
       " '8007': 128,\n",
       " '22426': 129,\n",
       " '23711': 130,\n",
       " '19565': 131,\n",
       " '23861': 132,\n",
       " '24085': 133,\n",
       " '21615': 134,\n",
       " '21805': 135,\n",
       " '8976': 136,\n",
       " '10148': 137,\n",
       " '21162': 138,\n",
       " '23428': 139,\n",
       " '11595': 140,\n",
       " '6400': 141,\n",
       " '18448': 142,\n",
       " '8169': 143,\n",
       " '11168': 144,\n",
       " '25496': 145,\n",
       " '23367': 146,\n",
       " '26233': 147,\n",
       " '7598': 148,\n",
       " '20572': 149,\n",
       " '1784': 150,\n",
       " '9379': 151,\n",
       " '8450': 152,\n",
       " '24849': 153,\n",
       " '5697': 154,\n",
       " '20531': 155,\n",
       " '10330': 156,\n",
       " '20021': 157,\n",
       " '23376': 158,\n",
       " '22065': 159,\n",
       " '5727': 160,\n",
       " '1459': 161,\n",
       " '19789': 162,\n",
       " '22063': 163,\n",
       " '19856': 164,\n",
       " '16439': 165,\n",
       " '24108': 166,\n",
       " '8411': 167,\n",
       " '24125': 168,\n",
       " '19144': 169,\n",
       " '25284': 170,\n",
       " '2831': 171,\n",
       " '6995': 172,\n",
       " '21288': 173,\n",
       " '25191': 174,\n",
       " '22789': 175,\n",
       " '21280': 176,\n",
       " '9012': 177,\n",
       " '19497': 178,\n",
       " '18141': 179,\n",
       " '21214': 180,\n",
       " '6503': 181,\n",
       " '2855': 182,\n",
       " '23063': 183,\n",
       " '25065': 184,\n",
       " '19070': 185,\n",
       " '20945': 186,\n",
       " '25298': 187,\n",
       " '9343': 188,\n",
       " '30': 189,\n",
       " '18263': 190,\n",
       " '18308': 191,\n",
       " '20587': 192,\n",
       " '2329': 193,\n",
       " '9862': 194,\n",
       " '22085': 195,\n",
       " '2778': 196,\n",
       " '6065': 197,\n",
       " '5813': 198,\n",
       " '6589': 199,\n",
       " '22156': 200,\n",
       " '3722': 201,\n",
       " '23621': 202,\n",
       " '9120': 203,\n",
       " '21650': 204,\n",
       " '10405': 205,\n",
       " '4419': 206,\n",
       " '20002': 207,\n",
       " '6785': 208,\n",
       " '2895': 209,\n",
       " '12294': 210,\n",
       " '9592': 211,\n",
       " '9598': 212,\n",
       " '27216': 213,\n",
       " '21307': 214,\n",
       " '18473': 215,\n",
       " '23326': 216,\n",
       " '2195': 217,\n",
       " '22432': 218,\n",
       " '22986': 219,\n",
       " '21706': 220,\n",
       " '6180': 221,\n",
       " '8473': 222,\n",
       " '21208': 223,\n",
       " '17577': 224,\n",
       " '34': 225,\n",
       " '754': 226,\n",
       " '25498': 227,\n",
       " '5106': 228,\n",
       " '20971': 229,\n",
       " '7057': 230,\n",
       " '25041': 231,\n",
       " '23374': 232,\n",
       " '11289': 233,\n",
       " '7593': 234,\n",
       " '12009': 235,\n",
       " '25157': 236,\n",
       " '23633': 237,\n",
       " '21605': 238,\n",
       " '23813': 239,\n",
       " '24104': 240,\n",
       " '6967': 241,\n",
       " '24537': 242,\n",
       " '20755': 243,\n",
       " '11829': 244,\n",
       " '20127': 245,\n",
       " '6079': 246,\n",
       " '25659': 247,\n",
       " '9825': 248,\n",
       " '25729': 249,\n",
       " '20089': 250,\n",
       " '18481': 251,\n",
       " '20278': 252,\n",
       " '22060': 253,\n",
       " '2691': 254,\n",
       " '4857': 255,\n",
       " '20968': 256,\n",
       " '20599': 257,\n",
       " '21067': 258,\n",
       " '1956': 259,\n",
       " '21666': 260,\n",
       " '22881': 261,\n",
       " '12221': 262,\n",
       " '19959': 263,\n",
       " '6032': 264,\n",
       " '23277': 265,\n",
       " '20224': 266,\n",
       " '8571': 267,\n",
       " '19812': 268,\n",
       " '2203': 269,\n",
       " '7826': 270,\n",
       " '24234': 271,\n",
       " '7492': 272,\n",
       " '17689': 273,\n",
       " '25628': 274,\n",
       " '2642': 275,\n",
       " '24510': 276,\n",
       " '24024': 277,\n",
       " '9792': 278,\n",
       " '18652': 279,\n",
       " '20069': 280,\n",
       " '2298': 281,\n",
       " '21578': 282,\n",
       " '21814': 283,\n",
       " '19955': 284,\n",
       " '18813': 285,\n",
       " '21094': 286,\n",
       " '21077': 287,\n",
       " '18749': 288,\n",
       " '20117': 289,\n",
       " '19564': 290,\n",
       " '22985': 291,\n",
       " '4137': 292,\n",
       " '7575': 293,\n",
       " '23580': 294,\n",
       " '24246': 295,\n",
       " '19159': 296,\n",
       " '17004': 297,\n",
       " '23164': 298,\n",
       " '24881': 299,\n",
       " '22228': 300,\n",
       " '4267': 301,\n",
       " '24594': 302,\n",
       " '21168': 303,\n",
       " '6619': 304,\n",
       " '5681': 305,\n",
       " '21812': 306,\n",
       " '19638': 307,\n",
       " '21216': 308,\n",
       " '19531': 309,\n",
       " '5340': 310,\n",
       " '5281': 311,\n",
       " '2331': 312,\n",
       " '22191': 313,\n",
       " '18651': 314,\n",
       " '21752': 315,\n",
       " '25130': 316,\n",
       " '10329': 317,\n",
       " '9117': 318,\n",
       " '7961': 319,\n",
       " '20596': 320,\n",
       " '19655': 321,\n",
       " '25253': 322,\n",
       " '18546': 323,\n",
       " '2762': 324,\n",
       " '22209': 325,\n",
       " '1203': 326,\n",
       " '2856': 327,\n",
       " '20007': 328,\n",
       " '20697': 329,\n",
       " '22151': 330,\n",
       " '24847': 331,\n",
       " '18751': 332,\n",
       " '21228': 333,\n",
       " '12260': 334,\n",
       " '7368': 335,\n",
       " '27339': 336,\n",
       " '10511': 337,\n",
       " '20454': 338,\n",
       " '22250': 339,\n",
       " '20202': 340,\n",
       " '9323': 341,\n",
       " '18467': 342,\n",
       " '12163': 343,\n",
       " '20551': 344,\n",
       " '5825': 345,\n",
       " '20709': 346,\n",
       " '22466': 347,\n",
       " '8804': 348,\n",
       " '2322': 349,\n",
       " '2277': 350,\n",
       " '18533': 351,\n",
       " '23072': 352,\n",
       " '6258': 353,\n",
       " '8095': 354,\n",
       " '23758': 355,\n",
       " '2952': 356,\n",
       " '22797': 357,\n",
       " '5256': 358,\n",
       " '7771': 359,\n",
       " '24151': 360,\n",
       " '27620': 361,\n",
       " '12144': 362,\n",
       " '21272': 363,\n",
       " '7221': 364,\n",
       " '18969': 365,\n",
       " '11186': 366,\n",
       " '22333': 367,\n",
       " '20684': 368,\n",
       " '12840': 369,\n",
       " '10031': 370,\n",
       " '2870': 371,\n",
       " '24317': 372,\n",
       " '175': 373,\n",
       " '27461': 374,\n",
       " '7877': 375,\n",
       " '10380': 376,\n",
       " '25356': 377,\n",
       " '21179': 378,\n",
       " '2125': 379,\n",
       " '4026': 380,\n",
       " '20902': 381,\n",
       " '8679': 382,\n",
       " '19299': 383,\n",
       " '7088': 384,\n",
       " '9358': 385,\n",
       " '9668': 386,\n",
       " '7825': 387,\n",
       " '9329': 388,\n",
       " '7250': 389,\n",
       " '24597': 390,\n",
       " '23191': 391,\n",
       " '6968': 392,\n",
       " '9755': 393,\n",
       " '24265': 394,\n",
       " '19155': 395,\n",
       " '23486': 396,\n",
       " '21713': 397,\n",
       " '18356': 398,\n",
       " '19227': 399,\n",
       " '25814': 400,\n",
       " '20951': 401,\n",
       " '17746': 402,\n",
       " '24124': 403,\n",
       " '27422': 404,\n",
       " '21660': 405,\n",
       " '20693': 406,\n",
       " '3494': 407,\n",
       " '5745': 408,\n",
       " '25647': 409,\n",
       " '25068': 410,\n",
       " '24544': 411,\n",
       " '21670': 412,\n",
       " '23364': 413,\n",
       " '12008': 414,\n",
       " '25129': 415,\n",
       " '19788': 416,\n",
       " '10445': 417,\n",
       " '20915': 418,\n",
       " '21484': 419,\n",
       " '8364': 420,\n",
       " '27243': 421,\n",
       " '20093': 422,\n",
       " '12028': 423,\n",
       " '3471': 424,\n",
       " '24425': 425,\n",
       " '9488': 426,\n",
       " '22770': 427,\n",
       " '3144': 428,\n",
       " '7778': 429,\n",
       " '18577': 430,\n",
       " '17573': 431,\n",
       " '19475': 432,\n",
       " '21726': 433,\n",
       " '6360': 434,\n",
       " '19782': 435,\n",
       " '25545': 436,\n",
       " '23092': 437,\n",
       " '25236': 438,\n",
       " '22743': 439,\n",
       " '21719': 440,\n",
       " '17710': 441,\n",
       " '8928': 442,\n",
       " '10671': 443,\n",
       " '16436': 444,\n",
       " '19391': 445,\n",
       " '24460': 446,\n",
       " '21688': 447,\n",
       " '23935': 448,\n",
       " '21442': 449,\n",
       " '11280': 450,\n",
       " '4560': 451,\n",
       " '7424': 452,\n",
       " '11251': 453,\n",
       " '19685': 454,\n",
       " '8937': 455,\n",
       " '5344': 456,\n",
       " '7781': 457,\n",
       " '27289': 458,\n",
       " '19676': 459,\n",
       " '18600': 460,\n",
       " '17552': 461,\n",
       " '5739': 462,\n",
       " '12168': 463,\n",
       " '20312': 464,\n",
       " '24091': 465,\n",
       " '23279': 466,\n",
       " '6054': 467,\n",
       " '212': 468,\n",
       " '21356': 469,\n",
       " '19146': 470,\n",
       " '2358': 471,\n",
       " '9893': 472,\n",
       " '22894': 473,\n",
       " '18442': 474,\n",
       " '21048': 475,\n",
       " '9620': 476,\n",
       " '5554': 477,\n",
       " '17973': 478,\n",
       " '18845': 479,\n",
       " '8993': 480,\n",
       " '6199': 481,\n",
       " '4360': 482,\n",
       " '10327': 483,\n",
       " '10227': 484,\n",
       " '12188': 485,\n",
       " '4425': 486,\n",
       " '12598': 487,\n",
       " '19456': 488,\n",
       " '9791': 489,\n",
       " '19848': 490,\n",
       " '25424': 491,\n",
       " '11893': 492,\n",
       " '7121': 493,\n",
       " '5622': 494,\n",
       " '4105': 495,\n",
       " '11903': 496,\n",
       " '8069': 497,\n",
       " '5767': 498,\n",
       " '23228': 499,\n",
       " '20087': 500,\n",
       " '11874': 501,\n",
       " '1324': 502,\n",
       " '20964': 503,\n",
       " '5955': 504,\n",
       " '21858': 505,\n",
       " '9664': 506,\n",
       " '21071': 507,\n",
       " '12014': 508,\n",
       " '20527': 509,\n",
       " '12823': 510,\n",
       " '19342': 511,\n",
       " '27350': 512,\n",
       " '20708': 513,\n",
       " '18881': 514,\n",
       " '4901': 515,\n",
       " '10804': 516,\n",
       " '7329': 517,\n",
       " '17935': 518,\n",
       " '20533': 519,\n",
       " '22115': 520,\n",
       " '19288': 521,\n",
       " '25022': 522,\n",
       " '2338': 523,\n",
       " '2813': 524,\n",
       " '18452': 525,\n",
       " '8630': 526,\n",
       " '23316': 527,\n",
       " '20941': 528,\n",
       " '1354': 529,\n",
       " '24930': 530,\n",
       " '21791': 531,\n",
       " '2989': 532,\n",
       " '9512': 533,\n",
       " '21393': 534,\n",
       " '18663': 535,\n",
       " '22887': 536,\n",
       " '7099': 537,\n",
       " '25711': 538,\n",
       " '23499': 539,\n",
       " '20189': 540,\n",
       " '25408': 541,\n",
       " '19664': 542,\n",
       " '17607': 543,\n",
       " '5422': 544,\n",
       " '6292': 545,\n",
       " '21471': 546,\n",
       " '8818': 547,\n",
       " '9773': 548,\n",
       " '22311': 549,\n",
       " '6817': 550,\n",
       " '23473': 551,\n",
       " '8964': 552,\n",
       " '20043': 553,\n",
       " '12844': 554,\n",
       " '21705': 555,\n",
       " '25321': 556,\n",
       " '27683': 557,\n",
       " '22870': 558,\n",
       " '24434': 559,\n",
       " '20569': 560,\n",
       " '19819': 561,\n",
       " '5182': 562,\n",
       " '21597': 563,\n",
       " '18852': 564,\n",
       " '21687': 565,\n",
       " '6131': 566,\n",
       " '19049': 567,\n",
       " '21082': 568,\n",
       " '4345': 569,\n",
       " '6890': 570,\n",
       " '22248': 571,\n",
       " '11157': 572,\n",
       " '20034': 573,\n",
       " '8606': 574,\n",
       " '20612': 575,\n",
       " '19480': 576,\n",
       " '12250': 577,\n",
       " '9590': 578,\n",
       " '8408': 579,\n",
       " '21867': 580,\n",
       " '20989': 581,\n",
       " '19524': 582,\n",
       " '2308': 583,\n",
       " '24458': 584,\n",
       " '6720': 585,\n",
       " '5944': 586,\n",
       " '23596': 587,\n",
       " '5817': 588,\n",
       " '6447': 589,\n",
       " '25537': 590,\n",
       " '7006': 591,\n",
       " '23054': 592,\n",
       " '12343': 593,\n",
       " '10495': 594,\n",
       " '5403': 595,\n",
       " '13943': 596,\n",
       " '6125': 597,\n",
       " '5777': 598,\n",
       " '24619': 599,\n",
       " '5348': 600,\n",
       " '27236': 601,\n",
       " '19591': 602,\n",
       " '20256': 603,\n",
       " '11816': 604,\n",
       " '25009': 605,\n",
       " '20761': 606,\n",
       " '17785': 607,\n",
       " '27228': 608,\n",
       " '19725': 609,\n",
       " '8778': 610,\n",
       " '9790': 611,\n",
       " '18783': 612,\n",
       " '7935': 613,\n",
       " '21764': 614,\n",
       " '7617': 615,\n",
       " '4673': 616,\n",
       " '23775': 617,\n",
       " '7000': 618,\n",
       " '27827': 619,\n",
       " '22371': 620,\n",
       " '16878': 621,\n",
       " '22924': 622,\n",
       " '8693': 623,\n",
       " '23529': 624,\n",
       " '5925': 625,\n",
       " '22484': 626,\n",
       " '6096': 627,\n",
       " '19450': 628,\n",
       " '3274': 629,\n",
       " '25770': 630,\n",
       " '3519': 631,\n",
       " '23973': 632,\n",
       " '8749': 633,\n",
       " '2202': 634,\n",
       " '22280': 635,\n",
       " '19752': 636,\n",
       " '19639': 637,\n",
       " '8615': 638,\n",
       " '11388': 639,\n",
       " '1749': 640,\n",
       " '25023': 641,\n",
       " '4181': 642,\n",
       " '22320': 643,\n",
       " '5092': 644,\n",
       " '22799': 645,\n",
       " '7581': 646,\n",
       " '25589': 647,\n",
       " '7423': 648,\n",
       " '12220': 649,\n",
       " '21865': 650,\n",
       " '5567': 651,\n",
       " '21441': 652,\n",
       " '1879': 653,\n",
       " '6216': 654,\n",
       " '25205': 655,\n",
       " '19675': 656,\n",
       " '23881': 657,\n",
       " '7318': 658,\n",
       " '3288': 659,\n",
       " '19917': 660,\n",
       " '10045': 661,\n",
       " '20480': 662,\n",
       " '6408': 663,\n",
       " '9864': 664,\n",
       " '23267': 665,\n",
       " '23256': 666,\n",
       " '22472': 667,\n",
       " '21322': 668,\n",
       " '25975': 669,\n",
       " '22510': 670,\n",
       " '18277': 671,\n",
       " '19095': 672,\n",
       " '11031': 673,\n",
       " '6513': 674,\n",
       " '13957': 675,\n",
       " '21309': 676,\n",
       " '5976': 677,\n",
       " '22324': 678,\n",
       " '18068': 679,\n",
       " '25702': 680,\n",
       " '11257': 681,\n",
       " '5756': 682,\n",
       " '10089': 683,\n",
       " '23079': 684,\n",
       " '3061': 685,\n",
       " '23031': 686,\n",
       " '18267': 687,\n",
       " '24118': 688,\n",
       " '20319': 689,\n",
       " '19513': 690,\n",
       " '2889': 691,\n",
       " '10799': 692,\n",
       " '20501': 693,\n",
       " '6348': 694,\n",
       " '23457': 695,\n",
       " '20748': 696,\n",
       " '9205': 697,\n",
       " '8088': 698,\n",
       " '22294': 699,\n",
       " '18193': 700,\n",
       " '22823': 701,\n",
       " '27324': 702,\n",
       " '17947': 703,\n",
       " '6388': 704,\n",
       " '23491': 705,\n",
       " '23505': 706,\n",
       " '19157': 707,\n",
       " '20816': 708,\n",
       " '10506': 709,\n",
       " '24907': 710,\n",
       " '4587': 711,\n",
       " '11661': 712,\n",
       " '25558': 713,\n",
       " '25885': 714,\n",
       " '25061': 715,\n",
       " '2648': 716,\n",
       " '18850': 717,\n",
       " '2878': 718,\n",
       " '22730': 719,\n",
       " '13908': 720,\n",
       " '19045': 721,\n",
       " '6502': 722,\n",
       " '11899': 723,\n",
       " '23196': 724,\n",
       " '20287': 725,\n",
       " '20753': 726,\n",
       " '9830': 727,\n",
       " '11839': 728,\n",
       " '2802': 729,\n",
       " '8074': 730,\n",
       " '19327': 731,\n",
       " '18555': 732,\n",
       " '21685': 733,\n",
       " '7375': 734,\n",
       " '19702': 735,\n",
       " '22862': 736,\n",
       " '1268': 737,\n",
       " '21268': 738,\n",
       " '22278': 739,\n",
       " '22825': 740,\n",
       " '1483': 741,\n",
       " '20140': 742,\n",
       " '21276': 743,\n",
       " '11347': 744,\n",
       " '21100': 745,\n",
       " '23526': 746,\n",
       " '8691': 747,\n",
       " '6544': 748,\n",
       " '12197': 749,\n",
       " '6807': 750,\n",
       " '24533': 751,\n",
       " '21712': 752,\n",
       " '21788': 753,\n",
       " '20739': 754,\n",
       " '11385': 755,\n",
       " '2769': 756,\n",
       " '2173': 757,\n",
       " '18609': 758,\n",
       " '6185': 759,\n",
       " '21204': 760,\n",
       " '23429': 761,\n",
       " '2579': 762,\n",
       " '25176': 763,\n",
       " '22319': 764,\n",
       " '26608': 765,\n",
       " '15569': 766,\n",
       " '24949': 767,\n",
       " '25773': 768,\n",
       " '1266': 769,\n",
       " '4100': 770,\n",
       " '22104': 771,\n",
       " '5705': 772,\n",
       " '7552': 773,\n",
       " '19180': 774,\n",
       " '20141': 775,\n",
       " '20467': 776,\n",
       " '19944': 777,\n",
       " '20018': 778,\n",
       " '4977': 779,\n",
       " '4808': 780,\n",
       " '8762': 781,\n",
       " '19418': 782,\n",
       " '21667': 783,\n",
       " '20': 784,\n",
       " '2312': 785,\n",
       " '8576': 786,\n",
       " '1446': 787,\n",
       " '18309': 788,\n",
       " '21476': 789,\n",
       " '25054': 790,\n",
       " '20219': 791,\n",
       " '5929': 792,\n",
       " '18256': 793,\n",
       " '23825': 794,\n",
       " '8727': 795,\n",
       " '9930': 796,\n",
       " '20475': 797,\n",
       " '19769': 798,\n",
       " '5642': 799,\n",
       " '6491': 800,\n",
       " '2799': 801,\n",
       " '20795': 802,\n",
       " '8989': 803,\n",
       " '22471': 804,\n",
       " '27333': 805,\n",
       " '12627': 806,\n",
       " '11180': 807,\n",
       " '25696': 808,\n",
       " '23720': 809,\n",
       " '4242': 810,\n",
       " '18214': 811,\n",
       " '6997': 812,\n",
       " '19234': 813,\n",
       " '17606': 814,\n",
       " '27491': 815,\n",
       " '18341': 816,\n",
       " '23102': 817,\n",
       " '2679': 818,\n",
       " '22096': 819,\n",
       " '18493': 820,\n",
       " '25523': 821,\n",
       " '1951': 822,\n",
       " '9916': 823,\n",
       " '8349': 824,\n",
       " '2332': 825,\n",
       " '21150': 826,\n",
       " '11710': 827,\n",
       " '4624': 828,\n",
       " '27625': 829,\n",
       " '5322': 830,\n",
       " '21459': 831,\n",
       " '8786': 832,\n",
       " '1180': 833,\n",
       " '22726': 834,\n",
       " '1894': 835,\n",
       " '20987': 836,\n",
       " '18376': 837,\n",
       " '20499': 838,\n",
       " '3710': 839,\n",
       " '23240': 840,\n",
       " '19221': 841,\n",
       " '22756': 842,\n",
       " '21102': 843,\n",
       " '20052': 844,\n",
       " '11909': 845,\n",
       " '23472': 846,\n",
       " '27607': 847,\n",
       " '20689': 848,\n",
       " '10012': 849,\n",
       " '25104': 850,\n",
       " '21360': 851,\n",
       " '21017': 852,\n",
       " '5315': 853,\n",
       " '22389': 854,\n",
       " '19487': 855,\n",
       " '9019': 856,\n",
       " '21714': 857,\n",
       " '8890': 858,\n",
       " '23406': 859,\n",
       " '20873': 860,\n",
       " '23219': 861,\n",
       " '27418': 862,\n",
       " '20921': 863,\n",
       " '23281': 864,\n",
       " '7827': 865,\n",
       " '24869': 866,\n",
       " '24057': 867,\n",
       " '23553': 868,\n",
       " '2880': 869,\n",
       " '20241': 870,\n",
       " '7734': 871,\n",
       " '22113': 872,\n",
       " '1633': 873,\n",
       " '24992': 874,\n",
       " '6225': 875,\n",
       " '19365': 876,\n",
       " '18581': 877,\n",
       " '20179': 878,\n",
       " '4721': 879,\n",
       " '20004': 880,\n",
       " '8091': 881,\n",
       " '6760': 882,\n",
       " '22374': 883,\n",
       " '20975': 884,\n",
       " '19258': 885,\n",
       " '24186': 886,\n",
       " '21099': 887,\n",
       " '23137': 888,\n",
       " '25144': 889,\n",
       " '25444': 890,\n",
       " '21574': 891,\n",
       " '20019': 892,\n",
       " '21182': 893,\n",
       " '19510': 894,\n",
       " '21267': 895,\n",
       " '13951': 896,\n",
       " '8816': 897,\n",
       " '6056': 898,\n",
       " '19109': 899,\n",
       " '20707': 900,\n",
       " '20976': 901,\n",
       " '25415': 902,\n",
       " '11328': 903,\n",
       " '1365': 904,\n",
       " '19843': 905,\n",
       " '5623': 906,\n",
       " '11085': 907,\n",
       " '21115': 908,\n",
       " '8103': 909,\n",
       " '20696': 910,\n",
       " '24230': 911,\n",
       " '9584': 912,\n",
       " '20281': 913,\n",
       " '22905': 914,\n",
       " '22748': 915,\n",
       " '18640': 916,\n",
       " '6991': 917,\n",
       " '20522': 918,\n",
       " '23272': 919,\n",
       " '21308': 920,\n",
       " '4607': 921,\n",
       " '22752': 922,\n",
       " '21088': 923,\n",
       " '6748': 924,\n",
       " '7993': 925,\n",
       " '20479': 926,\n",
       " '6008': 927,\n",
       " '25543': 928,\n",
       " '21677': 929,\n",
       " '26133': 930,\n",
       " '23037': 931,\n",
       " '23658': 932,\n",
       " '4862': 933,\n",
       " '3852': 934,\n",
       " '21681': 935,\n",
       " '20905': 936,\n",
       " '25461': 937,\n",
       " '1333': 938,\n",
       " '20024': 939,\n",
       " '2350': 940,\n",
       " '10066': 941,\n",
       " '22871': 942,\n",
       " '21085': 943,\n",
       " '25477': 944,\n",
       " '4228': 945,\n",
       " '19711': 946,\n",
       " '21043': 947,\n",
       " '2317': 948,\n",
       " '22877': 949,\n",
       " '21790': 950,\n",
       " '24565': 951,\n",
       " '25777': 952,\n",
       " '9579': 953,\n",
       " '18958': 954,\n",
       " '21549': 955,\n",
       " '19673': 956,\n",
       " '4924': 957,\n",
       " '23765': 958,\n",
       " '23864': 959,\n",
       " '23778': 960,\n",
       " '22143': 961,\n",
       " '8332': 962,\n",
       " '18857': 963,\n",
       " '11499': 964,\n",
       " '3712': 965,\n",
       " '24917': 966,\n",
       " '18409': 967,\n",
       " '24030': 968,\n",
       " '13895': 969,\n",
       " '23624': 970,\n",
       " '17602': 971,\n",
       " '10417': 972,\n",
       " '6931': 973,\n",
       " '9693': 974,\n",
       " '25050': 975,\n",
       " '25355': 976,\n",
       " '22966': 977,\n",
       " '5713': 978,\n",
       " '22737': 979,\n",
       " '20664': 980,\n",
       " '20839': 981,\n",
       " '22491': 982,\n",
       " '6204': 983,\n",
       " '12089': 984,\n",
       " '20123': 985,\n",
       " '10319': 986,\n",
       " '23936': 987,\n",
       " '21751': 988,\n",
       " '20530': 989,\n",
       " '9972': 990,\n",
       " '23070': 991,\n",
       " '4022': 992,\n",
       " '20048': 993,\n",
       " '20000': 994,\n",
       " '23927': 995,\n",
       " '21328': 996,\n",
       " '26155': 997,\n",
       " '17841': 998,\n",
       " '23983': 999,\n",
       " ...}"
      ]
     },
     "execution_count": 120,
     "metadata": {},
     "output_type": "execute_result"
    }
   ],
   "source": [
    "dataset.prod2id"
   ]
  },
  {
   "cell_type": "code",
   "execution_count": 169,
   "metadata": {},
   "outputs": [],
   "source": [
    "from torch.utils.data import Dataset\n",
    "from collections import defaultdict\n",
    "from preprocess import clean_text, segment_text, pad_sequence\n",
    "from constant import (\n",
    "    CACHE_DIR, \n",
    "    MAX_LENGTH, Constants)\n",
    "from tokenizer import CharTokenizer, WordTokenizer\n",
    "import random\n",
    "\n",
    "class MF_dataset(Dataset):\n",
    "    \n",
    "    def __init__(self, mf, generate_data, dataset, neg_size=100,token_level='word'):\n",
    "        all_items = []\n",
    "        bipartile = {}\n",
    "        negative_items = {}\n",
    "        \n",
    "        self.vocab_size = dataset.vocab_size\n",
    "\n",
    "        invertid = { value: key for key, value in dataset.user2id.items() }\n",
    "\n",
    "        for key, value in dataset.prod2id.items():\n",
    "            invertid[value] = key\n",
    "            all_items.append(key)\n",
    "\n",
    "        if token_level == 'word':\n",
    "            tokenizer = WordTokenizer()\n",
    "        else:\n",
    "            tokenizer = CharTokenizer()\n",
    "        self.invertid = invertid\n",
    "        print('id_prod2title')\n",
    "            \n",
    "        id_prod2title = { invertid[int(data['item_ids'])] : data['tgt']  for data in generate_data }\n",
    "\n",
    "        ## Create negative user samples\n",
    "        print('create')\n",
    "        for user, items in dataset.users_pid.items():\n",
    "            negative_sample = []\n",
    "            max_iter = 0\n",
    "            while len(negative_sample) < neg_size:\n",
    "                rand_idx = random.randint(0, len(all_items)-1)\n",
    "                neg_i = all_items[ rand_idx ]\n",
    "                if neg_i not in dataset.users_pid[user] and neg_i in id_prod2title:\n",
    "                    negative_sample.append(  dataset.prod2id[neg_i]  )\n",
    "                if max_iter > neg_size+10:\n",
    "                    break\n",
    "                max_iter += 1\n",
    "            negative_items[dataset.user2id[user]] = negative_sample\n",
    "\n",
    "        self.id_prod2title = id_prod2title\n",
    "        self.negative_items = negative_items\n",
    "        self.data = generate_data\n",
    "        \n",
    "    def __getitem__(self, item):\n",
    "        row = self.data[item]\n",
    "        tgt = row['tgt']\n",
    "        gen = row['gen_tokens']\n",
    "        neg_idx = random.choice(self.negative_items[ int(row['user_ids']) ])\n",
    "        neg_title = self.id_prod2title[self.invertid[neg_idx]]\n",
    "        return row['user_ids'], tgt, neg_title, gen\n",
    "\n",
    "    def __len__(self):\n",
    "        return len(self.data)\n",
    "\n",
    "    \n",
    "def mf_collate(batch):\n",
    "    user_ids, tgt_, neg_tgt_, gen_tgt_ = [], [], [], []\n",
    "    min_tgt = min([ s[1].shape[0] for s in batch ])\n",
    "    min_neg = min([ s[2].shape[0] for s in batch ])\n",
    "    min_gen = min([ s[3].shape[0] for s in batch ])\n",
    "    for user_id, tgt, neg_tgt, gen in batch:\n",
    "        user_ids.append(user_id)\n",
    "        tgt_.append(tgt[:min_tgt])\n",
    "        neg_tgt_.append(neg_tgt[:min_neg])\n",
    "        gen_tgt_.append(gen[:min_gen])\n",
    "    \n",
    "    neg_tgt_ = torch.stack(neg_tgt_)\n",
    "    gen_tgt_ = torch.stack(gen_tgt_)\n",
    "    tgt_ = torch.stack(tgt_)\n",
    "    user_ids = torch.stack(user_ids)\n",
    "    \n",
    "    return user_ids, tgt_, neg_tgt_, gen_tgt_\n",
    "    \n"
   ]
  },
  {
   "cell_type": "code",
   "execution_count": 170,
   "metadata": {},
   "outputs": [
    {
     "name": "stdout",
     "output_type": "stream",
     "text": [
      "id_prod2title\n",
      "create\n"
     ]
    }
   ],
   "source": [
    "dataset_ = MF_dataset(mf, generate_data, dataset, neg_size=10)\n",
    "dataloader = torch.utils.data.DataLoader(dataset_, batch_size=32, collate_fn=mf_collate)    "
   ]
  },
  {
   "cell_type": "code",
   "execution_count": 171,
   "metadata": {},
   "outputs": [
    {
     "name": "stdout",
     "output_type": "stream",
     "text": [
      "torch.Size([32, 174])\n",
      "torch.Size([32, 174])\n",
      "torch.Size([32, 174])\n",
      "torch.Size([32, 174])\n",
      "torch.Size([32, 174])\n",
      "torch.Size([32, 174])\n",
      "torch.Size([32, 174])\n",
      "torch.Size([32, 174])\n",
      "torch.Size([32, 177])\n",
      "torch.Size([32, 176])\n",
      "torch.Size([32, 176])\n",
      "torch.Size([32, 174])\n",
      "torch.Size([32, 174])\n",
      "torch.Size([32, 174])\n",
      "torch.Size([32, 174])\n",
      "torch.Size([32, 174])\n",
      "torch.Size([32, 174])\n",
      "torch.Size([32, 174])\n",
      "torch.Size([32, 174])\n",
      "torch.Size([32, 177])\n",
      "torch.Size([32, 174])\n",
      "torch.Size([32, 174])\n",
      "torch.Size([32, 177])\n",
      "torch.Size([32, 174])\n",
      "torch.Size([32, 174])\n",
      "torch.Size([32, 174])\n",
      "torch.Size([32, 174])\n",
      "torch.Size([32, 174])\n",
      "torch.Size([32, 174])\n",
      "torch.Size([32, 177])\n",
      "torch.Size([32, 174])\n",
      "torch.Size([32, 177])\n",
      "torch.Size([32, 174])\n",
      "torch.Size([32, 174])\n",
      "torch.Size([32, 174])\n",
      "torch.Size([32, 177])\n",
      "torch.Size([32, 174])\n",
      "torch.Size([32, 174])\n",
      "torch.Size([32, 177])\n",
      "torch.Size([32, 174])\n",
      "torch.Size([32, 174])\n",
      "torch.Size([32, 174])\n",
      "torch.Size([32, 174])\n",
      "torch.Size([32, 174])\n",
      "torch.Size([32, 174])\n",
      "torch.Size([32, 174])\n",
      "torch.Size([32, 174])\n",
      "torch.Size([32, 174])\n",
      "torch.Size([32, 174])\n",
      "torch.Size([32, 174])\n",
      "torch.Size([32, 174])\n",
      "torch.Size([32, 174])\n",
      "torch.Size([32, 174])\n",
      "torch.Size([32, 177])\n",
      "torch.Size([32, 174])\n",
      "torch.Size([32, 176])\n",
      "torch.Size([32, 176])\n",
      "torch.Size([32, 174])\n",
      "torch.Size([32, 176])\n",
      "torch.Size([32, 174])\n",
      "torch.Size([32, 174])\n",
      "torch.Size([32, 176])\n",
      "torch.Size([32, 174])\n",
      "torch.Size([32, 174])\n",
      "torch.Size([32, 176])\n",
      "torch.Size([32, 174])\n",
      "torch.Size([32, 174])\n",
      "torch.Size([32, 174])\n",
      "torch.Size([32, 174])\n",
      "torch.Size([32, 174])\n",
      "torch.Size([32, 176])\n",
      "torch.Size([32, 177])\n",
      "torch.Size([32, 174])\n",
      "torch.Size([32, 174])\n",
      "torch.Size([32, 174])\n",
      "torch.Size([32, 176])\n",
      "torch.Size([32, 174])\n",
      "torch.Size([32, 174])\n",
      "torch.Size([32, 174])\n",
      "torch.Size([32, 176])\n",
      "torch.Size([32, 174])\n",
      "torch.Size([32, 174])\n",
      "torch.Size([32, 179])\n",
      "torch.Size([32, 176])\n",
      "torch.Size([32, 174])\n",
      "torch.Size([32, 174])\n",
      "torch.Size([32, 174])\n",
      "torch.Size([32, 174])\n",
      "torch.Size([32, 176])\n",
      "torch.Size([32, 177])\n",
      "torch.Size([32, 174])\n",
      "torch.Size([32, 176])\n",
      "torch.Size([32, 176])\n",
      "torch.Size([32, 174])\n",
      "torch.Size([32, 174])\n",
      "torch.Size([32, 174])\n",
      "torch.Size([32, 174])\n",
      "torch.Size([32, 174])\n",
      "torch.Size([32, 176])\n",
      "torch.Size([32, 174])\n",
      "torch.Size([32, 176])\n",
      "torch.Size([32, 174])\n",
      "torch.Size([32, 174])\n",
      "torch.Size([32, 174])\n",
      "torch.Size([32, 174])\n",
      "torch.Size([32, 174])\n",
      "torch.Size([32, 174])\n",
      "torch.Size([32, 174])\n",
      "torch.Size([32, 176])\n",
      "torch.Size([32, 174])\n",
      "torch.Size([32, 177])\n",
      "torch.Size([32, 177])\n",
      "torch.Size([32, 174])\n",
      "torch.Size([32, 174])\n",
      "torch.Size([32, 174])\n",
      "torch.Size([32, 174])\n",
      "torch.Size([32, 174])\n",
      "torch.Size([32, 174])\n",
      "torch.Size([32, 176])\n",
      "torch.Size([32, 174])\n",
      "torch.Size([32, 174])\n",
      "torch.Size([32, 176])\n",
      "torch.Size([32, 174])\n",
      "torch.Size([32, 177])\n",
      "torch.Size([32, 174])\n",
      "torch.Size([32, 178])\n",
      "torch.Size([32, 177])\n",
      "torch.Size([32, 174])\n",
      "torch.Size([32, 174])\n",
      "torch.Size([32, 177])\n",
      "torch.Size([32, 174])\n",
      "torch.Size([32, 174])\n",
      "torch.Size([32, 177])\n",
      "torch.Size([32, 174])\n",
      "torch.Size([32, 174])\n",
      "torch.Size([32, 174])\n",
      "torch.Size([32, 174])\n",
      "torch.Size([32, 176])\n",
      "torch.Size([32, 174])\n",
      "torch.Size([32, 174])\n",
      "torch.Size([32, 174])\n",
      "torch.Size([32, 174])\n",
      "torch.Size([32, 174])\n",
      "torch.Size([32, 174])\n",
      "torch.Size([32, 176])\n",
      "torch.Size([32, 176])\n",
      "torch.Size([32, 177])\n",
      "torch.Size([32, 174])\n",
      "torch.Size([32, 176])\n",
      "torch.Size([32, 176])\n",
      "torch.Size([32, 177])\n",
      "torch.Size([32, 174])\n",
      "torch.Size([32, 176])\n",
      "torch.Size([32, 174])\n",
      "torch.Size([32, 177])\n",
      "torch.Size([32, 174])\n",
      "torch.Size([32, 174])\n",
      "torch.Size([32, 174])\n",
      "torch.Size([32, 174])\n",
      "torch.Size([32, 176])\n",
      "torch.Size([32, 174])\n",
      "torch.Size([32, 177])\n",
      "torch.Size([32, 174])\n",
      "torch.Size([32, 174])\n",
      "torch.Size([32, 177])\n",
      "torch.Size([32, 177])\n",
      "torch.Size([32, 174])\n",
      "torch.Size([32, 174])\n",
      "torch.Size([32, 176])\n",
      "torch.Size([32, 174])\n",
      "torch.Size([32, 174])\n",
      "torch.Size([32, 174])\n",
      "torch.Size([32, 176])\n",
      "torch.Size([32, 176])\n",
      "torch.Size([32, 174])\n",
      "torch.Size([32, 174])\n",
      "torch.Size([32, 174])\n",
      "torch.Size([32, 174])\n",
      "torch.Size([32, 177])\n",
      "torch.Size([32, 174])\n",
      "torch.Size([32, 174])\n",
      "torch.Size([32, 174])\n",
      "torch.Size([32, 176])\n",
      "torch.Size([32, 174])\n",
      "torch.Size([32, 174])\n",
      "torch.Size([32, 176])\n",
      "torch.Size([32, 177])\n",
      "torch.Size([32, 174])\n",
      "torch.Size([32, 177])\n",
      "torch.Size([32, 177])\n",
      "torch.Size([32, 174])\n",
      "torch.Size([32, 174])\n",
      "torch.Size([32, 174])\n",
      "torch.Size([32, 174])\n",
      "torch.Size([32, 176])\n",
      "torch.Size([32, 176])\n",
      "torch.Size([32, 177])\n",
      "torch.Size([32, 174])\n",
      "torch.Size([32, 174])\n",
      "torch.Size([32, 174])\n",
      "torch.Size([32, 174])\n",
      "torch.Size([32, 174])\n",
      "torch.Size([32, 176])\n",
      "torch.Size([32, 177])\n",
      "torch.Size([32, 176])\n",
      "torch.Size([32, 174])\n",
      "torch.Size([32, 177])\n",
      "torch.Size([32, 174])\n",
      "torch.Size([32, 174])\n",
      "torch.Size([32, 176])\n",
      "torch.Size([32, 177])\n",
      "torch.Size([32, 174])\n",
      "torch.Size([32, 176])\n",
      "torch.Size([32, 174])\n",
      "torch.Size([32, 176])\n",
      "torch.Size([32, 174])\n",
      "torch.Size([32, 177])\n",
      "torch.Size([32, 177])\n",
      "torch.Size([32, 174])\n",
      "torch.Size([32, 177])\n",
      "torch.Size([32, 174])\n",
      "torch.Size([32, 174])\n",
      "torch.Size([32, 177])\n",
      "torch.Size([32, 174])\n",
      "torch.Size([32, 176])\n",
      "torch.Size([32, 176])\n",
      "torch.Size([32, 174])\n",
      "torch.Size([32, 174])\n",
      "torch.Size([32, 177])\n",
      "torch.Size([32, 176])\n",
      "torch.Size([32, 174])\n",
      "torch.Size([32, 177])\n",
      "torch.Size([32, 174])\n",
      "torch.Size([32, 176])\n",
      "torch.Size([32, 174])\n",
      "torch.Size([32, 174])\n",
      "torch.Size([32, 174])\n",
      "torch.Size([32, 174])\n",
      "torch.Size([32, 177])\n",
      "torch.Size([32, 174])\n",
      "torch.Size([32, 174])\n",
      "torch.Size([32, 174])\n",
      "torch.Size([32, 176])\n",
      "torch.Size([32, 174])\n",
      "torch.Size([32, 174])\n",
      "torch.Size([32, 174])\n",
      "torch.Size([32, 174])\n",
      "torch.Size([32, 174])\n",
      "torch.Size([32, 174])\n",
      "torch.Size([32, 174])\n",
      "torch.Size([32, 176])\n",
      "torch.Size([32, 177])\n",
      "torch.Size([32, 177])\n",
      "torch.Size([32, 177])\n",
      "torch.Size([32, 174])\n",
      "torch.Size([32, 174])\n",
      "torch.Size([32, 176])\n",
      "torch.Size([32, 174])\n",
      "torch.Size([32, 174])\n",
      "torch.Size([32, 174])\n",
      "torch.Size([32, 174])\n",
      "torch.Size([32, 174])\n",
      "torch.Size([32, 174])\n",
      "torch.Size([32, 174])\n",
      "torch.Size([32, 174])\n",
      "torch.Size([32, 177])\n",
      "torch.Size([32, 177])\n",
      "torch.Size([32, 174])\n",
      "torch.Size([32, 174])\n",
      "torch.Size([32, 174])\n",
      "torch.Size([32, 177])\n",
      "torch.Size([32, 174])\n",
      "torch.Size([32, 174])\n",
      "torch.Size([32, 174])\n",
      "torch.Size([32, 174])\n",
      "torch.Size([32, 174])\n",
      "torch.Size([32, 177])\n",
      "torch.Size([32, 177])\n",
      "torch.Size([32, 174])\n",
      "torch.Size([32, 174])\n",
      "torch.Size([32, 174])\n",
      "torch.Size([32, 174])\n",
      "torch.Size([32, 176])\n",
      "torch.Size([32, 176])\n",
      "torch.Size([32, 174])\n",
      "torch.Size([32, 174])\n",
      "torch.Size([32, 177])\n",
      "torch.Size([32, 177])\n",
      "torch.Size([32, 174])\n",
      "torch.Size([32, 174])\n",
      "torch.Size([32, 174])\n",
      "torch.Size([32, 174])\n",
      "torch.Size([32, 174])\n",
      "torch.Size([32, 176])\n",
      "torch.Size([32, 174])\n",
      "torch.Size([32, 174])\n",
      "torch.Size([32, 174])\n",
      "torch.Size([32, 176])\n",
      "torch.Size([32, 174])\n",
      "torch.Size([32, 176])\n",
      "torch.Size([32, 174])\n",
      "torch.Size([32, 174])\n",
      "torch.Size([32, 176])\n",
      "torch.Size([32, 174])\n",
      "torch.Size([32, 174])\n",
      "torch.Size([32, 174])\n",
      "torch.Size([32, 174])\n",
      "torch.Size([32, 174])\n",
      "torch.Size([32, 176])\n",
      "torch.Size([32, 174])\n",
      "torch.Size([32, 176])\n",
      "torch.Size([32, 174])\n",
      "torch.Size([32, 177])\n",
      "torch.Size([32, 176])\n",
      "torch.Size([14, 174])\n"
     ]
    }
   ],
   "source": [
    "for batch in dataloader:\n",
    "    print(batch[2].shape)"
   ]
  },
  {
   "cell_type": "code",
   "execution_count": 148,
   "metadata": {},
   "outputs": [],
   "source": [
    "class SimpleMF(nn.Module):\n",
    "    \n",
    "    def __init__(self, user_size, vocab_size, n_factors):\n",
    "        super().__init__()\n",
    "        self.user_factors = torch.nn.Embedding(user_size, \n",
    "                                               n_factors,\n",
    "                                               sparse=True)\n",
    "        # text encoder\n",
    "        self.word_factors = torch.nn.Embedding(vocab_size, \n",
    "                                               n_factors,\n",
    "                                               padding_idx=0)\n",
    "    def forward(self, user, item):\n",
    "        return (self.user_factors(user) * self.word_factors(item).mean(1)).sum(1)"
   ]
  },
  {
   "cell_type": "code",
   "execution_count": 149,
   "metadata": {},
   "outputs": [
    {
     "name": "stdout",
     "output_type": "stream",
     "text": [
      "torch.Size([32, 16])\n"
     ]
    },
    {
     "data": {
      "text/plain": [
       "tensor([ 1.0520,  1.1928, -0.7489,  4.0777,  0.1008, -0.7187,  1.4231,  0.1756,\n",
       "         1.9577, -1.9736,  2.1636, -0.3215, -2.6001,  0.8379,  1.4993,  1.1153,\n",
       "         1.0476, -0.4259, -0.5161,  0.3191,  0.8243,  0.5523,  1.6348,  1.0240,\n",
       "        -0.5490,  3.0912,  1.7967,  4.3510,  0.2502, -0.4775, -2.8386, -1.9286],\n",
       "       grad_fn=<SumBackward1>)"
      ]
     },
     "execution_count": 149,
     "metadata": {},
     "output_type": "execute_result"
    }
   ],
   "source": [
    "simple_mf = SimpleMF(len(dataset.user2id), dataset_.vocab_size, 16)\n",
    "\n",
    "simple_mf(torch.randint(0, 10, (32,)),  torch.randint(0, 10, (32, 10,)) )"
   ]
  },
  {
   "cell_type": "code",
   "execution_count": 48,
   "metadata": {},
   "outputs": [],
   "source": [
    "invertid = { v:k for k, v in mf['name2id'].items()}"
   ]
  },
  {
   "cell_type": "code",
   "execution_count": 50,
   "metadata": {},
   "outputs": [
    {
     "data": {
      "text/plain": [
       "'1d6b24c3-2bac-4915-b205-e4fd1661ef92'"
      ]
     },
     "execution_count": 50,
     "metadata": {},
     "output_type": "execute_result"
    }
   ],
   "source": [
    "invertid[2456]"
   ]
  },
  {
   "cell_type": "code",
   "execution_count": 61,
   "metadata": {},
   "outputs": [
    {
     "name": "stderr",
     "output_type": "stream",
     "text": [
      "/home/theblackcat102/Documents/text-subgan/env/lib/python3.6/site-packages/ipykernel_launcher.py:2: TqdmDeprecationWarning: This function will be removed in tqdm==5.0.0\n",
      "Please use `tqdm.notebook.tqdm` instead of `tqdm.tqdm_notebook`\n",
      "  \n"
     ]
    },
    {
     "data": {
      "application/vnd.jupyter.widget-view+json": {
       "model_id": "80163cc2103441d49c9ee4c4fa487592",
       "version_major": 2,
       "version_minor": 0
      },
      "text/plain": [
       "HBox(children=(FloatProgress(value=0.0, max=278876.0), HTML(value='')))"
      ]
     },
     "metadata": {},
     "output_type": "display_data"
    },
    {
     "name": "stdout",
     "output_type": "stream",
     "text": [
      "\n"
     ]
    }
   ],
   "source": [
    "with open('data/kkday_dataset/user_data/useritem_relations.txt', 'r') as f:\n",
    "    for line in tqdm(f.readlines()):\n",
    "        user_id, prod_id = line.strip().split('\\t')\n",
    "        if int(prod_id) == 2537:\n",
    "            print('found')"
   ]
  },
  {
   "cell_type": "code",
   "execution_count": 6,
   "metadata": {},
   "outputs": [],
   "source": [
    "log_name = 'save/tempest_rec-2020-07-13-19-09-48'\n",
    "checkpoint = 'checkpoint_20000.pt'\n",
    "\n",
    "from module.vmt import VMT\n",
    "with open(os.path.join(log_name, 'params.json'), 'r') as f:\n",
    "    params = json.load(f)\n",
    "args = Struct(**params)\n",
    "id_mapping = torch.load(os.path.join(args.cache_path, 'id_mapping.pt'))\n",
    "user_size = len(id_mapping['user2id'])\n",
    "user_size = user_size\n",
    "prod_size = len(id_mapping['prod2id'])\n",
    "\n",
    "\n",
    "model = VMT(args.gen_embed_dim, args.vocab_size,\n",
    "            enc_hidden_size=500, dec_hidden_size=500, tmp_category=args.tmp_cat_dim,\n",
    "            tmp_latent_dim=args.tmp_latent_dim, desc_latent_dim=args.desc_latent_dim, user_latent_dim=args.user_latent_dim,\n",
    "            biset=args.biset, user_embedding=True, user_size=user_size,\n",
    "            max_seq_len=args.max_seq_len-1, gpu=True).cuda()\n",
    "model.load_state_dict(torch.load(os.path.join(log_name,checkpoint))['model'])\n",
    "\n",
    "id2user = { value: key for key, value in id_mapping['user2id'].items() }\n"
   ]
  },
  {
   "cell_type": "code",
   "execution_count": 7,
   "metadata": {},
   "outputs": [],
   "source": [
    "id2user = { value: key for key, value in id_mapping['user2id'].items() }"
   ]
  },
  {
   "cell_type": "code",
   "execution_count": 8,
   "metadata": {},
   "outputs": [
    {
     "name": "stdout",
     "output_type": "stream",
     "text": [
      "dataset/valid.pt\n"
     ]
    }
   ],
   "source": [
    "from dataset import TemPest, tempest_collate\n",
    "valid_dataset = TemPest(args.cache_path, 'valid')\n",
    "eval_dataloader = torch.utils.data.DataLoader(valid_dataset, num_workers=8,\n",
    "                        collate_fn=tempest_collate, batch_size=20, shuffle=False, drop_last=True)"
   ]
  },
  {
   "cell_type": "code",
   "execution_count": 9,
   "metadata": {},
   "outputs": [
    {
     "name": "stdout",
     "output_type": "stream",
     "text": [
      "1761\n"
     ]
    }
   ],
   "source": [
    "print(len(valid_dataset))"
   ]
  },
  {
   "cell_type": "code",
   "execution_count": null,
   "metadata": {},
   "outputs": [
    {
     "name": "stderr",
     "output_type": "stream",
     "text": [
      "/home/theblackcat102/Documents/text-subgan/env/lib/python3.6/site-packages/ipykernel_launcher.py:4: TqdmDeprecationWarning: This function will be removed in tqdm==5.0.0\n",
      "Please use `tqdm.notebook.tqdm` instead of `tqdm.tqdm_notebook`\n",
      "  after removing the cwd from sys.path.\n"
     ]
    },
    {
     "data": {
      "application/vnd.jupyter.widget-view+json": {
       "model_id": "f79efc3634ec40cc926734915cf1ffce",
       "version_major": 2,
       "version_minor": 0
      },
      "text/plain": [
       "HBox(children=(FloatProgress(value=0.0, max=88.0), HTML(value='')))"
      ]
     },
     "metadata": {},
     "output_type": "display_data"
    }
   ],
   "source": [
    "sentences, references = [], []\n",
    "temp_latent = []\n",
    "with torch.no_grad():\n",
    "    for batch in tqdm(eval_dataloader):\n",
    "        src_inputs = batch['src']\n",
    "        tmp = batch['tmt']\n",
    "        inputs, target = batch['tgt'][:, :-1], batch['tgt'][:, 1:]\n",
    "        users = batch['users']\n",
    "        empty_users = users == -1\n",
    "        batch_size = len(empty_users)\n",
    "        users_filled = users.detach()\n",
    "        users_filled[empty_users] = torch.randint(0, user_size, ( int(empty_users.sum()),  ))\n",
    "\n",
    "        if cfg.CUDA:\n",
    "            src_inputs = src_inputs.cuda()\n",
    "            target = target.cuda()\n",
    "            tmp = tmp.cuda()\n",
    "            inputs = inputs.cuda()\n",
    "            users_filled = users_filled.cuda()\n",
    "\n",
    "        desc_outputs, desc_latent, desc_mean, desc_std = model.encode_desc(src_inputs)\n",
    "        tmp_outputs, tmp_latent = model.encode_tmp(tmp)\n",
    "        for latent_ in tmp_latent:\n",
    "            temp_latent.append(latent_.cpu().numpy().flatten())\n",
    "        user_embeddings = model.user_embedding( users_filled )\n",
    "        _, output_title = model.decode(tmp_latent, desc_latent, user_embeddings, \n",
    "                desc_outputs, tmp_outputs,\n",
    "                max_length=target.shape[1])\n",
    "\n",
    "        for idx, sent_token in enumerate(batch['tgt'][:, 1:]):\n",
    "            reference = []\n",
    "            for token in sent_token:\n",
    "                if token.item() == Constants.EOS:\n",
    "                    break\n",
    "                reference.append(valid_dataset.tokenizer.idx2word[token.item()] )\n",
    "            references.append(''.join(reference))\n",
    "\n",
    "            sent = output_title[idx]\n",
    "            sentence = []\n",
    "            for token in sent:\n",
    "                if token.item() == Constants.EOS:\n",
    "                    break\n",
    "                sentence.append(valid_dataset.tokenizer.idx2word[token.item()])\n",
    "            sentences.append(''.join(sentence))"
   ]
  },
  {
   "cell_type": "code",
   "execution_count": 24,
   "metadata": {},
   "outputs": [
    {
     "name": "stderr",
     "output_type": "stream",
     "text": [
      "/home/theblackcat102/Documents/text-subgan/env/lib/python3.6/site-packages/ipykernel_launcher.py:2: TqdmDeprecationWarning: This function will be removed in tqdm==5.0.0\n",
      "Please use `tqdm.notebook.tqdm` instead of `tqdm.tqdm_notebook`\n",
      "  \n"
     ]
    },
    {
     "data": {
      "application/vnd.jupyter.widget-view+json": {
       "model_id": "80d2857fce7d4cca9d0a36890764e83c",
       "version_major": 2,
       "version_minor": 0
      },
      "text/plain": [
       "HBox(children=(FloatProgress(value=0.0, max=704.0), HTML(value='')))"
      ]
     },
     "metadata": {},
     "output_type": "display_data"
    },
    {
     "name": "stdout",
     "output_type": "stream",
     "text": [
      "found\n"
     ]
    }
   ],
   "source": [
    "with torch.no_grad():\n",
    "    for batch in tqdm(eval_dataloader):\n",
    "        src_inputs = batch['src']\n",
    "        tmp = batch['tmt']\n",
    "        inputs, target = batch['tgt'][:, :-1], batch['tgt'][:, 1:]\n",
    "        users = batch['users']\n",
    "        non_empty_users = users != -1\n",
    "        if cfg.CUDA:\n",
    "            src_inputs = src_inputs[non_empty_users].cuda()\n",
    "            target = target[non_empty_users].cuda()\n",
    "            tmp = tmp[non_empty_users].cuda()\n",
    "            inputs = inputs[non_empty_users].cuda()\n",
    "            users = users[non_empty_users].cuda()\n",
    "\n",
    "        if non_empty_users.sum() > 0:\n",
    "            print('found')\n",
    "            break"
   ]
  },
  {
   "cell_type": "code",
   "execution_count": 25,
   "metadata": {},
   "outputs": [
    {
     "name": "stderr",
     "output_type": "stream",
     "text": [
      "/home/theblackcat102/Documents/text-subgan/env/lib/python3.6/site-packages/ipykernel_launcher.py:3: TqdmDeprecationWarning: This function will be removed in tqdm==5.0.0\n",
      "Please use `tqdm.notebook.tqdm` instead of `tqdm.tqdm_notebook`\n",
      "  This is separate from the ipykernel package so we can avoid doing imports until\n"
     ]
    },
    {
     "data": {
      "application/vnd.jupyter.widget-view+json": {
       "model_id": "d5bacef5f08a41818486b084bca78180",
       "version_major": 2,
       "version_minor": 0
      },
      "text/plain": [
       "HBox(children=(FloatProgress(value=0.0, max=704.0), HTML(value='')))"
      ]
     },
     "metadata": {},
     "output_type": "display_data"
    },
    {
     "name": "stdout",
     "output_type": "stream",
     "text": [
      "\n",
      "\n",
      "\n",
      "\n",
      "\n",
      "\n",
      "\n",
      "\n",
      "\n",
      "found\n"
     ]
    }
   ],
   "source": [
    "cnt = 0\n",
    "with torch.no_grad():\n",
    "    for batch in tqdm(eval_dataloader):\n",
    "        cnt += 1\n",
    "        users2 = batch['users']\n",
    "        non_empty_users = users2 != -1\n",
    "        if cfg.CUDA:\n",
    "            users2 = users2[non_empty_users].cuda()\n",
    "        if non_empty_users.sum() > 0 and cnt > 10:\n",
    "            print('found')\n",
    "            break"
   ]
  },
  {
   "cell_type": "code",
   "execution_count": 26,
   "metadata": {},
   "outputs": [
    {
     "name": "stdout",
     "output_type": "stream",
     "text": [
      "torch.Size([6]) torch.Size([6])\n"
     ]
    }
   ],
   "source": [
    "print(users.shape, users2.shape)"
   ]
  },
  {
   "cell_type": "code",
   "execution_count": 27,
   "metadata": {},
   "outputs": [
    {
     "name": "stdout",
     "output_type": "stream",
     "text": [
      "user: f7dc50f9-79ec-4e83-9b0b-17d18a8c50da | 【外國人限定電子票】高雄義大遊樂世界超值入園門票\n",
      "user: 77a692af-7adc-473b-85d7-b3db91f81c58 | 【ElephantJungleSanctuary】普吉島大象友善半日體驗營\n",
      "user: 5efe0a8b-e2e2-411d-9d29-66a9bf7dfa45 | 【日產】北海道NISSAN租車・P1輕型5人座\n",
      "user: c2f56459-28f8-43af-b696-219afdbd38a0 | 【馬來西亞沙比島一日遊】無執照深潛、浮潛\n",
      "user: c7593ab9-add6-4e4e-85e7-6b30fcec5823 | 【ElephantJungleSanctuary】清邁大象友善一日體驗營\n",
      "user: a55b5795-c190-48bd-a1f5-14947a829b8c | 【夜遊巴士】舞妓京舞表演、黑竹百千足館、雲龍院夜間點燈\n"
     ]
    }
   ],
   "source": [
    "desc_outputs, desc_latent, desc_mean, desc_std = model.encode_desc(src_inputs)\n",
    "tmp_outputs, tmp_latent = model.encode_tmp(tmp)\n",
    "user_embeddings = model.user_embedding( users )\n",
    "_, output_title = model.decode(tmp_latent, desc_latent, user_embeddings, \n",
    "        desc_outputs, tmp_outputs,\n",
    "        max_length=target.shape[1])\n",
    "for idx, sent in enumerate(output_title.cpu()):\n",
    "    sentence = []\n",
    "    for token in sent:\n",
    "        if token.item() == Constants.EOS:\n",
    "            break\n",
    "        sentence.append(valid_dataset.tokenizer.idx2word[token.item()])\n",
    "    print(\"{:<40} | {:>}\".format('user: '+ id2user[users[idx].item()], ''.join(sentence[:50]).strip(),  ))"
   ]
  },
  {
   "cell_type": "code",
   "execution_count": 28,
   "metadata": {},
   "outputs": [
    {
     "name": "stdout",
     "output_type": "stream",
     "text": [
      "user: 3ed3e4cf-2255-499d-9d56-a55168ba1fd9 | 【外國人限定電子票】高雄義大遊樂世界超值入園門票\n",
      "user: 75e8104c-2609-4fa9-ab55-ecee45315dd4 | 【ElephantJungleSanctuary】普吉島大象友善半日體驗營\n",
      "user: 168bfb63-1465-4cc2-8db9-00436f8c4d7b | 【日產】北海道NISSAN租車・P1輕型5人座\n",
      "user: 4416eb8d-07fa-4d02-9831-e09e67d7d29e | 【馬來西亞沙比島一日遊】無執照深潛、浮潛\n",
      "user: 880a0bee-6d6a-4e82-b481-d7850ed99579 | 【ElephantJungleSanctuary】清邁大象友善一日體驗營\n",
      "user: e50334d3-9df9-4037-9960-127c73ad61c2 | 【夜遊巴士】舞妓京舞表演、黑竹百千、夜遊、雲龍院夜間點燈\n"
     ]
    }
   ],
   "source": [
    "user2_embeddings = model.user_embedding( users2[:6,] )\n",
    "_, output_title = model.decode(\n",
    "        tmp_latent,\n",
    "        #control_latent[:6].cuda(), \n",
    "        desc_latent, user2_embeddings, \n",
    "        desc_outputs, tmp_outputs,\n",
    "        max_length=target.shape[1])\n",
    "for idx, sent in enumerate(output_title):\n",
    "    sentence = []\n",
    "    for token in sent:\n",
    "        if token.item() == Constants.EOS:\n",
    "            break\n",
    "        sentence.append(valid_dataset.tokenizer.idx2word[token.item()])\n",
    "    print(\"{:<40} | {:>}\".format('user: '+ id2user[users2[idx].item()] , ''.join(sentence[:50]).strip(), ))"
   ]
  },
  {
   "cell_type": "code",
   "execution_count": 18,
   "metadata": {},
   "outputs": [
    {
     "ename": "SyntaxError",
     "evalue": "invalid syntax (<ipython-input-18-fc98f194189d>, line 1)",
     "output_type": "error",
     "traceback": [
      "\u001b[0;36m  File \u001b[0;32m\"<ipython-input-18-fc98f194189d>\"\u001b[0;36m, line \u001b[0;32m1\u001b[0m\n\u001b[0;31m    user: 45bc3738-c989-486c-b050-e3ae94fde4d3 | 從中央聖美食街小時全景釀酒廠旅遊\u001b[0m\n\u001b[0m                 ^\u001b[0m\n\u001b[0;31mSyntaxError\u001b[0m\u001b[0;31m:\u001b[0m invalid syntax\n"
     ]
    }
   ],
   "source": [
    "user: 45bc3738-c989-486c-b050-e3ae94fde4d3 | 從中央聖美食街小時全景釀酒廠旅遊\n",
    "user: 7da09b68-a63e-4ac6-be55-7b745c78ee4b | 【戶外小旅遊湖清境旅遊及台北導覽\n",
    "user: 1f145d25-779d-4f91-9d31-1c5338fc6b5c | 索菲特：小半日絕和海灘之BBQ\n",
    "user: ea4e1a5a-70d9-4d49-a77b-9d181ff1ffd3 | 河口湖溫泉酒店：夜間大橋自行車遊旅\n",
    "user: caa1cf59-05d0-426b-b9d1-dc836bc6a9bd | 私人半日聖母觀光遊免費教堂\n",
    "user: 30ed0e8e-a67e-493a-b52e-951fc50c79a1 | 巴塞羅那：基督城觀光與午餐遊"
   ]
  },
  {
   "cell_type": "code",
   "execution_count": null,
   "metadata": {},
   "outputs": [],
   "source": []
  },
  {
   "cell_type": "code",
   "execution_count": 40,
   "metadata": {},
   "outputs": [
    {
     "name": "stdout",
     "output_type": "stream",
     "text": [
      "14080\n",
      "{0, 1, 2, 3}\n"
     ]
    }
   ],
   "source": [
    "X, title = [], []\n",
    "print(len(temp_latent))\n",
    "for idx, latent in enumerate(temp_latent):\n",
    "    X.append(latent)\n",
    "    title.append(references[idx])\n",
    "title = np.array(title)\n",
    "X = np.array(X)\n",
    "pca = PCA(n_components=2)\n",
    "X_r = pca.fit(X).transform(X)\n",
    "\n",
    "nbrs = SpectralClustering(n_clusters=4).fit(X_r)\n",
    "\n",
    "y = nbrs.labels_\n",
    "print(set(y))"
   ]
  },
  {
   "cell_type": "code",
   "execution_count": 47,
   "metadata": {},
   "outputs": [
    {
     "data": {
      "image/png": "[encoded data removed]",
      "text/plain": [
       "<Figure size 432x288 with 1 Axes>"
      ]
     },
     "metadata": {
      "needs_background": "light"
     },
     "output_type": "display_data"
    }
   ],
   "source": [
    "plt.figure()\n",
    "target_names = [0,1]\n",
    "\n",
    "colors = ['navy', 'turquoise', 'darkorange']\n",
    "lw = 3\n",
    "\n",
    "for color, i, target_name in zip(colors, list(range(len(target_names))), target_names):\n",
    "    plt.scatter(X_r[y == i, 0], X_r[y == i, 1], color=color, alpha=.8, lw=lw,\n",
    "                label=target_name)"
   ]
  },
  {
   "cell_type": "code",
   "execution_count": 42,
   "metadata": {},
   "outputs": [
    {
     "name": "stdout",
     "output_type": "stream",
     "text": [
      "['【藝術文化】可內里石窟、甘地國家公園一日遊' '【外國人限定電子票】高雄義大遊樂世界超值入園門票'\n",
      " '【ElephantJungleSanctuary】普吉島大象友善半日體驗營' '【日產】北海道NISSAN租車・P1輕型5人座'\n",
      " '【安東一日遊】河回民俗村文化巡禮' '【二戰納粹指揮總部】薩克森豪森集中營' '【最豪華的中國風古鎮】古北水鎮入園門票'\n",
      " '【ElephantJungleSanctuary】清邁大象友善一日體驗營' '【二合一大滿足】阿芙洛迪亞斯與棉堡一日遊'\n",
      " '【2016歐洲國家盃】GermanyVSUkraine']\n"
     ]
    }
   ],
   "source": [
    "print(title[y==0][:10])"
   ]
  },
  {
   "cell_type": "code",
   "execution_count": 66,
   "metadata": {},
   "outputs": [],
   "source": [
    "tmp_latent = X[y==1].mean(axis=0)"
   ]
  },
  {
   "cell_type": "code",
   "execution_count": 68,
   "metadata": {},
   "outputs": [],
   "source": [
    "control_latent = torch.stack([torch.from_numpy(tmp_latent)]*10)"
   ]
  },
  {
   "cell_type": "code",
   "execution_count": 43,
   "metadata": {},
   "outputs": [
    {
     "name": "stdout",
     "output_type": "stream",
     "text": [
      "['首爾美食之首爾最頂級餐廳美容之旅' '【線上投保】入境泰國旅遊平安險-投保金額1000萬NTD（限定台灣出發）'\n",
      " '【吉普車馳騁快感】峴港深度一日遊（會安/峴港出發）' '【馬來西亞沙比島一日遊】無執照深潛、浮潛'\n",
      " '【跨年限定團！】2018年阿里山跨年迎曙光專車（台北出發）' '【高雄市區包車一日遊】旗津、愛河、六合夜市'\n",
      " '【台灣創意川菜首選】kiki雙人四人川菜套餐（板橋店）' '【初夏FUN一下！】韓國濟州島神話世界主題樂園門票/餐廳5000韓元現金抵用券'\n",
      " '【日光徐徐夜色迷離】峴港＋會安雙城一日遊（順化出發）' '【曼谷超值按摩】HealthLandSpa按摩券（桃園機場取件）']\n"
     ]
    }
   ],
   "source": [
    "print(title[y==1][:10])"
   ]
  },
  {
   "cell_type": "code",
   "execution_count": 29,
   "metadata": {},
   "outputs": [
    {
     "name": "stdout",
     "output_type": "stream",
     "text": [
      "['【Disneyland】美國加州迪士尼樂園門票（電子一日券）' '【東京夜景】六本木之丘展望台門票（TokyoCityView）森美術館'\n",
      " '【龍尾灣生態體驗】搭竹筏＋抓螃蟹＋做蠟染（含馬來午餐）' '【仙本那紅樹林】探索長鼻猴與螢火蟲半日遊'\n",
      " '【東京賞櫻推薦】隅田川賞櫻遊船票（附賞花便當或點心）' '【胡志明市特色一日遊】古芝地道、胡志明市區觀光導覽'\n",
      " '【澳門美獅美高梅酒店】</UNK>・JaniceWongMGM午餐套餐/下午茶套餐' '【普吉唯一友善大象營】親密互動半日體驗'\n",
      " '【日本傳統文化】搭屋形船觀賞長</UNK>魚・泡溫泉品嚐</UNK>料理大阪出發)' '【到海底看珊瑚礁】墾丁後壁湖半潛艇航程']\n"
     ]
    }
   ],
   "source": [
    "print(title[y==0][:10])"
   ]
  },
  {
   "cell_type": "code",
   "execution_count": 44,
   "metadata": {},
   "outputs": [
    {
     "name": "stdout",
     "output_type": "stream",
     "text": [
      "['【柬埔寨最受矚目劇團】法爾，柬埔寨馬戲團Phare,theCambodiaCircus' '雅典城市通票：免費入場和免費遊覽'\n",
      " '伊瓜蘇生物中心參觀' '在日落時分騎馬，體驗西部荒原的牛仔生活' '斯德哥爾摩隨上隨下觀光巴士與小船旅遊'\n",
      " '聖薩爾瓦多：5小時中轉城市與火山之旅' '曼哈頓島豪華直升機旅遊' '波士頓的歷史之路®徒步遊' '布魯塞爾：布魯日一日旅遊連4小時導覽徒步遊'\n",
      " '柏林：1小時馬車夜遊柏林']\n"
     ]
    }
   ],
   "source": [
    "print(title[y==2][:10])"
   ]
  },
  {
   "cell_type": "code",
   "execution_count": 31,
   "metadata": {},
   "outputs": [
    {
     "name": "stdout",
     "output_type": "stream",
     "text": [
      "['【熱門景點包車一日遊】石門水庫、鎮瀾宮、台中麗寶Outlet（台北出發、台中結束）' '【中文導覽】馬來西亞機場市區優質接送（含WiFi熱點）'\n",
      " '【名古屋出發一人成行】閃耀冬季！名花之里．冬季霓虹燈秀，還有午餐甜點吃到飽' '【超值沙巴跳島】沙比島和馬穆迪島一日遊'\n",
      " '【經典花蓮必遊】太魯閣奇景拼車一日遊（保證有位）' '【熱門景點包車一日遊】鶯歌老街、新豐紅樹林、彩虹眷村、秋紅谷（台北出發）'\n",
      " '自採超甜草莓・螃蟹吃到飽＆滑雪場玩雪東京出發)' '女性限定一人行！一次遊走日本香川、岡山、德島三縣市美術館充滿藝術氣質二日遊！'\n",
      " '【小團划算】桃園機場臺北市區接機服務（七人座）' '【乘船遊小金門秘境】船遊戰地史蹟烈嶼7島（</UNK>碼頭出發）']\n"
     ]
    }
   ],
   "source": [
    "print(title[y==3][:10])"
   ]
  },
  {
   "cell_type": "code",
   "execution_count": null,
   "metadata": {},
   "outputs": [],
   "source": []
  },
  {
   "cell_type": "code",
   "execution_count": 61,
   "metadata": {},
   "outputs": [
    {
     "name": "stdout",
     "output_type": "stream",
     "text": [
      "save/temp_temp_rec_vae_gan_biset-2020-05-15-16-34-59/amp_checkpoint_80000.pt\n",
      "3486\n"
     ]
    }
   ],
   "source": [
    "assert os.path.exists(os.path.join(log_name, 'vmt.py')) == True\n",
    "print(os.path.join(log_name, checkpoint_name))\n",
    "assert os.path.exists(os.path.join(log_name, checkpoint_name)) == True\n",
    "\n",
    "copyfile(os.path.join(log_name, 'vmt.py'), 'module/temp_vmt.py')\n",
    "checkpoint = torch.load(os.path.join(log_name, checkpoint_name))\n",
    "\n",
    "from module.temp_vmt import VMT, TemplateD\n",
    "\n",
    "# checkpoint should contain model state dict,\n",
    "with open(os.path.join(log_name, 'params.json'), 'r') as f:\n",
    "    params = json.load(f)\n",
    "args = Struct(**params)\n",
    "dataset =  KKDayUser(-1, 'data/kkday_dataset/user_data', \n",
    "            'data/kkday_dataset/matrix_factorized_64.pkl',\n",
    "            prefix='item_graph', embedding=None, max_length=args.max_seq_len, force_fix_len=args.grad_penalty or args.full_text, \n",
    "            token_level=args.tokenize, is_train=True)\n",
    "dataloader = torch.utils.data.DataLoader(dataset, num_workers=4,\n",
    "                collate_fn=seq_collate, batch_size=64, shuffle=True)\n",
    "model = VMT(args.gen_embed_dim, dataset.vocab_size,\n",
    "            enc_hidden_size=128, dec_hidden_size=128, tmp_category=args.tmp_cat_dim,\n",
    "            tmp_latent_dim=args.tmp_latent_dim, desc_latent_dim=args.desc_latent_dim, user_latent_dim=args.user_latent_dim,\n",
    "            biset=args.biset,\n",
    "            max_seq_len=args.max_seq_len-1, gpu=True)\n",
    "\n",
    "C = VAE_Cluster(64, 64, k_bins=10, output_embed_dim=args.user_latent_dim)\n",
    "\n",
    "model.load_state_dict(checkpoint['model'])\n",
    "model = model.cuda().eval()\n",
    "C = C.cuda().eval()\n",
    "print(len(dataloader))"
   ]
  },
  {
   "cell_type": "code",
   "execution_count": 57,
   "metadata": {},
   "outputs": [
    {
     "name": "stderr",
     "output_type": "stream",
     "text": [
      "/home/theblackcat102/Documents/text-subgan/env/lib/python3.6/site-packages/ipykernel_launcher.py:4: TqdmDeprecationWarning: This function will be removed in tqdm==5.0.0\n",
      "Please use `tqdm.notebook.tqdm` instead of `tqdm.tqdm_notebook`\n",
      "  after removing the cwd from sys.path.\n"
     ]
    },
    {
     "data": {
      "application/vnd.jupyter.widget-view+json": {
       "model_id": "23182e73a93443ffa335ec57fcaa2376",
       "version_major": 2,
       "version_minor": 0
      },
      "text/plain": [
       "HBox(children=(FloatProgress(value=0.0, max=3486.0), HTML(value='')))"
      ]
     },
     "metadata": {},
     "output_type": "display_data"
    },
    {
     "ename": "KeyboardInterrupt",
     "evalue": "",
     "output_type": "error",
     "traceback": [
      "\u001b[0;31m---------------------------------------------------------------------------\u001b[0m",
      "\u001b[0;31mKeyboardInterrupt\u001b[0m                         Traceback (most recent call last)",
      "\u001b[0;32m<ipython-input-57-514a6838dc19>\u001b[0m in \u001b[0;36m<module>\u001b[0;34m\u001b[0m\n\u001b[1;32m     18\u001b[0m \u001b[0;31m#     logits, embed = self.C(items, users)\u001b[0m\u001b[0;34m\u001b[0m\u001b[0;34m\u001b[0m\u001b[0;34m\u001b[0m\u001b[0m\n\u001b[1;32m     19\u001b[0m     \u001b[0mdesc_outputs\u001b[0m\u001b[0;34m,\u001b[0m \u001b[0mdesc_latent\u001b[0m\u001b[0;34m,\u001b[0m \u001b[0m_\u001b[0m\u001b[0;34m,\u001b[0m \u001b[0m_\u001b[0m \u001b[0;34m=\u001b[0m \u001b[0mmodel\u001b[0m\u001b[0;34m.\u001b[0m\u001b[0mencode_desc\u001b[0m\u001b[0;34m(\u001b[0m\u001b[0msrc_inputs\u001b[0m\u001b[0;34m)\u001b[0m\u001b[0;34m\u001b[0m\u001b[0;34m\u001b[0m\u001b[0m\n\u001b[0;32m---> 20\u001b[0;31m     \u001b[0mtmp_outputs\u001b[0m\u001b[0;34m,\u001b[0m \u001b[0mtmp_latent\u001b[0m \u001b[0;34m=\u001b[0m \u001b[0mmodel\u001b[0m\u001b[0;34m.\u001b[0m\u001b[0mencode_tmp\u001b[0m\u001b[0;34m(\u001b[0m\u001b[0mtmp\u001b[0m\u001b[0;34m)\u001b[0m\u001b[0;34m\u001b[0m\u001b[0;34m\u001b[0m\u001b[0m\n\u001b[0m\u001b[1;32m     21\u001b[0m \u001b[0;31m#     _, output_title = self.model.decode(tmp_latent, desc_latent, embed,\u001b[0m\u001b[0;34m\u001b[0m\u001b[0;34m\u001b[0m\u001b[0;34m\u001b[0m\u001b[0m\n\u001b[1;32m     22\u001b[0m \u001b[0;31m#             desc_outputs, tmp_outputs,\u001b[0m\u001b[0;34m\u001b[0m\u001b[0;34m\u001b[0m\u001b[0;34m\u001b[0m\u001b[0m\n",
      "\u001b[0;32m~/Documents/text-subgan/module/temp_vmt.py\u001b[0m in \u001b[0;36mencode_tmp\u001b[0;34m(self, template, device)\u001b[0m\n\u001b[1;32m    153\u001b[0m         \u001b[0;32mif\u001b[0m \u001b[0mself\u001b[0m\u001b[0;34m.\u001b[0m\u001b[0mgpu\u001b[0m\u001b[0;34m:\u001b[0m\u001b[0;34m\u001b[0m\u001b[0;34m\u001b[0m\u001b[0m\n\u001b[1;32m    154\u001b[0m             \u001b[0mdevice\u001b[0m \u001b[0;34m=\u001b[0m \u001b[0;34m'cuda'\u001b[0m\u001b[0;34m\u001b[0m\u001b[0;34m\u001b[0m\u001b[0m\n\u001b[0;32m--> 155\u001b[0;31m         \u001b[0mencoder_output\u001b[0m\u001b[0;34m,\u001b[0m \u001b[0mlatent\u001b[0m \u001b[0;34m=\u001b[0m \u001b[0mself\u001b[0m\u001b[0;34m.\u001b[0m\u001b[0mtemplate_vae\u001b[0m\u001b[0;34m.\u001b[0m\u001b[0mencode\u001b[0m\u001b[0;34m(\u001b[0m\u001b[0mtemplate\u001b[0m\u001b[0;34m,\u001b[0m \u001b[0mdevice\u001b[0m\u001b[0;34m=\u001b[0m\u001b[0mdevice\u001b[0m\u001b[0;34m)\u001b[0m\u001b[0;34m\u001b[0m\u001b[0;34m\u001b[0m\u001b[0m\n\u001b[0m\u001b[1;32m    156\u001b[0m         \u001b[0;32mreturn\u001b[0m \u001b[0mencoder_output\u001b[0m\u001b[0;34m,\u001b[0m \u001b[0mlatent\u001b[0m\u001b[0;34m\u001b[0m\u001b[0;34m\u001b[0m\u001b[0m\n\u001b[1;32m    157\u001b[0m \u001b[0;34m\u001b[0m\u001b[0m\n",
      "\u001b[0;32m~/Documents/text-subgan/module/vae_gumbel.py\u001b[0m in \u001b[0;36mencode\u001b[0;34m(self, inputs, device)\u001b[0m\n\u001b[1;32m     75\u001b[0m     \u001b[0;32mdef\u001b[0m \u001b[0mencode\u001b[0m\u001b[0;34m(\u001b[0m\u001b[0mself\u001b[0m\u001b[0;34m,\u001b[0m \u001b[0minputs\u001b[0m\u001b[0;34m,\u001b[0m \u001b[0mdevice\u001b[0m\u001b[0;34m=\u001b[0m\u001b[0;34m'cuda'\u001b[0m\u001b[0;34m)\u001b[0m\u001b[0;34m:\u001b[0m\u001b[0;34m\u001b[0m\u001b[0;34m\u001b[0m\u001b[0m\n\u001b[1;32m     76\u001b[0m         \u001b[0minputs\u001b[0m \u001b[0;34m=\u001b[0m \u001b[0mself\u001b[0m\u001b[0;34m.\u001b[0m\u001b[0membedding\u001b[0m\u001b[0;34m(\u001b[0m\u001b[0minputs\u001b[0m\u001b[0;34m)\u001b[0m\u001b[0;34m\u001b[0m\u001b[0;34m\u001b[0m\u001b[0m\n\u001b[0;32m---> 77\u001b[0;31m         \u001b[0moutput\u001b[0m\u001b[0;34m,\u001b[0m \u001b[0mhidden\u001b[0m \u001b[0;34m=\u001b[0m \u001b[0mself\u001b[0m\u001b[0;34m.\u001b[0m\u001b[0mencoder\u001b[0m\u001b[0;34m(\u001b[0m\u001b[0minputs\u001b[0m\u001b[0;34m)\u001b[0m\u001b[0;34m\u001b[0m\u001b[0;34m\u001b[0m\u001b[0m\n\u001b[0m\u001b[1;32m     78\u001b[0m         \u001b[0;32mreturn\u001b[0m \u001b[0moutput\u001b[0m\u001b[0;34m,\u001b[0m \u001b[0mself\u001b[0m\u001b[0;34m.\u001b[0m\u001b[0mhidden2latent\u001b[0m\u001b[0;34m(\u001b[0m\u001b[0mhidden\u001b[0m\u001b[0;34m)\u001b[0m\u001b[0;34m\u001b[0m\u001b[0;34m\u001b[0m\u001b[0m\n\u001b[1;32m     79\u001b[0m \u001b[0;34m\u001b[0m\u001b[0m\n",
      "\u001b[0;32m~/Documents/text-subgan/env/lib/python3.6/site-packages/torch/nn/modules/module.py\u001b[0m in \u001b[0;36m__call__\u001b[0;34m(self, *input, **kwargs)\u001b[0m\n\u001b[1;32m    530\u001b[0m             \u001b[0mresult\u001b[0m \u001b[0;34m=\u001b[0m \u001b[0mself\u001b[0m\u001b[0;34m.\u001b[0m\u001b[0m_slow_forward\u001b[0m\u001b[0;34m(\u001b[0m\u001b[0;34m*\u001b[0m\u001b[0minput\u001b[0m\u001b[0;34m,\u001b[0m \u001b[0;34m**\u001b[0m\u001b[0mkwargs\u001b[0m\u001b[0;34m)\u001b[0m\u001b[0;34m\u001b[0m\u001b[0;34m\u001b[0m\u001b[0m\n\u001b[1;32m    531\u001b[0m         \u001b[0;32melse\u001b[0m\u001b[0;34m:\u001b[0m\u001b[0;34m\u001b[0m\u001b[0;34m\u001b[0m\u001b[0m\n\u001b[0;32m--> 532\u001b[0;31m             \u001b[0mresult\u001b[0m \u001b[0;34m=\u001b[0m \u001b[0mself\u001b[0m\u001b[0;34m.\u001b[0m\u001b[0mforward\u001b[0m\u001b[0;34m(\u001b[0m\u001b[0;34m*\u001b[0m\u001b[0minput\u001b[0m\u001b[0;34m,\u001b[0m \u001b[0;34m**\u001b[0m\u001b[0mkwargs\u001b[0m\u001b[0;34m)\u001b[0m\u001b[0;34m\u001b[0m\u001b[0;34m\u001b[0m\u001b[0m\n\u001b[0m\u001b[1;32m    533\u001b[0m         \u001b[0;32mfor\u001b[0m \u001b[0mhook\u001b[0m \u001b[0;32min\u001b[0m \u001b[0mself\u001b[0m\u001b[0;34m.\u001b[0m\u001b[0m_forward_hooks\u001b[0m\u001b[0;34m.\u001b[0m\u001b[0mvalues\u001b[0m\u001b[0;34m(\u001b[0m\u001b[0;34m)\u001b[0m\u001b[0;34m:\u001b[0m\u001b[0;34m\u001b[0m\u001b[0;34m\u001b[0m\u001b[0m\n\u001b[1;32m    534\u001b[0m             \u001b[0mhook_result\u001b[0m \u001b[0;34m=\u001b[0m \u001b[0mhook\u001b[0m\u001b[0;34m(\u001b[0m\u001b[0mself\u001b[0m\u001b[0;34m,\u001b[0m \u001b[0minput\u001b[0m\u001b[0;34m,\u001b[0m \u001b[0mresult\u001b[0m\u001b[0;34m)\u001b[0m\u001b[0;34m\u001b[0m\u001b[0;34m\u001b[0m\u001b[0m\n",
      "\u001b[0;32m~/Documents/text-subgan/module/seq2seq.py\u001b[0m in \u001b[0;36mforward\u001b[0;34m(self, inputs, hidden)\u001b[0m\n\u001b[1;32m     77\u001b[0m             \u001b[0moutputs\u001b[0m \u001b[0;34m=\u001b[0m \u001b[0moutputs\u001b[0m\u001b[0;34m.\u001b[0m\u001b[0mview\u001b[0m\u001b[0;34m(\u001b[0m\u001b[0;34m-\u001b[0m\u001b[0;36m1\u001b[0m\u001b[0;34m,\u001b[0m \u001b[0moutputs\u001b[0m\u001b[0;34m.\u001b[0m\u001b[0msize\u001b[0m\u001b[0;34m(\u001b[0m\u001b[0;36m1\u001b[0m\u001b[0;34m)\u001b[0m\u001b[0;34m,\u001b[0m \u001b[0;36m2\u001b[0m\u001b[0;34m,\u001b[0m \u001b[0mself\u001b[0m\u001b[0;34m.\u001b[0m\u001b[0mhidden_size\u001b[0m\u001b[0;34m)\u001b[0m\u001b[0;34m\u001b[0m\u001b[0;34m\u001b[0m\u001b[0m\n\u001b[1;32m     78\u001b[0m             \u001b[0mhidden\u001b[0m \u001b[0;34m=\u001b[0m \u001b[0moutputs\u001b[0m\u001b[0;34m[\u001b[0m\u001b[0;34m:\u001b[0m\u001b[0;34m,\u001b[0m \u001b[0;34m-\u001b[0m\u001b[0;36m1\u001b[0m\u001b[0;34m,\u001b[0m \u001b[0;36m0\u001b[0m\u001b[0;34m]\u001b[0m \u001b[0;34m+\u001b[0m \u001b[0moutputs\u001b[0m\u001b[0;34m[\u001b[0m\u001b[0;34m:\u001b[0m\u001b[0;34m,\u001b[0m \u001b[0;36m0\u001b[0m\u001b[0;34m,\u001b[0m \u001b[0;36m1\u001b[0m\u001b[0;34m]\u001b[0m\u001b[0;34m\u001b[0m\u001b[0;34m\u001b[0m\u001b[0m\n\u001b[0;32m---> 79\u001b[0;31m             \u001b[0moutputs\u001b[0m \u001b[0;34m=\u001b[0m \u001b[0moutputs\u001b[0m\u001b[0;34m[\u001b[0m\u001b[0;34m:\u001b[0m\u001b[0;34m,\u001b[0m \u001b[0;34m:\u001b[0m\u001b[0;34m,\u001b[0m \u001b[0;36m0\u001b[0m\u001b[0;34m]\u001b[0m \u001b[0;34m+\u001b[0m \u001b[0moutputs\u001b[0m\u001b[0;34m[\u001b[0m\u001b[0;34m:\u001b[0m\u001b[0;34m,\u001b[0m \u001b[0;34m:\u001b[0m\u001b[0;34m,\u001b[0m \u001b[0;36m1\u001b[0m\u001b[0;34m]\u001b[0m\u001b[0;34m\u001b[0m\u001b[0;34m\u001b[0m\u001b[0m\n\u001b[0m\u001b[1;32m     80\u001b[0m         \u001b[0;32melse\u001b[0m\u001b[0;34m:\u001b[0m\u001b[0;34m\u001b[0m\u001b[0;34m\u001b[0m\u001b[0m\n\u001b[1;32m     81\u001b[0m             \u001b[0mhidden\u001b[0m \u001b[0;34m=\u001b[0m \u001b[0moutputs\u001b[0m\u001b[0;34m[\u001b[0m\u001b[0;34m:\u001b[0m\u001b[0;34m,\u001b[0m \u001b[0;34m-\u001b[0m\u001b[0;36m1\u001b[0m\u001b[0;34m]\u001b[0m\u001b[0;34m\u001b[0m\u001b[0;34m\u001b[0m\u001b[0m\n",
      "\u001b[0;31mKeyboardInterrupt\u001b[0m: "
     ]
    }
   ],
   "source": [
    "template_reference = {}\n",
    "size = 15000\n",
    "\n",
    "for i, batch in tqdm(enumerate(dataloader), total=len(dataloader)):\n",
    "    src_inputs = batch['src']\n",
    "    tmp = batch['tmp']\n",
    "    items, users = batch['items'], batch['users']\n",
    "    inputs, target1 = batch['tgt'][:, :-1], batch['tgt'][:, 1:]\n",
    "    references = []\n",
    "    if True:\n",
    "        inputs, items, users = inputs.cuda(), items.cuda(), users.cuda()\n",
    "        src_inputs = src_inputs.cuda()\n",
    "        inputs = inputs.cuda()\n",
    "        target1 = target1.cuda()\n",
    "        tmp = tmp.cuda()\n",
    "\n",
    "    batch_size = src_inputs.shape[0]\n",
    "#     logits, embed = self.C(items, users)\n",
    "    desc_outputs, desc_latent, _, _ = model.encode_desc(src_inputs)\n",
    "    tmp_outputs, tmp_latent = model.encode_tmp(tmp)\n",
    "#     _, output_title = self.model.decode(tmp_latent, desc_latent, embed,\n",
    "#             desc_outputs, tmp_outputs,\n",
    "#             max_length=self.args.max_seq_len)\n",
    "\n",
    "    # output_title = torch.argmax(output_logits, dim=-1)\n",
    "    for idx, sent_token in enumerate(batch['tgt'][:, 1:]):\n",
    "        reference = []\n",
    "        for token in sent_token:\n",
    "            if token.item() == Constants.EOS:\n",
    "                break\n",
    "            reference.append(dataset.idx2word[token.item()] )\n",
    "        references.append(reference)\n",
    "    \n",
    "    for idx, sent in enumerate(references):\n",
    "        template_reference[' '.join(sent)] = {\n",
    "            'tmp': tmp_latent[idx].detach().cpu().numpy(),\n",
    "            'tmp_outputs': tmp_outputs[idx].detach().cpu(),\n",
    "            'desc_latent': desc_latent[idx].detach().cpu(),\n",
    "            'desc_outputs': desc_outputs[idx].detach().cpu(),\n",
    "        }\n"
   ]
  }
 ],
 "metadata": {
  "kernelspec": {
   "display_name": "Python 3",
   "language": "python",
   "name": "python3"
  },
  "language_info": {
   "codemirror_mode": {
    "name": "ipython",
    "version": 3
   },
   "file_extension": ".py",
   "mimetype": "text/x-python",
   "name": "python",
   "nbconvert_exporter": "python",
   "pygments_lexer": "ipython3",
   "version": "3.6.9"
  }
 },
 "nbformat": 4,
 "nbformat_minor": 4
}
