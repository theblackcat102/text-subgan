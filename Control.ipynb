{
 "cells": [
  {
   "cell_type": "code",
   "execution_count": 8,
   "metadata": {},
   "outputs": [],
   "source": [
    "import torch\n",
    "import torch.nn as nn\n",
    "import torch.nn.functional as F\n",
    "import torch.optim as optim\n",
    "from tqdm import tqdm\n",
    "import os, glob, json\n",
    "import config as cfg\n",
    "from IPython.display import display\n",
    "from ipywidgets import widgets, Layout\n",
    "from module.relgan_d import RelSpaceGAN_D\n",
    "from module.cluster import Cluster\n",
    "from module.relgan_g import RelSpaceG\n",
    "from dataset import TextSubspaceDataset, seq_collate\n",
    "from constant import Constants\n",
    "from utils import get_fixed_temperature, get_losses\n",
    "from sklearn.cluster import KMeans\n",
    "import numpy as np\n",
    "from tensorboardX import SummaryWriter\n",
    "from utils import gradient_penalty, str2bool, chunks\n",
    "from sklearn.manifold import SpectralEmbedding\n",
    "from nltk.translate.bleu_score import sentence_bleu\n",
    "from nltk.translate.bleu_score import SmoothingFunction\n",
    "from shutil import copyfile\n",
    "from collections import namedtuple"
   ]
  },
  {
   "cell_type": "code",
   "execution_count": 2,
   "metadata": {},
   "outputs": [],
   "source": [
    "class Struct:\n",
    "    def __init__(self, **entries):\n",
    "        self.__dict__.update(entries)"
   ]
  },
  {
   "cell_type": "code",
   "execution_count": 5,
   "metadata": {},
   "outputs": [],
   "source": [
    "log_name = 'save/subrelgan-kmeans-2020-04-08-01-19-21'\n",
    "iteration = 0\n",
    "K_BINS = 20\n",
    "checkpoint_name = 'relgan_G_{}.pt'.format(iteration)"
   ]
  },
  {
   "cell_type": "code",
   "execution_count": 7,
   "metadata": {},
   "outputs": [],
   "source": [
    "assert os.path.exists(os.path.join(log_name, 'relgan_g.py')) == True\n",
    "assert os.path.exists(os.path.join(log_name, checkpoint_name)) == True\n",
    "\n",
    "copyfile(os.path.join(log_name, 'relgan_g.py'), 'module/temp_g.py')\n",
    "from module.temp_g import RelSpaceG\n",
    "checkpoint = torch.load(os.path.join(log_name, checkpoint_name))\n",
    "# checkpoint should contain model state dict,\n",
    "assert len(checkpoint) == 3\n",
    "with open(os.path.join(log_name, 'params.json'), 'r') as f:\n",
    "    params = json.load(f)\n",
    "args = Struct(**params)\n",
    "\n",
    "p = checkpoint['p']\n",
    "latent = checkpoint['latent']\n",
    "dataset = TextSubspaceDataset(-1, 'data/kkday_dataset/train_title.txt', prefix='train_title', embedding=None, \n",
    "    max_length=args.max_seq_len, force_fix_len=args.grad_penalty or args.full_text, k_bins=K_BINS, token_level=args.tokenize)\n",
    "dataset.p = p\n",
    "dataset.latent = latent\n",
    "dataloader = torch.utils.data.DataLoader(dataset, num_workers=4,\n",
    "                collate_fn=seq_collate, batch_size=args.batch_size, shuffle=True)\n",
    "model = RelSpaceG(args.mem_slots, args.num_heads, args.head_size, args.gen_embed_dim, \n",
    "        args.gen_hidden_dim, dataset.vocab_size,\n",
    "        k_bins=K_BINS, latent_dim=args.gen_latent_dim, noise_dim=args.gen_noise_dim,\n",
    "        max_seq_len=args.max_seq_len-1, padding_idx=Constants.PAD, gpu=True)\n",
    "\n",
    "model.load_state_dict(checkpoint['model'])\n",
    "model = model.cuda()\n",
    "model = model.eval()"
   ]
  },
  {
   "cell_type": "code",
   "execution_count": 18,
   "metadata": {},
   "outputs": [
    {
     "data": {
      "application/vnd.jupyter.widget-view+json": {
       "model_id": "7e4705da75284b95a6122f7554f6f249",
       "version_major": 2,
       "version_minor": 0
      },
      "text/plain": [
       "HTML(value='<br><h3> Play with latent feature </h3> ')"
      ]
     },
     "metadata": {},
     "output_type": "display_data"
    },
    {
     "data": {
      "application/vnd.jupyter.widget-view+json": {
       "model_id": "bc133bffa5c9414eb1f2fde5f00464af",
       "version_major": 2,
       "version_minor": 0
      },
      "text/plain": [
       "FloatSlider(value=-3.5900782367804655e-05, description='bin-0', max=0.0004853644253621238, min=-7.849274389219…"
      ]
     },
     "metadata": {},
     "output_type": "display_data"
    },
    {
     "data": {
      "application/vnd.jupyter.widget-view+json": {
       "model_id": "2bad889445244fadbef219c035cca0d5",
       "version_major": 2,
       "version_minor": 0
      },
      "text/plain": [
       "FloatSlider(value=5.809760092086068e-06, description='bin-1', max=0.0005321432731221096, min=-0.00032013518692…"
      ]
     },
     "metadata": {},
     "output_type": "display_data"
    },
    {
     "data": {
      "application/vnd.jupyter.widget-view+json": {
       "model_id": "80898e60d780432a9f65f7052a6cae49",
       "version_major": 2,
       "version_minor": 0
      },
      "text/plain": [
       "FloatSlider(value=3.4259194436485795e-06, description='bin-2', max=0.0005185124792046563, min=-0.0005044731914…"
      ]
     },
     "metadata": {},
     "output_type": "display_data"
    },
    {
     "data": {
      "application/vnd.jupyter.widget-view+json": {
       "model_id": "1e688d7fbe63421eb18b5d7a467bd978",
       "version_major": 2,
       "version_minor": 0
      },
      "text/plain": [
       "FloatSlider(value=-4.541286852483601e-05, description='bin-3', max=0.0005391386682960635, min=-0.0001826896106…"
      ]
     },
     "metadata": {},
     "output_type": "display_data"
    },
    {
     "data": {
      "application/vnd.jupyter.widget-view+json": {
       "model_id": "f3c4ffc058b049d5bdb2944237334a51",
       "version_major": 2,
       "version_minor": 0
      },
      "text/plain": [
       "FloatSlider(value=-1.568568532238776e-05, description='bin-4', max=0.0005910106866853758, min=-0.0002856500124…"
      ]
     },
     "metadata": {},
     "output_type": "display_data"
    },
    {
     "data": {
      "application/vnd.jupyter.widget-view+json": {
       "model_id": "444fa1ce1df348e7af572235a6443dd1",
       "version_major": 2,
       "version_minor": 0
      },
      "text/plain": [
       "FloatSlider(value=-1.0476058704520797e-05, description='bin-5', max=0.0005460161894380403, min=-0.000308167480…"
      ]
     },
     "metadata": {},
     "output_type": "display_data"
    },
    {
     "data": {
      "application/vnd.jupyter.widget-view+json": {
       "model_id": "262afaa59d014af2809ad58b3d5585ca",
       "version_major": 2,
       "version_minor": 0
      },
      "text/plain": [
       "FloatSlider(value=2.9108473946050056e-05, description='bin-6', max=0.000692978852060911, min=-0.00037385085277…"
      ]
     },
     "metadata": {},
     "output_type": "display_data"
    },
    {
     "data": {
      "application/vnd.jupyter.widget-view+json": {
       "model_id": "e65be65c41114ad085eafa74141fa07e",
       "version_major": 2,
       "version_minor": 0
      },
      "text/plain": [
       "FloatSlider(value=-5.48191004403147e-05, description='bin-7', max=0.00045618778942173657, min=-0.0004531215553…"
      ]
     },
     "metadata": {},
     "output_type": "display_data"
    },
    {
     "data": {
      "application/vnd.jupyter.widget-view+json": {
       "model_id": "82f8159e0f3046b09b431a84dd38f445",
       "version_major": 2,
       "version_minor": 0
      },
      "text/plain": [
       "FloatSlider(value=-8.554894777349051e-05, description='bin-8', max=0.0004589319201071457, min=-0.0002982958324…"
      ]
     },
     "metadata": {},
     "output_type": "display_data"
    },
    {
     "data": {
      "application/vnd.jupyter.widget-view+json": {
       "model_id": "34efe7987cbb49eb909cd26486fcd433",
       "version_major": 2,
       "version_minor": 0
      },
      "text/plain": [
       "FloatSlider(value=5.8369744315205454e-05, description='bin-9', max=0.0004949217279693248, min=-0.0003229007934…"
      ]
     },
     "metadata": {},
     "output_type": "display_data"
    },
    {
     "data": {
      "application/vnd.jupyter.widget-view+json": {
       "model_id": "0da5e81073bc41f5ba14fe2c6845da5e",
       "version_major": 2,
       "version_minor": 0
      },
      "text/plain": [
       "FloatSlider(value=-7.497076625613125e-05, description='bin-10', max=0.0004110669473531189, min=-0.000297908911…"
      ]
     },
     "metadata": {},
     "output_type": "display_data"
    },
    {
     "data": {
      "application/vnd.jupyter.widget-view+json": {
       "model_id": "fbc4a8a2f6904522ba4ef720d5ecb33c",
       "version_major": 2,
       "version_minor": 0
      },
      "text/plain": [
       "FloatSlider(value=0.00028240089831139286, description='bin-11', max=0.0007143132926565295, min=-0.000372019509…"
      ]
     },
     "metadata": {},
     "output_type": "display_data"
    },
    {
     "data": {
      "application/vnd.jupyter.widget-view+json": {
       "model_id": "9a9151fbe9bb4286b358841319a052c6",
       "version_major": 2,
       "version_minor": 0
      },
      "text/plain": [
       "FloatSlider(value=0.00018561781146423856, description='bin-12', max=0.00035750788263047686, min=-0.00033453619…"
      ]
     },
     "metadata": {},
     "output_type": "display_data"
    },
    {
     "data": {
      "application/vnd.jupyter.widget-view+json": {
       "model_id": "45491a6dc56d42c5ba319ab70605fd25",
       "version_major": 2,
       "version_minor": 0
      },
      "text/plain": [
       "FloatSlider(value=1.6297882686739917e-05, description='bin-13', max=0.00051931824252762, min=-0.00040337457415…"
      ]
     },
     "metadata": {},
     "output_type": "display_data"
    },
    {
     "data": {
      "application/vnd.jupyter.widget-view+json": {
       "model_id": "9fec4002f4174d07a91b6e50b11cce82",
       "version_major": 2,
       "version_minor": 0
      },
      "text/plain": [
       "FloatSlider(value=-3.099225759177233e-06, description='bin-14', max=0.0004228857766965139, min=-0.000306267429…"
      ]
     },
     "metadata": {},
     "output_type": "display_data"
    },
    {
     "data": {
      "application/vnd.jupyter.widget-view+json": {
       "model_id": "4b630a3ba1dc4920817e4adb8f589f03",
       "version_major": 2,
       "version_minor": 0
      },
      "text/plain": [
       "FloatSlider(value=-4.6562863545154437e-05, description='bin-15', max=0.0004834263977331264, min=-0.00039939276…"
      ]
     },
     "metadata": {},
     "output_type": "display_data"
    },
    {
     "data": {
      "application/vnd.jupyter.widget-view+json": {
       "model_id": "4efb5f98e1b6436d96a95227aa36906b",
       "version_major": 2,
       "version_minor": 0
      },
      "text/plain": [
       "FloatSlider(value=-3.1306357284574506e-05, description='bin-16', max=0.0004776485454351822, min=-0.00035114031…"
      ]
     },
     "metadata": {},
     "output_type": "display_data"
    },
    {
     "data": {
      "application/vnd.jupyter.widget-view+json": {
       "model_id": "a9a9421d37c74d3abb94c2a9a661e764",
       "version_major": 2,
       "version_minor": 0
      },
      "text/plain": [
       "FloatSlider(value=1.38239885222493e-05, description='bin-17', max=0.0008535105814350084, min=-0.00023652468140…"
      ]
     },
     "metadata": {},
     "output_type": "display_data"
    },
    {
     "data": {
      "application/vnd.jupyter.widget-view+json": {
       "model_id": "7c92f22efa7d4eaf8d35fb5111ce48a9",
       "version_major": 2,
       "version_minor": 0
      },
      "text/plain": [
       "FloatSlider(value=-4.412091347212204e-05, description='bin-18', max=0.000711213351857245, min=-0.0004114540177…"
      ]
     },
     "metadata": {},
     "output_type": "display_data"
    },
    {
     "data": {
      "application/vnd.jupyter.widget-view+json": {
       "model_id": "55300d3601134905893ee5efd9fd298f",
       "version_major": 2,
       "version_minor": 0
      },
      "text/plain": [
       "FloatSlider(value=0.00012198565188097484, description='bin-19', max=0.0005714568072616696, min=-0.000211742501…"
      ]
     },
     "metadata": {},
     "output_type": "display_data"
    }
   ],
   "source": [
    "init_idx = 0\n",
    "init_latent = latent[init_idx]\n",
    "bins_slider = [ widgets.FloatSlider(value=init_latent[i],min=latent[:, i].min(), max=latent[:, i].max(), step=1e-5, description='bin-{}'.format(i)) for i in range(K_BINS) ]\n",
    "\n",
    "display(widgets.HTML(\n",
    "    value=\"<br><h3> Play with latent feature </h3> \",\n",
    "))\n",
    "for slider in bins_slider:\n",
    "    display(slider)\n"
   ]
  },
  {
   "cell_type": "code",
   "execution_count": 16,
   "metadata": {},
   "outputs": [
    {
     "data": {
      "text/plain": [
       "(140950, 20)"
      ]
     },
     "execution_count": 16,
     "metadata": {},
     "output_type": "execute_result"
    }
   ],
   "source": []
  },
  {
   "cell_type": "code",
   "execution_count": null,
   "metadata": {},
   "outputs": [],
   "source": []
  }
 ],
 "metadata": {
  "kernelspec": {
   "display_name": "Python 3",
   "language": "python",
   "name": "python3"
  },
  "language_info": {
   "codemirror_mode": {
    "name": "ipython",
    "version": 3
   },
   "file_extension": ".py",
   "mimetype": "text/x-python",
   "name": "python",
   "nbconvert_exporter": "python",
   "pygments_lexer": "ipython3",
   "version": "3.6.8"
  }
 },
 "nbformat": 4,
 "nbformat_minor": 4
}
